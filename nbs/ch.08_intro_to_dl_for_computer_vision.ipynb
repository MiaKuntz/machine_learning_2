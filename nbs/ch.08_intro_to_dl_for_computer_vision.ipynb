{
  "cells": [
    {
      "cell_type": "markdown",
      "metadata": {
        "id": "PH3RKLPsnFUX"
      },
      "source": [
        "This is a companion notebook for the book [Deep Learning with Python, Second Edition](https://www.manning.com/books/deep-learning-with-python-second-edition?a_aid=keras&a_bid=76564dff). For readability, it only contains runnable code blocks and section titles, and omits everything else in the book: text paragraphs, figures, and pseudocode.\n",
        "\n",
        "**If you want to be able to follow what's going on, I recommend reading the notebook side by side with your copy of the book.**\n",
        "\n",
        "This notebook was generated for TensorFlow 2.6."
      ]
    },
    {
      "cell_type": "markdown",
      "metadata": {
        "id": "kseNKvCvnFUY"
      },
      "source": [
        "# Introduction to deep learning for computer vision"
      ]
    },
    {
      "cell_type": "markdown",
      "metadata": {
        "id": "EtNCB4UvnFUY"
      },
      "source": [
        "## Introduction to convnets"
      ]
    },
    {
      "cell_type": "markdown",
      "metadata": {
        "id": "-c2dUi6hnFUZ"
      },
      "source": [
        "**Instantiating a small convnet**"
      ]
    },
    {
      "cell_type": "code",
      "execution_count": null,
      "metadata": {
        "id": "W2baQT_gnFUZ"
      },
      "outputs": [],
      "source": [
        "from tensorflow import keras # importing keras from tensorflow\n",
        "from tensorflow.keras import layers # importing layers from tensorflow.keras\n",
        "inputs = keras.Input(shape=(28, 28, 1)) # defining the input shape\n",
        "x = layers.Conv2D(filters=32, kernel_size=3, activation=\"relu\")(inputs) # defining the convolutional layer\n",
        "x = layers.MaxPooling2D(pool_size=2)(x) # defining the max pooling layer\n",
        "x = layers.Conv2D(filters=64, kernel_size=3, activation=\"relu\")(x) # defining the convolutional layer\n",
        "x = layers.MaxPooling2D(pool_size=2)(x) # defining the max pooling layer\n",
        "x = layers.Conv2D(filters=128, kernel_size=3, activation=\"relu\")(x) # defining the convolutional layer\n",
        "x = layers.Flatten()(x) # flattening the output\n",
        "outputs = layers.Dense(10, activation=\"softmax\")(x) # defining the output layer\n",
        "model = keras.Model(inputs=inputs, outputs=outputs) # creating the model"
      ]
    },
    {
      "cell_type": "markdown",
      "metadata": {
        "id": "HTpbWXRPnFUZ"
      },
      "source": [
        "**Displaying the model's summary**"
      ]
    },
    {
      "cell_type": "code",
      "execution_count": null,
      "metadata": {
        "id": "V9dfbKpZnFUa"
      },
      "outputs": [],
      "source": [
        "model.summary() # printing the model summary"
      ]
    },
    {
      "cell_type": "markdown",
      "metadata": {
        "id": "Z9VuJrqTnFUa"
      },
      "source": [
        "**Training the convnet on MNIST images**"
      ]
    },
    {
      "cell_type": "code",
      "execution_count": null,
      "metadata": {
        "id": "oul4Iq_bnFUa"
      },
      "outputs": [],
      "source": [
        "from tensorflow.keras.datasets import mnist # importing mnist dataset\n",
        "\n",
        "(train_images, train_labels), (test_images, test_labels) = mnist.load_data() # loading the mnist dataset\n",
        "train_images = train_images.reshape((60000, 28, 28, 1)) # reshaping the train images\n",
        "train_images = train_images.astype(\"float32\") / 255 # normalizing the train images\n",
        "test_images = test_images.reshape((10000, 28, 28, 1)) # reshaping the test images\n",
        "test_images = test_images.astype(\"float32\") / 255 # normalizing the test images\n",
        "model.compile( # compiling the model\n",
        "    optimizer=\"rmsprop\", # adding the optimizer as rmsprop which is a variant of gradient descent\n",
        "    loss=\"sparse_categorical_crossentropy\", # adding the loss function as sparse_categorical_crossentropy which is used for classification problems\n",
        "    metrics=[\"accuracy\"]) # adding the metrics as accuracy which is used to evaluate the model performance \n",
        "model.fit(train_images, train_labels, epochs=5, batch_size=64) # fitting the model on the train images and labels with 5 epochs and batch size of 64 "
      ]
    },
    {
      "cell_type": "markdown",
      "metadata": {
        "id": "-xMmIv3cnFUa"
      },
      "source": [
        "**Evaluating the convnet**"
      ]
    },
    {
      "cell_type": "code",
      "execution_count": null,
      "metadata": {
        "id": "OVKUAw25nFUa"
      },
      "outputs": [],
      "source": [
        "test_loss, test_acc = model.evaluate(test_images, test_labels) # evaluating the model on the test images and labels\n",
        "print(f\"Test accuracy: {test_acc:.3f}\") # printing the test accuracy"
      ]
    },
    {
      "cell_type": "markdown",
      "metadata": {
        "id": "3uJaDEhRnFUa"
      },
      "source": [
        "### The convolution operation"
      ]
    },
    {
      "cell_type": "markdown",
      "metadata": {
        "id": "CRm5Dt3JnFUa"
      },
      "source": [
        "#### Understanding border effects and padding"
      ]
    },
    {
      "cell_type": "markdown",
      "metadata": {
        "id": "vzRSBIRRnFUb"
      },
      "source": [
        "#### Understanding convolution strides"
      ]
    },
    {
      "cell_type": "markdown",
      "metadata": {
        "id": "dWUxZQPSnFUb"
      },
      "source": [
        "### The max-pooling operation"
      ]
    },
    {
      "cell_type": "markdown",
      "metadata": {
        "id": "jGY5FViFnFUb"
      },
      "source": [
        "**An incorrectly structured convnet missing its max-pooling layers**"
      ]
    },
    {
      "cell_type": "code",
      "execution_count": null,
      "metadata": {
        "id": "fuRDLJt9nFUb"
      },
      "outputs": [],
      "source": [
        "inputs = keras.Input(shape=(28, 28, 1)) # defining the input shape\n",
        "x = layers.Conv2D(filters=32, kernel_size=3, activation=\"relu\")(inputs) # defining the convolutional layer\n",
        "x = layers.Conv2D(filters=64, kernel_size=3, activation=\"relu\")(x) # defining the convolutional layer based on the previous layer \n",
        "x = layers.Conv2D(filters=128, kernel_size=3, activation=\"relu\")(x) # defining the convolutional layer based on the previous layer\n",
        "x = layers.Flatten()(x) # flattening the output\n",
        "outputs = layers.Dense(10, activation=\"softmax\")(x) # defining the output layer \n",
        "model_no_max_pool = keras.Model(inputs=inputs, outputs=outputs) # creating the model"
      ]
    },
    {
      "cell_type": "code",
      "execution_count": null,
      "metadata": {
        "id": "nT6Buv6KnFUb"
      },
      "outputs": [],
      "source": [
        "model_no_max_pool.summary() # printing the model summary"
      ]
    },
    {
      "cell_type": "markdown",
      "metadata": {
        "id": "X1U5CW47nFUb"
      },
      "source": [
        "## Training a convnet from scratch on a small dataset"
      ]
    },
    {
      "cell_type": "markdown",
      "metadata": {
        "id": "PYQf1mr5nFUb"
      },
      "source": [
        "### The relevance of deep learning for small-data problems"
      ]
    },
    {
      "cell_type": "markdown",
      "metadata": {
        "id": "ggWSKg6wnFUb"
      },
      "source": [
        "### Downloading the data"
      ]
    },
    {
      "cell_type": "code",
      "execution_count": null,
      "metadata": {
        "id": "0IKliPNInFUb"
      },
      "outputs": [],
      "source": [
        "from google.colab import files # importing files from google.colab \n",
        "files.upload() # uploading the file"
      ]
    },
    {
      "cell_type": "code",
      "execution_count": null,
      "metadata": {
        "id": "TjkhlahrnFUb"
      },
      "outputs": [],
      "source": [
        "!mkdir ~/.kaggle # creating a directory named .kaggle\n",
        "!cp kaggle.json ~/.kaggle/ # copying the kaggle.json file to the .kaggle directory\n",
        "!chmod 600 ~/.kaggle/kaggle.json # changing the permissions of the kaggle.json file"
      ]
    },
    {
      "cell_type": "code",
      "execution_count": null,
      "metadata": {
        "id": "UDCPo_cInFUb"
      },
      "outputs": [],
      "source": [
        "!kaggle competitions download -c dogs-vs-cats # downloading the dogs-vs-cats dataset"
      ]
    },
    {
      "cell_type": "code",
      "execution_count": null,
      "metadata": {
        "id": "Wb6d2lh_nFUb"
      },
      "outputs": [],
      "source": [
        "!unzip -qq dogs-vs-cats.zip # unzipping the dogs-vs-cats.zip file"
      ]
    },
    {
      "cell_type": "code",
      "execution_count": null,
      "metadata": {
        "id": "mDNOFm0MnFUb"
      },
      "outputs": [],
      "source": [
        "!unzip -qq train.zip # unzipping the train.zip file"
      ]
    },
    {
      "cell_type": "markdown",
      "metadata": {
        "id": "aWz2YP9qnFUc"
      },
      "source": [
        "**Copying images to training, validation, and test directories**"
      ]
    },
    {
      "cell_type": "code",
      "execution_count": null,
      "metadata": {
        "id": "2SPMi0VEnFUc"
      },
      "outputs": [],
      "source": [
        "import os, shutil, pathlib # importing os, shutil and pathlib\n",
        "\n",
        "original_dir = pathlib.Path(\"train\") # defining the original directory\n",
        "new_base_dir = pathlib.Path(\"cats_vs_dogs_small\") # defining the new base directory\n",
        "\n",
        "def make_subset(subset_name, start_index, end_index): # defining a function to make a subset\n",
        "    for category in (\"cat\", \"dog\"): # iterating over the categories\n",
        "        dir = new_base_dir / subset_name / category # defining the directory\n",
        "        os.makedirs(dir) # creating the directory\n",
        "        fnames = [f\"{category}.{i}.jpg\" for i in range(start_index, end_index)] # defining the file names\n",
        "        for fname in fnames: # iterating over the file names \n",
        "            shutil.copyfile(src=original_dir / fname, # copying the file from the original directory to the new directory \n",
        "                            dst=dir / fname) # copying the file from the original directory to the new directory\n",
        "\n",
        "make_subset(\"train\", start_index=0, end_index=1000) # making a subset of the train data\n",
        "make_subset(\"validation\", start_index=1000, end_index=1500) # making a subset of the validation data\n",
        "make_subset(\"test\", start_index=1500, end_index=2500) # making a subset of the test data"
      ]
    },
    {
      "cell_type": "markdown",
      "metadata": {
        "id": "WA2vhd2RnFUc"
      },
      "source": [
        "### Building the model"
      ]
    },
    {
      "cell_type": "markdown",
      "metadata": {
        "id": "31Y8Je8NnFUc"
      },
      "source": [
        "**Instantiating a small convnet for dogs vs. cats classification**"
      ]
    },
    {
      "cell_type": "code",
      "execution_count": null,
      "metadata": {
        "id": "ztXB_ngknFUc"
      },
      "outputs": [],
      "source": [
        "from tensorflow import keras # importing keras from tensorflow\n",
        "from tensorflow.keras import layers # importing layers from tensorflow.keras\n",
        "\n",
        "inputs = keras.Input(shape=(180, 180, 3)) # defining the input shape as 180x180x3 because the images are 180x180 pixels with 3 channels\n",
        "x = layers.Rescaling(1./255)(inputs) # rescaling the input values to be between 0 and 1 since the pixel values are between 0 and 255\n",
        "x = layers.Conv2D(filters=32, kernel_size=3, activation=\"relu\")(x) # defining the convolutional layer\n",
        "x = layers.MaxPooling2D(pool_size=2)(x) # defining the max pooling layer\n",
        "x = layers.Conv2D(filters=64, kernel_size=3, activation=\"relu\")(x) # defining the convolutional layer based on the previous layer\n",
        "x = layers.MaxPooling2D(pool_size=2)(x) # defining the max pooling layer based on the previous layer \n",
        "x = layers.Conv2D(filters=128, kernel_size=3, activation=\"relu\")(x) # defining the convolutional layer based on the previous layer\n",
        "x = layers.MaxPooling2D(pool_size=2)(x) # defining the max pooling layer based on the previous layer\n",
        "x = layers.Conv2D(filters=256, kernel_size=3, activation=\"relu\")(x) # defining the convolutional layer based on the previous layer\n",
        "x = layers.MaxPooling2D(pool_size=2)(x) # defining the max pooling layer based on the previous layer\n",
        "x = layers.Conv2D(filters=256, kernel_size=3, activation=\"relu\")(x) # defining the convolutional layer based on the previous layer\n",
        "x = layers.Flatten()(x) # flattening the output\n",
        "outputs = layers.Dense(1, activation=\"sigmoid\")(x) # defining the output layer \n",
        "model = keras.Model(inputs=inputs, outputs=outputs) # creating the model"
      ]
    },
    {
      "cell_type": "code",
      "execution_count": null,
      "metadata": {
        "id": "0WcpORbonFUc"
      },
      "outputs": [],
      "source": [
        "model.summary() # printing the model summary"
      ]
    },
    {
      "cell_type": "markdown",
      "metadata": {
        "id": "8TPqHGKAnFUc"
      },
      "source": [
        "**Configuring the model for training**"
      ]
    },
    {
      "cell_type": "code",
      "execution_count": null,
      "metadata": {
        "id": "tTU4-mGynFUc"
      },
      "outputs": [],
      "source": [
        "model.compile(loss=\"binary_crossentropy\", \n",
        "              optimizer=\"rmsprop\",\n",
        "              metrics=[\"accuracy\"]) # compiling the model with the loss function as binary_crossentropy, optimizer as rmsprop and metrics as accuracy"
      ]
    },
    {
      "cell_type": "markdown",
      "metadata": {
        "id": "a0oU5ruanFUc"
      },
      "source": [
        "### Data preprocessing"
      ]
    },
    {
      "cell_type": "markdown",
      "metadata": {
        "id": "B6W8_hH3nFUc"
      },
      "source": [
        "**Using `image_dataset_from_directory` to read images**"
      ]
    },
    {
      "cell_type": "code",
      "execution_count": null,
      "metadata": {
        "id": "r5jgcwU7nFUc"
      },
      "outputs": [],
      "source": [
        "from tensorflow.keras.utils import image_dataset_from_directory # importing image_dataset_from_directory from tensorflow.keras.utils\n",
        "\n",
        "train_dataset = image_dataset_from_directory( # creating the train dataset\n",
        "    new_base_dir / \"train\", # defining the directory as the train directory\n",
        "    image_size=(180, 180), # defining the image size as 180x180 pixels\n",
        "    batch_size=32) # defining the batch size as 32\n",
        "validation_dataset = image_dataset_from_directory( # creating the validation dataset\n",
        "    new_base_dir / \"validation\", # defining the directory as the validation directory\n",
        "    image_size=(180, 180), # defining the image size as 180x180 pixels\n",
        "    batch_size=32) # defining the batch size as 32\n",
        "test_dataset = image_dataset_from_directory( # creating the test dataset\n",
        "    new_base_dir / \"test\", # defining the directory as the test directory\n",
        "    image_size=(180, 180), # defining the image size as 180x180 pixels\n",
        "    batch_size=32) # defining the batch size as 32"
      ]
    },
    {
      "cell_type": "code",
      "execution_count": null,
      "metadata": {
        "id": "ABxPWicGnFUc"
      },
      "outputs": [],
      "source": [
        "import numpy as np # importing numpy as np\n",
        "import tensorflow as tf # importing tensorflow as tf\n",
        "random_numbers = np.random.normal(size=(1000, 16)) # generating random numbers\n",
        "dataset = tf.data.Dataset.from_tensor_slices(random_numbers) # creating a dataset from the random numbers"
      ]
    },
    {
      "cell_type": "code",
      "execution_count": null,
      "metadata": {
        "id": "FKEZD7lvnFUc"
      },
      "outputs": [],
      "source": [
        "for i, element in enumerate(dataset): # iterating over the dataset\n",
        "    print(element.shape) # printing the shape of the element\n",
        "    if i >= 2: # if the index is greater than or equal to 2\n",
        "        break # break the loop"
      ]
    },
    {
      "cell_type": "code",
      "execution_count": null,
      "metadata": {
        "id": "oSfG-LmmnFUc"
      },
      "outputs": [],
      "source": [
        "batched_dataset = dataset.batch(32) # batching the dataset with a batch size of 32\n",
        "for i, element in enumerate(batched_dataset): # iterating over the batched dataset\n",
        "    print(element.shape) # printing the shape of the element\n",
        "    if i >= 2: # if the index is greater than or equal to 2\n",
        "        break # break the loop"
      ]
    },
    {
      "cell_type": "code",
      "execution_count": null,
      "metadata": {
        "id": "tlS53RVBnFUc"
      },
      "outputs": [],
      "source": [
        "reshaped_dataset = dataset.map(lambda x: tf.reshape(x, (4, 4))) # reshaping the dataset to have a shape of 4x4 because 16 = 4x4 and the original shape is 16 \n",
        "for i, element in enumerate(reshaped_dataset): # iterating over the reshaped dataset\n",
        "    print(element.shape) # printing the shape of the element\n",
        "    if i >= 2: # if the index is greater than or equal to 2\n",
        "        break # break the loop"
      ]
    },
    {
      "cell_type": "markdown",
      "metadata": {
        "id": "IPeVVrEUnFUc"
      },
      "source": [
        "**Displaying the shapes of the data and labels yielded by the `Dataset`**"
      ]
    },
    {
      "cell_type": "code",
      "execution_count": null,
      "metadata": {
        "id": "ylukI6YTnFUc"
      },
      "outputs": [],
      "source": [
        "for data_batch, labels_batch in train_dataset: # iterating over the train dataset\n",
        "    print(\"data batch shape:\", data_batch.shape) # printing the shape of the data batch\n",
        "    print(\"labels batch shape:\", labels_batch.shape) # printing the shape of the labels batch\n",
        "    break # breaking the loop"
      ]
    },
    {
      "cell_type": "markdown",
      "metadata": {
        "id": "hW3-0oYRnFUd"
      },
      "source": [
        "**Fitting the model using a `Dataset`**"
      ]
    },
    {
      "cell_type": "code",
      "execution_count": null,
      "metadata": {
        "id": "nrYQPV6YnFUe"
      },
      "outputs": [],
      "source": [
        "callbacks = [ # defining the callbacks\n",
        "    keras.callbacks.ModelCheckpoint( # defining the model checkpoint callback\n",
        "        filepath=\"convnet_from_scratch.keras\", # defining the file path \n",
        "        save_best_only=True, # saving the best model only\n",
        "        monitor=\"val_loss\") # monitoring the validation loss\n",
        "] \n",
        "history = model.fit( # fitting the model\n",
        "    train_dataset, # using the train dataset\n",
        "    epochs=30, # using 30 epochs\n",
        "    validation_data=validation_dataset, # using the validation dataset\n",
        "    callbacks=callbacks) # using the callbacks"
      ]
    },
    {
      "cell_type": "markdown",
      "metadata": {
        "id": "Y2MHnp9InFUe"
      },
      "source": [
        "**Displaying curves of loss and accuracy during training**"
      ]
    },
    {
      "cell_type": "code",
      "execution_count": null,
      "metadata": {
        "id": "shiOYfi2nFUe"
      },
      "outputs": [],
      "source": [
        "import matplotlib.pyplot as plt # importing matplotlib.pyplot as plt\n",
        "accuracy = history.history[\"accuracy\"] # getting the accuracy\n",
        "val_accuracy = history.history[\"val_accuracy\"] # getting the validation accuracy\n",
        "loss = history.history[\"loss\"] # getting the loss\n",
        "val_loss = history.history[\"val_loss\"] # getting the validation loss\n",
        "epochs = range(1, len(accuracy) + 1) # getting the epochs\n",
        "plt.plot(epochs, accuracy, \"bo\", label=\"Training accuracy\") # plotting the training accuracy\n",
        "plt.plot(epochs, val_accuracy, \"b\", label=\"Validation accuracy\") # plotting the validation accuracy\n",
        "plt.title(\"Training and validation accuracy\") # setting the title\n",
        "plt.legend() # adding the legend\n",
        "plt.figure() # creating a new figure\n",
        "plt.plot(epochs, loss, \"bo\", label=\"Training loss\") # plotting the training loss\n",
        "plt.plot(epochs, val_loss, \"b\", label=\"Validation loss\") # plotting the validation loss\n",
        "plt.title(\"Training and validation loss\") # setting the title\n",
        "plt.legend() # adding the legend\n",
        "plt.show() # showing the plot"
      ]
    },
    {
      "cell_type": "markdown",
      "metadata": {
        "id": "MavRMuiunFUe"
      },
      "source": [
        "**Evaluating the model on the test set**"
      ]
    },
    {
      "cell_type": "code",
      "execution_count": null,
      "metadata": {
        "id": "FxQIC4BvnFUe"
      },
      "outputs": [],
      "source": [
        "test_model = keras.models.load_model(\"convnet_from_scratch.keras\") # loading the model\n",
        "test_loss, test_acc = test_model.evaluate(test_dataset) # evaluating the model on the test dataset\n",
        "print(f\"Test accuracy: {test_acc:.3f}\") # printing the test accuracy"
      ]
    },
    {
      "cell_type": "markdown",
      "metadata": {
        "id": "pc28rrCsnFUf"
      },
      "source": [
        "### Using data augmentation"
      ]
    },
    {
      "cell_type": "markdown",
      "metadata": {
        "id": "vmsw5q2lnFUf"
      },
      "source": [
        "**Define a data augmentation stage to add to an image model**"
      ]
    },
    {
      "cell_type": "code",
      "execution_count": null,
      "metadata": {
        "id": "slKyhbGdnFUf"
      },
      "outputs": [],
      "source": [
        "data_augmentation = keras.Sequential( # defining the data augmentation\n",
        "    [\n",
        "        layers.RandomFlip(\"horizontal\"), # adding random horizontal flip\n",
        "        layers.RandomRotation(0.1), # adding random rotation\n",
        "        layers.RandomZoom(0.2), # adding random zoom \n",
        "    ]\n",
        ")"
      ]
    },
    {
      "cell_type": "markdown",
      "metadata": {
        "id": "TcwQL22GnFUf"
      },
      "source": [
        "**Displaying some randomly augmented training images**"
      ]
    },
    {
      "cell_type": "code",
      "execution_count": null,
      "metadata": {
        "id": "Ds_95b7vnFUf"
      },
      "outputs": [],
      "source": [
        "plt.figure(figsize=(10, 10)) # creating a new figure\n",
        "for images, _ in train_dataset.take(1): # iterating over the train dataset\n",
        "    for i in range(9): # iterating over the first 9 images\n",
        "        augmented_images = data_augmentation(images) # augmenting the images\n",
        "        ax = plt.subplot(3, 3, i + 1) # creating a subplot\n",
        "        plt.imshow(augmented_images[0].numpy().astype(\"uint8\")) # showing the augmented images\n",
        "        plt.axis(\"off\") # turning off the axis"
      ]
    },
    {
      "cell_type": "markdown",
      "metadata": {
        "id": "RM9RpLGinFUf"
      },
      "source": [
        "**Defining a new convnet that includes image augmentation and dropout**"
      ]
    },
    {
      "cell_type": "code",
      "execution_count": null,
      "metadata": {
        "id": "kc-olx9gnFUf"
      },
      "outputs": [],
      "source": [
        "inputs = keras.Input(shape=(180, 180, 3)) # defining the input shape\n",
        "x = data_augmentation(inputs) # augmenting the input\n",
        "x = layers.Rescaling(1./255)(x) # rescaling the input values to be between 0 and 1\n",
        "x = layers.Conv2D(filters=32, kernel_size=3, activation=\"relu\")(x) # defining the convolutional layer\n",
        "x = layers.MaxPooling2D(pool_size=2)(x) # defining the max pooling layer\n",
        "x = layers.Conv2D(filters=64, kernel_size=3, activation=\"relu\")(x) # defining the convolutional layer based on the previous layer\n",
        "x = layers.MaxPooling2D(pool_size=2)(x) # defining the max pooling layer based on the previous layer\n",
        "x = layers.Conv2D(filters=128, kernel_size=3, activation=\"relu\")(x) # defining the convolutional layer based on the previous layer\n",
        "x = layers.MaxPooling2D(pool_size=2)(x) # defining the max pooling layer based on the previous layer\n",
        "x = layers.Conv2D(filters=256, kernel_size=3, activation=\"relu\")(x) # defining the convolutional layer based on the previous layer\n",
        "x = layers.MaxPooling2D(pool_size=2)(x) # defining the max pooling layer based on the previous layer\n",
        "x = layers.Conv2D(filters=256, kernel_size=3, activation=\"relu\")(x) # defining the convolutional layer based on the previous layer\n",
        "x = layers.Flatten()(x) # flattening the output\n",
        "x = layers.Dropout(0.5)(x) # adding dropout\n",
        "outputs = layers.Dense(1, activation=\"sigmoid\")(x) # defining the output layer\n",
        "model = keras.Model(inputs=inputs, outputs=outputs) # creating the model\n",
        "\n",
        "model.compile(loss=\"binary_crossentropy\",\n",
        "              optimizer=\"rmsprop\",\n",
        "              metrics=[\"accuracy\"]) # compiling the model with the loss function as binary_crossentropy, optimizer as rmsprop and metrics as accuracy"
      ]
    },
    {
      "cell_type": "markdown",
      "metadata": {
        "id": "N9vWaMwinFUf"
      },
      "source": [
        "**Training the regularized convnet**"
      ]
    },
    {
      "cell_type": "code",
      "execution_count": null,
      "metadata": {
        "id": "WHmswWMSnFUf"
      },
      "outputs": [],
      "source": [
        "callbacks = [ # defining the callbacks\n",
        "    keras.callbacks.ModelCheckpoint( # defining the model checkpoint callback\n",
        "        filepath=\"convnet_from_scratch_with_augmentation.keras\", # defining the file path \n",
        "        save_best_only=True, # saving the best model only\n",
        "        monitor=\"val_loss\") # monitoring the validation loss\n",
        "]\n",
        "history = model.fit( # fitting the model\n",
        "    train_dataset, # using the train dataset\n",
        "    epochs=100, # using 100 epochs\n",
        "    validation_data=validation_dataset, # using the validation dataset\n",
        "    callbacks=callbacks) # using the callbacks"
      ]
    },
    {
      "cell_type": "markdown",
      "metadata": {
        "id": "UUF5O6IOnFUf"
      },
      "source": [
        "**Evaluating the model on the test set**"
      ]
    },
    {
      "cell_type": "code",
      "execution_count": null,
      "metadata": {
        "id": "2960JCFYnFUf"
      },
      "outputs": [],
      "source": [
        "test_model = keras.models.load_model( # loading the model\n",
        "    \"convnet_from_scratch_with_augmentation.keras\") # loading the model\n",
        "test_loss, test_acc = test_model.evaluate(test_dataset) # evaluating the model on the test dataset\n",
        "print(f\"Test accuracy: {test_acc:.3f}\") # printing the test accuracy"
      ]
    },
    {
      "cell_type": "markdown",
      "metadata": {
        "id": "A8kT7pr8nFUf"
      },
      "source": [
        "## Leveraging a pretrained model"
      ]
    },
    {
      "cell_type": "markdown",
      "metadata": {
        "id": "0sg9QzUfnFUf"
      },
      "source": [
        "### Feature extraction with a pretrained model"
      ]
    },
    {
      "cell_type": "markdown",
      "metadata": {
        "id": "qtdGd0spnFUf"
      },
      "source": [
        "**Instantiating the VGG16 convolutional base**"
      ]
    },
    {
      "cell_type": "code",
      "execution_count": null,
      "metadata": {
        "id": "uo1jy1IEnFUf"
      },
      "outputs": [],
      "source": [
        "conv_base = keras.applications.vgg16.VGG16( # loading the VGG16 model\n",
        "    weights=\"imagenet\", # using the imagenet weights\n",
        "    include_top=False, # excluding the top layer\n",
        "    input_shape=(180, 180, 3)) # defining the input shape"
      ]
    },
    {
      "cell_type": "code",
      "execution_count": null,
      "metadata": {
        "id": "V4LnGmVznFUf"
      },
      "outputs": [],
      "source": [
        "conv_base.summary() # printing the model summary"
      ]
    },
    {
      "cell_type": "markdown",
      "metadata": {
        "id": "YIcxu4tinFUg"
      },
      "source": [
        "#### Fast feature extraction without data augmentation"
      ]
    },
    {
      "cell_type": "markdown",
      "metadata": {
        "id": "czjvn_3-nFUg"
      },
      "source": [
        "**Extracting the VGG16 features and corresponding labels**"
      ]
    },
    {
      "cell_type": "code",
      "execution_count": null,
      "metadata": {
        "id": "cDXFU8zVnFUg"
      },
      "outputs": [],
      "source": [
        "import numpy as np # importing numpy as np\n",
        "\n",
        "def get_features_and_labels(dataset): # defining a function to get the features and labels\n",
        "    all_features = [] # initializing the list of all features\n",
        "    all_labels = [] # initializing the list of all labels\n",
        "    for images, labels in dataset: # iterating over the dataset\n",
        "        preprocessed_images = keras.applications.vgg16.preprocess_input(images) # preprocessing the images\n",
        "        features = conv_base.predict(preprocessed_images) # getting the features\n",
        "        all_features.append(features) # appending the features\n",
        "        all_labels.append(labels) # appending the labels\n",
        "    return np.concatenate(all_features), np.concatenate(all_labels) # returning the features and labels\n",
        "\n",
        "train_features, train_labels =  get_features_and_labels(train_dataset) # getting the features and labels of the train dataset\n",
        "val_features, val_labels =  get_features_and_labels(validation_dataset) # getting the features and labels of the validation dataset\n",
        "test_features, test_labels =  get_features_and_labels(test_dataset) # getting the features and labels of the test dataset"
      ]
    },
    {
      "cell_type": "code",
      "execution_count": null,
      "metadata": {
        "id": "sYm8fOoQnFUg"
      },
      "outputs": [],
      "source": [
        "train_features.shape # printing the shape of the train features"
      ]
    },
    {
      "cell_type": "markdown",
      "metadata": {
        "id": "SZTz94wdnFUg"
      },
      "source": [
        "**Defining and training the densely connected classifier**"
      ]
    },
    {
      "cell_type": "code",
      "execution_count": null,
      "metadata": {
        "id": "5f2iNg-dnFUg"
      },
      "outputs": [],
      "source": [
        "inputs = keras.Input(shape=(5, 5, 512)) # defining the input shape\n",
        "x = layers.Flatten()(inputs) # flattening the input\n",
        "x = layers.Dense(256)(x) # defining a dense layer\n",
        "x = layers.Dropout(0.5)(x) # adding dropout\n",
        "outputs = layers.Dense(1, activation=\"sigmoid\")(x) # defining the output layer\n",
        "model = keras.Model(inputs, outputs) # creating the model\n",
        "model.compile(loss=\"binary_crossentropy\", \n",
        "              optimizer=\"rmsprop\",\n",
        "              metrics=[\"accuracy\"]) # compiling the model with the loss function as binary_crossentropy, optimizer as rmsprop and metrics as accuracy\n",
        "\n",
        "callbacks = [ # defining the callbacks\n",
        "    keras.callbacks.ModelCheckpoint( # defining the model checkpoint callback\n",
        "      filepath=\"feature_extraction.keras\", # defining the file path\n",
        "      save_best_only=True, # saving the best model only\n",
        "      monitor=\"val_loss\") # monitoring the validation loss\n",
        "]\n",
        "history = model.fit( # fitting the model\n",
        "    train_features, train_labels, # using the train features and labels\n",
        "    epochs=20, # using 20 epochs\n",
        "    validation_data=(val_features, val_labels), # using the validation features and labels\n",
        "    callbacks=callbacks) # using the callbacks"
      ]
    },
    {
      "cell_type": "markdown",
      "metadata": {
        "id": "5vYbnotLnFUg"
      },
      "source": [
        "**Plotting the results**"
      ]
    },
    {
      "cell_type": "code",
      "execution_count": null,
      "metadata": {
        "id": "GGqZlV7anFUg"
      },
      "outputs": [],
      "source": [
        "import matplotlib.pyplot as plt # importing matplotlib.pyplot as plt\n",
        "acc = history.history[\"accuracy\"] # getting the accuracy\n",
        "val_acc = history.history[\"val_accuracy\"] # getting the validation accuracy\n",
        "loss = history.history[\"loss\"] # getting the loss\n",
        "val_loss = history.history[\"val_loss\"] # getting the validation loss\n",
        "epochs = range(1, len(acc) + 1) # getting the epochs\n",
        "plt.plot(epochs, acc, \"bo\", label=\"Training accuracy\") # plotting the training accuracy\n",
        "plt.plot(epochs, val_acc, \"b\", label=\"Validation accuracy\") # plotting the validation accuracy\n",
        "plt.title(\"Training and validation accuracy\") # setting the title\n",
        "plt.legend() # adding the legend\n",
        "plt.figure() # creating a new figure\n",
        "plt.plot(epochs, loss, \"bo\", label=\"Training loss\") # plotting the training loss\n",
        "plt.plot(epochs, val_loss, \"b\", label=\"Validation loss\") # plotting the validation loss\n",
        "plt.title(\"Training and validation loss\") # setting the title\n",
        "plt.legend() # adding the legend\n",
        "plt.show() # showing the plot"
      ]
    },
    {
      "cell_type": "markdown",
      "metadata": {
        "id": "7DHh0UkWnFUg"
      },
      "source": [
        "#### Feature extraction together with data augmentation"
      ]
    },
    {
      "cell_type": "markdown",
      "metadata": {
        "id": "oDw3FPLDnFUg"
      },
      "source": [
        "**Instantiating and freezing the VGG16 convolutional base**"
      ]
    },
    {
      "cell_type": "code",
      "execution_count": null,
      "metadata": {
        "id": "FKupX-hOnFUh"
      },
      "outputs": [],
      "source": [
        "conv_base  = keras.applications.vgg16.VGG16( # loading the VGG16 model\n",
        "    weights=\"imagenet\", # using the imagenet weights\n",
        "    include_top=False) # excluding the top layer\n",
        "conv_base.trainable = False # freezing the convolutional base"
      ]
    },
    {
      "cell_type": "markdown",
      "metadata": {
        "id": "EheMukoEnFUh"
      },
      "source": [
        "**Printing the list of trainable weights before and after freezing**"
      ]
    },
    {
      "cell_type": "code",
      "execution_count": null,
      "metadata": {
        "id": "gGExyamrnFUh"
      },
      "outputs": [],
      "source": [
        "conv_base.trainable = True # unfreezing the convolutional base\n",
        "print(\"This is the number of trainable weights \" \n",
        "      \"before freezing the conv base:\", len(conv_base.trainable_weights)) # printing the number of trainable weights"
      ]
    },
    {
      "cell_type": "code",
      "execution_count": null,
      "metadata": {
        "id": "ebIirKBrnFUl"
      },
      "outputs": [],
      "source": [
        "conv_base.trainable = False # freezing the convolutional base\n",
        "print(\"This is the number of trainable weights \"\n",
        "      \"after freezing the conv base:\", len(conv_base.trainable_weights)) # printing the number of trainable weights"
      ]
    },
    {
      "cell_type": "markdown",
      "metadata": {
        "id": "vIHx5MR8nFUl"
      },
      "source": [
        "**Adding a data augmentation stage and a classifier to the convolutional base**"
      ]
    },
    {
      "cell_type": "code",
      "execution_count": null,
      "metadata": {
        "id": "JXmNvypWnFUl"
      },
      "outputs": [],
      "source": [
        "data_augmentation = keras.Sequential( # defining the data augmentation\n",
        "    [\n",
        "        layers.RandomFlip(\"horizontal\"), # adding random horizontal flip\n",
        "        layers.RandomRotation(0.1), # adding random rotation\n",
        "        layers.RandomZoom(0.2), # adding random zoom\n",
        "    ]\n",
        ")\n",
        "\n",
        "inputs = keras.Input(shape=(180, 180, 3)) # defining the input shape\n",
        "x = data_augmentation(inputs) # augmenting the input\n",
        "x = keras.applications.vgg16.preprocess_input(x) # preprocessing the input\n",
        "x = conv_base(x) # adding the convolutional base\n",
        "x = layers.Flatten()(x) # flattening the output\n",
        "x = layers.Dense(256)(x) # defining a dense layer\n",
        "x = layers.Dropout(0.5)(x) # adding dropout\n",
        "outputs = layers.Dense(1, activation=\"sigmoid\")(x) # defining the output layer\n",
        "model = keras.Model(inputs, outputs) # creating the model\n",
        "model.compile(loss=\"binary_crossentropy\", \n",
        "              optimizer=\"rmsprop\",\n",
        "              metrics=[\"accuracy\"]) # compiling the model with the loss function as binary_crossentropy, optimizer as rmsprop and metrics as accuracy"
      ]
    },
    {
      "cell_type": "code",
      "execution_count": null,
      "metadata": {
        "id": "4Sqmg5Y3nFUl"
      },
      "outputs": [],
      "source": [
        "callbacks = [ # defining the callbacks\n",
        "    keras.callbacks.ModelCheckpoint( # defining the model checkpoint callback\n",
        "        filepath=\"feature_extraction_with_data_augmentation.keras\", # defining the file path\n",
        "        save_best_only=True, # saving the best model only\n",
        "        monitor=\"val_loss\") # monitoring the validation loss\n",
        "]\n",
        "history = model.fit( # fitting the model\n",
        "    train_dataset, # using the train dataset\n",
        "    epochs=50, # using 50 epochs\n",
        "    validation_data=validation_dataset, # using the validation dataset\n",
        "    callbacks=callbacks) # using the callbacks"
      ]
    },
    {
      "cell_type": "markdown",
      "metadata": {
        "id": "pkxu-1I5nFUl"
      },
      "source": [
        "**Evaluating the model on the test set**"
      ]
    },
    {
      "cell_type": "code",
      "execution_count": null,
      "metadata": {
        "id": "OfBxYAB7nFUl"
      },
      "outputs": [],
      "source": [
        "test_model = keras.models.load_model( # loading the model\n",
        "    \"feature_extraction_with_data_augmentation.keras\") # loading the model\n",
        "test_loss, test_acc = test_model.evaluate(test_dataset) # evaluating the model on the test dataset\n",
        "print(f\"Test accuracy: {test_acc:.3f}\") # printing the test accuracy"
      ]
    },
    {
      "cell_type": "markdown",
      "metadata": {
        "id": "exU5wMpsnFUl"
      },
      "source": [
        "### Fine-tuning a pretrained model"
      ]
    },
    {
      "cell_type": "code",
      "execution_count": null,
      "metadata": {
        "id": "syqWWcconFUl"
      },
      "outputs": [],
      "source": [
        "conv_base.summary() # printing the model summary"
      ]
    },
    {
      "cell_type": "markdown",
      "metadata": {
        "id": "0eqYREEanFUl"
      },
      "source": [
        "**Freezing all layers until the fourth from the last**"
      ]
    },
    {
      "cell_type": "code",
      "execution_count": null,
      "metadata": {
        "id": "4T1E-iqWnFUl"
      },
      "outputs": [],
      "source": [
        "conv_base.trainable = True # unfreezing the convolutional base\n",
        "for layer in conv_base.layers[:-4]: # iterating over the layers of the convolutional base except the last 4 layers\n",
        "    layer.trainable = False # freezing the layers"
      ]
    },
    {
      "cell_type": "markdown",
      "metadata": {
        "id": "33kcuWqXnFUm"
      },
      "source": [
        "**Fine-tuning the model**"
      ]
    },
    {
      "cell_type": "code",
      "execution_count": null,
      "metadata": {
        "id": "4JxhIIPpnFUm"
      },
      "outputs": [],
      "source": [
        "model.compile(loss=\"binary_crossentropy\",\n",
        "              optimizer=keras.optimizers.RMSprop(learning_rate=1e-5),\n",
        "              metrics=[\"accuracy\"]) # compiling the model with the loss function as binary_crossentropy, optimizer as RMSprop with a learning rate of 1e-5 and metrics as accuracy\n",
        "\n",
        "callbacks = [ # defining the callbacks\n",
        "    keras.callbacks.ModelCheckpoint( # defining the model checkpoint callback\n",
        "        filepath=\"fine_tuning.keras\", # defining the file path\n",
        "        save_best_only=True, # saving the best model only\n",
        "        monitor=\"val_loss\") # monitoring the validation loss\n",
        "]\n",
        "history = model.fit( # fitting the model\n",
        "    train_dataset, # using the train dataset\n",
        "    epochs=30, # using 30 epochs\n",
        "    validation_data=validation_dataset, # using the validation dataset\n",
        "    callbacks=callbacks) # using the callbacks"
      ]
    },
    {
      "cell_type": "code",
      "execution_count": null,
      "metadata": {
        "id": "23hRFpMAnFUm"
      },
      "outputs": [],
      "source": [
        "model = keras.models.load_model(\"fine_tuning.keras\") # loading the model\n",
        "test_loss, test_acc = model.evaluate(test_dataset) # evaluating the model on the test dataset\n",
        "print(f\"Test accuracy: {test_acc:.3f}\") # printing the test accuracy"
      ]
    },
    {
      "cell_type": "markdown",
      "metadata": {
        "id": "njoeQXfZnFUm"
      },
      "source": [
        "## Summary"
      ]
    }
  ],
  "metadata": {
    "colab": {
      "name": "chapter08_intro-to-dl-for-computer-vision.i",
      "provenance": [],
      "toc_visible": true
    },
    "kernelspec": {
      "display_name": "Python 3",
      "language": "python",
      "name": "python3"
    },
    "language_info": {
      "codemirror_mode": {
        "name": "ipython",
        "version": 3
      },
      "file_extension": ".py",
      "mimetype": "text/x-python",
      "name": "python",
      "nbconvert_exporter": "python",
      "pygments_lexer": "ipython3",
      "version": "3.11.1"
    }
  },
  "nbformat": 4,
  "nbformat_minor": 0
}
