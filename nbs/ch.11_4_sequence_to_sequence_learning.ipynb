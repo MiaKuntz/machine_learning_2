{
  "cells": [
    {
      "cell_type": "markdown",
      "metadata": {
        "id": "tgrw_5ybXf71"
      },
      "source": [
        "This is a companion notebook for the book [Deep Learning with Python, Second Edition](https://www.manning.com/books/deep-learning-with-python-second-edition?a_aid=keras&a_bid=76564dff). For readability, it only contains runnable code blocks and section titles, and omits everything else in the book: text paragraphs, figures, and pseudocode.\n",
        "\n",
        "**If you want to be able to follow what's going on, I recommend reading the notebook side by side with your copy of the book.**\n",
        "\n",
        "This notebook was generated for TensorFlow 2.6."
      ]
    },
    {
      "cell_type": "markdown",
      "metadata": {
        "id": "3Di7HJZqXf72"
      },
      "source": [
        "## Beyond text classification: Sequence-to-sequence learning"
      ]
    },
    {
      "cell_type": "markdown",
      "metadata": {
        "id": "YemaJiMhXf72"
      },
      "source": [
        "### A machine translation example"
      ]
    },
    {
      "cell_type": "code",
      "execution_count": null,
      "metadata": {
        "id": "WA_f-7yaXf73"
      },
      "outputs": [],
      "source": [
        "!wget http://storage.googleapis.com/download.tensorflow.org/data/spa-eng.zip # importing the data\n",
        "!unzip -q spa-eng.zip # unzipping the data"
      ]
    },
    {
      "cell_type": "code",
      "execution_count": null,
      "metadata": {
        "id": "h-M47E6yXf73"
      },
      "outputs": [],
      "source": [
        "text_file = \"spa-eng/spa.txt\" # reading the data from the file and storing it in a list\n",
        "with open(text_file) as f: # opening the file \n",
        "    lines = f.read().split(\"\\n\")[:-1] # reading the file and splitting it by new line and storing it in a list\n",
        "text_pairs = [] # creating a list to store the text pairs\n",
        "for line in lines: # iterating through the lines\n",
        "    english, spanish = line.split(\"\\t\") # splitting the line by tab\n",
        "    spanish = \"[start] \" + spanish + \" [end]\" # adding start and end tokens to the spanish text\n",
        "    text_pairs.append((english, spanish)) # appending the english and spanish text to the text pairs list"
      ]
    },
    {
      "cell_type": "code",
      "execution_count": null,
      "metadata": {
        "id": "OC4fOXU7Xf73"
      },
      "outputs": [],
      "source": [
        "import random # importing the random module\n",
        "print(random.choice(text_pairs)) # printing a random text pair"
      ]
    },
    {
      "cell_type": "code",
      "execution_count": null,
      "metadata": {
        "id": "zkideOQeXf74"
      },
      "outputs": [],
      "source": [
        "import random # importing the random module\n",
        "random.shuffle(text_pairs) # shuffling the text pairs\n",
        "num_val_samples = int(0.15 * len(text_pairs)) # calculating the number of validation samples\n",
        "num_train_samples = len(text_pairs) - 2 * num_val_samples # calculating the number of training samples\n",
        "train_pairs = text_pairs[:num_train_samples] # splitting the text pairs into training pairs\n",
        "val_pairs = text_pairs[num_train_samples:num_train_samples + num_val_samples] # splitting the text pairs into validation pairs\n",
        "test_pairs = text_pairs[num_train_samples + num_val_samples:] # splitting the text pairs into test pairs"
      ]
    },
    {
      "cell_type": "markdown",
      "metadata": {
        "id": "O_IwuPZEXf74"
      },
      "source": [
        "**Vectorizing the English and Spanish text pairs**"
      ]
    },
    {
      "cell_type": "code",
      "execution_count": null,
      "metadata": {
        "id": "9IWzXWviXf74"
      },
      "outputs": [],
      "source": [
        "import tensorflow as tf # importing the tensorflow module\n",
        "import string # importing the string module\n",
        "import re # importing the re module\n",
        "from tensorflow import keras # importing the keras module\n",
        "from tensorflow.keras import layers # importing the layers module\n",
        "\n",
        "strip_chars = string.punctuation + \"¿\" # defining the characters to strip\n",
        "strip_chars = strip_chars.replace(\"[\", \"\") # replacing the characters\n",
        "strip_chars = strip_chars.replace(\"]\", \"\") # replacing the characters\n",
        "\n",
        "def custom_standardization(input_string): # defining the custom standardization function\n",
        "    lowercase = tf.strings.lower(input_string) # converting the input string to lowercase\n",
        "    return tf.strings.regex_replace( # returning the regex replace\n",
        "        lowercase, f\"[{re.escape(strip_chars)}]\", \"\") # replacing the characters\n",
        "\n",
        "vocab_size = 15000 # defining the vocabulary size\n",
        "sequence_length = 20 # defining the sequence length\n",
        "\n",
        "source_vectorization = layers.TextVectorization( # defining the source vectorization\n",
        "    max_tokens=vocab_size, # setting the maximum tokens\n",
        "    output_mode=\"int\", # setting the output mode\n",
        "    output_sequence_length=sequence_length, # setting the output sequence length\n",
        ")\n",
        "target_vectorization = layers.TextVectorization( # defining the target vectorization\n",
        "    max_tokens=vocab_size, # setting the maximum tokens\n",
        "    output_mode=\"int\", # setting the output mode\n",
        "    output_sequence_length=sequence_length + 1, # setting the output sequence length\n",
        "    standardize=custom_standardization, # setting the standardization\n",
        ")\n",
        "train_english_texts = [pair[0] for pair in train_pairs] # getting the english texts from the train pairs\n",
        "train_spanish_texts = [pair[1] for pair in train_pairs] # getting the spanish texts from the train pairs\n",
        "source_vectorization.adapt(train_english_texts) # adapting the source vectorization\n",
        "target_vectorization.adapt(train_spanish_texts) # adapting the target vectorization"
      ]
    },
    {
      "cell_type": "markdown",
      "metadata": {
        "id": "Y6RNX8nPXf75"
      },
      "source": [
        "**Preparing datasets for the translation task**"
      ]
    },
    {
      "cell_type": "code",
      "execution_count": null,
      "metadata": {
        "id": "DdBgXnVJXf75"
      },
      "outputs": [],
      "source": [
        "batch_size = 64 # defining the batch size\n",
        "\n",
        "def format_dataset(eng, spa): # defining the format dataset function\n",
        "    eng = source_vectorization(eng) # vectorizing the english text\n",
        "    spa = target_vectorization(spa) # vectorizing the spanish text\n",
        "    return ({ # returning the dictionary\n",
        "        \"english\": eng, # returning the english text\n",
        "        \"spanish\": spa[:, :-1], # returning the spanish text\n",
        "    }, spa[:, 1:]) # returning the spanish text\n",
        "\n",
        "def make_dataset(pairs): # defining the make dataset function\n",
        "    eng_texts, spa_texts = zip(*pairs) # unzipping the pairs\n",
        "    eng_texts = list(eng_texts) # converting the english texts to a list\n",
        "    spa_texts = list(spa_texts) # converting the spanish texts to a list\n",
        "    dataset = tf.data.Dataset.from_tensor_slices((eng_texts, spa_texts)) # creating a dataset from the tensor slices\n",
        "    dataset = dataset.batch(batch_size) # batching the dataset\n",
        "    dataset = dataset.map(format_dataset, num_parallel_calls=4) # mapping the dataset with the format dataset function in parallel with 4 calls (this is done to speed up the process)\n",
        "    return dataset.shuffle(2048).prefetch(16).cache() # returning the dataset shuffled, prefetched and cached (this is done to speed up the process)\n",
        "\n",
        "train_ds = make_dataset(train_pairs) # creating the training dataset\n",
        "val_ds = make_dataset(val_pairs) # creating the validation dataset"
      ]
    },
    {
      "cell_type": "code",
      "execution_count": null,
      "metadata": {
        "id": "eRgAhyn_Xf75"
      },
      "outputs": [],
      "source": [
        "for inputs, targets in train_ds.take(1): # iterating through the training dataset\n",
        "    print(f\"inputs['english'].shape: {inputs['english'].shape}\") # printing the shape of the english inputs\n",
        "    print(f\"inputs['spanish'].shape: {inputs['spanish'].shape}\") # printing the shape of the spanish inputs\n",
        "    print(f\"targets.shape: {targets.shape}\") # printing the shape of the targets"
      ]
    },
    {
      "cell_type": "markdown",
      "metadata": {
        "id": "2vYoYFs2Xf75"
      },
      "source": [
        "### Sequence-to-sequence learning with RNNs"
      ]
    },
    {
      "cell_type": "markdown",
      "metadata": {
        "id": "NGiPBRe9Xf76"
      },
      "source": [
        "**GRU-based encoder**"
      ]
    },
    {
      "cell_type": "code",
      "execution_count": null,
      "metadata": {
        "id": "-9RG3FpRXf76"
      },
      "outputs": [],
      "source": [
        "from tensorflow import keras # importing the keras module\n",
        "from tensorflow.keras import layers # importing the layers module\n",
        "\n",
        "embed_dim = 256 # defining the embedding dimension\n",
        "latent_dim = 1024 # defining the latent dimension\n",
        "\n",
        "source = keras.Input(shape=(None,), dtype=\"int64\", name=\"english\") # defining the source input layer with the input shape and data type and name \"english\" \n",
        "x = layers.Embedding(vocab_size, embed_dim, mask_zero=True)(source) # defining the embedding layer with the vocabulary size, embedding dimension and mask zero set to True\n",
        "encoded_source = layers.Bidirectional( # defining the bidirectional layer\n",
        "    layers.GRU(latent_dim), merge_mode=\"sum\")(x) # defining the GRU layer with the latent dimension and merge mode set to sum"
      ]
    },
    {
      "cell_type": "markdown",
      "metadata": {
        "id": "kNuzUjZuXf76"
      },
      "source": [
        "**GRU-based decoder and the end-to-end model**"
      ]
    },
    {
      "cell_type": "code",
      "execution_count": null,
      "metadata": {
        "id": "Cz7PaNR4Xf76"
      },
      "outputs": [],
      "source": [
        "past_target = keras.Input(shape=(None,), dtype=\"int64\", name=\"spanish\") # defining the past target input layer with the input shape and data type and name \"spanish\"\n",
        "x = layers.Embedding(vocab_size, embed_dim, mask_zero=True)(past_target) # defining the embedding layer with the vocabulary size, embedding dimension and mask zero set to True\n",
        "decoder_gru = layers.GRU(latent_dim, return_sequences=True) # defining the GRU layer with the latent dimension and return sequences set to True\n",
        "x = decoder_gru(x, initial_state=encoded_source) # defining the GRU layer with the initial state set to the encoded source\n",
        "x = layers.Dropout(0.5)(x) # defining the dropout layer with the rate set to 0.5\n",
        "target_next_step = layers.Dense(vocab_size, activation=\"softmax\")(x) # defining the dense layer with the vocabulary size and activation set to softmax\n",
        "seq2seq_rnn = keras.Model([source, past_target], target_next_step) # defining the model with the source, past target and target next step"
      ]
    },
    {
      "cell_type": "markdown",
      "metadata": {
        "id": "B97jATtxXf76"
      },
      "source": [
        "**Training our recurrent sequence-to-sequence model**"
      ]
    },
    {
      "cell_type": "code",
      "execution_count": null,
      "metadata": {
        "id": "0sLJK5GQXf76"
      },
      "outputs": [],
      "source": [
        "seq2seq_rnn.compile( # compiling the model\n",
        "    optimizer=\"rmsprop\", # setting the optimizer to rmsprop\n",
        "    loss=\"sparse_categorical_crossentropy\", # setting the loss to sparse categorical crossentropy\n",
        "    metrics=[\"accuracy\"]) # setting the metrics to accuracy\n",
        "seq2seq_rnn.fit(train_ds, epochs=15, validation_data=val_ds) # fitting the model with the training and validation datasets"
      ]
    },
    {
      "cell_type": "markdown",
      "metadata": {
        "id": "ai6O25ywXf76"
      },
      "source": [
        "**Translating new sentences with our RNN encoder and decoder**"
      ]
    },
    {
      "cell_type": "code",
      "execution_count": null,
      "metadata": {
        "id": "V-5VDS9nXf76"
      },
      "outputs": [],
      "source": [
        "import numpy as np # importing the numpy module\n",
        "spa_vocab = target_vectorization.get_vocabulary() # getting the spanish vocabulary\n",
        "spa_index_lookup = dict(zip(range(len(spa_vocab)), spa_vocab)) # creating a dictionary with the index and vocabulary\n",
        "max_decoded_sentence_length = 20 # defining the maximum decoded sentence length\n",
        "\n",
        "def decode_sequence(input_sentence): # defining the decode sequence function\n",
        "    tokenized_input_sentence = source_vectorization([input_sentence]) # vectorizing the input sentence\n",
        "    decoded_sentence = \"[start]\" # defining the decoded sentence with the start token \n",
        "    for i in range(max_decoded_sentence_length): # iterating through the maximum decoded sentence length\n",
        "        tokenized_target_sentence = target_vectorization([decoded_sentence]) # vectorizing the target sentence\n",
        "        next_token_predictions = seq2seq_rnn.predict( # predicting the next token\n",
        "            [tokenized_input_sentence, tokenized_target_sentence]) # predicting the next token\n",
        "        sampled_token_index = np.argmax(next_token_predictions[0, i, :]) # sampling the token index\n",
        "        sampled_token = spa_index_lookup[sampled_token_index] # sampling the token\n",
        "        decoded_sentence += \" \" + sampled_token # adding the sampled token to the decoded sentence\n",
        "        if sampled_token == \"[end]\": # if the sampled token is the end token\n",
        "            break # break the loop\n",
        "    return decoded_sentence # return the decoded sentence\n",
        "\n",
        "test_eng_texts = [pair[0] for pair in test_pairs] # getting the english texts from the test pairs\n",
        "for _ in range(20): # iterating 20 times\n",
        "    input_sentence = random.choice(test_eng_texts) # choosing a random english text\n",
        "    print(\"-\") # printing a dash\n",
        "    print(input_sentence) # printing the input sentence\n",
        "    print(decode_sequence(input_sentence)) # printing the decoded sequence"
      ]
    },
    {
      "cell_type": "markdown",
      "metadata": {
        "id": "LEURyFRSXf77"
      },
      "source": [
        "### Sequence-to-sequence learning with Transformer"
      ]
    },
    {
      "cell_type": "markdown",
      "metadata": {
        "id": "qcSpFgDKXf77"
      },
      "source": [
        "#### The Transformer decoder"
      ]
    },
    {
      "cell_type": "markdown",
      "metadata": {
        "id": "W_ZGb0YyXf77"
      },
      "source": [
        "**The `TransformerDecoder`**"
      ]
    },
    {
      "cell_type": "code",
      "execution_count": null,
      "metadata": {
        "id": "yIinAB9oXf77"
      },
      "outputs": [],
      "source": [
        "class TransformerDecoder(layers.Layer): # defining the transformer decoder layer\n",
        "    def __init__(self, embed_dim, dense_dim, num_heads, **kwargs): # defining the initialization function\n",
        "        super().__init__(**kwargs) # initializing the layer\n",
        "        self.embed_dim = embed_dim # setting the embedding dimension\n",
        "        self.dense_dim = dense_dim # setting the dense dimension\n",
        "        self.num_heads = num_heads # setting the number of heads\n",
        "        self.attention_1 = layers.MultiHeadAttention( # defining the multi head attention layer\n",
        "            num_heads=num_heads, key_dim=embed_dim) # setting the number of heads and key dimension\n",
        "        self.attention_2 = layers.MultiHeadAttention( # defining the multi head attention layer\n",
        "            num_heads=num_heads, key_dim=embed_dim) # setting the number of heads and key dimension\n",
        "        self.dense_proj = keras.Sequential( # defining the sequential layer\n",
        "            [layers.Dense(dense_dim, activation=\"relu\"), # defining the dense layer with the dense dimension and activation set to relu\n",
        "             layers.Dense(embed_dim),] # defining the dense layer with the embedding dimension\n",
        "        )\n",
        "        self.layernorm_1 = layers.LayerNormalization() # defining the layer normalization layer \n",
        "        self.layernorm_2 = layers.LayerNormalization() # defining the layer normalization layer\n",
        "        self.layernorm_3 = layers.LayerNormalization() # defining the layer normalization layer\n",
        "        self.supports_masking = True # setting the supports masking to True\n",
        "\n",
        "    def get_config(self): # defining the get config function\n",
        "        config = super().get_config() # getting the configuration\n",
        "        config.update({ # updating the configuration\n",
        "            \"embed_dim\": self.embed_dim, # setting the embedding dimension\n",
        "            \"num_heads\": self.num_heads, # setting the number of heads\n",
        "            \"dense_dim\": self.dense_dim, # setting the dense dimension\n",
        "        })\n",
        "        return config # returning the configuration\n",
        "\n",
        "    def get_causal_attention_mask(self, inputs): # defining the get causal attention mask function\n",
        "        input_shape = tf.shape(inputs) # getting the shape of the inputs\n",
        "        batch_size, sequence_length = input_shape[0], input_shape[1] # getting the batch size and sequence length\n",
        "        i = tf.range(sequence_length)[:, tf.newaxis] # getting the range of the sequence length\n",
        "        j = tf.range(sequence_length) # getting the range of the sequence length\n",
        "        mask = tf.cast(i >= j, dtype=\"int32\") # casting the mask to integer 32 bit type (this is done to get the lower triangular matrix)\n",
        "        mask = tf.reshape(mask, (1, input_shape[1], input_shape[1])) # reshaping the mask to the input shape \n",
        "        mult = tf.concat( # concatenating the tensors\n",
        "            [tf.expand_dims(batch_size, -1), # expanding the dimensions of the batch size \n",
        "             tf.constant([1, 1], dtype=tf.int32)], axis=0) # concatenating the tensors along the 0 axis \n",
        "        return tf.tile(mask, mult) # returning the tiled mask\n",
        "\n",
        "    def call(self, inputs, encoder_outputs, mask=None): # defining the call function with the inputs, encoder outputs and mask\n",
        "        causal_mask = self.get_causal_attention_mask(inputs) # getting the causal attention mask\n",
        "        if mask is not None: # if the mask is not None\n",
        "            padding_mask = tf.cast( # casting the padding mask\n",
        "                mask[:, tf.newaxis, :], dtype=\"int32\") # casting the mask to integer 32 bit type\n",
        "            padding_mask = tf.minimum(padding_mask, causal_mask) # getting the minimum of the padding mask and causal mask\n",
        "        else: # if the mask is None\n",
        "            padding_mask = mask # setting the padding mask to the mask\n",
        "        attention_output_1 = self.attention_1( # getting the attention output\n",
        "            query=inputs, # setting the query to the inputs\n",
        "            value=inputs, # setting the value to the inputs\n",
        "            key=inputs, # setting the key to the inputs\n",
        "            attention_mask=causal_mask) # setting the attention mask to the causal mask\n",
        "        attention_output_1 = self.layernorm_1(inputs + attention_output_1) # getting the layer normalization output by adding the inputs and attention output 1 and passing it through the layer normalization layer\n",
        "        attention_output_2 = self.attention_2( # getting the attention output 2 by passing the inputs, encoder outputs and padding mask through the attention 2 layer\n",
        "            query=attention_output_1, # setting the query to the attention output 1\n",
        "            value=encoder_outputs, # setting the value to the encoder outputs\n",
        "            key=encoder_outputs, # setting the key to the encoder outputs\n",
        "            attention_mask=padding_mask, # setting the attention mask to the padding mask\n",
        "        )\n",
        "        attention_output_2 = self.layernorm_2( # getting the layer normalization output by adding the attention output 1 and attention output 2 and passing it through the layer normalization layer\n",
        "            attention_output_1 + attention_output_2) # adding the attention output 1 and attention output 2\n",
        "        proj_output = self.dense_proj(attention_output_2) # getting the projection output by passing the attention output 2 through the dense projection layer\n",
        "        return self.layernorm_3(attention_output_2 + proj_output) # returning the layer normalization output by adding the attention output 2 and projection output and passing it through the layer normalization layer"
      ]
    },
    {
      "cell_type": "markdown",
      "metadata": {
        "id": "SCnHHNyAXf77"
      },
      "source": [
        "#### Putting it all together: A Transformer for machine translation"
      ]
    },
    {
      "cell_type": "markdown",
      "metadata": {
        "id": "awJRdGu0Xf77"
      },
      "source": [
        "**PositionalEmbedding layer**"
      ]
    },
    {
      "cell_type": "code",
      "execution_count": null,
      "metadata": {
        "id": "e5k6Rqh8Xf77"
      },
      "outputs": [],
      "source": [
        "class PositionalEmbedding(layers.Layer): # defining the positional embedding layer\n",
        "    def __init__(self, sequence_length, input_dim, output_dim, **kwargs): # defining the initialization function with the sequence length, input dimension, output dimension and keyword arguments\n",
        "        super().__init__(**kwargs) # initializing the layer\n",
        "        self.token_embeddings = layers.Embedding( # defining the token embeddings layer\n",
        "            input_dim=input_dim, output_dim=output_dim) # setting the input dimension and output dimension\n",
        "        self.position_embeddings = layers.Embedding( # defining the position embeddings layer\n",
        "            input_dim=sequence_length, output_dim=output_dim) # setting the input dimension and output dimension\n",
        "        self.sequence_length = sequence_length # setting the sequence length\n",
        "        self.input_dim = input_dim # setting the input dimension\n",
        "        self.output_dim = output_dim # setting the output dimension\n",
        "\n",
        "    def call(self, inputs): # defining the call function with the inputs\n",
        "        length = tf.shape(inputs)[-1] # getting the length of the inputs\n",
        "        positions = tf.range(start=0, limit=length, delta=1) # getting the range of the positions\n",
        "        embedded_tokens = self.token_embeddings(inputs) # getting the embedded tokens\n",
        "        embedded_positions = self.position_embeddings(positions) # getting the embedded positions\n",
        "        return embedded_tokens + embedded_positions # returning the embedded tokens and embedded positions\n",
        "\n",
        "    def compute_mask(self, inputs, mask=None): # defining the compute mask function with the inputs and mask\n",
        "        return tf.math.not_equal(inputs, 0) # returning the not equal of the inputs and 0\n",
        "\n",
        "    def get_config(self): # defining the get config function\n",
        "        config = super(PositionalEmbedding, self).get_config() # getting the configuration\n",
        "        config.update({ # updating the configuration\n",
        "            \"output_dim\": self.output_dim, # setting the output dimension\n",
        "            \"sequence_length\": self.sequence_length, # setting the sequence length\n",
        "            \"input_dim\": self.input_dim, # setting the input dimension\n",
        "        })\n",
        "        return config # returning the configuration"
      ]
    },
    {
      "cell_type": "markdown",
      "metadata": {
        "id": "14rC_G1vXf77"
      },
      "source": [
        "**End-to-end Transformer**"
      ]
    },
    {
      "cell_type": "code",
      "execution_count": null,
      "metadata": {
        "id": "qVm7sUZQXf77"
      },
      "outputs": [],
      "source": [
        "embed_dim = 256 # defining the embedding dimension\n",
        "dense_dim = 2048 # defining the dense dimension\n",
        "num_heads = 8 # defining the number of heads\n",
        "\n",
        "encoder_inputs = keras.Input(shape=(None,), dtype=\"int64\", name=\"english\") # defining the encoder inputs with the input shape, data type and name \"english\"\n",
        "x = PositionalEmbedding(sequence_length, vocab_size, embed_dim)(encoder_inputs) # defining the positional embedding layer with the sequence length, vocabulary size and embedding dimension\n",
        "encoder_outputs = TransformerEncoder(embed_dim, dense_dim, num_heads)(x) # defining the transformer encoder with the embedding dimension, dense dimension and number of heads\n",
        "\n",
        "decoder_inputs = keras.Input(shape=(None,), dtype=\"int64\", name=\"spanish\") # defining the decoder inputs with the input shape, data type and name \"spanish\"\n",
        "x = PositionalEmbedding(sequence_length, vocab_size, embed_dim)(decoder_inputs) # defining the positional embedding layer with the sequence length, vocabulary size and embedding dimension\n",
        "x = TransformerDecoder(embed_dim, dense_dim, num_heads)(x, encoder_outputs) # defining the transformer decoder with the embedding dimension, dense dimension, number of heads and encoder outputs\n",
        "x = layers.Dropout(0.5)(x) # defining the dropout layer with the rate set to 0.5\n",
        "decoder_outputs = layers.Dense(vocab_size, activation=\"softmax\")(x) # defining the dense layer with the vocabulary size and activation set to softmax\n",
        "transformer = keras.Model([encoder_inputs, decoder_inputs], decoder_outputs) # defining the model with the encoder inputs, decoder inputs and decoder outputs"
      ]
    },
    {
      "cell_type": "markdown",
      "metadata": {
        "id": "Brmi0eXjXf77"
      },
      "source": [
        "**Training the sequence-to-sequence Transformer**"
      ]
    },
    {
      "cell_type": "code",
      "execution_count": null,
      "metadata": {
        "id": "Ea-OmgjlXf77"
      },
      "outputs": [],
      "source": [
        "transformer.compile( # compiling the model\n",
        "    optimizer=\"rmsprop\", # setting the optimizer to rmsprop\n",
        "    loss=\"sparse_categorical_crossentropy\", # setting the loss to sparse categorical crossentropy\n",
        "    metrics=[\"accuracy\"]) # setting the metrics to accuracy\n",
        "transformer.fit(train_ds, epochs=30, validation_data=val_ds) # fitting the model with the training and validation datasets and 30 epochs (this is done to train the model)"
      ]
    },
    {
      "cell_type": "markdown",
      "metadata": {
        "id": "WTD2ZzRDXf77"
      },
      "source": [
        "**Translating new sentences with our Transformer model**"
      ]
    },
    {
      "cell_type": "code",
      "execution_count": null,
      "metadata": {
        "id": "KBTNJ1ryXf77"
      },
      "outputs": [],
      "source": [
        "import numpy as np # importing the numpy module\n",
        "spa_vocab = target_vectorization.get_vocabulary() # getting the spanish vocabulary\n",
        "spa_index_lookup = dict(zip(range(len(spa_vocab)), spa_vocab)) # creating a dictionary with the index and vocabulary\n",
        "max_decoded_sentence_length = 20 # defining the maximum decoded sentence length\n",
        "\n",
        "def decode_sequence(input_sentence): # defining the decode sequence function\n",
        "    tokenized_input_sentence = source_vectorization([input_sentence]) # vectorizing the input sentence\n",
        "    decoded_sentence = \"[start]\" # defining the decoded sentence with the start token\n",
        "    for i in range(max_decoded_sentence_length): # iterating through the maximum decoded sentence length\n",
        "        tokenized_target_sentence = target_vectorization( # vectorizing the target sentence\n",
        "            [decoded_sentence])[:, :-1] # getting the target sentence\n",
        "        predictions = transformer( # getting the predictions\n",
        "            [tokenized_input_sentence, tokenized_target_sentence]) # getting the predictions\n",
        "        sampled_token_index = np.argmax(predictions[0, i, :]) # sampling the token index\n",
        "        sampled_token = spa_index_lookup[sampled_token_index] # sampling the token\n",
        "        decoded_sentence += \" \" + sampled_token # adding the sampled token to the decoded sentence\n",
        "        if sampled_token == \"[end]\": # if the sampled token is the end token\n",
        "            break # break the loop\n",
        "    return decoded_sentence # return the decoded sentence\n",
        "\n",
        "test_eng_texts = [pair[0] for pair in test_pairs] # getting the english texts from the test pairs\n",
        "for _ in range(20): # iterating 20 times\n",
        "    input_sentence = random.choice(test_eng_texts) # choosing a random english text\n",
        "    print(\"-\") # printing a dash\n",
        "    print(input_sentence) # printing the input sentence\n",
        "    print(decode_sequence(input_sentence)) # printing the decoded sequence"
      ]
    },
    {
      "cell_type": "markdown",
      "metadata": {
        "id": "ruWLXf43Xf77"
      },
      "source": [
        "## Summary"
      ]
    }
  ],
  "metadata": {
    "colab": {
      "name": "chapter11_part04_sequence-to-sequence-learning.i",
      "provenance": [],
      "toc_visible": true
    },
    "kernelspec": {
      "display_name": "Python 3",
      "language": "python",
      "name": "python3"
    },
    "language_info": {
      "codemirror_mode": {
        "name": "ipython",
        "version": 3
      },
      "file_extension": ".py",
      "mimetype": "text/x-python",
      "name": "python",
      "nbconvert_exporter": "python",
      "pygments_lexer": "ipython3",
      "version": "3.7.0"
    }
  },
  "nbformat": 4,
  "nbformat_minor": 0
}
