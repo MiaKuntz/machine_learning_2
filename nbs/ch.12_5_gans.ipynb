{
  "cells": [
    {
      "cell_type": "markdown",
      "metadata": {
        "id": "wXzJ8zHtcRym"
      },
      "source": [
        "This is a companion notebook for the book [Deep Learning with Python, Second Edition](https://www.manning.com/books/deep-learning-with-python-second-edition?a_aid=keras&a_bid=76564dff). For readability, it only contains runnable code blocks and section titles, and omits everything else in the book: text paragraphs, figures, and pseudocode.\n",
        "\n",
        "**If you want to be able to follow what's going on, I recommend reading the notebook side by side with your copy of the book.**\n",
        "\n",
        "This notebook was generated for TensorFlow 2.6."
      ]
    },
    {
      "cell_type": "markdown",
      "metadata": {
        "id": "TU_AjYoJcRyn"
      },
      "source": [
        "## Introduction to generative adversarial networks"
      ]
    },
    {
      "cell_type": "markdown",
      "metadata": {
        "id": "pvW_XKWicRyo"
      },
      "source": [
        "### A schematic GAN implementation"
      ]
    },
    {
      "cell_type": "markdown",
      "metadata": {
        "id": "vkQr5cEFcRyo"
      },
      "source": [
        "### A bag of tricks"
      ]
    },
    {
      "cell_type": "markdown",
      "metadata": {
        "id": "d7jJRSJbcRyo"
      },
      "source": [
        "### Getting our hands on the CelebA dataset"
      ]
    },
    {
      "cell_type": "markdown",
      "metadata": {
        "id": "MhrAYm5OcRyo"
      },
      "source": [
        "**Getting the CelebA data**"
      ]
    },
    {
      "cell_type": "code",
      "execution_count": null,
      "metadata": {
        "id": "IttNCUFRcRyp"
      },
      "outputs": [],
      "source": [
        "!mkdir celeba_gan # creating a directory for the dataset\n",
        "!gdown --id 1O7m1010EJjLE5QxLZiM9Fpjs7Oj6e684 -O celeba_gan/data.zip # downloading the dataset\n",
        "!unzip -qq celeba_gan/data.zip -d celeba_gan # unzipping the dataset"
      ]
    },
    {
      "cell_type": "markdown",
      "metadata": {
        "id": "kgw2UYlxcRyp"
      },
      "source": [
        "**Creating a dataset from a directory of images**"
      ]
    },
    {
      "cell_type": "code",
      "execution_count": null,
      "metadata": {
        "id": "SwflPNdjcRyp"
      },
      "outputs": [],
      "source": [
        "from tensorflow import keras # importing the necessary libraries\n",
        "dataset = keras.utils.image_dataset_from_directory( # loading the dataset\n",
        "    \"celeba_gan\", # specifying the directory of the dataset \n",
        "    label_mode=None, # not using labels\n",
        "    image_size=(64, 64), # resizing the images to 64x64 pixels\n",
        "    batch_size=32, # setting the batch size\n",
        "    smart_resize=True) # resizing the images to the specified size"
      ]
    },
    {
      "cell_type": "markdown",
      "metadata": {
        "id": "-jNdMvrHcRyq"
      },
      "source": [
        "**Rescaling the images**"
      ]
    },
    {
      "cell_type": "code",
      "execution_count": null,
      "metadata": {
        "id": "v8tmeov5cRyq"
      },
      "outputs": [],
      "source": [
        "dataset = dataset.map(lambda x: x / 255.) # normalizing the images to the range [0, 1] "
      ]
    },
    {
      "cell_type": "markdown",
      "metadata": {
        "id": "CwKMt3EBcRyq"
      },
      "source": [
        "**Displaying the first image**"
      ]
    },
    {
      "cell_type": "code",
      "execution_count": null,
      "metadata": {
        "id": "_blgr3_ocRyq"
      },
      "outputs": [],
      "source": [
        "import matplotlib.pyplot as plt # importing the necessary libraries\n",
        "for x in dataset: # iterating through the dataset\n",
        "    plt.axis(\"off\") # turning off the axis\n",
        "    plt.imshow((x.numpy() * 255).astype(\"int32\")[0]) # displaying the images in the dataset \n",
        "    break # breaking the loop after the first batch of images"
      ]
    },
    {
      "cell_type": "markdown",
      "metadata": {
        "id": "qmg8vAhYcRyq"
      },
      "source": [
        "### The discriminator"
      ]
    },
    {
      "cell_type": "markdown",
      "metadata": {
        "id": "tTl_iRAVcRyq"
      },
      "source": [
        "**The GAN discriminator network**"
      ]
    },
    {
      "cell_type": "code",
      "execution_count": null,
      "metadata": {
        "id": "P8hRSpfIcRyq"
      },
      "outputs": [],
      "source": [
        "from tensorflow.keras import layers # importing the necessary libraries\n",
        "\n",
        "discriminator = keras.Sequential( # creating the discriminator model\n",
        "    [\n",
        "        keras.Input(shape=(64, 64, 3)), # specifying the input shape\n",
        "        layers.Conv2D(64, kernel_size=4, strides=2, padding=\"same\"), # adding the first convolutional layer\n",
        "        layers.LeakyReLU(alpha=0.2), # adding the first activation layer\n",
        "        layers.Conv2D(128, kernel_size=4, strides=2, padding=\"same\"), # adding the second convolutional layer\n",
        "        layers.LeakyReLU(alpha=0.2), # adding the second activation layer\n",
        "        layers.Conv2D(128, kernel_size=4, strides=2, padding=\"same\"), # adding the third convolutional layer\n",
        "        layers.LeakyReLU(alpha=0.2), # adding the third activation layer\n",
        "        layers.Flatten(), # flattening the output of the convolutional layers to feed into the dense layers\n",
        "        layers.Dropout(0.2), # adding a dropout layer to prevent overfitting \n",
        "        layers.Dense(1, activation=\"sigmoid\"), # adding the output layer with the sigmoid activation function \n",
        "    ],\n",
        "    name=\"discriminator\", # naming the model\n",
        ")"
      ]
    },
    {
      "cell_type": "code",
      "execution_count": null,
      "metadata": {
        "id": "2S1w_zULcRyq"
      },
      "outputs": [],
      "source": [
        "discriminator.summary() # displaying the architecture of the discriminator model"
      ]
    },
    {
      "cell_type": "markdown",
      "metadata": {
        "id": "IHUK7cOicRyq"
      },
      "source": [
        "### The generator"
      ]
    },
    {
      "cell_type": "markdown",
      "metadata": {
        "id": "QeKTAS4icRyq"
      },
      "source": [
        "**GAN generator network**"
      ]
    },
    {
      "cell_type": "code",
      "execution_count": null,
      "metadata": {
        "id": "kWrkumNScRyq"
      },
      "outputs": [],
      "source": [
        "latent_dim = 128 # setting the dimensionality of the latent space\n",
        "\n",
        "generator = keras.Sequential( # creating the generator model\n",
        "    [\n",
        "        keras.Input(shape=(latent_dim,)), # specifying the input shape\n",
        "        layers.Dense(8 * 8 * 128), # adding the first dense layer\n",
        "        layers.Reshape((8, 8, 128)), # reshaping the output of the dense layer to feed into the convolutional layers\n",
        "        layers.Conv2DTranspose(128, kernel_size=4, strides=2, padding=\"same\"), # adding the first convolutional layer\n",
        "        layers.LeakyReLU(alpha=0.2), # adding the first activation layer\n",
        "        layers.Conv2DTranspose(256, kernel_size=4, strides=2, padding=\"same\"), # adding the second convolutional layer\n",
        "        layers.LeakyReLU(alpha=0.2), # adding the second activation layer\n",
        "        layers.Conv2DTranspose(512, kernel_size=4, strides=2, padding=\"same\"), # adding the third convolutional layer\n",
        "        layers.LeakyReLU(alpha=0.2), # adding the third activation layer\n",
        "        layers.Conv2D(3, kernel_size=5, padding=\"same\", activation=\"sigmoid\"), # adding the output layer with the sigmoid activation function\n",
        "    ],\n",
        "    name=\"generator\", # naming the model\n",
        ")"
      ]
    },
    {
      "cell_type": "code",
      "execution_count": null,
      "metadata": {
        "id": "KmrDU4O-cRyr"
      },
      "outputs": [],
      "source": [
        "generator.summary() # displaying the architecture of the generator model"
      ]
    },
    {
      "cell_type": "markdown",
      "metadata": {
        "id": "LFTxgXeKcRyr"
      },
      "source": [
        "### The adversarial network"
      ]
    },
    {
      "cell_type": "markdown",
      "metadata": {
        "id": "81UZ1TJMcRyr"
      },
      "source": [
        "**The GAN `Model`**"
      ]
    },
    {
      "cell_type": "code",
      "execution_count": null,
      "metadata": {
        "id": "KoLkA2PxcRyr"
      },
      "outputs": [],
      "source": [
        "import tensorflow as tf # importing the tensorflow library \n",
        "class GAN(keras.Model): # creating the GAN class\n",
        "    def __init__(self, discriminator, generator, latent_dim): # defining the constructor\n",
        "        super().__init__() # calling the constructor of the parent class\n",
        "        self.discriminator = discriminator # initializing the discriminator model\n",
        "        self.generator = generator # initializing the generator model\n",
        "        self.latent_dim = latent_dim # initializing the dimensionality of the latent space\n",
        "        self.d_loss_metric = keras.metrics.Mean(name=\"d_loss\") # initializing the discriminator loss metric\n",
        "        self.g_loss_metric = keras.metrics.Mean(name=\"g_loss\") # initializing the generator loss metric\n",
        "\n",
        "    def compile(self, d_optimizer, g_optimizer, loss_fn): # defining the compile method\n",
        "        super(GAN, self).compile() # calling the compile method of the parent class\n",
        "        self.d_optimizer = d_optimizer # initializing the discriminator optimizer\n",
        "        self.g_optimizer = g_optimizer # initializing the generator optimizer\n",
        "        self.loss_fn = loss_fn # initializing the loss function\n",
        "\n",
        "    @property # defining the property decorator\n",
        "    def metrics(self): # defining the metrics method\n",
        "        return [self.d_loss_metric, self.g_loss_metric] # returning the discriminator and generator loss metrics\n",
        "\n",
        "    def train_step(self, real_images): # defining the train_step method\n",
        "        batch_size = tf.shape(real_images)[0] # getting the batch size\n",
        "        random_latent_vectors = tf.random.normal( # generating random latent vectors\n",
        "            shape=(batch_size, self.latent_dim)) # specifying the shape of the latent vectors\n",
        "        generated_images = self.generator(random_latent_vectors) # generating images using the generator model\n",
        "        combined_images = tf.concat([generated_images, real_images], axis=0) # combining the generated and real images\n",
        "        labels = tf.concat( # creating the labels for the discriminator\n",
        "            [tf.ones((batch_size, 1)), tf.zeros((batch_size, 1))], # specifying the labels for the generated and real images\n",
        "            axis=0 # concatenating the labels along the rows\n",
        "        )\n",
        "        labels += 0.05 * tf.random.uniform(tf.shape(labels)) # adding noise to the labels\n",
        "\n",
        "        with tf.GradientTape() as tape: # defining the gradient tape\n",
        "            predictions = self.discriminator(combined_images) # getting the predictions of the discriminator\n",
        "            d_loss = self.loss_fn(labels, predictions) # calculating the discriminator loss\n",
        "        grads = tape.gradient(d_loss, self.discriminator.trainable_weights) # calculating the gradients\n",
        "        self.d_optimizer.apply_gradients( # applying the gradients to the discriminator model\n",
        "            zip(grads, self.discriminator.trainable_weights) # zipping the gradients and trainable weights\n",
        "        )\n",
        "\n",
        "        random_latent_vectors = tf.random.normal( # generating new random latent vectors\n",
        "            shape=(batch_size, self.latent_dim)) # specifying the shape of the latent vectors\n",
        "\n",
        "        misleading_labels = tf.zeros((batch_size, 1)) # creating misleading labels for the generator\n",
        "\n",
        "        with tf.GradientTape() as tape: # defining the gradient tape\n",
        "            predictions = self.discriminator( # getting the predictions of the discriminator\n",
        "                self.generator(random_latent_vectors)) # generating images using the generator model\n",
        "            g_loss = self.loss_fn(misleading_labels, predictions) # calculating the generator loss\n",
        "        grads = tape.gradient(g_loss, self.generator.trainable_weights) # calculating the gradients\n",
        "        self.g_optimizer.apply_gradients( # applying the gradients to the generator model\n",
        "            zip(grads, self.generator.trainable_weights)) # zipping the gradients and trainable weights\n",
        "\n",
        "        self.d_loss_metric.update_state(d_loss) # updating the discriminator loss metric\n",
        "        self.g_loss_metric.update_state(g_loss) # updating the generator loss metric\n",
        "        return {\"d_loss\": self.d_loss_metric.result(), # returning the discriminator and generator loss metrics for d_loss\n",
        "                \"g_loss\": self.g_loss_metric.result()} # returning the discriminator and generator loss metrics for g_loss"
      ]
    },
    {
      "cell_type": "markdown",
      "metadata": {
        "id": "M9l7JM69cRyr"
      },
      "source": [
        "**A callback that samples generated images during training**"
      ]
    },
    {
      "cell_type": "code",
      "execution_count": null,
      "metadata": {
        "id": "eiPb7k0QcRyr"
      },
      "outputs": [],
      "source": [
        "class GANMonitor(keras.callbacks.Callback): # creating the GANMonitor class\n",
        "    def __init__(self, num_img=3, latent_dim=128): # defining the constructor\n",
        "        self.num_img = num_img # initializing the number of images to generate\n",
        "        self.latent_dim = latent_dim # initializing the dimensionality of the latent space\n",
        "\n",
        "    def on_epoch_end(self, epoch, logs=None): # defining the on_epoch_end method\n",
        "        random_latent_vectors = tf.random.normal(shape=(self.num_img, self.latent_dim)) # generating random latent vectors\n",
        "        generated_images = self.model.generator(random_latent_vectors) # generating images using the generator model\n",
        "        generated_images *= 255 # rescaling the images to the range [0, 255]\n",
        "        generated_images.numpy() # converting the images to a numpy array\n",
        "        for i in range(self.num_img): # iterating through the generated images\n",
        "            img = keras.utils.array_to_img(generated_images[i]) # converting the image to a PIL image\n",
        "            img.save(f\"generated_img_{epoch:03d}_{i}.png\") # saving the image"
      ]
    },
    {
      "cell_type": "markdown",
      "metadata": {
        "id": "YGZ62Ig5cRyr"
      },
      "source": [
        "**Compiling and training the GAN**"
      ]
    },
    {
      "cell_type": "code",
      "execution_count": null,
      "metadata": {
        "id": "9-zFZmVYcRyr"
      },
      "outputs": [],
      "source": [
        "epochs = 100 # setting the number of epochs\n",
        "\n",
        "gan = GAN(discriminator=discriminator, generator=generator, latent_dim=latent_dim) # creating the GAN model\n",
        "gan.compile( # compiling the GAN model\n",
        "    d_optimizer=keras.optimizers.Adam(learning_rate=0.0001), # specifying the discriminator optimizer\n",
        "    g_optimizer=keras.optimizers.Adam(learning_rate=0.0001), # specifying the generator optimizer\n",
        "    loss_fn=keras.losses.BinaryCrossentropy(), # specifying the loss function\n",
        ")\n",
        "\n",
        "gan.fit( # training the GAN model\n",
        "    dataset, epochs=epochs, callbacks=[GANMonitor(num_img=10, latent_dim=latent_dim)] # specifying the dataset, number of epochs, and callbacks \n",
        ")"
      ]
    },
    {
      "cell_type": "markdown",
      "metadata": {
        "id": "-mUoabIocRyr"
      },
      "source": [
        "### Wrapping up"
      ]
    },
    {
      "cell_type": "markdown",
      "metadata": {
        "id": "0CJNMHcrcRyr"
      },
      "source": [
        "## Summary"
      ]
    }
  ],
  "metadata": {
    "colab": {
      "name": "chapter12_part05_gans.i",
      "provenance": [],
      "toc_visible": true
    },
    "kernelspec": {
      "display_name": "Python 3",
      "language": "python",
      "name": "python3"
    },
    "language_info": {
      "codemirror_mode": {
        "name": "ipython",
        "version": 3
      },
      "file_extension": ".py",
      "mimetype": "text/x-python",
      "name": "python",
      "nbconvert_exporter": "python",
      "pygments_lexer": "ipython3",
      "version": "3.7.0"
    }
  },
  "nbformat": 4,
  "nbformat_minor": 0
}
