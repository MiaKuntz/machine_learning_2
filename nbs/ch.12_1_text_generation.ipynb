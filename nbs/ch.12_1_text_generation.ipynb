{
  "cells": [
    {
      "cell_type": "markdown",
      "metadata": {
        "id": "t4ct1B9AbYl6"
      },
      "source": [
        "This is a companion notebook for the book [Deep Learning with Python, Second Edition](https://www.manning.com/books/deep-learning-with-python-second-edition?a_aid=keras&a_bid=76564dff). For readability, it only contains runnable code blocks and section titles, and omits everything else in the book: text paragraphs, figures, and pseudocode.\n",
        "\n",
        "**If you want to be able to follow what's going on, I recommend reading the notebook side by side with your copy of the book.**\n",
        "\n",
        "This notebook was generated for TensorFlow 2.6."
      ]
    },
    {
      "cell_type": "markdown",
      "metadata": {
        "id": "hoqZoV1LbYl7"
      },
      "source": [
        "# Generative deep learning"
      ]
    },
    {
      "cell_type": "markdown",
      "metadata": {
        "id": "xhGaNl0wbYl7"
      },
      "source": [
        "## Text generation"
      ]
    },
    {
      "cell_type": "markdown",
      "metadata": {
        "id": "lPvfEdyqbYl8"
      },
      "source": [
        "### A brief history of generative deep learning for sequence generation"
      ]
    },
    {
      "cell_type": "markdown",
      "metadata": {
        "id": "Ml2G8hEEbYl8"
      },
      "source": [
        "### How do you generate sequence data?"
      ]
    },
    {
      "cell_type": "markdown",
      "metadata": {
        "id": "GO9SuMRobYl8"
      },
      "source": [
        "### The importance of the sampling strategy"
      ]
    },
    {
      "cell_type": "markdown",
      "metadata": {
        "id": "_hFsN4EsbYl8"
      },
      "source": [
        "**Reweighting a probability distribution to a different temperature**"
      ]
    },
    {
      "cell_type": "code",
      "execution_count": null,
      "metadata": {
        "id": "ddQ33pkCbYl8"
      },
      "outputs": [],
      "source": [
        "import numpy as np # importing numpy library for numerical operations\n",
        "def reweight_distribution(original_distribution, temperature=0.5): # defining a function reweight_distribution with two arguments original_distribution and temperature with default value 0.5 \n",
        "    distribution = np.log(original_distribution) / temperature # calculating the log of the original distribution and dividing it by the temperature \n",
        "    distribution = np.exp(distribution) # calculating the exponential of the distribution\n",
        "    return distribution / np.sum(distribution) # returning the distribution divided by the sum of the distribution"
      ]
    },
    {
      "cell_type": "markdown",
      "metadata": {
        "id": "JKuZ_kZWbYl9"
      },
      "source": [
        "### Implementing text generation with Keras"
      ]
    },
    {
      "cell_type": "markdown",
      "metadata": {
        "id": "GpP5wG43bYl9"
      },
      "source": [
        "#### Preparing the data"
      ]
    },
    {
      "cell_type": "markdown",
      "metadata": {
        "id": "N2G5yNpJbYl9"
      },
      "source": [
        "**Downloading and uncompressing the IMDB movie reviews dataset**"
      ]
    },
    {
      "cell_type": "code",
      "execution_count": null,
      "metadata": {
        "id": "X1KWZw8LbYl9"
      },
      "outputs": [],
      "source": [
        "!wget https://ai.stanford.edu/~amaas/data/sentiment/aclImdb_v1.tar.gz # downloading the dataset from the given URL\n",
        "!tar -xf aclImdb_v1.tar.gz # extracting the dataset"
      ]
    },
    {
      "cell_type": "markdown",
      "metadata": {
        "id": "OtwmOSdCbYl9"
      },
      "source": [
        "**Creating a dataset from text files (one file = one sample)**"
      ]
    },
    {
      "cell_type": "code",
      "execution_count": null,
      "metadata": {
        "id": "maH-dR54bYl-"
      },
      "outputs": [],
      "source": [
        "import tensorflow as tf # importing tensorflow library\n",
        "from tensorflow import keras # importing keras from tensorflow library\n",
        "dataset = keras.utils.text_dataset_from_directory( # creating a dataset from the given directory\n",
        "    directory=\"aclImdb\", label_mode=None, batch_size=256) # setting the directory, label_mode and batch_size\n",
        "dataset = dataset.map(lambda x: tf.strings.regex_replace(x, \"<br />\", \" \")) # mapping the dataset to replace \"<br />\" with \" \""
      ]
    },
    {
      "cell_type": "markdown",
      "metadata": {
        "id": "Lw1bmfknbYl-"
      },
      "source": [
        "**Preparing a `TextVectorization` layer**"
      ]
    },
    {
      "cell_type": "code",
      "execution_count": null,
      "metadata": {
        "id": "Zf_IdwKKbYl-"
      },
      "outputs": [],
      "source": [
        "from tensorflow.keras.layers import TextVectorization # importing TextVectorization from keras.layers\n",
        " \n",
        "sequence_length = 100 # setting the sequence_length to 100\n",
        "vocab_size = 15000 # setting the vocab_size to 15000\n",
        "text_vectorization = TextVectorization( # creating a TextVectorization object\n",
        "    max_tokens=vocab_size, # setting the max_tokens to vocab_size\n",
        "    output_mode=\"int\", # setting the output_mode to \"int\"\n",
        "    output_sequence_length=sequence_length, # setting the output_sequence_length to sequence_length\n",
        ")\n",
        "text_vectorization.adapt(dataset) # adapting the text_vectorization to the dataset"
      ]
    },
    {
      "cell_type": "markdown",
      "metadata": {
        "id": "q_wKXkktbYl-"
      },
      "source": [
        "**Setting up a language modeling dataset**"
      ]
    },
    {
      "cell_type": "code",
      "execution_count": null,
      "metadata": {
        "id": "G2O-5FJhbYl-"
      },
      "outputs": [],
      "source": [
        "def prepare_lm_dataset(text_batch): # defining a function prepare_lm_dataset with text_batch as argument\n",
        "    vectorized_sequences = text_vectorization(text_batch) # vectorizing the sequences\n",
        "    x = vectorized_sequences[:, :-1] # setting x to vectorized_sequences excluding the last element\n",
        "    y = vectorized_sequences[:, 1:] # setting y to vectorized_sequences excluding the first element\n",
        "    return x, y # returning x and y\n",
        "\n",
        "lm_dataset = dataset.map(prepare_lm_dataset, num_parallel_calls=4) # mapping the dataset to prepare_lm_dataset with 4 parallel calls"
      ]
    },
    {
      "cell_type": "markdown",
      "metadata": {
        "id": "yA_6JR5sbYl-"
      },
      "source": [
        "#### A Transformer-based sequence-to-sequence model"
      ]
    },
    {
      "cell_type": "code",
      "execution_count": null,
      "metadata": {
        "id": "Evb1B92lbYl-"
      },
      "outputs": [],
      "source": [
        "import tensorflow as tf # importing tensorflow library\n",
        "from tensorflow.keras import layers # importing layers from keras\n",
        "\n",
        "class PositionalEmbedding(layers.Layer): # creating a class PositionalEmbedding\n",
        "    def __init__(self, sequence_length, input_dim, output_dim, **kwargs): # defining the constructor with sequence_length, input_dim, output_dim and kwargs as arguments\n",
        "        super().__init__(**kwargs) # calling the constructor of the parent class\n",
        "        self.token_embeddings = layers.Embedding( # creating a token_embeddings layer\n",
        "            input_dim=input_dim, output_dim=output_dim) # setting the input_dim and output_dim\n",
        "        self.position_embeddings = layers.Embedding( # creating a position_embeddings layer\n",
        "            input_dim=sequence_length, output_dim=output_dim) # setting the input_dim and output_dim\n",
        "        self.sequence_length = sequence_length # setting the sequence_length\n",
        "        self.input_dim = input_dim # setting the input_dim\n",
        "        self.output_dim = output_dim # setting the output_dim\n",
        "\n",
        "    def call(self, inputs): # defining the call method with inputs as argument\n",
        "        length = tf.shape(inputs)[-1] # setting length to the last element of the shape of inputs\n",
        "        positions = tf.range(start=0, limit=length, delta=1) # creating a range of positions\n",
        "        embedded_tokens = self.token_embeddings(inputs) # embedding the tokens\n",
        "        embedded_positions = self.position_embeddings(positions) # embedding the positions\n",
        "        return embedded_tokens + embedded_positions # returning the sum of embedded_tokens and embedded_positions\n",
        "\n",
        "    def compute_mask(self, inputs, mask=None): # defining the compute_mask method with inputs and mask as arguments\n",
        "        return tf.math.not_equal(inputs, 0) # returning the not equal of inputs and 0\n",
        "\n",
        "    def get_config(self): # defining the get_config method\n",
        "        config = super(PositionalEmbedding, self).get_config() # getting the config of the parent class\n",
        "        config.update({ # updating the config\n",
        "            \"output_dim\": self.output_dim, # setting the output_dim\n",
        "            \"sequence_length\": self.sequence_length, # setting the sequence_length\n",
        "            \"input_dim\": self.input_dim, # setting the input_dim\n",
        "        })\n",
        "        return config # returning the config\n",
        "\n",
        "class TransformerDecoder(layers.Layer): # creating a class TransformerDecoder\n",
        "    def __init__(self, embed_dim, dense_dim, num_heads, **kwargs): # defining the constructor with embed_dim, dense_dim, num_heads and kwargs as arguments\n",
        "        super().__init__(**kwargs) # calling the constructor of the parent class\n",
        "        self.embed_dim = embed_dim # setting the embed_dim\n",
        "        self.dense_dim = dense_dim # setting the dense_dim\n",
        "        self.num_heads = num_heads # setting the num_heads\n",
        "        self.attention_1 = layers.MultiHeadAttention( # creating an attention_1 layer\n",
        "          num_heads=num_heads, key_dim=embed_dim) # setting the num_heads and key_dim\n",
        "        self.attention_2 = layers.MultiHeadAttention( # creating an attention_2 layer\n",
        "          num_heads=num_heads, key_dim=embed_dim) # setting the num_heads and key_dim\n",
        "        self.dense_proj = keras.Sequential( # creating a dense_proj layer\n",
        "            [layers.Dense(dense_dim, activation=\"relu\"), # setting the activation function to \"relu\"\n",
        "             layers.Dense(embed_dim),] # creating a dense layer with embed_dim\n",
        "        ) \n",
        "        self.layernorm_1 = layers.LayerNormalization() # creating a layernorm_1 layer\n",
        "        self.layernorm_2 = layers.LayerNormalization() # creating a layernorm_2 layer\n",
        "        self.layernorm_3 = layers.LayerNormalization() # creating a layernorm_3 layer\n",
        "        self.supports_masking = True # setting supports_masking to True\n",
        "\n",
        "    def get_config(self): # defining the get_config method\n",
        "        config = super(TransformerDecoder, self).get_config() # getting the config of the parent class\n",
        "        config.update({ # updating the config\n",
        "            \"embed_dim\": self.embed_dim, # setting the embed_dim\n",
        "            \"num_heads\": self.num_heads, # setting the num_heads\n",
        "            \"dense_dim\": self.dense_dim, # setting the dense_dim\n",
        "        })\n",
        "        return config # returning the config\n",
        "\n",
        "    def get_causal_attention_mask(self, inputs): # defining the get_causal_attention_mask method with inputs as argument\n",
        "        input_shape = tf.shape(inputs) # setting input_shape to the shape of inputs\n",
        "        batch_size, sequence_length = input_shape[0], input_shape[1] # setting batch_size and sequence_length to the first and second elements of input_shape\n",
        "        i = tf.range(sequence_length)[:, tf.newaxis] # creating a range of sequence_length\n",
        "        j = tf.range(sequence_length) # creating a range of sequence_length\n",
        "        mask = tf.cast(i >= j, dtype=\"int32\") # casting i greater than or equal to j to int32 dtype \n",
        "        mask = tf.reshape(mask, (1, input_shape[1], input_shape[1])) # reshaping the mask to (1, input_shape[1], input_shape[1])\n",
        "        mult = tf.concat( # concatenating the tensors along the first axis \n",
        "            [tf.expand_dims(batch_size, -1), # expanding the batch_size along the last axis\n",
        "             tf.constant([1, 1], dtype=tf.int32)], axis=0) # creating a constant tensor with shape [1, 1] and dtype int32\n",
        "        return tf.tile(mask, mult) # returning the tiled mask\n",
        "\n",
        "    def call(self, inputs, encoder_outputs, mask=None): # defining the call method with inputs, encoder_outputs and mask as arguments\n",
        "        causal_mask = self.get_causal_attention_mask(inputs) # getting the causal_attention_mask\n",
        "        if mask is not None: # checking if mask is not None\n",
        "            padding_mask = tf.cast( # casting the mask to int32 dtype\n",
        "                mask[:, tf.newaxis, :], dtype=\"int32\") # setting the dtype to int32\n",
        "            padding_mask = tf.minimum(padding_mask, causal_mask) # setting padding_mask to the minimum of padding_mask and causal_mask\n",
        "        else: # if mask is None\n",
        "            padding_mask = mask # setting padding_mask to mask\n",
        "        attention_output_1 = self.attention_1( # setting attention_output_1 to the output of attention_1\n",
        "            query=inputs, # setting the query to inputs\n",
        "            value=inputs, # setting the value to inputs\n",
        "            key=inputs, # setting the key to inputs\n",
        "            attention_mask=causal_mask) # setting the attention_mask to causal_mask\n",
        "        attention_output_1 = self.layernorm_1(inputs + attention_output_1) # normalizing the sum of inputs and attention_output_1\n",
        "        attention_output_2 = self.attention_2( # setting attention_output_2 to the output of attention_2\n",
        "            query=attention_output_1, # setting the query to attention_output_1\n",
        "            value=encoder_outputs, # setting the value to encoder_outputs\n",
        "            key=encoder_outputs, # setting the key to encoder_outputs\n",
        "            attention_mask=padding_mask, # setting the attention_mask to padding_mask\n",
        "        )\n",
        "        attention_output_2 = self.layernorm_2( # normalizing the sum of attention_output_1 and attention_output_2\n",
        "            attention_output_1 + attention_output_2) # setting the attention_output_2 to the sum of attention_output_1 and attention_output_2\n",
        "        proj_output = self.dense_proj(attention_output_2) # setting proj_output to the output of dense_proj\n",
        "        return self.layernorm_3(attention_output_2 + proj_output) # returning the sum of attention_output_2 and proj_output"
      ]
    },
    {
      "cell_type": "markdown",
      "metadata": {
        "id": "wsMyNT4abYl_"
      },
      "source": [
        "**A simple Transformer-based language model**"
      ]
    },
    {
      "cell_type": "code",
      "execution_count": null,
      "metadata": {
        "id": "dEzKUL9YbYl_"
      },
      "outputs": [],
      "source": [
        "from tensorflow.keras import layers # importing layers from keras\n",
        "embed_dim = 256 # setting the embed_dim to 256\n",
        "latent_dim = 2048 # setting the latent_dim to 2048\n",
        "num_heads = 2 # setting the num_heads to 2\n",
        "\n",
        "inputs = keras.Input(shape=(None,), dtype=\"int64\") # creating an input layer\n",
        "x = PositionalEmbedding(sequence_length, vocab_size, embed_dim)(inputs) # creating a PositionalEmbedding layer with sequence_length, vocab_size and embed_dim as arguments (these are the positional embeddings)\n",
        "x = TransformerDecoder(embed_dim, latent_dim, num_heads)(x, x) # creating a TransformerDecoder layer with embed_dim, latent_dim and num_heads as arguments (these are the decoder layers)\n",
        "outputs = layers.Dense(vocab_size, activation=\"softmax\")(x) # creating a dense layer with vocab_size and softmax activation function as arguments (these are the outputs)\n",
        "model = keras.Model(inputs, outputs) # creating a model with inputs and outputs\n",
        "model.compile(loss=\"sparse_categorical_crossentropy\", optimizer=\"rmsprop\") # compiling the model with loss function and optimizer "
      ]
    },
    {
      "cell_type": "markdown",
      "metadata": {
        "id": "k853uGxcbYl_"
      },
      "source": [
        "### A text-generation callback with variable-temperature sampling"
      ]
    },
    {
      "cell_type": "markdown",
      "metadata": {
        "id": "8nC3wIMObYl_"
      },
      "source": [
        "**The text-generation callback**"
      ]
    },
    {
      "cell_type": "code",
      "execution_count": null,
      "metadata": {
        "id": "WVIyw8x-bYl_"
      },
      "outputs": [],
      "source": [
        "import numpy as np # importing numpy library\n",
        "\n",
        "tokens_index = dict(enumerate(text_vectorization.get_vocabulary())) # creating a dictionary with the index of the tokens as keys and the tokens as values \n",
        "\n",
        "def sample_next(predictions, temperature=1.0): # defining a function sample_next with predictions and temperature as arguments with default value 1.0\n",
        "    predictions = np.asarray(predictions).astype(\"float64\") # converting the predictions to an array of float64 dtype\n",
        "    predictions = np.log(predictions) / temperature # calculating the log of the predictions and dividing it by the temperature\n",
        "    exp_preds = np.exp(predictions) # calculating the exponential of the predictions\n",
        "    predictions = exp_preds / np.sum(exp_preds) # normalizing the predictions\n",
        "    probas = np.random.multinomial(1, predictions, 1) # generating a random sample from the multinomial distribution\n",
        "    return np.argmax(probas) # returning the index of the maximum value of probas\n",
        " \n",
        "class TextGenerator(keras.callbacks.Callback): # creating a class TextGenerator\n",
        "    # defining the constructor with prompt, generate_length, model_input_length, temperatures and print_freq as arguments\n",
        "    def __init__(self,\n",
        "                 prompt,\n",
        "                 generate_length,\n",
        "                 model_input_length,\n",
        "                 temperatures=(1.,),\n",
        "                 print_freq=1):\n",
        "        self.prompt = prompt # setting the prompt\n",
        "        self.generate_length = generate_length # setting the generate_length\n",
        "        self.model_input_length = model_input_length # setting the model_input_length\n",
        "        self.temperatures = temperatures # setting the temperatures\n",
        "        self.print_freq = print_freq # setting the print_freq\n",
        "        vectorized_prompt = text_vectorization([prompt])[0].numpy() # vectorizing the prompt\n",
        "        self.prompt_length = np.nonzero(vectorized_prompt == 0)[0][0] # setting the prompt_length to the index of the first zero in vectorized_prompt\n",
        "\n",
        "    def on_epoch_end(self, epoch, logs=None): # defining the on_epoch_end method with epoch and logs as arguments\n",
        "        if (epoch + 1) % self.print_freq != 0: # checking if the epoch is not divisible by print_freq \n",
        "            return # returning \n",
        "        for temperature in self.temperatures: # iterating through the temperatures \n",
        "            print(\"== Generating with temperature\", temperature) # printing the temperature \n",
        "            sentence = self.prompt # setting the sentence to the prompt\n",
        "            for i in range(self.generate_length): # iterating through the generate_length\n",
        "                tokenized_sentence = text_vectorization([sentence]) # vectorizing the sentence\n",
        "                predictions = self.model(tokenized_sentence) # getting the predictions from the model\n",
        "                next_token = sample_next( # sampling the next token\n",
        "                    predictions[0, self.prompt_length - 1 + i, :] # setting the predictions\n",
        "                )\n",
        "                sampled_token = tokens_index[next_token] # getting the sampled token\n",
        "                sentence += \" \" + sampled_token # adding the sampled token to the sentence\n",
        "            print(sentence) # printing the sentence\n",
        "\n",
        "prompt = \"This movie\" # setting the prompt\n",
        "text_gen_callback = TextGenerator( # creating a TextGenerator object\n",
        "    prompt, # setting the prompt \n",
        "    generate_length=50, # setting the generate_length to 50\n",
        "    model_input_length=sequence_length, # setting the model_input_length to sequence_length\n",
        "    temperatures=(0.2, 0.5, 0.7, 1., 1.5)) # setting the temperatures"
      ]
    },
    {
      "cell_type": "markdown",
      "metadata": {
        "id": "dCHVNnh-bYl_"
      },
      "source": [
        "**Fitting the language model**"
      ]
    },
    {
      "cell_type": "code",
      "execution_count": null,
      "metadata": {
        "id": "9eoyAuf6bYl_"
      },
      "outputs": [],
      "source": [
        "model.fit(lm_dataset, epochs=200, callbacks=[text_gen_callback]) # fitting the model with lm_dataset and text_gen_callback for 200 epochs "
      ]
    },
    {
      "cell_type": "markdown",
      "metadata": {
        "id": "2rM9ZSfwbYl_"
      },
      "source": [
        "### Wrapping up"
      ]
    }
  ],
  "metadata": {
    "colab": {
      "name": "chapter12_part01_text-generation.i",
      "provenance": [],
      "toc_visible": true
    },
    "kernelspec": {
      "display_name": "Python 3",
      "language": "python",
      "name": "python3"
    },
    "language_info": {
      "codemirror_mode": {
        "name": "ipython",
        "version": 3
      },
      "file_extension": ".py",
      "mimetype": "text/x-python",
      "name": "python",
      "nbconvert_exporter": "python",
      "pygments_lexer": "ipython3",
      "version": "3.7.0"
    }
  },
  "nbformat": 4,
  "nbformat_minor": 0
}
