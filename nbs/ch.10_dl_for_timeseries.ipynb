{
  "cells": [
    {
      "cell_type": "markdown",
      "metadata": {
        "id": "nCsOk6JYWQ1m"
      },
      "source": [
        "This is a companion notebook for the book [Deep Learning with Python, Second Edition](https://www.manning.com/books/deep-learning-with-python-second-edition?a_aid=keras&a_bid=76564dff). For readability, it only contains runnable code blocks and section titles, and omits everything else in the book: text paragraphs, figures, and pseudocode.\n",
        "\n",
        "**If you want to be able to follow what's going on, I recommend reading the notebook side by side with your copy of the book.**\n",
        "\n",
        "This notebook was generated for TensorFlow 2.6."
      ]
    },
    {
      "cell_type": "markdown",
      "metadata": {
        "id": "aHIAaKm6WQ1o"
      },
      "source": [
        "# Deep learning for timeseries"
      ]
    },
    {
      "cell_type": "markdown",
      "metadata": {
        "id": "Sdfn_OlcWQ1o"
      },
      "source": [
        "## Different kinds of timeseries tasks"
      ]
    },
    {
      "cell_type": "markdown",
      "metadata": {
        "id": "UBq1FmUzWQ1o"
      },
      "source": [
        "## A temperature-forecasting example"
      ]
    },
    {
      "cell_type": "code",
      "execution_count": null,
      "metadata": {
        "id": "2sg7_JnIWQ1o"
      },
      "outputs": [],
      "source": [
        "!wget https://s3.amazonaws.com/keras-datasets/jena_climate_2009_2016.csv.zip # importing the dataset\n",
        "!unzip jena_climate_2009_2016.csv.zip # unzipping the dataset"
      ]
    },
    {
      "cell_type": "markdown",
      "metadata": {
        "id": "fu0cs8cCWQ1p"
      },
      "source": [
        "**Inspecting the data of the Jena weather dataset**"
      ]
    },
    {
      "cell_type": "code",
      "execution_count": null,
      "metadata": {
        "id": "aEsTRlqRWQ1p"
      },
      "outputs": [],
      "source": [
        "import os # importing the os module\n",
        "fname = os.path.join(\"jena_climate_2009_2016.csv\") # joining the file name with the dataset \n",
        "\n",
        "with open(fname) as f: # opening the file \n",
        "    data = f.read() # reading the file\n",
        "\n",
        "lines = data.split(\"\\n\") # splitting the data by new line \n",
        "header = lines[0].split(\",\") # splitting the header by comma\n",
        "lines = lines[1:] # removing the header from the data\n",
        "print(header) # printing the header\n",
        "print(len(lines)) # printing the length of the data"
      ]
    },
    {
      "cell_type": "markdown",
      "metadata": {
        "id": "-XuSj4-8WQ1p"
      },
      "source": [
        "**Parsing the data**"
      ]
    },
    {
      "cell_type": "code",
      "execution_count": null,
      "metadata": {
        "id": "mfvHvFEAWQ1p"
      },
      "outputs": [],
      "source": [
        "import numpy as np # importing the numpy module\n",
        "temperature = np.zeros((len(lines),)) # creating a numpy array of zeros\n",
        "raw_data = np.zeros((len(lines), len(header) - 1)) # creating a numpy array of zeros\n",
        "for i, line in enumerate(lines): # iterating through the data\n",
        "    values = [float(x) for x in line.split(\",\")[1:]] # splitting the data by comma and converting it to float\n",
        "    temperature[i] = values[1] # assigning the temperature to the values\n",
        "    raw_data[i, :] = values[:] # assigning the values to the raw data"
      ]
    },
    {
      "cell_type": "markdown",
      "metadata": {
        "id": "RXzxR73BWQ1p"
      },
      "source": [
        "**Plotting the temperature timeseries**"
      ]
    },
    {
      "cell_type": "code",
      "execution_count": null,
      "metadata": {
        "id": "907WF90YWQ1p"
      },
      "outputs": [],
      "source": [
        "from matplotlib import pyplot as plt # importing the pyplot module\n",
        "plt.plot(range(len(temperature)), temperature) # plotting the temperature"
      ]
    },
    {
      "cell_type": "markdown",
      "metadata": {
        "id": "v5sz2bYAWQ1p"
      },
      "source": [
        "**Plotting the first 10 days of the temperature timeseries**"
      ]
    },
    {
      "cell_type": "code",
      "execution_count": null,
      "metadata": {
        "id": "RWZRyYFlWQ1q"
      },
      "outputs": [],
      "source": [
        "plt.plot(range(1440), temperature[:1440]) # plotting the temperature for the first 1440 data points"
      ]
    },
    {
      "cell_type": "markdown",
      "metadata": {
        "id": "N6Ms9M5FWQ1q"
      },
      "source": [
        "**Computing the number of samples we'll use for each data split**"
      ]
    },
    {
      "cell_type": "code",
      "execution_count": null,
      "metadata": {
        "id": "S_RPMckVWQ1q"
      },
      "outputs": [],
      "source": [
        "num_train_samples = int(0.5 * len(raw_data)) # calculating the number of training samples\n",
        "num_val_samples = int(0.25 * len(raw_data)) # calculating the number of validation samples\n",
        "num_test_samples = len(raw_data) - num_train_samples - num_val_samples # calculating the number of test samples\n",
        "print(\"num_train_samples:\", num_train_samples) # printing the number of training samples\n",
        "print(\"num_val_samples:\", num_val_samples) # printing the number of validation samples\n",
        "print(\"num_test_samples:\", num_test_samples) # printing the number of test samples"
      ]
    },
    {
      "cell_type": "markdown",
      "metadata": {
        "id": "aByWPy69WQ1q"
      },
      "source": [
        "### Preparing the data"
      ]
    },
    {
      "cell_type": "markdown",
      "metadata": {
        "id": "u5HJnt4YWQ1q"
      },
      "source": [
        "**Normalizing the data**"
      ]
    },
    {
      "cell_type": "code",
      "execution_count": null,
      "metadata": {
        "id": "T9DZpBSrWQ1q"
      },
      "outputs": [],
      "source": [
        "mean = raw_data[:num_train_samples].mean(axis=0) # calculating the mean\n",
        "raw_data -= mean # subtracting the mean from the raw data\n",
        "std = raw_data[:num_train_samples].std(axis=0) # calculating the standard deviation\n",
        "raw_data /= std # dividing the raw data by the standard deviation"
      ]
    },
    {
      "cell_type": "code",
      "execution_count": null,
      "metadata": {
        "id": "jyRTuPv-WQ1q"
      },
      "outputs": [],
      "source": [
        "import numpy as np # importing the numpy module\n",
        "from tensorflow import keras # importing the keras module\n",
        "int_sequence = np.arange(10) # creating an integer sequence\n",
        "dummy_dataset = keras.utils.timeseries_dataset_from_array( # creating a dummy dataset\n",
        "    data=int_sequence[:-3], # assigning the data to the integer sequence except the last 3 elements \n",
        "    targets=int_sequence[3:], # assigning the targets to the integer sequence except the first 3 elements\n",
        "    sequence_length=3, # setting the sequence length to 3\n",
        "    batch_size=2, # setting the batch size to 2\n",
        ")\n",
        "\n",
        "for inputs, targets in dummy_dataset: # iterating through the dummy dataset\n",
        "    for i in range(inputs.shape[0]): # iterating through the inputs shape at index 0 \n",
        "        print([int(x) for x in inputs[i]], int(targets[i])) # printing the inputs and targets"
      ]
    },
    {
      "cell_type": "markdown",
      "metadata": {
        "id": "-4Wxl226WQ1q"
      },
      "source": [
        "**Instantiating datasets for training, validation, and testing**"
      ]
    },
    {
      "cell_type": "code",
      "execution_count": null,
      "metadata": {
        "id": "niL-XQbWWQ1r"
      },
      "outputs": [],
      "source": [
        "sampling_rate = 6 # setting the sampling rate to 6\n",
        "sequence_length = 120 # setting the sequence length to 120\n",
        "delay = sampling_rate * (sequence_length + 24 - 1) # calculating the delay by multiplying the sampling rate with the sequence length and 24 minus 1\n",
        "batch_size = 256 # setting the batch size to 256\n",
        "\n",
        "train_dataset = keras.utils.timeseries_dataset_from_array( # creating the training dataset \n",
        "    raw_data[:-delay], # assigning the raw data except the delay\n",
        "    targets=temperature[delay:], # assigning the temperature except the delay\n",
        "    sampling_rate=sampling_rate, # assigning the sampling rate\n",
        "    sequence_length=sequence_length, # assigning the sequence length\n",
        "    shuffle=True, # shuffling the data\n",
        "    batch_size=batch_size, # assigning the batch size\n",
        "    start_index=0, # setting the start index to 0\n",
        "    end_index=num_train_samples) # setting the end index to the number of training samples\n",
        "\n",
        "val_dataset = keras.utils.timeseries_dataset_from_array( # creating the validation dataset\n",
        "    raw_data[:-delay], # assigning the raw data except the delay\n",
        "    targets=temperature[delay:], # assigning the temperature except the delay\n",
        "    sampling_rate=sampling_rate, # assigning the sampling rate\n",
        "    sequence_length=sequence_length, # assigning the sequence length\n",
        "    shuffle=True, # shuffling the data\n",
        "    batch_size=batch_size, # assigning the batch size\n",
        "    start_index=num_train_samples, # setting the start index to the number of training samples\n",
        "    end_index=num_train_samples + num_val_samples) # setting the end index to the number of training samples plus the number of validation samples\n",
        "\n",
        "test_dataset = keras.utils.timeseries_dataset_from_array( # creating the test dataset\n",
        "    raw_data[:-delay], # assigning the raw data except the delay\n",
        "    targets=temperature[delay:], # assigning the temperature except the delay\n",
        "    sampling_rate=sampling_rate, # assigning the sampling rate\n",
        "    sequence_length=sequence_length, # assigning the sequence length\n",
        "    shuffle=True, # shuffling the data\n",
        "    batch_size=batch_size, # assigning the batch size\n",
        "    start_index=num_train_samples + num_val_samples) # setting the start index to the number of training samples plus the number of validation samples"
      ]
    },
    {
      "cell_type": "markdown",
      "metadata": {
        "id": "yml5siA-WQ1r"
      },
      "source": [
        "**Inspecting the output of one of our datasets**"
      ]
    },
    {
      "cell_type": "code",
      "execution_count": null,
      "metadata": {
        "id": "iFONgp3EWQ1r"
      },
      "outputs": [],
      "source": [
        "for samples, targets in train_dataset: # iterating through the training dataset\n",
        "    print(\"samples shape:\", samples.shape) # printing the samples shape\n",
        "    print(\"targets shape:\", targets.shape) # printing the targets shape\n",
        "    break # breaking the loop after the first iteration, which means only the first batch is printed"
      ]
    },
    {
      "cell_type": "markdown",
      "metadata": {
        "id": "5WEDk4P7WQ1r"
      },
      "source": [
        "### A common-sense, non-machine-learning baseline"
      ]
    },
    {
      "cell_type": "markdown",
      "metadata": {
        "id": "7WKW1IVEWQ1r"
      },
      "source": [
        "**Computing the common-sense baseline MAE**"
      ]
    },
    {
      "cell_type": "code",
      "execution_count": null,
      "metadata": {
        "id": "gzS1-2UcWQ1r"
      },
      "outputs": [],
      "source": [
        "def evaluate_naive_method(dataset): # defining the evaluate naive method\n",
        "    total_abs_err = 0. # setting the total absolute error to 0\n",
        "    samples_seen = 0 # setting the samples seen to 0\n",
        "    for samples, targets in dataset: # iterating through the dataset\n",
        "        preds = samples[:, -1, 1] * std[1] + mean[1] # calculating the predictions\n",
        "        total_abs_err += np.sum(np.abs(preds - targets)) # calculating the total absolute error\n",
        "        samples_seen += samples.shape[0] # incrementing the samples seen by the shape of the samples at index 0\n",
        "    return total_abs_err / samples_seen # returning the total absolute error divided by the samples seen\n",
        "\n",
        "print(f\"Validation MAE: {evaluate_naive_method(val_dataset):.2f}\") # printing the validation MAE \n",
        "print(f\"Test MAE: {evaluate_naive_method(test_dataset):.2f}\") # printing the test MAE"
      ]
    },
    {
      "cell_type": "markdown",
      "metadata": {
        "id": "ikncmpL0WQ1r"
      },
      "source": [
        "### Let's try a basic machine-learning model"
      ]
    },
    {
      "cell_type": "markdown",
      "metadata": {
        "id": "8D8fvxKHWQ1r"
      },
      "source": [
        "**Training and evaluating a densely connected model**"
      ]
    },
    {
      "cell_type": "code",
      "execution_count": null,
      "metadata": {
        "id": "JSE2uPMqWQ1r"
      },
      "outputs": [],
      "source": [
        "from tensorflow import keras # importing the keras module\n",
        "from tensorflow.keras import layers # importing the layers module\n",
        "\n",
        "inputs = keras.Input(shape=(sequence_length, raw_data.shape[-1])) # creating the input layer with the shape of the sequence length and the raw data shape at index -1\n",
        "x = layers.Flatten()(inputs) # flattening the inputs\n",
        "x = layers.Dense(16, activation=\"relu\")(x) # adding a dense layer with 16 units and relu activation\n",
        "outputs = layers.Dense(1)(x) # adding a dense layer with 1 unit\n",
        "model = keras.Model(inputs, outputs) # creating the model\n",
        "\n",
        "callbacks = [ # creating the callbacks\n",
        "    keras.callbacks.ModelCheckpoint(\"jena_dense.keras\", # saving the model to jena_dense.keras\n",
        "                                    save_best_only=True) # saving the best model only based on the validation loss\n",
        "]\n",
        "model.compile(optimizer=\"rmsprop\", loss=\"mse\", metrics=[\"mae\"]) # compiling the model with rmsprop optimizer, mse loss, and mae metric \n",
        "history = model.fit(train_dataset, # training the model\n",
        "                    epochs=10, # setting the number of epochs to 10\n",
        "                    validation_data=val_dataset, # setting the validation data\n",
        "                    callbacks=callbacks) # setting the callbacks\n",
        "\n",
        "model = keras.models.load_model(\"jena_dense.keras\") # loading the model\n",
        "print(f\"Test MAE: {model.evaluate(test_dataset)[1]:.2f}\") # printing the test MAE"
      ]
    },
    {
      "cell_type": "markdown",
      "metadata": {
        "id": "OfNycKbWWQ1r"
      },
      "source": [
        "**Plotting results**"
      ]
    },
    {
      "cell_type": "code",
      "execution_count": null,
      "metadata": {
        "id": "Wp64MQHeWQ1s"
      },
      "outputs": [],
      "source": [
        "import matplotlib.pyplot as plt # importing the pyplot module\n",
        "loss = history.history[\"mae\"] # getting the MAE\n",
        "val_loss = history.history[\"val_mae\"] # getting the validation MAE\n",
        "epochs = range(1, len(loss) + 1) # getting the epochs by adding 1 to the length of the loss \n",
        "plt.figure() # creating a figure\n",
        "plt.plot(epochs, loss, \"bo\", label=\"Training MAE\") # plotting the training MAE\n",
        "plt.plot(epochs, val_loss, \"b\", label=\"Validation MAE\") # plotting the validation MAE\n",
        "plt.title(\"Training and validation MAE\") # setting the title\n",
        "plt.legend() # adding the legend\n",
        "plt.show() # showing the plot"
      ]
    },
    {
      "cell_type": "markdown",
      "metadata": {
        "id": "Xx2gU64eWQ1s"
      },
      "source": [
        "### Let's try a 1D convolutional model"
      ]
    },
    {
      "cell_type": "code",
      "execution_count": null,
      "metadata": {
        "id": "MMJCslEgWQ1s"
      },
      "outputs": [],
      "source": [
        "inputs = keras.Input(shape=(sequence_length, raw_data.shape[-1])) # creating the input layer with the shape of the sequence length and the raw data shape at index -1\n",
        "x = layers.Conv1D(8, 24, activation=\"relu\")(inputs) # adding a 1D convolutional layer with 8 filters, 24 kernel size, and relu activation\n",
        "x = layers.MaxPooling1D(2)(x) # adding a 1D max pooling layer with 2 pool size\n",
        "x = layers.Conv1D(8, 12, activation=\"relu\")(x) # adding a 1D convolutional layer with 8 filters, 12 kernel size, and relu activation\n",
        "x = layers.MaxPooling1D(2)(x) # adding a 1D max pooling layer with 2 pool size\n",
        "x = layers.Conv1D(8, 6, activation=\"relu\")(x) # adding a 1D convolutional layer with 8 filters, 6 kernel size, and relu activation\n",
        "x = layers.GlobalAveragePooling1D()(x) # adding a global average pooling layer\n",
        "outputs = layers.Dense(1)(x) # adding a dense layer with 1 unit\n",
        "model = keras.Model(inputs, outputs) # creating the model\n",
        "\n",
        "callbacks = [ # creating the callbacks\n",
        "    keras.callbacks.ModelCheckpoint(\"jena_conv.keras\", # saving the model to jena_conv.keras\n",
        "                                    save_best_only=True) # saving the best model only based on the validation loss\n",
        "]\n",
        "model.compile(optimizer=\"rmsprop\", loss=\"mse\", metrics=[\"mae\"]) # compiling the model with rmsprop optimizer, mse loss, and mae metric\n",
        "history = model.fit(train_dataset, # training the model\n",
        "                    epochs=10, # setting the number of epochs to 10\n",
        "                    validation_data=val_dataset, # setting the validation data\n",
        "                    callbacks=callbacks) # setting the callbacks\n",
        "\n",
        "model = keras.models.load_model(\"jena_conv.keras\") # loading the model\n",
        "print(f\"Test MAE: {model.evaluate(test_dataset)[1]:.2f}\") # printing the test MAE"
      ]
    },
    {
      "cell_type": "markdown",
      "metadata": {
        "id": "IA0Pi9KZWQ1s"
      },
      "source": [
        "### A first recurrent baseline"
      ]
    },
    {
      "cell_type": "markdown",
      "metadata": {
        "id": "U1kKLXJjWQ1s"
      },
      "source": [
        "**A simple LSTM-based model**"
      ]
    },
    {
      "cell_type": "code",
      "execution_count": null,
      "metadata": {
        "id": "j1cpZG8zWQ1s"
      },
      "outputs": [],
      "source": [
        "inputs = keras.Input(shape=(sequence_length, raw_data.shape[-1])) # creating the input layer with the shape of the sequence length and the raw data shape at index -1\n",
        "x = layers.LSTM(16)(inputs) # adding an LSTM layer with 16 units \n",
        "outputs = layers.Dense(1)(x) # adding a dense layer with 1 unit    \n",
        "model = keras.Model(inputs, outputs) # creating the model\n",
        "\n",
        "callbacks = [ # creating the callbacks\n",
        "    keras.callbacks.ModelCheckpoint(\"jena_lstm.keras\", # saving the model to jena_lstm.keras\n",
        "                                    save_best_only=True) # saving the best model only based on the validation loss\n",
        "]\n",
        "model.compile(optimizer=\"rmsprop\", loss=\"mse\", metrics=[\"mae\"]) # compiling the model with rmsprop optimizer, mse loss, and mae metric\n",
        "history = model.fit(train_dataset, # training the model\n",
        "                    epochs=10, # setting the number of epochs to 10\n",
        "                    validation_data=val_dataset, # setting the validation data\n",
        "                    callbacks=callbacks) # setting the callbacks\n",
        "\n",
        "model = keras.models.load_model(\"jena_lstm.keras\") # loading the model\n",
        "print(f\"Test MAE: {model.evaluate(test_dataset)[1]:.2f}\") # printing the test MAE"
      ]
    },
    {
      "cell_type": "markdown",
      "metadata": {
        "id": "TmGs01zpWQ1s"
      },
      "source": [
        "## Understanding recurrent neural networks"
      ]
    },
    {
      "cell_type": "markdown",
      "metadata": {
        "id": "rrHwWgL7WQ1t"
      },
      "source": [
        "**NumPy implementation of a simple RNN**"
      ]
    },
    {
      "cell_type": "code",
      "execution_count": null,
      "metadata": {
        "id": "EaCC_qJvWQ1t"
      },
      "outputs": [],
      "source": [
        "import numpy as np # importing the numpy module\n",
        "timesteps = 100 # setting the timesteps to 100\n",
        "input_features = 32 # setting the input features to 32\n",
        "output_features = 64 # setting the output features to 64\n",
        "inputs = np.random.random((timesteps, input_features)) # creating random inputs based on the timesteps and input features\n",
        "state_t = np.zeros((output_features,)) # creating a zero state based on the output features\n",
        "W = np.random.random((output_features, input_features)) # creating random weights based on the output features and input features\n",
        "U = np.random.random((output_features, output_features)) # creating random weights based on the output features and output features\n",
        "b = np.random.random((output_features,)) # creating random biases based on the output features\n",
        "successive_outputs = [] # creating an empty list\n",
        "for input_t in inputs: # iterating through the inputs\n",
        "    output_t = np.tanh(np.dot(W, input_t) + np.dot(U, state_t) + b) # calculating the output based on the input, state, and biases by using the tanh activation function\n",
        "    successive_outputs.append(output_t) # appending the output to the successive outputs\n",
        "    state_t = output_t # updating the state to the output \n",
        "final_output_sequence = np.stack(successive_outputs, axis=0) # stacking the successive outputs along the 0 axis "
      ]
    },
    {
      "cell_type": "markdown",
      "metadata": {
        "id": "jVqkJjRNWQ1t"
      },
      "source": [
        "### A recurrent layer in Keras"
      ]
    },
    {
      "cell_type": "markdown",
      "metadata": {
        "id": "JfTlXj2GWQ1t"
      },
      "source": [
        "**An RNN layer that can process sequences of any length**"
      ]
    },
    {
      "cell_type": "code",
      "execution_count": null,
      "metadata": {
        "id": "Yujs2lfCWQ1t"
      },
      "outputs": [],
      "source": [
        "num_features = 14 # setting the number of features to 14\n",
        "inputs = keras.Input(shape=(None, num_features)) # creating the input layer with the shape of None and the number of features\n",
        "outputs = layers.SimpleRNN(16)(inputs) # adding a simple RNN layer with 16 units"
      ]
    },
    {
      "cell_type": "markdown",
      "metadata": {
        "id": "_zOiE6ARWQ1u"
      },
      "source": [
        "**An RNN layer that returns only its last output step**"
      ]
    },
    {
      "cell_type": "code",
      "execution_count": null,
      "metadata": {
        "id": "a1OHmq2gWQ1u"
      },
      "outputs": [],
      "source": [
        "num_features = 14 # setting the number of features to 14\n",
        "steps = 120 # setting the steps to 120\n",
        "inputs = keras.Input(shape=(steps, num_features)) # creating the input layer with the shape of steps and the number of features\n",
        "outputs = layers.SimpleRNN(16, return_sequences=False)(inputs) # adding a simple RNN layer with 16 units and return sequences set to False\n",
        "print(outputs.shape) # printing the outputs shape"
      ]
    },
    {
      "cell_type": "markdown",
      "metadata": {
        "id": "1gpjQDrUWQ1u"
      },
      "source": [
        "**An RNN layer that returns its full output sequence**"
      ]
    },
    {
      "cell_type": "code",
      "execution_count": null,
      "metadata": {
        "id": "PwDt-01XWQ1u"
      },
      "outputs": [],
      "source": [
        "num_features = 14 # setting the number of features to 14\n",
        "steps = 120 # setting the steps to 120\n",
        "inputs = keras.Input(shape=(steps, num_features)) # creating the input layer with the shape of steps and the number of features\n",
        "outputs = layers.SimpleRNN(16, return_sequences=True)(inputs) # adding a simple RNN layer with 16 units and return sequences set to True\n",
        "print(outputs.shape) # printing the outputs shape"
      ]
    },
    {
      "cell_type": "markdown",
      "metadata": {
        "id": "4b7Ok39hWQ1u"
      },
      "source": [
        "**Stacking RNN layers**"
      ]
    },
    {
      "cell_type": "code",
      "execution_count": null,
      "metadata": {
        "id": "TuY8YPYuWQ1u"
      },
      "outputs": [],
      "source": [
        "inputs = keras.Input(shape=(steps, num_features)) # creating the input layer with the shape of steps and the number of features\n",
        "x = layers.SimpleRNN(16, return_sequences=True)(inputs) # adding a simple RNN layer with 16 units and return sequences set to True\n",
        "x = layers.SimpleRNN(16, return_sequences=True)(x) # adding a simple RNN layer with 16 units and return sequences set to True\n",
        "outputs = layers.SimpleRNN(16)(x) # adding a simple RNN layer with 16 units"
      ]
    },
    {
      "cell_type": "markdown",
      "metadata": {
        "id": "xBaaMcyFWQ1v"
      },
      "source": [
        "## Advanced use of recurrent neural networks"
      ]
    },
    {
      "cell_type": "markdown",
      "metadata": {
        "id": "cKMzXvRqWQ1v"
      },
      "source": [
        "### Using recurrent dropout to fight overfitting"
      ]
    },
    {
      "cell_type": "markdown",
      "metadata": {
        "id": "LHZxZvRmWQ1v"
      },
      "source": [
        "**Training and evaluating a dropout-regularized LSTM**"
      ]
    },
    {
      "cell_type": "code",
      "execution_count": null,
      "metadata": {
        "id": "NlAw6xCXWQ1v"
      },
      "outputs": [],
      "source": [
        "inputs = keras.Input(shape=(sequence_length, raw_data.shape[-1])) # creating the input layer with the shape of the sequence length and the raw data shape at index -1\n",
        "x = layers.LSTM(32, recurrent_dropout=0.25)(inputs) # adding an LSTM layer with 32 units and recurrent dropout set to 0.25\n",
        "x = layers.Dropout(0.5)(x) # adding a dropout layer with 0.5 dropout rate\n",
        "outputs = layers.Dense(1)(x) # adding a dense layer with 1 unit\n",
        "model = keras.Model(inputs, outputs) # creating the model\n",
        "\n",
        "callbacks = [ # creating the callbacks\n",
        "    keras.callbacks.ModelCheckpoint(\"jena_lstm_dropout.keras\", # saving the model to jena_lstm_dropout.keras\n",
        "                                    save_best_only=True) # saving the best model only based on the validation loss\n",
        "]\n",
        "model.compile(optimizer=\"rmsprop\", loss=\"mse\", metrics=[\"mae\"]) # compiling the model with rmsprop optimizer, mse loss, and mae metric\n",
        "history = model.fit(train_dataset, # training the model\n",
        "                    epochs=50, # setting the number of epochs to 50\n",
        "                    validation_data=val_dataset, # setting the validation data\n",
        "                    callbacks=callbacks) # setting the callbacks"
      ]
    },
    {
      "cell_type": "code",
      "execution_count": null,
      "metadata": {
        "id": "zoe0rOUOWQ1v"
      },
      "outputs": [],
      "source": [
        "inputs = keras.Input(shape=(sequence_length, num_features)) # creating the input layer with the shape of the sequence length and the number of features\n",
        "x = layers.LSTM(32, recurrent_dropout=0.2, unroll=True)(inputs) # adding an LSTM layer with 32 units, recurrent dropout set to 0.2, and unroll set to True"
      ]
    },
    {
      "cell_type": "markdown",
      "metadata": {
        "id": "vYvR5aR1WQ1v"
      },
      "source": [
        "### Stacking recurrent layers"
      ]
    },
    {
      "cell_type": "markdown",
      "metadata": {
        "id": "EOX208TrWQ1v"
      },
      "source": [
        "**Training and evaluating a dropout-regularized, stacked GRU model**"
      ]
    },
    {
      "cell_type": "code",
      "execution_count": null,
      "metadata": {
        "id": "389iZ_5vWQ1v"
      },
      "outputs": [],
      "source": [
        "inputs = keras.Input(shape=(sequence_length, raw_data.shape[-1])) # creating the input layer with the shape of the sequence length and the raw data shape at index -1\n",
        "x = layers.GRU(32, recurrent_dropout=0.5, return_sequences=True)(inputs) # adding a GRU layer with 32 units, recurrent dropout set to 0.5, and return sequences set to True\n",
        "x = layers.GRU(32, recurrent_dropout=0.5)(x) # adding a GRU layer with 32 units and recurrent dropout set to 0.5\n",
        "x = layers.Dropout(0.5)(x) # adding a dropout layer with 0.5 dropout rate\n",
        "outputs = layers.Dense(1)(x) # adding a dense layer with 1 unit\n",
        "model = keras.Model(inputs, outputs) # creating the model\n",
        "\n",
        "callbacks = [ # creating the callbacks\n",
        "    keras.callbacks.ModelCheckpoint(\"jena_stacked_gru_dropout.keras\", # saving the model to jena_stacked_gru_dropout.keras\n",
        "                                    save_best_only=True) # saving the best model only based on the validation loss\n",
        "]\n",
        "model.compile(optimizer=\"rmsprop\", loss=\"mse\", metrics=[\"mae\"]) # compiling the model with rmsprop optimizer, mse loss, and mae metric\n",
        "history = model.fit(train_dataset, # training the model\n",
        "                    epochs=50, # setting the number of epochs to 50\n",
        "                    validation_data=val_dataset, # setting the validation data\n",
        "                    callbacks=callbacks) # setting the callbacks\n",
        "model = keras.models.load_model(\"jena_stacked_gru_dropout.keras\") # loading the model\n",
        "print(f\"Test MAE: {model.evaluate(test_dataset)[1]:.2f}\") # printing the test MAE"
      ]
    },
    {
      "cell_type": "markdown",
      "metadata": {
        "id": "U5PfF18nWQ1v"
      },
      "source": [
        "### Using bidirectional RNNs"
      ]
    },
    {
      "cell_type": "markdown",
      "metadata": {
        "id": "IA4ELGLJWQ1v"
      },
      "source": [
        "**Training and evaluating a bidirectional LSTM**"
      ]
    },
    {
      "cell_type": "code",
      "execution_count": null,
      "metadata": {
        "id": "xzp3vm0jWQ1v"
      },
      "outputs": [],
      "source": [
        "inputs = keras.Input(shape=(sequence_length, raw_data.shape[-1])) # creating the input layer with the shape of the sequence length and the raw data shape at index -1\n",
        "x = layers.Bidirectional(layers.LSTM(16))(inputs) # adding a bidirectional LSTM layer with 16 units\n",
        "outputs = layers.Dense(1)(x) # adding a dense layer with 1 unit\n",
        "model = keras.Model(inputs, outputs) # creating the model\n",
        "\n",
        "model.compile(optimizer=\"rmsprop\", loss=\"mse\", metrics=[\"mae\"]) # compiling the model with rmsprop optimizer, mse loss, and mae metric\n",
        "history = model.fit(train_dataset, # training the model\n",
        "                    epochs=10, # setting the number of epochs to 10\n",
        "                    validation_data=val_dataset) # setting the validation data"
      ]
    },
    {
      "cell_type": "markdown",
      "metadata": {
        "id": "q1ZjCYlAWQ1v"
      },
      "source": [
        "### Going even further"
      ]
    },
    {
      "cell_type": "markdown",
      "metadata": {
        "id": "plambVH5WQ1v"
      },
      "source": [
        "## Summary"
      ]
    }
  ],
  "metadata": {
    "colab": {
      "name": "chapter10_dl-for-timeseries.i",
      "provenance": [],
      "toc_visible": true
    },
    "kernelspec": {
      "display_name": "Python 3",
      "language": "python",
      "name": "python3"
    },
    "language_info": {
      "codemirror_mode": {
        "name": "ipython",
        "version": 3
      },
      "file_extension": ".py",
      "mimetype": "text/x-python",
      "name": "python",
      "nbconvert_exporter": "python",
      "pygments_lexer": "ipython3",
      "version": "3.7.0"
    }
  },
  "nbformat": 4,
  "nbformat_minor": 0
}
