{
  "cells": [
    {
      "cell_type": "markdown",
      "metadata": {
        "id": "WOIQJhR-70d8"
      },
      "source": [
        "This is a companion notebook for the book [Deep Learning with Python, Second Edition](https://www.manning.com/books/deep-learning-with-python-second-edition?a_aid=keras&a_bid=76564dff). For readability, it only contains runnable code blocks and section titles, and omits everything else in the book: text paragraphs, figures, and pseudocode.\n",
        "\n",
        "**If you want to be able to follow what's going on, I recommend reading the notebook side by side with your copy of the book.**\n",
        "\n",
        "This notebook was generated for TensorFlow 2.6."
      ]
    },
    {
      "cell_type": "markdown",
      "metadata": {
        "id": "3eZP-Z3C70d9"
      },
      "source": [
        "# Getting started with neural networks: Classification and regression"
      ]
    },
    {
      "cell_type": "markdown",
      "metadata": {
        "id": "Yd6Z4vbS70d-"
      },
      "source": [
        "## Classifying movie reviews: A binary classification example"
      ]
    },
    {
      "cell_type": "markdown",
      "metadata": {
        "id": "FTkfWnRX70d-"
      },
      "source": [
        "### The IMDB dataset"
      ]
    },
    {
      "cell_type": "markdown",
      "metadata": {
        "id": "TpfHK0Gj70d-"
      },
      "source": [
        "**Loading the IMDB dataset**"
      ]
    },
    {
      "cell_type": "code",
      "execution_count": 1,
      "metadata": {
        "id": "EyZc0etk70d_"
      },
      "outputs": [],
      "source": [
        "from tensorflow.keras.datasets import imdb # import the imdb dataset from keras library \n",
        "(train_data, train_labels), (test_data, test_labels) = imdb.load_data( # loading the dataset into train and test data and labels \n",
        "    num_words=10000) # including only the top 10,000 most frequently occurring words in the training data"
      ]
    },
    {
      "cell_type": "code",
      "execution_count": 2,
      "metadata": {
        "id": "paZ-vuOr70d_"
      },
      "outputs": [
        {
          "data": {
            "text/plain": [
              "[1,\n",
              " 14,\n",
              " 22,\n",
              " 16,\n",
              " 43,\n",
              " 530,\n",
              " 973,\n",
              " 1622,\n",
              " 1385,\n",
              " 65,\n",
              " 458,\n",
              " 4468,\n",
              " 66,\n",
              " 3941,\n",
              " 4,\n",
              " 173,\n",
              " 36,\n",
              " 256,\n",
              " 5,\n",
              " 25,\n",
              " 100,\n",
              " 43,\n",
              " 838,\n",
              " 112,\n",
              " 50,\n",
              " 670,\n",
              " 2,\n",
              " 9,\n",
              " 35,\n",
              " 480,\n",
              " 284,\n",
              " 5,\n",
              " 150,\n",
              " 4,\n",
              " 172,\n",
              " 112,\n",
              " 167,\n",
              " 2,\n",
              " 336,\n",
              " 385,\n",
              " 39,\n",
              " 4,\n",
              " 172,\n",
              " 4536,\n",
              " 1111,\n",
              " 17,\n",
              " 546,\n",
              " 38,\n",
              " 13,\n",
              " 447,\n",
              " 4,\n",
              " 192,\n",
              " 50,\n",
              " 16,\n",
              " 6,\n",
              " 147,\n",
              " 2025,\n",
              " 19,\n",
              " 14,\n",
              " 22,\n",
              " 4,\n",
              " 1920,\n",
              " 4613,\n",
              " 469,\n",
              " 4,\n",
              " 22,\n",
              " 71,\n",
              " 87,\n",
              " 12,\n",
              " 16,\n",
              " 43,\n",
              " 530,\n",
              " 38,\n",
              " 76,\n",
              " 15,\n",
              " 13,\n",
              " 1247,\n",
              " 4,\n",
              " 22,\n",
              " 17,\n",
              " 515,\n",
              " 17,\n",
              " 12,\n",
              " 16,\n",
              " 626,\n",
              " 18,\n",
              " 2,\n",
              " 5,\n",
              " 62,\n",
              " 386,\n",
              " 12,\n",
              " 8,\n",
              " 316,\n",
              " 8,\n",
              " 106,\n",
              " 5,\n",
              " 4,\n",
              " 2223,\n",
              " 5244,\n",
              " 16,\n",
              " 480,\n",
              " 66,\n",
              " 3785,\n",
              " 33,\n",
              " 4,\n",
              " 130,\n",
              " 12,\n",
              " 16,\n",
              " 38,\n",
              " 619,\n",
              " 5,\n",
              " 25,\n",
              " 124,\n",
              " 51,\n",
              " 36,\n",
              " 135,\n",
              " 48,\n",
              " 25,\n",
              " 1415,\n",
              " 33,\n",
              " 6,\n",
              " 22,\n",
              " 12,\n",
              " 215,\n",
              " 28,\n",
              " 77,\n",
              " 52,\n",
              " 5,\n",
              " 14,\n",
              " 407,\n",
              " 16,\n",
              " 82,\n",
              " 2,\n",
              " 8,\n",
              " 4,\n",
              " 107,\n",
              " 117,\n",
              " 5952,\n",
              " 15,\n",
              " 256,\n",
              " 4,\n",
              " 2,\n",
              " 7,\n",
              " 3766,\n",
              " 5,\n",
              " 723,\n",
              " 36,\n",
              " 71,\n",
              " 43,\n",
              " 530,\n",
              " 476,\n",
              " 26,\n",
              " 400,\n",
              " 317,\n",
              " 46,\n",
              " 7,\n",
              " 4,\n",
              " 2,\n",
              " 1029,\n",
              " 13,\n",
              " 104,\n",
              " 88,\n",
              " 4,\n",
              " 381,\n",
              " 15,\n",
              " 297,\n",
              " 98,\n",
              " 32,\n",
              " 2071,\n",
              " 56,\n",
              " 26,\n",
              " 141,\n",
              " 6,\n",
              " 194,\n",
              " 7486,\n",
              " 18,\n",
              " 4,\n",
              " 226,\n",
              " 22,\n",
              " 21,\n",
              " 134,\n",
              " 476,\n",
              " 26,\n",
              " 480,\n",
              " 5,\n",
              " 144,\n",
              " 30,\n",
              " 5535,\n",
              " 18,\n",
              " 51,\n",
              " 36,\n",
              " 28,\n",
              " 224,\n",
              " 92,\n",
              " 25,\n",
              " 104,\n",
              " 4,\n",
              " 226,\n",
              " 65,\n",
              " 16,\n",
              " 38,\n",
              " 1334,\n",
              " 88,\n",
              " 12,\n",
              " 16,\n",
              " 283,\n",
              " 5,\n",
              " 16,\n",
              " 4472,\n",
              " 113,\n",
              " 103,\n",
              " 32,\n",
              " 15,\n",
              " 16,\n",
              " 5345,\n",
              " 19,\n",
              " 178,\n",
              " 32]"
            ]
          },
          "execution_count": 2,
          "metadata": {},
          "output_type": "execute_result"
        }
      ],
      "source": [
        "train_data[0] # displaying the first reviews in the training data\n",
        "# The reviews are stored as a list of word indices\n",
        "# The words are indexed by their frequency in the dataset"
      ]
    },
    {
      "cell_type": "code",
      "execution_count": 3,
      "metadata": {
        "id": "Mvq2Y_WR70eA"
      },
      "outputs": [
        {
          "data": {
            "text/plain": [
              "1"
            ]
          },
          "execution_count": 3,
          "metadata": {},
          "output_type": "execute_result"
        }
      ],
      "source": [
        "train_labels[0] # displaying the first label in the training data\n",
        "# The labels are 0 for negative and 1 for positive"
      ]
    },
    {
      "cell_type": "code",
      "execution_count": 4,
      "metadata": {
        "id": "4kHa7PqC70eA"
      },
      "outputs": [
        {
          "data": {
            "text/plain": [
              "9999"
            ]
          },
          "execution_count": 4,
          "metadata": {},
          "output_type": "execute_result"
        }
      ],
      "source": [
        "max([max(sequence) for sequence in train_data]) # displaying the maximum index of the word in the training data\n",
        "# The maximum index is 9999, which means that the dataset is limited to the top 10,000 most frequently occurring words"
      ]
    },
    {
      "cell_type": "markdown",
      "metadata": {
        "id": "jSY1QKac70eA"
      },
      "source": [
        "**Decoding reviews back to text**"
      ]
    },
    {
      "cell_type": "code",
      "execution_count": 5,
      "metadata": {
        "id": "7GIdJ4hH70eB"
      },
      "outputs": [],
      "source": [
        "word_index = imdb.get_word_index() # getting the word index from the imdb dataset\n",
        "reverse_word_index = dict( # reversing the word index\n",
        "    [(value, key) for (key, value) in word_index.items()]) # reversing the word index using dictionary comprehension \n",
        "decoded_review = \" \".join( # joining the words in the review \n",
        "    [reverse_word_index.get(i - 3, \"?\") for i in train_data[0]]) # getting the words from the reversed word index and joining them using join function"
      ]
    },
    {
      "cell_type": "markdown",
      "metadata": {
        "id": "Cklm_6LL70eB"
      },
      "source": [
        "### Preparing the data"
      ]
    },
    {
      "cell_type": "markdown",
      "metadata": {
        "id": "aY43vMFt70eB"
      },
      "source": [
        "**Encoding the integer sequences via multi-hot encoding**"
      ]
    },
    {
      "cell_type": "code",
      "execution_count": 6,
      "metadata": {
        "id": "C1CEBYot70eB"
      },
      "outputs": [],
      "source": [
        "import numpy as np # importing numpy library \n",
        "def vectorize_sequences(sequences, dimension=10000): # defining a function to vectorize the sequences \n",
        "    results = np.zeros((len(sequences), dimension)) # creating an all-zero matrix of shape (len(sequences), dimension)\n",
        "    for i, sequence in enumerate(sequences): # iterating over the sequences\n",
        "        for j in sequence: # iterating over the sequence\n",
        "            results[i, j] = 1. # setting specific indices of results[i] to 1s\n",
        "    return results # returning the results\n",
        "x_train = vectorize_sequences(train_data) # vectorizing the training data\n",
        "x_test = vectorize_sequences(test_data) # vectorizing the test data"
      ]
    },
    {
      "cell_type": "code",
      "execution_count": 7,
      "metadata": {
        "id": "10-q9H5V70eC"
      },
      "outputs": [
        {
          "data": {
            "text/plain": [
              "array([0., 1., 1., ..., 0., 0., 0.])"
            ]
          },
          "execution_count": 7,
          "metadata": {},
          "output_type": "execute_result"
        }
      ],
      "source": [
        "x_train[0] # displaying the first vectorized training data"
      ]
    },
    {
      "cell_type": "code",
      "execution_count": 8,
      "metadata": {
        "id": "i8zzNSZb70eC"
      },
      "outputs": [],
      "source": [
        "y_train = np.asarray(train_labels).astype(\"float32\") # converting the training labels to numpy array\n",
        "y_test = np.asarray(test_labels).astype(\"float32\") # converting the test labels to numpy array"
      ]
    },
    {
      "cell_type": "markdown",
      "metadata": {
        "id": "T2X7IQ1x70eC"
      },
      "source": [
        "### Building your model"
      ]
    },
    {
      "cell_type": "markdown",
      "metadata": {
        "id": "TcAzdbX970eC"
      },
      "source": [
        "**Model definition**"
      ]
    },
    {
      "cell_type": "code",
      "execution_count": 9,
      "metadata": {
        "id": "K9r_lpFi70eC"
      },
      "outputs": [],
      "source": [
        "from tensorflow import keras # importing the keras library\n",
        "from tensorflow.keras import layers # importing the layers module from keras library\n",
        "\n",
        "model = keras.Sequential([ # creating a sequential model, which is a linear stack of layers\n",
        "    layers.Dense(16, activation=\"relu\"), # adding a dense layer with 16 units and relu activation function, which is the rectified linear unit\n",
        "    layers.Dense(16, activation=\"relu\"), # adding a dense layer with 16 units and relu activation function, which is the rectified linear unit\n",
        "    layers.Dense(1, activation=\"sigmoid\") # adding a dense layer with 1 unit and sigmoid activation function, which is the logistic sigmoid function\n",
        "])"
      ]
    },
    {
      "cell_type": "markdown",
      "metadata": {
        "id": "PEUmviIQ70eC"
      },
      "source": [
        "**Compiling the model**"
      ]
    },
    {
      "cell_type": "code",
      "execution_count": 10,
      "metadata": {
        "id": "Ob4ttBnZ70eC"
      },
      "outputs": [],
      "source": [
        "model.compile(optimizer=\"rmsprop\", # compiling the model with rmsprop optimizer, which is the root mean square propagation\n",
        "              loss=\"binary_crossentropy\", # compiling the model with binary_crossentropy loss function, which is the binary cross-entropy\n",
        "              metrics=[\"accuracy\"]) # compiling the model with accuracy metric, which is the accuracy rate"
      ]
    },
    {
      "cell_type": "markdown",
      "metadata": {
        "id": "YB59zlv870eD"
      },
      "source": [
        "### Validating your approach"
      ]
    },
    {
      "cell_type": "markdown",
      "metadata": {
        "id": "hWZHeRFP70eD"
      },
      "source": [
        "**Setting aside a validation set**"
      ]
    },
    {
      "cell_type": "code",
      "execution_count": 11,
      "metadata": {
        "id": "aMrNyqW570eD"
      },
      "outputs": [],
      "source": [
        "x_val = x_train[:10000] # setting the validation data  \n",
        "partial_x_train = x_train[10000:] # setting the partial training data\n",
        "y_val = y_train[:10000] # setting the validation labels\n",
        "partial_y_train = y_train[10000:] # setting the partial training labels"
      ]
    },
    {
      "cell_type": "markdown",
      "metadata": {
        "id": "1ra9tqhh70eD"
      },
      "source": [
        "**Training your model**"
      ]
    },
    {
      "cell_type": "code",
      "execution_count": 12,
      "metadata": {
        "id": "DXKakRh670eD"
      },
      "outputs": [
        {
          "name": "stdout",
          "output_type": "stream",
          "text": [
            "Epoch 1/20\n",
            "30/30 [==============================] - 1s 28ms/step - loss: 0.5083 - accuracy: 0.7942 - val_loss: 0.3881 - val_accuracy: 0.8656\n",
            "Epoch 2/20\n",
            "30/30 [==============================] - 0s 9ms/step - loss: 0.3080 - accuracy: 0.8990 - val_loss: 0.3061 - val_accuracy: 0.8856\n",
            "Epoch 3/20\n",
            "30/30 [==============================] - 0s 6ms/step - loss: 0.2239 - accuracy: 0.9267 - val_loss: 0.2797 - val_accuracy: 0.8899\n",
            "Epoch 4/20\n",
            "30/30 [==============================] - 0s 6ms/step - loss: 0.1790 - accuracy: 0.9407 - val_loss: 0.2736 - val_accuracy: 0.8885\n",
            "Epoch 5/20\n",
            "30/30 [==============================] - 0s 6ms/step - loss: 0.1442 - accuracy: 0.9535 - val_loss: 0.3029 - val_accuracy: 0.8779\n",
            "Epoch 6/20\n",
            "30/30 [==============================] - 0s 6ms/step - loss: 0.1197 - accuracy: 0.9633 - val_loss: 0.3120 - val_accuracy: 0.8787\n",
            "Epoch 7/20\n",
            "30/30 [==============================] - 0s 6ms/step - loss: 0.0985 - accuracy: 0.9699 - val_loss: 0.3091 - val_accuracy: 0.8824\n",
            "Epoch 8/20\n",
            "30/30 [==============================] - 0s 6ms/step - loss: 0.0807 - accuracy: 0.9761 - val_loss: 0.3373 - val_accuracy: 0.8780\n",
            "Epoch 9/20\n",
            "30/30 [==============================] - 0s 6ms/step - loss: 0.0673 - accuracy: 0.9802 - val_loss: 0.3606 - val_accuracy: 0.8800\n",
            "Epoch 10/20\n",
            "30/30 [==============================] - 0s 6ms/step - loss: 0.0577 - accuracy: 0.9840 - val_loss: 0.3960 - val_accuracy: 0.8734\n",
            "Epoch 11/20\n",
            "30/30 [==============================] - 0s 6ms/step - loss: 0.0469 - accuracy: 0.9886 - val_loss: 0.4177 - val_accuracy: 0.8759\n",
            "Epoch 12/20\n",
            "30/30 [==============================] - 0s 6ms/step - loss: 0.0378 - accuracy: 0.9912 - val_loss: 0.4497 - val_accuracy: 0.8703\n",
            "Epoch 13/20\n",
            "30/30 [==============================] - 0s 6ms/step - loss: 0.0319 - accuracy: 0.9928 - val_loss: 0.4747 - val_accuracy: 0.8712\n",
            "Epoch 14/20\n",
            "30/30 [==============================] - 0s 6ms/step - loss: 0.0234 - accuracy: 0.9962 - val_loss: 0.5165 - val_accuracy: 0.8720\n",
            "Epoch 15/20\n",
            "30/30 [==============================] - 0s 6ms/step - loss: 0.0204 - accuracy: 0.9962 - val_loss: 0.5474 - val_accuracy: 0.8693\n",
            "Epoch 16/20\n",
            "30/30 [==============================] - 0s 6ms/step - loss: 0.0162 - accuracy: 0.9973 - val_loss: 0.5835 - val_accuracy: 0.8672\n",
            "Epoch 17/20\n",
            "30/30 [==============================] - 0s 6ms/step - loss: 0.0144 - accuracy: 0.9979 - val_loss: 0.6255 - val_accuracy: 0.8673\n",
            "Epoch 18/20\n",
            "30/30 [==============================] - 0s 6ms/step - loss: 0.0097 - accuracy: 0.9989 - val_loss: 0.6791 - val_accuracy: 0.8641\n",
            "Epoch 19/20\n",
            "30/30 [==============================] - 0s 6ms/step - loss: 0.0062 - accuracy: 0.9997 - val_loss: 0.6882 - val_accuracy: 0.8657\n",
            "Epoch 20/20\n",
            "30/30 [==============================] - 0s 6ms/step - loss: 0.0071 - accuracy: 0.9991 - val_loss: 0.7263 - val_accuracy: 0.8634\n"
          ]
        }
      ],
      "source": [
        "history = model.fit(partial_x_train, # fitting the model to the training data and labels \n",
        "                    partial_y_train, # fitting the model to the training data and labels\n",
        "                    epochs=20, # setting the number of epochs to 20\n",
        "                    batch_size=512, # setting the batch size to 512\n",
        "                    validation_data=(x_val, y_val)) # setting the validation data and labels\n",
        "# The model is trained for 20 epochs with a batch size of 512 and a validation data of 10,000 samples\n",
        "# The training and validation loss and accuracy are displayed for each epoch\n",
        "# The training loss decreases and the training accuracy increases with each epoch\n",
        "# The validation loss should decrease and the validation accuracy should increase with each epoch"
      ]
    },
    {
      "cell_type": "code",
      "execution_count": 13,
      "metadata": {
        "id": "tPPH2_5z70eD"
      },
      "outputs": [
        {
          "data": {
            "text/plain": [
              "dict_keys(['loss', 'accuracy', 'val_loss', 'val_accuracy'])"
            ]
          },
          "execution_count": 13,
          "metadata": {},
          "output_type": "execute_result"
        }
      ],
      "source": [
        "history_dict = history.history # getting the history of the model\n",
        "history_dict.keys() # displaying the keys of the history dictionary\n",
        "# The keys are loss, accuracy, val_loss, and val_accuracy"
      ]
    },
    {
      "cell_type": "markdown",
      "metadata": {
        "id": "rnyuq0la70eD"
      },
      "source": [
        "**Plotting the training and validation loss**"
      ]
    },
    {
      "cell_type": "code",
      "execution_count": 14,
      "metadata": {
        "id": "bpxv5o6570eD"
      },
      "outputs": [
        {
          "name": "stderr",
          "output_type": "stream",
          "text": [
            "/Users/miakuntz/Library/Python/3.11/lib/python/site-packages/IPython/core/pylabtools.py:152: MatplotlibDeprecationWarning: savefig() got unexpected keyword argument \"orientation\" which is no longer supported as of 3.3 and will become an error two minor releases later\n",
            "  fig.canvas.print_figure(bytes_io, **kw)\n",
            "/Users/miakuntz/Library/Python/3.11/lib/python/site-packages/IPython/core/pylabtools.py:152: MatplotlibDeprecationWarning: savefig() got unexpected keyword argument \"facecolor\" which is no longer supported as of 3.3 and will become an error two minor releases later\n",
            "  fig.canvas.print_figure(bytes_io, **kw)\n",
            "/Users/miakuntz/Library/Python/3.11/lib/python/site-packages/IPython/core/pylabtools.py:152: MatplotlibDeprecationWarning: savefig() got unexpected keyword argument \"edgecolor\" which is no longer supported as of 3.3 and will become an error two minor releases later\n",
            "  fig.canvas.print_figure(bytes_io, **kw)\n",
            "/Users/miakuntz/Library/Python/3.11/lib/python/site-packages/IPython/core/pylabtools.py:152: MatplotlibDeprecationWarning: savefig() got unexpected keyword argument \"bbox_inches_restore\" which is no longer supported as of 3.3 and will become an error two minor releases later\n",
            "  fig.canvas.print_figure(bytes_io, **kw)\n"
          ]
        },
        {
          "data": {
            "image/png": "[encoded data removed]",
            "text/plain": [
              "<Figure size 640x480 with 1 Axes>"
            ]
          },
          "metadata": {},
          "output_type": "display_data"
        }
      ],
      "source": [
        "import matplotlib.pyplot as plt # importing the matplotlib library\n",
        "history_dict = history.history # getting the history of the model\n",
        "loss_values = history_dict[\"loss\"] # getting the loss values from the history dictionary\n",
        "val_loss_values = history_dict[\"val_loss\"] # getting the validation loss values from the history dictionary\n",
        "epochs = range(1, len(loss_values) + 1) # setting the range of epochs to the length of loss values + 1\n",
        "plt.plot(epochs, loss_values, \"bo\", label=\"Training loss\") # plotting the training loss values \n",
        "plt.plot(epochs, val_loss_values, \"b\", label=\"Validation loss\") # plotting the validation loss values \n",
        "plt.title(\"Training and validation loss\") # setting the title of the plot\n",
        "plt.xlabel(\"Epochs\") # setting the x-axis label\n",
        "plt.ylabel(\"Loss\") # setting the y-axis label\n",
        "plt.legend() # displaying the legend\n",
        "plt.show() # displaying the plot\n",
        "# The plot shows the training and validation loss values for each epoch\n",
        "# The training loss decreases with each epoch, while the validation loss decreases and then increases after a certain number of epochs\n",
        "# This indicates that the model is overfitting the training data after a certain number of epochs "
      ]
    },
    {
      "cell_type": "markdown",
      "metadata": {
        "id": "xnawEPeH70eD"
      },
      "source": [
        "**Plotting the training and validation accuracy**"
      ]
    },
    {
      "cell_type": "code",
      "execution_count": 15,
      "metadata": {
        "id": "9n4-Q2hP70eD"
      },
      "outputs": [
        {
          "data": {
            "image/png": "[encoded data removed]",
            "text/plain": [
              "<Figure size 640x480 with 1 Axes>"
            ]
          },
          "metadata": {},
          "output_type": "display_data"
        }
      ],
      "source": [
        "plt.clf() # clearing the plot\n",
        "acc = history_dict[\"accuracy\"] # getting the accuracy values from the history dictionary\n",
        "val_acc = history_dict[\"val_accuracy\"] # getting the validation accuracy values from the history dictionary\n",
        "plt.plot(epochs, acc, \"bo\", label=\"Training acc\") # plotting the training accuracy values\n",
        "plt.plot(epochs, val_acc, \"b\", label=\"Validation acc\") # plotting the validation accuracy values\n",
        "plt.title(\"Training and validation accuracy\") # setting the title of the plot\n",
        "plt.xlabel(\"Epochs\") # setting the x-axis label\n",
        "plt.ylabel(\"Accuracy\") # setting the y-axis label\n",
        "plt.legend() # displaying the legend\n",
        "plt.show() # displaying the plot\n",
        "# The plot shows the training and validation accuracy values for each epoch\n",
        "# The training accuracy increases with each epoch, while the validation accuracy increases and then decreases after a certain number of epochs\n",
        "# This indicates that the model is overfitting the training data after a certain number of epochs"
      ]
    },
    {
      "cell_type": "markdown",
      "metadata": {
        "id": "K9Ip7gx770eD"
      },
      "source": [
        "**Retraining a model from scratch**"
      ]
    },
    {
      "cell_type": "code",
      "execution_count": 16,
      "metadata": {
        "id": "2nZ2NMO870eD"
      },
      "outputs": [
        {
          "name": "stdout",
          "output_type": "stream",
          "text": [
            "Epoch 1/4\n",
            "49/49 [==============================] - 1s 5ms/step - loss: 0.4576 - accuracy: 0.8236\n",
            "Epoch 2/4\n",
            "49/49 [==============================] - 0s 4ms/step - loss: 0.2648 - accuracy: 0.9100\n",
            "Epoch 3/4\n",
            "49/49 [==============================] - 0s 4ms/step - loss: 0.2023 - accuracy: 0.9292\n",
            "Epoch 4/4\n",
            "49/49 [==============================] - 0s 4ms/step - loss: 0.1704 - accuracy: 0.9396\n",
            "782/782 [==============================] - 0s 408us/step - loss: 0.2920 - accuracy: 0.8845\n"
          ]
        }
      ],
      "source": [
        "model = keras.Sequential([ # creating a sequential model, which is a linear stack of layers\n",
        "    layers.Dense(16, activation=\"relu\"), # adding a dense layer with 16 units and relu activation function, which is the rectified linear unit\n",
        "    layers.Dense(16, activation=\"relu\"), # adding a dense layer with 16 units and relu activation function, which is the rectified linear unit\n",
        "    layers.Dense(1, activation=\"sigmoid\") # adding a dense layer with 1 unit and sigmoid activation function, which is the logistic sigmoid function\n",
        "]) \n",
        "model.compile(optimizer=\"rmsprop\", # compiling the model with rmsprop optimizer, which is the root mean square propagation\n",
        "              loss=\"binary_crossentropy\", # compiling the model with binary_crossentropy loss function, which is the binary cross-entropy\n",
        "              metrics=[\"accuracy\"]) # compiling the model with accuracy metric, which is the accuracy rate\n",
        "model.fit(x_train, y_train, epochs=4, batch_size=512) # fitting the model to the training data and labels\n",
        "results = model.evaluate(x_test, y_test) # evaluating the model on the test data and labels\n",
        "# The model is trained for 4 epochs with a batch size of 512\n",
        "# The model is evaluated on the test data and labels\n",
        "# The loss and accuracy are displayed for the test data, which is the unseen data\n",
        "# The model should have a similar accuracy on the test data as on the training data if it is not overfitting the training data\n",
        "# The loss should be low and the accuracy should be high on the test data if the model is performing well"
      ]
    },
    {
      "cell_type": "code",
      "execution_count": 17,
      "metadata": {
        "id": "FHHCLRbQ70eE"
      },
      "outputs": [
        {
          "data": {
            "text/plain": [
              "[0.291981041431427, 0.8844799995422363]"
            ]
          },
          "execution_count": 17,
          "metadata": {},
          "output_type": "execute_result"
        }
      ],
      "source": [
        "results # displaying the results of the model\n",
        "# The results are the loss and accuracy of the model on the test data\n",
        "# The loss should be low and the accuracy should be high if the model is performing well on the test data\n",
        "# In this case, the loss is 0.29 and the accuracy is 0.88, which indicates that the model is performing well on the test data"
      ]
    },
    {
      "cell_type": "markdown",
      "metadata": {
        "id": "U5Ji3AY270eE"
      },
      "source": [
        "### Using a trained model to generate predictions on new data"
      ]
    },
    {
      "cell_type": "code",
      "execution_count": 18,
      "metadata": {
        "id": "dLf9UEoq70eE"
      },
      "outputs": [
        {
          "name": "stdout",
          "output_type": "stream",
          "text": [
            "782/782 [==============================] - 0s 532us/step\n"
          ]
        },
        {
          "data": {
            "text/plain": [
              "array([[0.23425578],\n",
              "       [0.9987899 ],\n",
              "       [0.94859934],\n",
              "       ...,\n",
              "       [0.16040269],\n",
              "       [0.09589592],\n",
              "       [0.71595144]], dtype=float32)"
            ]
          },
          "execution_count": 18,
          "metadata": {},
          "output_type": "execute_result"
        }
      ],
      "source": [
        "model.predict(x_test) # predicting the test data using the model\n",
        "# The model predicts the sentiment of the test data as positive or negative\n",
        "# The predictions are probabilities between 0 and 1, where values closer to 1 indicate positive sentiment and values closer to 0 indicate negative sentiment\n",
        "# The model can be used to predict the sentiment of new reviews by vectorizing the text and passing it to the model for prediction"
      ]
    },
    {
      "cell_type": "markdown",
      "metadata": {
        "id": "WUiWgjHx70eE"
      },
      "source": [
        "### Further experiments"
      ]
    },
    {
      "cell_type": "markdown",
      "metadata": {
        "id": "dpeO8i-X70eE"
      },
      "source": [
        "### Wrapping up"
      ]
    },
    {
      "cell_type": "markdown",
      "metadata": {
        "id": "MyZ6q4-S70eE"
      },
      "source": [
        "## Classifying newswires: A multiclass classification example"
      ]
    },
    {
      "cell_type": "markdown",
      "metadata": {
        "id": "MqgzjltK70eE"
      },
      "source": [
        "### The Reuters dataset"
      ]
    },
    {
      "cell_type": "markdown",
      "metadata": {
        "id": "nv2sNvZl70eE"
      },
      "source": [
        "**Loading the Reuters dataset**"
      ]
    },
    {
      "cell_type": "code",
      "execution_count": 19,
      "metadata": {
        "id": "pvpBwKbD70eE"
      },
      "outputs": [],
      "source": [
        "from tensorflow.keras.datasets import reuters # importing the reuters dataset from keras library\n",
        "(train_data, train_labels), (test_data, test_labels) = reuters.load_data( # loading the dataset into train and test data and labels\n",
        "    num_words=10000) # including only the top 10,000 most frequently occurring words in the training data"
      ]
    },
    {
      "cell_type": "code",
      "execution_count": 20,
      "metadata": {
        "id": "ddoERCaj70eE"
      },
      "outputs": [
        {
          "data": {
            "text/plain": [
              "8982"
            ]
          },
          "execution_count": 20,
          "metadata": {},
          "output_type": "execute_result"
        }
      ],
      "source": [
        "len(train_data) # displaying the length of the training data"
      ]
    },
    {
      "cell_type": "code",
      "execution_count": 21,
      "metadata": {
        "id": "NgqIvZK170eE"
      },
      "outputs": [
        {
          "data": {
            "text/plain": [
              "2246"
            ]
          },
          "execution_count": 21,
          "metadata": {},
          "output_type": "execute_result"
        }
      ],
      "source": [
        "len(test_data) # displaying the length of the test data"
      ]
    },
    {
      "cell_type": "code",
      "execution_count": 22,
      "metadata": {
        "id": "mxE7Li1q70eF"
      },
      "outputs": [
        {
          "data": {
            "text/plain": [
              "[1,\n",
              " 245,\n",
              " 273,\n",
              " 207,\n",
              " 156,\n",
              " 53,\n",
              " 74,\n",
              " 160,\n",
              " 26,\n",
              " 14,\n",
              " 46,\n",
              " 296,\n",
              " 26,\n",
              " 39,\n",
              " 74,\n",
              " 2979,\n",
              " 3554,\n",
              " 14,\n",
              " 46,\n",
              " 4689,\n",
              " 4329,\n",
              " 86,\n",
              " 61,\n",
              " 3499,\n",
              " 4795,\n",
              " 14,\n",
              " 61,\n",
              " 451,\n",
              " 4329,\n",
              " 17,\n",
              " 12]"
            ]
          },
          "execution_count": 22,
          "metadata": {},
          "output_type": "execute_result"
        }
      ],
      "source": [
        "train_data[10] # displaying the 10th review in the training data"
      ]
    },
    {
      "cell_type": "markdown",
      "metadata": {
        "id": "R3Cy8xb370eF"
      },
      "source": [
        "**Decoding newswires back to text**"
      ]
    },
    {
      "cell_type": "code",
      "execution_count": 23,
      "metadata": {
        "id": "rWbOkRzC70eF"
      },
      "outputs": [],
      "source": [
        "word_index = reuters.get_word_index() # getting the word index from the reuters dataset\n",
        "reverse_word_index = dict([(value, key) for (key, value) in word_index.items()]) # reversing the word index using dictionary comprehension\n",
        "decoded_newswire = \" \".join([reverse_word_index.get(i - 3, \"?\") for i in train_data[0]]) # getting the words from the reversed word index and joining them using join function"
      ]
    },
    {
      "cell_type": "code",
      "execution_count": 24,
      "metadata": {
        "id": "Kk00kOKA70eF"
      },
      "outputs": [
        {
          "data": {
            "text/plain": [
              "3"
            ]
          },
          "execution_count": 24,
          "metadata": {},
          "output_type": "execute_result"
        }
      ],
      "source": [
        "train_labels[10] # displaying the 10th label in the training data"
      ]
    },
    {
      "cell_type": "markdown",
      "metadata": {
        "id": "6ESlRvU470eF"
      },
      "source": [
        "### Preparing the data"
      ]
    },
    {
      "cell_type": "markdown",
      "metadata": {
        "id": "MxTUX_vi70eF"
      },
      "source": [
        "**Encoding the input data**"
      ]
    },
    {
      "cell_type": "code",
      "execution_count": 25,
      "metadata": {
        "id": "NTpVpPH270eF"
      },
      "outputs": [],
      "source": [
        "x_train = vectorize_sequences(train_data) # vectorizing the training data\n",
        "x_test = vectorize_sequences(test_data) # vectorizing the test data"
      ]
    },
    {
      "cell_type": "markdown",
      "metadata": {
        "id": "M9tpvV8z70eF"
      },
      "source": [
        "**Encoding the labels**"
      ]
    },
    {
      "cell_type": "code",
      "execution_count": 26,
      "metadata": {
        "id": "FXwTDL0x70eF"
      },
      "outputs": [],
      "source": [
        "def to_one_hot(labels, dimension=46): # defining a function to one-hot encode the labels\n",
        "    results = np.zeros((len(labels), dimension)) # creating an all-zero matrix of shape (len(labels), dimension)\n",
        "    for i, label in enumerate(labels): # iterating over the labels\n",
        "        results[i, label] = 1. # setting specific indices of results[i] to 1s\n",
        "    return results # returning the results\n",
        "y_train = to_one_hot(train_labels) # one-hot encoding the training labels\n",
        "y_test = to_one_hot(test_labels) # one-hot encoding the test labels"
      ]
    },
    {
      "cell_type": "code",
      "execution_count": 27,
      "metadata": {
        "id": "mun7cNP370eF"
      },
      "outputs": [],
      "source": [
        "from tensorflow.keras.utils import to_categorical # importing the to_categorical function from keras library\n",
        "y_train = to_categorical(train_labels) # one-hot encoding the training labels\n",
        "y_test = to_categorical(test_labels) # one-hot encoding the test labels"
      ]
    },
    {
      "cell_type": "markdown",
      "metadata": {
        "id": "CGiRCzbs70eF"
      },
      "source": [
        "### Building your model"
      ]
    },
    {
      "cell_type": "markdown",
      "metadata": {
        "id": "iv-SJ5cq70eG"
      },
      "source": [
        "**Model definition**"
      ]
    },
    {
      "cell_type": "code",
      "execution_count": 28,
      "metadata": {
        "id": "jWzKbcnW70eG"
      },
      "outputs": [],
      "source": [
        "model = keras.Sequential([ # creating a sequential model\n",
        "    layers.Dense(64, activation=\"relu\"), # adding a dense layer with 64 units and relu activation function\n",
        "    layers.Dense(64, activation=\"relu\"), # adding a dense layer with 64 units and relu activation function\n",
        "    layers.Dense(46, activation=\"softmax\") # adding a dense layer with 46 units and softmax activation function\n",
        "])"
      ]
    },
    {
      "cell_type": "markdown",
      "metadata": {
        "id": "iOnC2wWr70eG"
      },
      "source": [
        "**Compiling the model**"
      ]
    },
    {
      "cell_type": "code",
      "execution_count": 29,
      "metadata": {
        "id": "zwW0nTvE70eG"
      },
      "outputs": [],
      "source": [
        "model.compile(optimizer=\"rmsprop\", # compiling the model with rmsprop optimizer\n",
        "              loss=\"categorical_crossentropy\", # compiling the model with categorical_crossentropy loss function\n",
        "              metrics=[\"accuracy\"]) # compiling the model with accuracy metric"
      ]
    },
    {
      "cell_type": "markdown",
      "metadata": {
        "id": "h_l1xz3k70eG"
      },
      "source": [
        "### Validating your approach"
      ]
    },
    {
      "cell_type": "markdown",
      "metadata": {
        "id": "Ve3tf_gP70eG"
      },
      "source": [
        "**Setting aside a validation set**"
      ]
    },
    {
      "cell_type": "code",
      "execution_count": 30,
      "metadata": {
        "id": "DHM3kM4570eG"
      },
      "outputs": [],
      "source": [
        "x_val = x_train[:1000] # setting the validation data to the first 1000 samples of the training data \n",
        "partial_x_train = x_train[1000:] # setting the partial training data to the rest of the training data \n",
        "y_val = y_train[:1000] # setting the validation labels to the first 1000 samples of the training labels\n",
        "partial_y_train = y_train[1000:] # setting the partial training labels to the rest of the training labels"
      ]
    },
    {
      "cell_type": "markdown",
      "metadata": {
        "id": "9xmPMOwF70eG"
      },
      "source": [
        "**Training the model**"
      ]
    },
    {
      "cell_type": "code",
      "execution_count": 31,
      "metadata": {
        "id": "tOKA7JR670eG"
      },
      "outputs": [
        {
          "name": "stdout",
          "output_type": "stream",
          "text": [
            "Epoch 1/20\n",
            "16/16 [==============================] - 1s 18ms/step - loss: 2.6808 - accuracy: 0.4861 - val_loss: 1.7840 - val_accuracy: 0.6300\n",
            "Epoch 2/20\n",
            "16/16 [==============================] - 0s 10ms/step - loss: 1.4493 - accuracy: 0.7043 - val_loss: 1.3185 - val_accuracy: 0.7110\n",
            "Epoch 3/20\n",
            "16/16 [==============================] - 0s 10ms/step - loss: 1.0542 - accuracy: 0.7741 - val_loss: 1.1656 - val_accuracy: 0.7320\n",
            "Epoch 4/20\n",
            "16/16 [==============================] - 0s 11ms/step - loss: 0.8319 - accuracy: 0.8207 - val_loss: 1.0399 - val_accuracy: 0.7790\n",
            "Epoch 5/20\n",
            "16/16 [==============================] - 0s 12ms/step - loss: 0.6587 - accuracy: 0.8587 - val_loss: 0.9650 - val_accuracy: 0.7890\n",
            "Epoch 6/20\n",
            "16/16 [==============================] - 0s 11ms/step - loss: 0.5274 - accuracy: 0.8913 - val_loss: 0.9133 - val_accuracy: 0.8170\n",
            "Epoch 7/20\n",
            "16/16 [==============================] - 0s 12ms/step - loss: 0.4202 - accuracy: 0.9124 - val_loss: 0.9031 - val_accuracy: 0.8190\n",
            "Epoch 8/20\n",
            "16/16 [==============================] - 0s 12ms/step - loss: 0.3429 - accuracy: 0.9278 - val_loss: 0.8797 - val_accuracy: 0.8100\n",
            "Epoch 9/20\n",
            "16/16 [==============================] - 0s 10ms/step - loss: 0.2811 - accuracy: 0.9391 - val_loss: 0.8728 - val_accuracy: 0.8170\n",
            "Epoch 10/20\n",
            "16/16 [==============================] - 0s 11ms/step - loss: 0.2396 - accuracy: 0.9469 - val_loss: 0.8838 - val_accuracy: 0.8290\n",
            "Epoch 11/20\n",
            "16/16 [==============================] - 0s 10ms/step - loss: 0.2035 - accuracy: 0.9493 - val_loss: 0.9207 - val_accuracy: 0.8050\n",
            "Epoch 12/20\n",
            "16/16 [==============================] - 0s 11ms/step - loss: 0.1797 - accuracy: 0.9528 - val_loss: 0.8886 - val_accuracy: 0.8250\n",
            "Epoch 13/20\n",
            "16/16 [==============================] - 0s 15ms/step - loss: 0.1588 - accuracy: 0.9543 - val_loss: 0.9024 - val_accuracy: 0.8230\n",
            "Epoch 14/20\n",
            "16/16 [==============================] - 0s 10ms/step - loss: 0.1486 - accuracy: 0.9531 - val_loss: 0.9621 - val_accuracy: 0.8110\n",
            "Epoch 15/20\n",
            "16/16 [==============================] - 0s 9ms/step - loss: 0.1370 - accuracy: 0.9572 - val_loss: 0.9345 - val_accuracy: 0.8190\n",
            "Epoch 16/20\n",
            "16/16 [==============================] - 0s 9ms/step - loss: 0.1311 - accuracy: 0.9573 - val_loss: 1.0541 - val_accuracy: 0.8160\n",
            "Epoch 17/20\n",
            "16/16 [==============================] - 0s 11ms/step - loss: 0.1239 - accuracy: 0.9574 - val_loss: 0.9659 - val_accuracy: 0.8180\n",
            "Epoch 18/20\n",
            "16/16 [==============================] - 0s 10ms/step - loss: 0.1194 - accuracy: 0.9546 - val_loss: 1.0130 - val_accuracy: 0.8080\n",
            "Epoch 19/20\n",
            "16/16 [==============================] - 0s 10ms/step - loss: 0.1104 - accuracy: 0.9590 - val_loss: 1.1328 - val_accuracy: 0.7850\n",
            "Epoch 20/20\n",
            "16/16 [==============================] - 0s 12ms/step - loss: 0.1145 - accuracy: 0.9577 - val_loss: 1.0532 - val_accuracy: 0.8060\n"
          ]
        }
      ],
      "source": [
        "history = model.fit(partial_x_train, # fitting the model to the training data and labels\n",
        "                    partial_y_train, # fitting the model to the training data and labels\n",
        "                    epochs=20, # setting the number of epochs to 20\n",
        "                    batch_size=512, # setting the batch size to 512\n",
        "                    validation_data=(x_val, y_val)) # setting the validation data and labels"
      ]
    },
    {
      "cell_type": "markdown",
      "metadata": {
        "id": "YNsGHccn70eG"
      },
      "source": [
        "**Plotting the training and validation loss**"
      ]
    },
    {
      "cell_type": "code",
      "execution_count": 32,
      "metadata": {
        "id": "HsXXQSsM70eG"
      },
      "outputs": [
        {
          "data": {
            "image/png": "[encoded data removed]",
            "text/plain": [
              "<Figure size 640x480 with 1 Axes>"
            ]
          },
          "metadata": {},
          "output_type": "display_data"
        }
      ],
      "source": [
        "loss = history.history[\"loss\"] # getting the loss values from the history dictionary\n",
        "val_loss = history.history[\"val_loss\"] # getting the validation loss values from the history dictionary\n",
        "epochs = range(1, len(loss) + 1) # setting the range of epochs to the length of loss values + 1\n",
        "plt.plot(epochs, loss, \"bo\", label=\"Training loss\") # plotting the training loss values\n",
        "plt.plot(epochs, val_loss, \"b\", label=\"Validation loss\") # plotting the validation loss values\n",
        "plt.title(\"Training and validation loss\") # setting the title of the plot\n",
        "plt.xlabel(\"Epochs\") # setting the x-axis label\n",
        "plt.ylabel(\"Loss\") # setting the y-axis label\n",
        "plt.legend() # displaying the legend\n",
        "plt.show() # displaying the plot"
      ]
    },
    {
      "cell_type": "markdown",
      "metadata": {
        "id": "2G4FOrpM70eG"
      },
      "source": [
        "**Plotting the training and validation accuracy**"
      ]
    },
    {
      "cell_type": "code",
      "execution_count": 33,
      "metadata": {
        "id": "xo5RNfdV70eG"
      },
      "outputs": [
        {
          "data": {
            "image/png": "[encoded data removed]",
            "text/plain": [
              "<Figure size 640x480 with 1 Axes>"
            ]
          },
          "metadata": {},
          "output_type": "display_data"
        }
      ],
      "source": [
        "plt.clf() # clearing the plot\n",
        "acc = history.history[\"accuracy\"] # getting the accuracy values from the history dictionary\n",
        "val_acc = history.history[\"val_accuracy\"] # getting the validation accuracy values from the history dictionary\n",
        "plt.plot(epochs, acc, \"bo\", label=\"Training accuracy\") # plotting the training accuracy values\n",
        "plt.plot(epochs, val_acc, \"b\", label=\"Validation accuracy\") # plotting the validation accuracy values\n",
        "plt.title(\"Training and validation accuracy\") # setting the title of the plot\n",
        "plt.xlabel(\"Epochs\") # setting the x-axis label\n",
        "plt.ylabel(\"Accuracy\") # setting the y-axis label\n",
        "plt.legend() # displaying the legend\n",
        "plt.show() # displaying the plot"
      ]
    },
    {
      "cell_type": "markdown",
      "metadata": {
        "id": "jN-23-fg70eH"
      },
      "source": [
        "**Retraining a model from scratch**"
      ]
    },
    {
      "cell_type": "code",
      "execution_count": 34,
      "metadata": {
        "id": "naNRC-Gs70eH"
      },
      "outputs": [
        {
          "name": "stdout",
          "output_type": "stream",
          "text": [
            "Epoch 1/9\n",
            "18/18 [==============================] - 0s 9ms/step - loss: 2.6839 - accuracy: 0.5296\n",
            "Epoch 2/9\n",
            "18/18 [==============================] - 0s 8ms/step - loss: 1.4699 - accuracy: 0.6991\n",
            "Epoch 3/9\n",
            "18/18 [==============================] - 0s 11ms/step - loss: 1.0884 - accuracy: 0.7673\n",
            "Epoch 4/9\n",
            "18/18 [==============================] - 0s 10ms/step - loss: 0.8500 - accuracy: 0.8236\n",
            "Epoch 5/9\n",
            "18/18 [==============================] - 0s 10ms/step - loss: 0.6744 - accuracy: 0.8658\n",
            "Epoch 6/9\n",
            "18/18 [==============================] - 0s 9ms/step - loss: 0.5417 - accuracy: 0.8922\n",
            "Epoch 7/9\n",
            "18/18 [==============================] - 0s 9ms/step - loss: 0.4356 - accuracy: 0.9116\n",
            "Epoch 8/9\n",
            "18/18 [==============================] - 0s 9ms/step - loss: 0.3575 - accuracy: 0.9246\n",
            "Epoch 9/9\n",
            "18/18 [==============================] - 0s 8ms/step - loss: 0.2962 - accuracy: 0.9353\n",
            "71/71 [==============================] - 0s 611us/step - loss: 0.9773 - accuracy: 0.7898\n"
          ]
        }
      ],
      "source": [
        "model = keras.Sequential([ # creating a sequential model\n",
        "  layers.Dense(64, activation=\"relu\"), # adding a dense layer with 64 units and relu activation function\n",
        "  layers.Dense(64, activation=\"relu\"), # adding a dense layer with 64 units and relu activation function\n",
        "  layers.Dense(46, activation=\"softmax\") # adding a dense layer with 46 units and softmax activation function\n",
        "])\n",
        "model.compile(optimizer=\"rmsprop\", # compiling the model with rmsprop optimizer\n",
        "              loss=\"categorical_crossentropy\", # compiling the model with categorical_crossentropy loss function\n",
        "              metrics=[\"accuracy\"]) # compiling the model with accuracy metric\n",
        "model.fit(x_train, y_train, # fitting the model to the training data and labels\n",
        "          epochs=9, # setting the number of epochs to 9\n",
        "          batch_size=512) # setting the batch size to 512\n",
        "results = model.evaluate(x_test, y_test) # evaluating the model on the test data and labels"
      ]
    },
    {
      "cell_type": "code",
      "execution_count": 35,
      "metadata": {
        "id": "6VWByOxv70eH"
      },
      "outputs": [
        {
          "data": {
            "text/plain": [
              "[0.9772723317146301, 0.7898486256599426]"
            ]
          },
          "execution_count": 35,
          "metadata": {},
          "output_type": "execute_result"
        }
      ],
      "source": [
        "results # displaying the results of the model"
      ]
    },
    {
      "cell_type": "code",
      "execution_count": 36,
      "metadata": {
        "id": "4ES-_5l_70eH"
      },
      "outputs": [
        {
          "data": {
            "text/plain": [
              "0.1829919857524488"
            ]
          },
          "execution_count": 36,
          "metadata": {},
          "output_type": "execute_result"
        }
      ],
      "source": [
        "import copy # importing the copy library \n",
        "test_labels_copy = copy.copy(test_labels) # copying the test labels\n",
        "np.random.shuffle(test_labels_copy) # shuffling the test labels\n",
        "hits_array = np.array(test_labels) == np.array(test_labels_copy) # comparing the test labels with the shuffled test labels\n",
        "hits_array.mean() # calculating the mean of the hits array"
      ]
    },
    {
      "cell_type": "markdown",
      "metadata": {
        "id": "HpMqDvkB70eH"
      },
      "source": [
        "### Generating predictions on new data"
      ]
    },
    {
      "cell_type": "code",
      "execution_count": 37,
      "metadata": {
        "id": "6W2qAzkj70eH"
      },
      "outputs": [
        {
          "name": "stdout",
          "output_type": "stream",
          "text": [
            "71/71 [==============================] - 0s 582us/step\n"
          ]
        }
      ],
      "source": [
        "predictions = model.predict(x_test) # predicting the test data using the model"
      ]
    },
    {
      "cell_type": "code",
      "execution_count": 38,
      "metadata": {
        "id": "1EizIlTx70eH"
      },
      "outputs": [
        {
          "data": {
            "text/plain": [
              "(46,)"
            ]
          },
          "execution_count": 38,
          "metadata": {},
          "output_type": "execute_result"
        }
      ],
      "source": [
        "predictions[0].shape # displaying the shape of the first prediction"
      ]
    },
    {
      "cell_type": "code",
      "execution_count": 39,
      "metadata": {
        "id": "N7QEw81F70eH"
      },
      "outputs": [
        {
          "data": {
            "text/plain": [
              "1.0"
            ]
          },
          "execution_count": 39,
          "metadata": {},
          "output_type": "execute_result"
        }
      ],
      "source": [
        "np.sum(predictions[0]) # summing the first prediction"
      ]
    },
    {
      "cell_type": "code",
      "execution_count": 40,
      "metadata": {
        "id": "iX2bvqMD70eH"
      },
      "outputs": [
        {
          "data": {
            "text/plain": [
              "3"
            ]
          },
          "execution_count": 40,
          "metadata": {},
          "output_type": "execute_result"
        }
      ],
      "source": [
        "np.argmax(predictions[0]) # getting the index of the maximum value in the first prediction"
      ]
    },
    {
      "cell_type": "markdown",
      "metadata": {
        "id": "iDXoEctt70eH"
      },
      "source": [
        "### A different way to handle the labels and the loss"
      ]
    },
    {
      "cell_type": "code",
      "execution_count": 41,
      "metadata": {
        "id": "NMGC0F-570eH"
      },
      "outputs": [],
      "source": [
        "y_train = np.array(train_labels) # converting the training labels to numpy array\n",
        "y_test = np.array(test_labels) # converting the test labels to numpy array"
      ]
    },
    {
      "cell_type": "code",
      "execution_count": 42,
      "metadata": {
        "id": "1MMzP-nF70eH"
      },
      "outputs": [],
      "source": [
        "model.compile(optimizer=\"rmsprop\", # compiling the model with rmsprop optimizer\n",
        "              loss=\"sparse_categorical_crossentropy\", # compiling the model with sparse_categorical_crossentropy loss function\n",
        "              metrics=[\"accuracy\"]) # compiling the model with accuracy metric"
      ]
    },
    {
      "cell_type": "markdown",
      "metadata": {
        "id": "r7FTTi7J70eH"
      },
      "source": [
        "### The importance of having sufficiently large intermediate layers"
      ]
    },
    {
      "cell_type": "markdown",
      "metadata": {
        "id": "V08ClqWZ70eH"
      },
      "source": [
        "**A model with an information bottleneck**"
      ]
    },
    {
      "cell_type": "code",
      "execution_count": 43,
      "metadata": {
        "id": "Bw1sZ2dB70eI"
      },
      "outputs": [
        {
          "name": "stdout",
          "output_type": "stream",
          "text": [
            "Epoch 1/20\n",
            "63/63 [==============================] - 1s 5ms/step - loss: 2.8774 - accuracy: 0.3423 - val_loss: 2.1145 - val_accuracy: 0.5020\n",
            "Epoch 2/20\n",
            "63/63 [==============================] - 0s 4ms/step - loss: 1.8329 - accuracy: 0.5406 - val_loss: 1.6842 - val_accuracy: 0.5500\n",
            "Epoch 3/20\n",
            "63/63 [==============================] - 0s 3ms/step - loss: 1.5314 - accuracy: 0.5606 - val_loss: 1.4950 - val_accuracy: 0.5950\n",
            "Epoch 4/20\n",
            "63/63 [==============================] - 0s 3ms/step - loss: 1.3037 - accuracy: 0.6427 - val_loss: 1.3651 - val_accuracy: 0.6430\n",
            "Epoch 5/20\n",
            "63/63 [==============================] - 0s 3ms/step - loss: 1.1321 - accuracy: 0.6888 - val_loss: 1.2951 - val_accuracy: 0.6600\n",
            "Epoch 6/20\n",
            "63/63 [==============================] - 0s 3ms/step - loss: 0.9982 - accuracy: 0.7433 - val_loss: 1.2470 - val_accuracy: 0.7000\n",
            "Epoch 7/20\n",
            "63/63 [==============================] - 0s 3ms/step - loss: 0.8898 - accuracy: 0.7937 - val_loss: 1.2409 - val_accuracy: 0.7240\n",
            "Epoch 8/20\n",
            "63/63 [==============================] - 0s 3ms/step - loss: 0.8041 - accuracy: 0.8108 - val_loss: 1.2639 - val_accuracy: 0.7240\n",
            "Epoch 9/20\n",
            "63/63 [==============================] - 0s 3ms/step - loss: 0.7310 - accuracy: 0.8241 - val_loss: 1.2577 - val_accuracy: 0.7300\n",
            "Epoch 10/20\n",
            "63/63 [==============================] - 0s 3ms/step - loss: 0.6722 - accuracy: 0.8341 - val_loss: 1.2981 - val_accuracy: 0.7310\n",
            "Epoch 11/20\n",
            "63/63 [==============================] - 0s 3ms/step - loss: 0.6222 - accuracy: 0.8463 - val_loss: 1.3489 - val_accuracy: 0.7280\n",
            "Epoch 12/20\n",
            "63/63 [==============================] - 0s 4ms/step - loss: 0.5822 - accuracy: 0.8543 - val_loss: 1.4079 - val_accuracy: 0.7290\n",
            "Epoch 13/20\n",
            "63/63 [==============================] - 0s 4ms/step - loss: 0.5451 - accuracy: 0.8604 - val_loss: 1.4403 - val_accuracy: 0.7270\n",
            "Epoch 14/20\n",
            "63/63 [==============================] - 0s 3ms/step - loss: 0.5159 - accuracy: 0.8675 - val_loss: 1.5437 - val_accuracy: 0.7170\n",
            "Epoch 15/20\n",
            "63/63 [==============================] - 0s 4ms/step - loss: 0.4894 - accuracy: 0.8730 - val_loss: 1.5356 - val_accuracy: 0.7280\n",
            "Epoch 16/20\n",
            "63/63 [==============================] - 0s 3ms/step - loss: 0.4625 - accuracy: 0.8761 - val_loss: 1.6105 - val_accuracy: 0.7230\n",
            "Epoch 17/20\n",
            "63/63 [==============================] - 0s 4ms/step - loss: 0.4388 - accuracy: 0.8809 - val_loss: 1.6312 - val_accuracy: 0.7300\n",
            "Epoch 18/20\n",
            "63/63 [==============================] - 0s 3ms/step - loss: 0.4201 - accuracy: 0.8845 - val_loss: 1.6724 - val_accuracy: 0.7380\n",
            "Epoch 19/20\n",
            "63/63 [==============================] - 0s 3ms/step - loss: 0.4004 - accuracy: 0.8896 - val_loss: 1.7688 - val_accuracy: 0.7310\n",
            "Epoch 20/20\n",
            "63/63 [==============================] - 0s 4ms/step - loss: 0.3841 - accuracy: 0.8953 - val_loss: 1.8229 - val_accuracy: 0.7330\n"
          ]
        },
        {
          "data": {
            "text/plain": [
              "<keras.callbacks.History at 0x28798fc90>"
            ]
          },
          "execution_count": 43,
          "metadata": {},
          "output_type": "execute_result"
        }
      ],
      "source": [
        "model = keras.Sequential([ # creating a sequential model\n",
        "    layers.Dense(64, activation=\"relu\"), # adding a dense layer with 64 units and relu activation function\n",
        "    layers.Dense(4, activation=\"relu\"), # adding a dense layer with 4 units and relu activation function\n",
        "    layers.Dense(46, activation=\"softmax\") # adding a dense layer with 46 units and softmax activation function\n",
        "])\n",
        "model.compile(optimizer=\"rmsprop\", # compiling the model with rmsprop optimizer\n",
        "              loss=\"categorical_crossentropy\", # compiling the model with categorical_crossentropy loss function\n",
        "              metrics=[\"accuracy\"]) # compiling the model with accuracy metric\n",
        "model.fit(partial_x_train, partial_y_train, # fitting the model to the training data and labels\n",
        "          epochs=20, # setting the number of epochs to 20\n",
        "          batch_size=128, # setting the batch size to 128\n",
        "          validation_data=(x_val, y_val)) # setting the validation data and labels"
      ]
    },
    {
      "cell_type": "markdown",
      "metadata": {
        "id": "JuS2NIhU70eI"
      },
      "source": [
        "### Further experiments"
      ]
    },
    {
      "cell_type": "markdown",
      "metadata": {
        "id": "yG77tB7270eI"
      },
      "source": [
        "### Wrapping up"
      ]
    },
    {
      "cell_type": "markdown",
      "metadata": {
        "id": "jY3alhsN70eI"
      },
      "source": [
        "## Predicting house prices: A regression example"
      ]
    },
    {
      "cell_type": "markdown",
      "metadata": {
        "id": "ouHZy1si70eI"
      },
      "source": [
        "### The Boston Housing Price dataset"
      ]
    },
    {
      "cell_type": "markdown",
      "metadata": {
        "id": "T6S1zQ6F70eI"
      },
      "source": [
        "**Loading the Boston housing dataset**"
      ]
    },
    {
      "cell_type": "code",
      "execution_count": 44,
      "metadata": {
        "id": "EH-SunJN70eI"
      },
      "outputs": [],
      "source": [
        "from tensorflow.keras.datasets import boston_housing # importing the boston_housing dataset from keras library\n",
        "(train_data, train_targets), (test_data, test_targets) = boston_housing.load_data() # loading the dataset into train and test data and labels"
      ]
    },
    {
      "cell_type": "code",
      "execution_count": 45,
      "metadata": {
        "id": "ujwRe9tL70eI"
      },
      "outputs": [
        {
          "data": {
            "text/plain": [
              "(404, 13)"
            ]
          },
          "execution_count": 45,
          "metadata": {},
          "output_type": "execute_result"
        }
      ],
      "source": [
        "train_data.shape # displaying the shape of the training data"
      ]
    },
    {
      "cell_type": "code",
      "execution_count": 46,
      "metadata": {
        "id": "7y_MDBEA70eI"
      },
      "outputs": [
        {
          "data": {
            "text/plain": [
              "(102, 13)"
            ]
          },
          "execution_count": 46,
          "metadata": {},
          "output_type": "execute_result"
        }
      ],
      "source": [
        "test_data.shape # displaying the shape of the test data"
      ]
    },
    {
      "cell_type": "code",
      "execution_count": 47,
      "metadata": {
        "id": "oEn6RDdD70eI"
      },
      "outputs": [
        {
          "data": {
            "text/plain": [
              "array([15.2, 42.3, 50. , 21.1, 17.7, 18.5, 11.3, 15.6, 15.6, 14.4, 12.1,\n",
              "       17.9, 23.1, 19.9, 15.7,  8.8, 50. , 22.5, 24.1, 27.5, 10.9, 30.8,\n",
              "       32.9, 24. , 18.5, 13.3, 22.9, 34.7, 16.6, 17.5, 22.3, 16.1, 14.9,\n",
              "       23.1, 34.9, 25. , 13.9, 13.1, 20.4, 20. , 15.2, 24.7, 22.2, 16.7,\n",
              "       12.7, 15.6, 18.4, 21. , 30.1, 15.1, 18.7,  9.6, 31.5, 24.8, 19.1,\n",
              "       22. , 14.5, 11. , 32. , 29.4, 20.3, 24.4, 14.6, 19.5, 14.1, 14.3,\n",
              "       15.6, 10.5,  6.3, 19.3, 19.3, 13.4, 36.4, 17.8, 13.5, 16.5,  8.3,\n",
              "       14.3, 16. , 13.4, 28.6, 43.5, 20.2, 22. , 23. , 20.7, 12.5, 48.5,\n",
              "       14.6, 13.4, 23.7, 50. , 21.7, 39.8, 38.7, 22.2, 34.9, 22.5, 31.1,\n",
              "       28.7, 46. , 41.7, 21. , 26.6, 15. , 24.4, 13.3, 21.2, 11.7, 21.7,\n",
              "       19.4, 50. , 22.8, 19.7, 24.7, 36.2, 14.2, 18.9, 18.3, 20.6, 24.6,\n",
              "       18.2,  8.7, 44. , 10.4, 13.2, 21.2, 37. , 30.7, 22.9, 20. , 19.3,\n",
              "       31.7, 32. , 23.1, 18.8, 10.9, 50. , 19.6,  5. , 14.4, 19.8, 13.8,\n",
              "       19.6, 23.9, 24.5, 25. , 19.9, 17.2, 24.6, 13.5, 26.6, 21.4, 11.9,\n",
              "       22.6, 19.6,  8.5, 23.7, 23.1, 22.4, 20.5, 23.6, 18.4, 35.2, 23.1,\n",
              "       27.9, 20.6, 23.7, 28. , 13.6, 27.1, 23.6, 20.6, 18.2, 21.7, 17.1,\n",
              "        8.4, 25.3, 13.8, 22.2, 18.4, 20.7, 31.6, 30.5, 20.3,  8.8, 19.2,\n",
              "       19.4, 23.1, 23. , 14.8, 48.8, 22.6, 33.4, 21.1, 13.6, 32.2, 13.1,\n",
              "       23.4, 18.9, 23.9, 11.8, 23.3, 22.8, 19.6, 16.7, 13.4, 22.2, 20.4,\n",
              "       21.8, 26.4, 14.9, 24.1, 23.8, 12.3, 29.1, 21. , 19.5, 23.3, 23.8,\n",
              "       17.8, 11.5, 21.7, 19.9, 25. , 33.4, 28.5, 21.4, 24.3, 27.5, 33.1,\n",
              "       16.2, 23.3, 48.3, 22.9, 22.8, 13.1, 12.7, 22.6, 15. , 15.3, 10.5,\n",
              "       24. , 18.5, 21.7, 19.5, 33.2, 23.2,  5. , 19.1, 12.7, 22.3, 10.2,\n",
              "       13.9, 16.3, 17. , 20.1, 29.9, 17.2, 37.3, 45.4, 17.8, 23.2, 29. ,\n",
              "       22. , 18. , 17.4, 34.6, 20.1, 25. , 15.6, 24.8, 28.2, 21.2, 21.4,\n",
              "       23.8, 31. , 26.2, 17.4, 37.9, 17.5, 20. ,  8.3, 23.9,  8.4, 13.8,\n",
              "        7.2, 11.7, 17.1, 21.6, 50. , 16.1, 20.4, 20.6, 21.4, 20.6, 36.5,\n",
              "        8.5, 24.8, 10.8, 21.9, 17.3, 18.9, 36.2, 14.9, 18.2, 33.3, 21.8,\n",
              "       19.7, 31.6, 24.8, 19.4, 22.8,  7.5, 44.8, 16.8, 18.7, 50. , 50. ,\n",
              "       19.5, 20.1, 50. , 17.2, 20.8, 19.3, 41.3, 20.4, 20.5, 13.8, 16.5,\n",
              "       23.9, 20.6, 31.5, 23.3, 16.8, 14. , 33.8, 36.1, 12.8, 18.3, 18.7,\n",
              "       19.1, 29. , 30.1, 50. , 50. , 22. , 11.9, 37.6, 50. , 22.7, 20.8,\n",
              "       23.5, 27.9, 50. , 19.3, 23.9, 22.6, 15.2, 21.7, 19.2, 43.8, 20.3,\n",
              "       33.2, 19.9, 22.5, 32.7, 22. , 17.1, 19. , 15. , 16.1, 25.1, 23.7,\n",
              "       28.7, 37.2, 22.6, 16.4, 25. , 29.8, 22.1, 17.4, 18.1, 30.3, 17.5,\n",
              "       24.7, 12.6, 26.5, 28.7, 13.3, 10.4, 24.4, 23. , 20. , 17.8,  7. ,\n",
              "       11.8, 24.4, 13.8, 19.4, 25.2, 19.4, 19.4, 29.1])"
            ]
          },
          "execution_count": 47,
          "metadata": {},
          "output_type": "execute_result"
        }
      ],
      "source": [
        "train_targets # displaying the training labels"
      ]
    },
    {
      "cell_type": "markdown",
      "metadata": {
        "id": "M4a7YIDX70eI"
      },
      "source": [
        "### Preparing the data"
      ]
    },
    {
      "cell_type": "markdown",
      "metadata": {
        "id": "jiL4hW_P70eI"
      },
      "source": [
        "**Normalizing the data**"
      ]
    },
    {
      "cell_type": "code",
      "execution_count": 48,
      "metadata": {
        "id": "Pd5Jst_e70eI"
      },
      "outputs": [],
      "source": [
        "mean = train_data.mean(axis=0) # calculating the mean of the training data\n",
        "train_data -= mean # subtracting the mean from the training data\n",
        "std = train_data.std(axis=0) # calculating the standard deviation of the training data \n",
        "train_data /= std # dividing the training data by the standard deviation\n",
        "test_data -= mean # subtracting the mean from the test data\n",
        "test_data /= std # dividing the test data by the standard deviation"
      ]
    },
    {
      "cell_type": "markdown",
      "metadata": {
        "id": "J3lcwfnj70eI"
      },
      "source": [
        "### Building your model"
      ]
    },
    {
      "cell_type": "markdown",
      "metadata": {
        "id": "b2TrdYby70eI"
      },
      "source": [
        "**Model definition**"
      ]
    },
    {
      "cell_type": "code",
      "execution_count": 49,
      "metadata": {
        "id": "OduyqpAk70eI"
      },
      "outputs": [],
      "source": [
        "def build_model(): # defining a function to build the model\n",
        "    model = keras.Sequential([ # creating a sequential model\n",
        "        layers.Dense(64, activation=\"relu\"), # adding a dense layer with 64 units and relu activation function\n",
        "        layers.Dense(64, activation=\"relu\"), # adding a dense layer with 64 units and relu activation function\n",
        "        layers.Dense(1) # adding a dense layer with 1 unit\n",
        "    ])\n",
        "    model.compile(optimizer=\"rmsprop\", loss=\"mse\", metrics=[\"mae\"]) # compiling the model with rmsprop optimizer, mse loss function, and mae metric\n",
        "    return model # returning the model"
      ]
    },
    {
      "cell_type": "markdown",
      "metadata": {
        "id": "20jmRLhI70eI"
      },
      "source": [
        "### Validating your approach using K-fold validation"
      ]
    },
    {
      "cell_type": "markdown",
      "metadata": {
        "id": "p8vQRzHN70eJ"
      },
      "source": [
        "**K-fold validation**"
      ]
    },
    {
      "cell_type": "code",
      "execution_count": 50,
      "metadata": {
        "id": "PY-RWRDe70eJ"
      },
      "outputs": [
        {
          "name": "stdout",
          "output_type": "stream",
          "text": [
            "Processing fold #0\n"
          ]
        },
        {
          "name": "stdout",
          "output_type": "stream",
          "text": [
            "Processing fold #1\n",
            "Processing fold #2\n",
            "Processing fold #3\n"
          ]
        }
      ],
      "source": [
        "k = 4 # setting the number of folds to 4\n",
        "num_val_samples = len(train_data) // k # setting the number of validation samples to the length of the training data divided by k \n",
        "num_epochs = 100 # setting the number of epochs to 100\n",
        "all_scores = [] # creating an empty list to store the scores\n",
        "for i in range(k): # iterating over the range of k\n",
        "    print(f\"Processing fold #{i}\") # printing the current fold number \n",
        "    val_data = train_data[i * num_val_samples: (i + 1) * num_val_samples] # setting the validation data \n",
        "    val_targets = train_targets[i * num_val_samples: (i + 1) * num_val_samples] # setting the validation labels \n",
        "    partial_train_data = np.concatenate( # concatenating the training data slices before and after the validation fold\n",
        "        [train_data[:i * num_val_samples], # concatenating the training data slices before the validation fold\n",
        "         train_data[(i + 1) * num_val_samples:]], # concatenating the training data slices after the validation fold\n",
        "        axis=0) # concatenating the training data slices along the 0 axis\n",
        "    partial_train_targets = np.concatenate( # concatenating the corresponding targets for the training data slices\n",
        "        [train_targets[:i * num_val_samples], # concatenating the corresponding targets for the training data slices before the validation fold\n",
        "         train_targets[(i + 1) * num_val_samples:]], # concatenating the corresponding targets for the training data slices after the validation fold\n",
        "        axis=0) # concatenating the corresponding targets for the training data slices along the 0 axis\n",
        "    model = build_model() # building the model\n",
        "    model.fit(partial_train_data, partial_train_targets, # fitting the model to the partial training data and labels\n",
        "              epochs=num_epochs, batch_size=16, verbose=0) # setting the number of epochs, batch size, and verbose\n",
        "    val_mse, val_mae = model.evaluate(val_data, val_targets, verbose=0) # evaluating the model on the validation data and labels\n",
        "    all_scores.append(val_mae) # appending the validation mae to the scores list"
      ]
    },
    {
      "cell_type": "code",
      "execution_count": 51,
      "metadata": {
        "id": "6JHwb20X70eJ"
      },
      "outputs": [
        {
          "data": {
            "text/plain": [
              "[1.9508979320526123,\n",
              " 2.4304089546203613,\n",
              " 2.3631339073181152,\n",
              " 2.4193570613861084]"
            ]
          },
          "execution_count": 51,
          "metadata": {},
          "output_type": "execute_result"
        }
      ],
      "source": [
        "all_scores # displaying the scores"
      ]
    },
    {
      "cell_type": "code",
      "execution_count": 52,
      "metadata": {
        "id": "npx3pvYp70eJ"
      },
      "outputs": [
        {
          "data": {
            "text/plain": [
              "2.2909494638442993"
            ]
          },
          "execution_count": 52,
          "metadata": {},
          "output_type": "execute_result"
        }
      ],
      "source": [
        "np.mean(all_scores) # calculating the mean of the scores"
      ]
    },
    {
      "cell_type": "markdown",
      "metadata": {
        "id": "XmUmAuCc70eJ"
      },
      "source": [
        "**Saving the validation logs at each fold**"
      ]
    },
    {
      "cell_type": "code",
      "execution_count": 53,
      "metadata": {
        "id": "9UcfWElJ70eJ"
      },
      "outputs": [
        {
          "name": "stdout",
          "output_type": "stream",
          "text": [
            "Processing fold #0\n",
            "Processing fold #1\n",
            "Processing fold #2\n",
            "Processing fold #3\n"
          ]
        }
      ],
      "source": [
        "num_epochs = 500 # setting the number of epochs to 500\n",
        "all_mae_histories = [] # creating an empty list to store the mae histories\n",
        "for i in range(k): # iterating over the range of k\n",
        "    print(f\"Processing fold #{i}\") # printing the current fold number\n",
        "    val_data = train_data[i * num_val_samples: (i + 1) * num_val_samples] # setting the validation data\n",
        "    val_targets = train_targets[i * num_val_samples: (i + 1) * num_val_samples] # setting the validation labels\n",
        "    partial_train_data = np.concatenate( # concatenating the training data slices before and after the validation fold\n",
        "        [train_data[:i * num_val_samples], # concatenating the training data slices before the validation fold\n",
        "         train_data[(i + 1) * num_val_samples:]], # concatenating the training data slices after the validation fold\n",
        "        axis=0) # concatenating the training data slices along the 0 axis\n",
        "    partial_train_targets = np.concatenate( # concatenating the corresponding targets for the training data slices\n",
        "        [train_targets[:i * num_val_samples], # concatenating the corresponding targets for the training data slices before the validation fold\n",
        "         train_targets[(i + 1) * num_val_samples:]], # concatenating the corresponding targets for the training data slices after the validation fold\n",
        "        axis=0) # concatenating the corresponding targets for the training data slices along the 0 axis\n",
        "    model = build_model() # building the model\n",
        "    history = model.fit(partial_train_data, partial_train_targets, # fitting the model to the partial training data and labels\n",
        "                        validation_data=(val_data, val_targets), # setting the validation data and labels\n",
        "                        epochs=num_epochs, batch_size=16, verbose=0) # setting the number of epochs, batch size, and verbose\n",
        "    mae_history = history.history[\"val_mae\"] # getting the validation mae history\n",
        "    all_mae_histories.append(mae_history) # appending the validation mae history to the mae histories list"
      ]
    },
    {
      "cell_type": "markdown",
      "metadata": {
        "id": "YGbfxUt170eJ"
      },
      "source": [
        "**Building the history of successive mean K-fold validation scores**"
      ]
    },
    {
      "cell_type": "code",
      "execution_count": 54,
      "metadata": {
        "id": "DzGY228970eJ"
      },
      "outputs": [],
      "source": [
        "average_mae_history = [ # calculating the average mae history\n",
        "    np.mean([x[i] for x in all_mae_histories]) for i in range(num_epochs)] # calculating the mean of the mae histories for each epoch"
      ]
    },
    {
      "cell_type": "markdown",
      "metadata": {
        "id": "_5dLhScQ70eJ"
      },
      "source": [
        "**Plotting validation scores**"
      ]
    },
    {
      "cell_type": "code",
      "execution_count": 55,
      "metadata": {
        "id": "6J5c3AFp70eJ"
      },
      "outputs": [
        {
          "data": {
            "image/png": "[encoded data removed]",
            "text/plain": [
              "<Figure size 640x480 with 1 Axes>"
            ]
          },
          "metadata": {},
          "output_type": "display_data"
        }
      ],
      "source": [
        "plt.plot(range(1, len(average_mae_history) + 1), average_mae_history) # plotting the average mae history\n",
        "plt.xlabel(\"Epochs\") # setting the x-axis label\n",
        "plt.ylabel(\"Validation MAE\") # setting the y-axis label\n",
        "plt.show() # displaying the plot"
      ]
    },
    {
      "cell_type": "markdown",
      "metadata": {
        "id": "E6It5MJg70eJ"
      },
      "source": [
        "**Plotting validation scores, excluding the first 10 data points**"
      ]
    },
    {
      "cell_type": "code",
      "execution_count": 56,
      "metadata": {
        "id": "ZnGV6fz770eJ"
      },
      "outputs": [
        {
          "data": {
            "image/png": "[encoded data removed]",
            "text/plain": [
              "<Figure size 640x480 with 1 Axes>"
            ]
          },
          "metadata": {},
          "output_type": "display_data"
        }
      ],
      "source": [
        "truncated_mae_history = average_mae_history[10:] # truncating the average mae history\n",
        "plt.plot(range(1, len(truncated_mae_history) + 1), truncated_mae_history) # plotting the truncated average mae history\n",
        "plt.xlabel(\"Epochs\") # setting the x-axis label\n",
        "plt.ylabel(\"Validation MAE\") # setting the y-axis label\n",
        "plt.show() # displaying the plot"
      ]
    },
    {
      "cell_type": "markdown",
      "metadata": {
        "id": "2aatYNdF70eJ"
      },
      "source": [
        "**Training the final model**"
      ]
    },
    {
      "cell_type": "code",
      "execution_count": 57,
      "metadata": {
        "id": "MVgqDtYT70eJ"
      },
      "outputs": [
        {
          "name": "stdout",
          "output_type": "stream",
          "text": [
            "4/4 [==============================] - 0s 752us/step - loss: 13.1588 - mae: 2.3461\n"
          ]
        }
      ],
      "source": [
        "model = build_model() # building the model\n",
        "model.fit(train_data, train_targets, epochs=130, batch_size=16, verbose=0) # fitting the model to the training data and labels\n",
        "test_mse_score, test_mae_score = model.evaluate(test_data, test_targets) # evaluating the model on the test data and labels"
      ]
    },
    {
      "cell_type": "code",
      "execution_count": 58,
      "metadata": {
        "id": "0dl1vrd370eJ"
      },
      "outputs": [
        {
          "data": {
            "text/plain": [
              "2.3461430072784424"
            ]
          },
          "execution_count": 58,
          "metadata": {},
          "output_type": "execute_result"
        }
      ],
      "source": [
        "test_mae_score # displaying the test mae score"
      ]
    },
    {
      "cell_type": "markdown",
      "metadata": {
        "id": "mAwIYqNz70eJ"
      },
      "source": [
        "### Generating predictions on new data"
      ]
    },
    {
      "cell_type": "code",
      "execution_count": 59,
      "metadata": {
        "id": "4lErz59z70eJ"
      },
      "outputs": [
        {
          "name": "stdout",
          "output_type": "stream",
          "text": [
            "4/4 [==============================] - 0s 1ms/step\n"
          ]
        },
        {
          "data": {
            "text/plain": [
              "array([7.919955], dtype=float32)"
            ]
          },
          "execution_count": 59,
          "metadata": {},
          "output_type": "execute_result"
        }
      ],
      "source": [
        "predictions = model.predict(test_data) # predicting the test data using the model\n",
        "predictions[0] # displaying the first prediction"
      ]
    },
    {
      "cell_type": "markdown",
      "metadata": {
        "id": "UkywKQXB70eK"
      },
      "source": [
        "### Wrapping up"
      ]
    },
    {
      "cell_type": "markdown",
      "metadata": {
        "id": "Qyi7BftP70eK"
      },
      "source": [
        "## Summary"
      ]
    }
  ],
  "metadata": {
    "colab": {
      "name": "chapter04_getting-started-with-neural-networks.i",
      "provenance": [],
      "toc_visible": true
    },
    "kernelspec": {
      "display_name": "Python 3",
      "language": "python",
      "name": "python3"
    },
    "language_info": {
      "codemirror_mode": {
        "name": "ipython",
        "version": 3
      },
      "file_extension": ".py",
      "mimetype": "text/x-python",
      "name": "python",
      "nbconvert_exporter": "python",
      "pygments_lexer": "ipython3",
      "version": "3.11.1"
    }
  },
  "nbformat": 4,
  "nbformat_minor": 0
}
