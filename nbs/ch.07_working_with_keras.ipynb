{
  "cells": [
    {
      "cell_type": "markdown",
      "metadata": {
        "id": "qHVrfbrHDnM8"
      },
      "source": [
        "This is a companion notebook for the book [Deep Learning with Python, Second Edition](https://www.manning.com/books/deep-learning-with-python-second-edition?a_aid=keras&a_bid=76564dff). For readability, it only contains runnable code blocks and section titles, and omits everything else in the book: text paragraphs, figures, and pseudocode.\n",
        "\n",
        "**If you want to be able to follow what's going on, I recommend reading the notebook side by side with your copy of the book.**\n",
        "\n",
        "This notebook was generated for TensorFlow 2.6."
      ]
    },
    {
      "cell_type": "markdown",
      "metadata": {
        "id": "gdGXnY2jDnM9"
      },
      "source": [
        "# Working with Keras: A deep dive"
      ]
    },
    {
      "cell_type": "markdown",
      "metadata": {
        "id": "ekbA_fuHDnM9"
      },
      "source": [
        "## A spectrum of workflows"
      ]
    },
    {
      "cell_type": "markdown",
      "metadata": {
        "id": "7eQD1NCRDnM9"
      },
      "source": [
        "## Different ways to build Keras models"
      ]
    },
    {
      "cell_type": "markdown",
      "metadata": {
        "id": "Oqm71MMkDnM9"
      },
      "source": [
        "### The Sequential model"
      ]
    },
    {
      "cell_type": "markdown",
      "metadata": {
        "id": "naWvrzCiDnM9"
      },
      "source": [
        "**The `Sequential` class**"
      ]
    },
    {
      "cell_type": "code",
      "execution_count": 2,
      "metadata": {
        "id": "ZapiCl8jDnM-"
      },
      "outputs": [],
      "source": [
        "from tensorflow import keras # importing keras from tensorflow package \n",
        "from tensorflow.keras import layers # importing layers from keras package\n",
        "\n",
        "model = keras.Sequential([ # defining the sequential model\n",
        "    layers.Dense(64, activation=\"relu\"), # adding a dense layer with 64 neurons and relu activation function\n",
        "    layers.Dense(10, activation=\"softmax\") # adding a dense layer with 10 neurons and softmax activation function\n",
        "])"
      ]
    },
    {
      "cell_type": "markdown",
      "metadata": {
        "id": "IgpRC18cDnM-"
      },
      "source": [
        "**Incrementally building a Sequential model**"
      ]
    },
    {
      "cell_type": "code",
      "execution_count": 3,
      "metadata": {
        "id": "2J-yf3G-DnM_"
      },
      "outputs": [],
      "source": [
        "model = keras.Sequential() # defining the sequential model\n",
        "model.add(layers.Dense(64, activation=\"relu\")) # adding a dense layer with 64 neurons and relu activation function\n",
        "model.add(layers.Dense(10, activation=\"softmax\")) # adding a dense layer with 10 neurons and softmax activation function"
      ]
    },
    {
      "cell_type": "markdown",
      "metadata": {
        "id": "jVPOhFdpDnM_"
      },
      "source": [
        "**Calling a model for the first time to build it**"
      ]
    },
    {
      "cell_type": "code",
      "execution_count": 4,
      "metadata": {
        "id": "73QtTrEeDnM_"
      },
      "outputs": [
        {
          "data": {
            "text/plain": [
              "[<KerasVariable shape=(3, 64), dtype=float32, path=sequential_2/dense_4/kernel>,\n",
              " <KerasVariable shape=(64,), dtype=float32, path=sequential_2/dense_4/bias>,\n",
              " <KerasVariable shape=(64, 10), dtype=float32, path=sequential_2/dense_5/kernel>,\n",
              " <KerasVariable shape=(10,), dtype=float32, path=sequential_2/dense_5/bias>]"
            ]
          },
          "execution_count": 4,
          "metadata": {},
          "output_type": "execute_result"
        }
      ],
      "source": [
        "model.build(input_shape=(None, 3)) # building the model with input shape of (None, 3) because we have 3 features in the input data \n",
        "model.weights # printing the weights of the model"
      ]
    },
    {
      "cell_type": "markdown",
      "metadata": {
        "id": "JAf8JksDDnM_"
      },
      "source": [
        "**The summary method**"
      ]
    },
    {
      "cell_type": "code",
      "execution_count": 5,
      "metadata": {
        "id": "bWAocSlKDnM_"
      },
      "outputs": [
        {
          "data": {
            "text/html": [
              "<pre style=\"white-space:pre;overflow-x:auto;line-height:normal;font-family:Menlo,'DejaVu Sans Mono',consolas,'Courier New',monospace\"><span style=\"font-weight: bold\">Model: \"sequential_2\"</span>\n",
              "</pre>\n"
            ],
            "text/plain": [
              "\u001b[1mModel: \"sequential_2\"\u001b[0m\n"
            ]
          },
          "metadata": {},
          "output_type": "display_data"
        },
        {
          "data": {
            "text/html": [
              "<pre style=\"white-space:pre;overflow-x:auto;line-height:normal;font-family:Menlo,'DejaVu Sans Mono',consolas,'Courier New',monospace\">┏━━━━━━━━━━━━━━━━━━━━━━━━━━━━━━━━━┳━━━━━━━━━━━━━━━━━━━━━━━━┳━━━━━━━━━━━━━━━┓\n",
              "┃<span style=\"font-weight: bold\"> Layer (type)                    </span>┃<span style=\"font-weight: bold\"> Output Shape           </span>┃<span style=\"font-weight: bold\">       Param # </span>┃\n",
              "┡━━━━━━━━━━━━━━━━━━━━━━━━━━━━━━━━━╇━━━━━━━━━━━━━━━━━━━━━━━━╇━━━━━━━━━━━━━━━┩\n",
              "│ dense_4 (<span style=\"color: #0087ff; text-decoration-color: #0087ff\">Dense</span>)                 │ (<span style=\"color: #00d7ff; text-decoration-color: #00d7ff\">None</span>, <span style=\"color: #00af00; text-decoration-color: #00af00\">64</span>)             │           <span style=\"color: #00af00; text-decoration-color: #00af00\">256</span> │\n",
              "├─────────────────────────────────┼────────────────────────┼───────────────┤\n",
              "│ dense_5 (<span style=\"color: #0087ff; text-decoration-color: #0087ff\">Dense</span>)                 │ (<span style=\"color: #00d7ff; text-decoration-color: #00d7ff\">None</span>, <span style=\"color: #00af00; text-decoration-color: #00af00\">10</span>)             │           <span style=\"color: #00af00; text-decoration-color: #00af00\">650</span> │\n",
              "└─────────────────────────────────┴────────────────────────┴───────────────┘\n",
              "</pre>\n"
            ],
            "text/plain": [
              "┏━━━━━━━━━━━━━━━━━━━━━━━━━━━━━━━━━┳━━━━━━━━━━━━━━━━━━━━━━━━┳━━━━━━━━━━━━━━━┓\n",
              "┃\u001b[1m \u001b[0m\u001b[1mLayer (type)                   \u001b[0m\u001b[1m \u001b[0m┃\u001b[1m \u001b[0m\u001b[1mOutput Shape          \u001b[0m\u001b[1m \u001b[0m┃\u001b[1m \u001b[0m\u001b[1m      Param #\u001b[0m\u001b[1m \u001b[0m┃\n",
              "┡━━━━━━━━━━━━━━━━━━━━━━━━━━━━━━━━━╇━━━━━━━━━━━━━━━━━━━━━━━━╇━━━━━━━━━━━━━━━┩\n",
              "│ dense_4 (\u001b[38;5;33mDense\u001b[0m)                 │ (\u001b[38;5;45mNone\u001b[0m, \u001b[38;5;34m64\u001b[0m)             │           \u001b[38;5;34m256\u001b[0m │\n",
              "├─────────────────────────────────┼────────────────────────┼───────────────┤\n",
              "│ dense_5 (\u001b[38;5;33mDense\u001b[0m)                 │ (\u001b[38;5;45mNone\u001b[0m, \u001b[38;5;34m10\u001b[0m)             │           \u001b[38;5;34m650\u001b[0m │\n",
              "└─────────────────────────────────┴────────────────────────┴───────────────┘\n"
            ]
          },
          "metadata": {},
          "output_type": "display_data"
        },
        {
          "data": {
            "text/html": [
              "<pre style=\"white-space:pre;overflow-x:auto;line-height:normal;font-family:Menlo,'DejaVu Sans Mono',consolas,'Courier New',monospace\"><span style=\"font-weight: bold\"> Total params: </span><span style=\"color: #00af00; text-decoration-color: #00af00\">906</span> (3.54 KB)\n",
              "</pre>\n"
            ],
            "text/plain": [
              "\u001b[1m Total params: \u001b[0m\u001b[38;5;34m906\u001b[0m (3.54 KB)\n"
            ]
          },
          "metadata": {},
          "output_type": "display_data"
        },
        {
          "data": {
            "text/html": [
              "<pre style=\"white-space:pre;overflow-x:auto;line-height:normal;font-family:Menlo,'DejaVu Sans Mono',consolas,'Courier New',monospace\"><span style=\"font-weight: bold\"> Trainable params: </span><span style=\"color: #00af00; text-decoration-color: #00af00\">906</span> (3.54 KB)\n",
              "</pre>\n"
            ],
            "text/plain": [
              "\u001b[1m Trainable params: \u001b[0m\u001b[38;5;34m906\u001b[0m (3.54 KB)\n"
            ]
          },
          "metadata": {},
          "output_type": "display_data"
        },
        {
          "data": {
            "text/html": [
              "<pre style=\"white-space:pre;overflow-x:auto;line-height:normal;font-family:Menlo,'DejaVu Sans Mono',consolas,'Courier New',monospace\"><span style=\"font-weight: bold\"> Non-trainable params: </span><span style=\"color: #00af00; text-decoration-color: #00af00\">0</span> (0.00 B)\n",
              "</pre>\n"
            ],
            "text/plain": [
              "\u001b[1m Non-trainable params: \u001b[0m\u001b[38;5;34m0\u001b[0m (0.00 B)\n"
            ]
          },
          "metadata": {},
          "output_type": "display_data"
        }
      ],
      "source": [
        "model.summary() # printing the summary of the model\n",
        "# The summary shows the number of parameters in each layer and the total number of parameters in the model\n",
        "# It also shows the output shape of each layer and the number of neurons in each layer\n",
        "# The output shape of the first layer is (None, 64) because the first layer has 64 neurons and the input shape is (None, 3)\n",
        "# The output shape of the second layer is (None, 10) because the second layer has 10 neurons and the input shape is (None, 64) which is the output shape of the first layer"
      ]
    },
    {
      "cell_type": "markdown",
      "metadata": {
        "id": "0-VRxxQrDnM_"
      },
      "source": [
        "**Naming models and layers with the `name` argument**"
      ]
    },
    {
      "cell_type": "code",
      "execution_count": 6,
      "metadata": {
        "id": "t9sKS4JsDnM_"
      },
      "outputs": [
        {
          "data": {
            "text/html": [
              "<pre style=\"white-space:pre;overflow-x:auto;line-height:normal;font-family:Menlo,'DejaVu Sans Mono',consolas,'Courier New',monospace\"><span style=\"font-weight: bold\">Model: \"my_example_model\"</span>\n",
              "</pre>\n"
            ],
            "text/plain": [
              "\u001b[1mModel: \"my_example_model\"\u001b[0m\n"
            ]
          },
          "metadata": {},
          "output_type": "display_data"
        },
        {
          "data": {
            "text/html": [
              "<pre style=\"white-space:pre;overflow-x:auto;line-height:normal;font-family:Menlo,'DejaVu Sans Mono',consolas,'Courier New',monospace\">┏━━━━━━━━━━━━━━━━━━━━━━━━━━━━━━━━━┳━━━━━━━━━━━━━━━━━━━━━━━━┳━━━━━━━━━━━━━━━┓\n",
              "┃<span style=\"font-weight: bold\"> Layer (type)                    </span>┃<span style=\"font-weight: bold\"> Output Shape           </span>┃<span style=\"font-weight: bold\">       Param # </span>┃\n",
              "┡━━━━━━━━━━━━━━━━━━━━━━━━━━━━━━━━━╇━━━━━━━━━━━━━━━━━━━━━━━━╇━━━━━━━━━━━━━━━┩\n",
              "│ my_first_layer (<span style=\"color: #0087ff; text-decoration-color: #0087ff\">Dense</span>)          │ (<span style=\"color: #00d7ff; text-decoration-color: #00d7ff\">None</span>, <span style=\"color: #00af00; text-decoration-color: #00af00\">64</span>)             │           <span style=\"color: #00af00; text-decoration-color: #00af00\">256</span> │\n",
              "├─────────────────────────────────┼────────────────────────┼───────────────┤\n",
              "│ my_last_layer (<span style=\"color: #0087ff; text-decoration-color: #0087ff\">Dense</span>)           │ (<span style=\"color: #00d7ff; text-decoration-color: #00d7ff\">None</span>, <span style=\"color: #00af00; text-decoration-color: #00af00\">10</span>)             │           <span style=\"color: #00af00; text-decoration-color: #00af00\">650</span> │\n",
              "└─────────────────────────────────┴────────────────────────┴───────────────┘\n",
              "</pre>\n"
            ],
            "text/plain": [
              "┏━━━━━━━━━━━━━━━━━━━━━━━━━━━━━━━━━┳━━━━━━━━━━━━━━━━━━━━━━━━┳━━━━━━━━━━━━━━━┓\n",
              "┃\u001b[1m \u001b[0m\u001b[1mLayer (type)                   \u001b[0m\u001b[1m \u001b[0m┃\u001b[1m \u001b[0m\u001b[1mOutput Shape          \u001b[0m\u001b[1m \u001b[0m┃\u001b[1m \u001b[0m\u001b[1m      Param #\u001b[0m\u001b[1m \u001b[0m┃\n",
              "┡━━━━━━━━━━━━━━━━━━━━━━━━━━━━━━━━━╇━━━━━━━━━━━━━━━━━━━━━━━━╇━━━━━━━━━━━━━━━┩\n",
              "│ my_first_layer (\u001b[38;5;33mDense\u001b[0m)          │ (\u001b[38;5;45mNone\u001b[0m, \u001b[38;5;34m64\u001b[0m)             │           \u001b[38;5;34m256\u001b[0m │\n",
              "├─────────────────────────────────┼────────────────────────┼───────────────┤\n",
              "│ my_last_layer (\u001b[38;5;33mDense\u001b[0m)           │ (\u001b[38;5;45mNone\u001b[0m, \u001b[38;5;34m10\u001b[0m)             │           \u001b[38;5;34m650\u001b[0m │\n",
              "└─────────────────────────────────┴────────────────────────┴───────────────┘\n"
            ]
          },
          "metadata": {},
          "output_type": "display_data"
        },
        {
          "data": {
            "text/html": [
              "<pre style=\"white-space:pre;overflow-x:auto;line-height:normal;font-family:Menlo,'DejaVu Sans Mono',consolas,'Courier New',monospace\"><span style=\"font-weight: bold\"> Total params: </span><span style=\"color: #00af00; text-decoration-color: #00af00\">906</span> (3.54 KB)\n",
              "</pre>\n"
            ],
            "text/plain": [
              "\u001b[1m Total params: \u001b[0m\u001b[38;5;34m906\u001b[0m (3.54 KB)\n"
            ]
          },
          "metadata": {},
          "output_type": "display_data"
        },
        {
          "data": {
            "text/html": [
              "<pre style=\"white-space:pre;overflow-x:auto;line-height:normal;font-family:Menlo,'DejaVu Sans Mono',consolas,'Courier New',monospace\"><span style=\"font-weight: bold\"> Trainable params: </span><span style=\"color: #00af00; text-decoration-color: #00af00\">906</span> (3.54 KB)\n",
              "</pre>\n"
            ],
            "text/plain": [
              "\u001b[1m Trainable params: \u001b[0m\u001b[38;5;34m906\u001b[0m (3.54 KB)\n"
            ]
          },
          "metadata": {},
          "output_type": "display_data"
        },
        {
          "data": {
            "text/html": [
              "<pre style=\"white-space:pre;overflow-x:auto;line-height:normal;font-family:Menlo,'DejaVu Sans Mono',consolas,'Courier New',monospace\"><span style=\"font-weight: bold\"> Non-trainable params: </span><span style=\"color: #00af00; text-decoration-color: #00af00\">0</span> (0.00 B)\n",
              "</pre>\n"
            ],
            "text/plain": [
              "\u001b[1m Non-trainable params: \u001b[0m\u001b[38;5;34m0\u001b[0m (0.00 B)\n"
            ]
          },
          "metadata": {},
          "output_type": "display_data"
        }
      ],
      "source": [
        "model = keras.Sequential(name=\"my_example_model\") # defining the sequential model with a name \n",
        "model.add(layers.Dense(64, activation=\"relu\", name=\"my_first_layer\")) # adding a dense layer with 64 neurons and relu activation function with a name \n",
        "model.add(layers.Dense(10, activation=\"softmax\", name=\"my_last_layer\")) # adding a dense layer with 10 neurons and softmax activation function with a name\n",
        "model.build((None, 3)) # building the model with input shape of (None, 3) because we have 3 features in the input data\n",
        "model.summary() # printing the summary of the model\n",
        "# The summary shows the number of parameters in each layer and the total number of parameters in the model with the names of the layers\n",
        "# It also shows the output shape of each layer and the number of neurons in each layer"
      ]
    },
    {
      "cell_type": "markdown",
      "metadata": {
        "id": "xIf0-GGFDnM_"
      },
      "source": [
        "**Specifying the input shape of your model in advance**"
      ]
    },
    {
      "cell_type": "code",
      "execution_count": 7,
      "metadata": {
        "id": "8yCDbhBiDnM_"
      },
      "outputs": [],
      "source": [
        "model = keras.Sequential() # defining the sequential model\n",
        "model.add(keras.Input(shape=(3,))) # adding an input layer with input shape of (None, 3) because we have 3 features in the input data\n",
        "model.add(layers.Dense(64, activation=\"relu\")) # adding a dense layer with 64 neurons and relu activation function"
      ]
    },
    {
      "cell_type": "code",
      "execution_count": 8,
      "metadata": {
        "id": "0HCXO5mSDnM_"
      },
      "outputs": [
        {
          "data": {
            "text/html": [
              "<pre style=\"white-space:pre;overflow-x:auto;line-height:normal;font-family:Menlo,'DejaVu Sans Mono',consolas,'Courier New',monospace\"><span style=\"font-weight: bold\">Model: \"sequential_3\"</span>\n",
              "</pre>\n"
            ],
            "text/plain": [
              "\u001b[1mModel: \"sequential_3\"\u001b[0m\n"
            ]
          },
          "metadata": {},
          "output_type": "display_data"
        },
        {
          "data": {
            "text/html": [
              "<pre style=\"white-space:pre;overflow-x:auto;line-height:normal;font-family:Menlo,'DejaVu Sans Mono',consolas,'Courier New',monospace\">┏━━━━━━━━━━━━━━━━━━━━━━━━━━━━━━━━━┳━━━━━━━━━━━━━━━━━━━━━━━━┳━━━━━━━━━━━━━━━┓\n",
              "┃<span style=\"font-weight: bold\"> Layer (type)                    </span>┃<span style=\"font-weight: bold\"> Output Shape           </span>┃<span style=\"font-weight: bold\">       Param # </span>┃\n",
              "┡━━━━━━━━━━━━━━━━━━━━━━━━━━━━━━━━━╇━━━━━━━━━━━━━━━━━━━━━━━━╇━━━━━━━━━━━━━━━┩\n",
              "│ dense_6 (<span style=\"color: #0087ff; text-decoration-color: #0087ff\">Dense</span>)                 │ (<span style=\"color: #00d7ff; text-decoration-color: #00d7ff\">None</span>, <span style=\"color: #00af00; text-decoration-color: #00af00\">64</span>)             │           <span style=\"color: #00af00; text-decoration-color: #00af00\">256</span> │\n",
              "└─────────────────────────────────┴────────────────────────┴───────────────┘\n",
              "</pre>\n"
            ],
            "text/plain": [
              "┏━━━━━━━━━━━━━━━━━━━━━━━━━━━━━━━━━┳━━━━━━━━━━━━━━━━━━━━━━━━┳━━━━━━━━━━━━━━━┓\n",
              "┃\u001b[1m \u001b[0m\u001b[1mLayer (type)                   \u001b[0m\u001b[1m \u001b[0m┃\u001b[1m \u001b[0m\u001b[1mOutput Shape          \u001b[0m\u001b[1m \u001b[0m┃\u001b[1m \u001b[0m\u001b[1m      Param #\u001b[0m\u001b[1m \u001b[0m┃\n",
              "┡━━━━━━━━━━━━━━━━━━━━━━━━━━━━━━━━━╇━━━━━━━━━━━━━━━━━━━━━━━━╇━━━━━━━━━━━━━━━┩\n",
              "│ dense_6 (\u001b[38;5;33mDense\u001b[0m)                 │ (\u001b[38;5;45mNone\u001b[0m, \u001b[38;5;34m64\u001b[0m)             │           \u001b[38;5;34m256\u001b[0m │\n",
              "└─────────────────────────────────┴────────────────────────┴───────────────┘\n"
            ]
          },
          "metadata": {},
          "output_type": "display_data"
        },
        {
          "data": {
            "text/html": [
              "<pre style=\"white-space:pre;overflow-x:auto;line-height:normal;font-family:Menlo,'DejaVu Sans Mono',consolas,'Courier New',monospace\"><span style=\"font-weight: bold\"> Total params: </span><span style=\"color: #00af00; text-decoration-color: #00af00\">256</span> (1.00 KB)\n",
              "</pre>\n"
            ],
            "text/plain": [
              "\u001b[1m Total params: \u001b[0m\u001b[38;5;34m256\u001b[0m (1.00 KB)\n"
            ]
          },
          "metadata": {},
          "output_type": "display_data"
        },
        {
          "data": {
            "text/html": [
              "<pre style=\"white-space:pre;overflow-x:auto;line-height:normal;font-family:Menlo,'DejaVu Sans Mono',consolas,'Courier New',monospace\"><span style=\"font-weight: bold\"> Trainable params: </span><span style=\"color: #00af00; text-decoration-color: #00af00\">256</span> (1.00 KB)\n",
              "</pre>\n"
            ],
            "text/plain": [
              "\u001b[1m Trainable params: \u001b[0m\u001b[38;5;34m256\u001b[0m (1.00 KB)\n"
            ]
          },
          "metadata": {},
          "output_type": "display_data"
        },
        {
          "data": {
            "text/html": [
              "<pre style=\"white-space:pre;overflow-x:auto;line-height:normal;font-family:Menlo,'DejaVu Sans Mono',consolas,'Courier New',monospace\"><span style=\"font-weight: bold\"> Non-trainable params: </span><span style=\"color: #00af00; text-decoration-color: #00af00\">0</span> (0.00 B)\n",
              "</pre>\n"
            ],
            "text/plain": [
              "\u001b[1m Non-trainable params: \u001b[0m\u001b[38;5;34m0\u001b[0m (0.00 B)\n"
            ]
          },
          "metadata": {},
          "output_type": "display_data"
        }
      ],
      "source": [
        "model.summary() # printing the summary of the model\n",
        "# The summary shows the number of parameters in each layer and the total number of parameters in the model\n",
        "# It also shows the output shape of each layer and the number of neurons in each layer\n",
        "# The output shape of the first layer is (None, 64) because the first layer has 64 neurons and the input shape is (None, 3)"
      ]
    },
    {
      "cell_type": "code",
      "execution_count": 9,
      "metadata": {
        "id": "tFolCvoLDnM_"
      },
      "outputs": [
        {
          "data": {
            "text/html": [
              "<pre style=\"white-space:pre;overflow-x:auto;line-height:normal;font-family:Menlo,'DejaVu Sans Mono',consolas,'Courier New',monospace\"><span style=\"font-weight: bold\">Model: \"sequential_3\"</span>\n",
              "</pre>\n"
            ],
            "text/plain": [
              "\u001b[1mModel: \"sequential_3\"\u001b[0m\n"
            ]
          },
          "metadata": {},
          "output_type": "display_data"
        },
        {
          "data": {
            "text/html": [
              "<pre style=\"white-space:pre;overflow-x:auto;line-height:normal;font-family:Menlo,'DejaVu Sans Mono',consolas,'Courier New',monospace\">┏━━━━━━━━━━━━━━━━━━━━━━━━━━━━━━━━━┳━━━━━━━━━━━━━━━━━━━━━━━━┳━━━━━━━━━━━━━━━┓\n",
              "┃<span style=\"font-weight: bold\"> Layer (type)                    </span>┃<span style=\"font-weight: bold\"> Output Shape           </span>┃<span style=\"font-weight: bold\">       Param # </span>┃\n",
              "┡━━━━━━━━━━━━━━━━━━━━━━━━━━━━━━━━━╇━━━━━━━━━━━━━━━━━━━━━━━━╇━━━━━━━━━━━━━━━┩\n",
              "│ dense_6 (<span style=\"color: #0087ff; text-decoration-color: #0087ff\">Dense</span>)                 │ (<span style=\"color: #00d7ff; text-decoration-color: #00d7ff\">None</span>, <span style=\"color: #00af00; text-decoration-color: #00af00\">64</span>)             │           <span style=\"color: #00af00; text-decoration-color: #00af00\">256</span> │\n",
              "├─────────────────────────────────┼────────────────────────┼───────────────┤\n",
              "│ dense_7 (<span style=\"color: #0087ff; text-decoration-color: #0087ff\">Dense</span>)                 │ (<span style=\"color: #00d7ff; text-decoration-color: #00d7ff\">None</span>, <span style=\"color: #00af00; text-decoration-color: #00af00\">10</span>)             │           <span style=\"color: #00af00; text-decoration-color: #00af00\">650</span> │\n",
              "└─────────────────────────────────┴────────────────────────┴───────────────┘\n",
              "</pre>\n"
            ],
            "text/plain": [
              "┏━━━━━━━━━━━━━━━━━━━━━━━━━━━━━━━━━┳━━━━━━━━━━━━━━━━━━━━━━━━┳━━━━━━━━━━━━━━━┓\n",
              "┃\u001b[1m \u001b[0m\u001b[1mLayer (type)                   \u001b[0m\u001b[1m \u001b[0m┃\u001b[1m \u001b[0m\u001b[1mOutput Shape          \u001b[0m\u001b[1m \u001b[0m┃\u001b[1m \u001b[0m\u001b[1m      Param #\u001b[0m\u001b[1m \u001b[0m┃\n",
              "┡━━━━━━━━━━━━━━━━━━━━━━━━━━━━━━━━━╇━━━━━━━━━━━━━━━━━━━━━━━━╇━━━━━━━━━━━━━━━┩\n",
              "│ dense_6 (\u001b[38;5;33mDense\u001b[0m)                 │ (\u001b[38;5;45mNone\u001b[0m, \u001b[38;5;34m64\u001b[0m)             │           \u001b[38;5;34m256\u001b[0m │\n",
              "├─────────────────────────────────┼────────────────────────┼───────────────┤\n",
              "│ dense_7 (\u001b[38;5;33mDense\u001b[0m)                 │ (\u001b[38;5;45mNone\u001b[0m, \u001b[38;5;34m10\u001b[0m)             │           \u001b[38;5;34m650\u001b[0m │\n",
              "└─────────────────────────────────┴────────────────────────┴───────────────┘\n"
            ]
          },
          "metadata": {},
          "output_type": "display_data"
        },
        {
          "data": {
            "text/html": [
              "<pre style=\"white-space:pre;overflow-x:auto;line-height:normal;font-family:Menlo,'DejaVu Sans Mono',consolas,'Courier New',monospace\"><span style=\"font-weight: bold\"> Total params: </span><span style=\"color: #00af00; text-decoration-color: #00af00\">906</span> (3.54 KB)\n",
              "</pre>\n"
            ],
            "text/plain": [
              "\u001b[1m Total params: \u001b[0m\u001b[38;5;34m906\u001b[0m (3.54 KB)\n"
            ]
          },
          "metadata": {},
          "output_type": "display_data"
        },
        {
          "data": {
            "text/html": [
              "<pre style=\"white-space:pre;overflow-x:auto;line-height:normal;font-family:Menlo,'DejaVu Sans Mono',consolas,'Courier New',monospace\"><span style=\"font-weight: bold\"> Trainable params: </span><span style=\"color: #00af00; text-decoration-color: #00af00\">906</span> (3.54 KB)\n",
              "</pre>\n"
            ],
            "text/plain": [
              "\u001b[1m Trainable params: \u001b[0m\u001b[38;5;34m906\u001b[0m (3.54 KB)\n"
            ]
          },
          "metadata": {},
          "output_type": "display_data"
        },
        {
          "data": {
            "text/html": [
              "<pre style=\"white-space:pre;overflow-x:auto;line-height:normal;font-family:Menlo,'DejaVu Sans Mono',consolas,'Courier New',monospace\"><span style=\"font-weight: bold\"> Non-trainable params: </span><span style=\"color: #00af00; text-decoration-color: #00af00\">0</span> (0.00 B)\n",
              "</pre>\n"
            ],
            "text/plain": [
              "\u001b[1m Non-trainable params: \u001b[0m\u001b[38;5;34m0\u001b[0m (0.00 B)\n"
            ]
          },
          "metadata": {},
          "output_type": "display_data"
        }
      ],
      "source": [
        "model.add(layers.Dense(10, activation=\"softmax\")) # adding a dense layer with 10 neurons and softmax activation function \n",
        "model.summary() # printing the summary of the model\n",
        "# The summary shows the number of parameters in each layer and the total number of parameters in the model\n",
        "# It also shows the output shape of each layer and the number of neurons in each layer\n",
        "# The output shape of the second layer is (None, 10) because the second layer has 10 neurons and the input shape is (None, 64) which is the output shape of the first layer"
      ]
    },
    {
      "cell_type": "markdown",
      "metadata": {
        "id": "ea-3aoNhDnNA"
      },
      "source": [
        "### The Functional API"
      ]
    },
    {
      "cell_type": "markdown",
      "metadata": {
        "id": "HlxcQ2oTDnNA"
      },
      "source": [
        "#### A simple example"
      ]
    },
    {
      "cell_type": "markdown",
      "metadata": {
        "id": "NbyAy26PDnNA"
      },
      "source": [
        "**A simple Functional model with two `Dense` layers**"
      ]
    },
    {
      "cell_type": "code",
      "execution_count": 10,
      "metadata": {
        "id": "Y71KXbxRDnNA"
      },
      "outputs": [],
      "source": [
        "inputs = keras.Input(shape=(3,), name=\"my_input\") # defining the input layer with input shape of (None, 3) because we have 3 features in the input data\n",
        "features = layers.Dense(64, activation=\"relu\")(inputs) # adding a dense layer with 64 neurons and relu activation function\n",
        "outputs = layers.Dense(10, activation=\"softmax\")(features) # adding a dense layer with 10 neurons and softmax activation function\n",
        "model = keras.Model(inputs=inputs, outputs=outputs) # defining the model with the input and output layers"
      ]
    },
    {
      "cell_type": "code",
      "execution_count": 11,
      "metadata": {
        "id": "X2J0SWxRDnNA"
      },
      "outputs": [],
      "source": [
        "inputs = keras.Input(shape=(3,), name=\"my_input\") # defining the input layer with input shape of (None, 3) because we have 3 features in the input data"
      ]
    },
    {
      "cell_type": "code",
      "execution_count": 12,
      "metadata": {
        "id": "CN7ms3U9DnNA"
      },
      "outputs": [
        {
          "data": {
            "text/plain": [
              "(None, 3)"
            ]
          },
          "execution_count": 12,
          "metadata": {},
          "output_type": "execute_result"
        }
      ],
      "source": [
        "inputs.shape # printing the shape of the input layer\n",
        "# The shape of the input layer is (None, 3) because we have 3 features in the input data and the batch size is None"
      ]
    },
    {
      "cell_type": "code",
      "execution_count": 13,
      "metadata": {
        "id": "rwowPYV7DnNA"
      },
      "outputs": [
        {
          "data": {
            "text/plain": [
              "'float32'"
            ]
          },
          "execution_count": 13,
          "metadata": {},
          "output_type": "execute_result"
        }
      ],
      "source": [
        "inputs.dtype # printing the data type of the input layer\n",
        "# The data type of the input layer is float32 by default"
      ]
    },
    {
      "cell_type": "code",
      "execution_count": 14,
      "metadata": {
        "id": "NVuoXa6VDnNA"
      },
      "outputs": [],
      "source": [
        "features = layers.Dense(64, activation=\"relu\")(inputs) # adding a dense layer with 64 neurons and relu activation function"
      ]
    },
    {
      "cell_type": "code",
      "execution_count": 15,
      "metadata": {
        "id": "8YuYIV7ADnNA"
      },
      "outputs": [
        {
          "data": {
            "text/plain": [
              "(None, 64)"
            ]
          },
          "execution_count": 15,
          "metadata": {},
          "output_type": "execute_result"
        }
      ],
      "source": [
        "features.shape # printing the shape of the features layer\n",
        "# The shape of the features layer is (None, 64) because the dense layer has 64 neurons and the input shape is (None, 3)"
      ]
    },
    {
      "cell_type": "code",
      "execution_count": 16,
      "metadata": {
        "id": "Q-yomxDgDnNA"
      },
      "outputs": [],
      "source": [
        "outputs = layers.Dense(10, activation=\"softmax\")(features) # adding a dense layer with 10 neurons and softmax activation function\n",
        "model = keras.Model(inputs=inputs, outputs=outputs) # defining the model with the input and output layers"
      ]
    },
    {
      "cell_type": "code",
      "execution_count": 17,
      "metadata": {
        "id": "AHHfgBWYDnNA"
      },
      "outputs": [
        {
          "data": {
            "text/html": [
              "<pre style=\"white-space:pre;overflow-x:auto;line-height:normal;font-family:Menlo,'DejaVu Sans Mono',consolas,'Courier New',monospace\"><span style=\"font-weight: bold\">Model: \"functional_7\"</span>\n",
              "</pre>\n"
            ],
            "text/plain": [
              "\u001b[1mModel: \"functional_7\"\u001b[0m\n"
            ]
          },
          "metadata": {},
          "output_type": "display_data"
        },
        {
          "data": {
            "text/html": [
              "<pre style=\"white-space:pre;overflow-x:auto;line-height:normal;font-family:Menlo,'DejaVu Sans Mono',consolas,'Courier New',monospace\">┏━━━━━━━━━━━━━━━━━━━━━━━━━━━━━━━━━┳━━━━━━━━━━━━━━━━━━━━━━━━┳━━━━━━━━━━━━━━━┓\n",
              "┃<span style=\"font-weight: bold\"> Layer (type)                    </span>┃<span style=\"font-weight: bold\"> Output Shape           </span>┃<span style=\"font-weight: bold\">       Param # </span>┃\n",
              "┡━━━━━━━━━━━━━━━━━━━━━━━━━━━━━━━━━╇━━━━━━━━━━━━━━━━━━━━━━━━╇━━━━━━━━━━━━━━━┩\n",
              "│ my_input (<span style=\"color: #0087ff; text-decoration-color: #0087ff\">InputLayer</span>)           │ (<span style=\"color: #00d7ff; text-decoration-color: #00d7ff\">None</span>, <span style=\"color: #00af00; text-decoration-color: #00af00\">3</span>)              │             <span style=\"color: #00af00; text-decoration-color: #00af00\">0</span> │\n",
              "├─────────────────────────────────┼────────────────────────┼───────────────┤\n",
              "│ dense_10 (<span style=\"color: #0087ff; text-decoration-color: #0087ff\">Dense</span>)                │ (<span style=\"color: #00d7ff; text-decoration-color: #00d7ff\">None</span>, <span style=\"color: #00af00; text-decoration-color: #00af00\">64</span>)             │           <span style=\"color: #00af00; text-decoration-color: #00af00\">256</span> │\n",
              "├─────────────────────────────────┼────────────────────────┼───────────────┤\n",
              "│ dense_11 (<span style=\"color: #0087ff; text-decoration-color: #0087ff\">Dense</span>)                │ (<span style=\"color: #00d7ff; text-decoration-color: #00d7ff\">None</span>, <span style=\"color: #00af00; text-decoration-color: #00af00\">10</span>)             │           <span style=\"color: #00af00; text-decoration-color: #00af00\">650</span> │\n",
              "└─────────────────────────────────┴────────────────────────┴───────────────┘\n",
              "</pre>\n"
            ],
            "text/plain": [
              "┏━━━━━━━━━━━━━━━━━━━━━━━━━━━━━━━━━┳━━━━━━━━━━━━━━━━━━━━━━━━┳━━━━━━━━━━━━━━━┓\n",
              "┃\u001b[1m \u001b[0m\u001b[1mLayer (type)                   \u001b[0m\u001b[1m \u001b[0m┃\u001b[1m \u001b[0m\u001b[1mOutput Shape          \u001b[0m\u001b[1m \u001b[0m┃\u001b[1m \u001b[0m\u001b[1m      Param #\u001b[0m\u001b[1m \u001b[0m┃\n",
              "┡━━━━━━━━━━━━━━━━━━━━━━━━━━━━━━━━━╇━━━━━━━━━━━━━━━━━━━━━━━━╇━━━━━━━━━━━━━━━┩\n",
              "│ my_input (\u001b[38;5;33mInputLayer\u001b[0m)           │ (\u001b[38;5;45mNone\u001b[0m, \u001b[38;5;34m3\u001b[0m)              │             \u001b[38;5;34m0\u001b[0m │\n",
              "├─────────────────────────────────┼────────────────────────┼───────────────┤\n",
              "│ dense_10 (\u001b[38;5;33mDense\u001b[0m)                │ (\u001b[38;5;45mNone\u001b[0m, \u001b[38;5;34m64\u001b[0m)             │           \u001b[38;5;34m256\u001b[0m │\n",
              "├─────────────────────────────────┼────────────────────────┼───────────────┤\n",
              "│ dense_11 (\u001b[38;5;33mDense\u001b[0m)                │ (\u001b[38;5;45mNone\u001b[0m, \u001b[38;5;34m10\u001b[0m)             │           \u001b[38;5;34m650\u001b[0m │\n",
              "└─────────────────────────────────┴────────────────────────┴───────────────┘\n"
            ]
          },
          "metadata": {},
          "output_type": "display_data"
        },
        {
          "data": {
            "text/html": [
              "<pre style=\"white-space:pre;overflow-x:auto;line-height:normal;font-family:Menlo,'DejaVu Sans Mono',consolas,'Courier New',monospace\"><span style=\"font-weight: bold\"> Total params: </span><span style=\"color: #00af00; text-decoration-color: #00af00\">906</span> (3.54 KB)\n",
              "</pre>\n"
            ],
            "text/plain": [
              "\u001b[1m Total params: \u001b[0m\u001b[38;5;34m906\u001b[0m (3.54 KB)\n"
            ]
          },
          "metadata": {},
          "output_type": "display_data"
        },
        {
          "data": {
            "text/html": [
              "<pre style=\"white-space:pre;overflow-x:auto;line-height:normal;font-family:Menlo,'DejaVu Sans Mono',consolas,'Courier New',monospace\"><span style=\"font-weight: bold\"> Trainable params: </span><span style=\"color: #00af00; text-decoration-color: #00af00\">906</span> (3.54 KB)\n",
              "</pre>\n"
            ],
            "text/plain": [
              "\u001b[1m Trainable params: \u001b[0m\u001b[38;5;34m906\u001b[0m (3.54 KB)\n"
            ]
          },
          "metadata": {},
          "output_type": "display_data"
        },
        {
          "data": {
            "text/html": [
              "<pre style=\"white-space:pre;overflow-x:auto;line-height:normal;font-family:Menlo,'DejaVu Sans Mono',consolas,'Courier New',monospace\"><span style=\"font-weight: bold\"> Non-trainable params: </span><span style=\"color: #00af00; text-decoration-color: #00af00\">0</span> (0.00 B)\n",
              "</pre>\n"
            ],
            "text/plain": [
              "\u001b[1m Non-trainable params: \u001b[0m\u001b[38;5;34m0\u001b[0m (0.00 B)\n"
            ]
          },
          "metadata": {},
          "output_type": "display_data"
        }
      ],
      "source": [
        "model.summary() # printing the summary of the model\n",
        "# The summary shows the number of parameters in each layer and the total number of parameters in the model\n",
        "# It also shows the output shape of each layer and the number of neurons in each layer\n",
        "# The output shape of the first layer is (None, 3) because the input shape is (None, 3) and the input layer has 3 features in the input data \n",
        "# The output shape of the second layer is (None, 64) because the dense layer has 64 neurons and the input shape is (None, 3) which is the output shape of the input layer\n",
        "# The output shape of the third layer is (None, 10) because the dense layer has 10 neurons and the input shape is (None, 64) which is the output shape of the dense layer\n",
        "# The total number of parameters in the model is 650 because the first dense layer has 64 neurons and 64*3=192 parameters and the second dense layer has 10 neurons and 10*64=640 parameters"
      ]
    },
    {
      "cell_type": "markdown",
      "metadata": {
        "id": "9f7uLt-oDnNA"
      },
      "source": [
        "#### Multi-input, multi-output models"
      ]
    },
    {
      "cell_type": "markdown",
      "metadata": {
        "id": "VpQL9szJDnNA"
      },
      "source": [
        "**A multi-input, multi-output Functional model**"
      ]
    },
    {
      "cell_type": "code",
      "execution_count": 18,
      "metadata": {
        "id": "CBmHezNnDnNA"
      },
      "outputs": [],
      "source": [
        "vocabulary_size = 10000 # defining the vocabulary size \n",
        "num_tags = 100 # defining the number of tags\n",
        "num_departments = 4 # defining the number of departments\n",
        "\n",
        "title = keras.Input(shape=(vocabulary_size,), name=\"title\") # defining the input layer for the title with input shape of (None, vocabulary_size)\n",
        "text_body = keras.Input(shape=(vocabulary_size,), name=\"text_body\") # defining the input layer for the text body with input shape of (None, vocabulary_size)\n",
        "tags = keras.Input(shape=(num_tags,), name=\"tags\") # defining the input layer for the tags with input shape of (None, num_tags)\n",
        "\n",
        "features = layers.Concatenate()([title, text_body, tags]) # concatenating the input layers because it needs to be combined before passing to the dense layer\n",
        "features = layers.Dense(64, activation=\"relu\")(features) # adding a dense layer with 64 neurons and relu activation function\n",
        "\n",
        "priority = layers.Dense(1, activation=\"sigmoid\", name=\"priority\")(features) # adding a dense layer with 1 neuron and sigmoid activation function for the priority\n",
        "department = layers.Dense( \n",
        "    num_departments, activation=\"softmax\", name=\"department\")(features) # adding a dense layer with num_departments neurons and softmax activation function for the department\n",
        "\n",
        "model = keras.Model(inputs=[title, text_body, tags], outputs=[priority, department]) # defining the model with the input and output layers"
      ]
    },
    {
      "cell_type": "markdown",
      "metadata": {
        "id": "RngfFtJYDnNA"
      },
      "source": [
        "#### Training a multi-input, multi-output model"
      ]
    },
    {
      "cell_type": "markdown",
      "metadata": {
        "id": "FC0hLPzUDnNA"
      },
      "source": [
        "**Training a model by providing lists of input & target arrays**"
      ]
    },
    {
      "cell_type": "code",
      "execution_count": 19,
      "metadata": {
        "id": "rHspVYhqDnNA"
      },
      "outputs": [
        {
          "name": "stdout",
          "output_type": "stream",
          "text": [
            "\u001b[1m40/40\u001b[0m \u001b[32m━━━━━━━━━━━━━━━━━━━━\u001b[0m\u001b[37m\u001b[0m \u001b[1m1s\u001b[0m 5ms/step - department_accuracy: 0.2140 - loss: 42.1553 - priority_mean_absolute_error: 0.4953\n",
            "\u001b[1m40/40\u001b[0m \u001b[32m━━━━━━━━━━━━━━━━━━━━\u001b[0m\u001b[37m\u001b[0m \u001b[1m0s\u001b[0m 3ms/step - department_accuracy: 0.2349 - loss: 34.5862 - priority_mean_absolute_error: 0.4964\n",
            "\u001b[1m40/40\u001b[0m \u001b[32m━━━━━━━━━━━━━━━━━━━━\u001b[0m\u001b[37m\u001b[0m \u001b[1m0s\u001b[0m 2ms/step\n"
          ]
        }
      ],
      "source": [
        "import numpy as np # importing numpy package \n",
        "\n",
        "num_samples = 1280 # defining the number of samples\n",
        "\n",
        "title_data = np.random.randint(0, 2, size=(num_samples, vocabulary_size)) # generating random title data\n",
        "text_body_data = np.random.randint(0, 2, size=(num_samples, vocabulary_size)) # generating random text body data\n",
        "tags_data = np.random.randint(0, 2, size=(num_samples, num_tags)) # generating random tags data\n",
        " \n",
        "priority_data = np.random.random(size=(num_samples, 1)) # generating random priority data\n",
        "department_data = np.random.randint(0, 2, size=(num_samples, num_departments)) # generating random department data\n",
        "\n",
        "model.compile(optimizer=\"rmsprop\", # compiling the model with rmsprop optimizer\n",
        "              loss=[\"mean_squared_error\", \"categorical_crossentropy\"], # defining the loss functions for the priority and department\n",
        "              metrics=[[\"mean_absolute_error\"], [\"accuracy\"]]) # defining the metrics for the priority and department\n",
        "model.fit([title_data, text_body_data, tags_data], # training the model with the input and output data\n",
        "          [priority_data, department_data], epochs=1) # training the model for 1 epoch with the input and output data \n",
        "model.evaluate([title_data, text_body_data, tags_data], # evaluating the model with the input and output data\n",
        "               [priority_data, department_data]) \n",
        "priority_preds, department_preds = model.predict([title_data, text_body_data, tags_data]) # predicting the priority and department with the input data "
      ]
    },
    {
      "cell_type": "markdown",
      "metadata": {
        "id": "Zwf99dujDnNA"
      },
      "source": [
        "**Training a model by providing dicts of input & target arrays**"
      ]
    },
    {
      "cell_type": "code",
      "execution_count": 20,
      "metadata": {
        "id": "Vd2RJCGpDnNB"
      },
      "outputs": [
        {
          "name": "stdout",
          "output_type": "stream",
          "text": [
            "\u001b[1m40/40\u001b[0m \u001b[32m━━━━━━━━━━━━━━━━━━━━\u001b[0m\u001b[37m\u001b[0m \u001b[1m1s\u001b[0m 5ms/step - department_accuracy: 0.2380 - loss: 42.4500 - priority_mean_absolute_error: 0.5078\n",
            "\u001b[1m40/40\u001b[0m \u001b[32m━━━━━━━━━━━━━━━━━━━━\u001b[0m\u001b[37m\u001b[0m \u001b[1m0s\u001b[0m 1ms/step - department_accuracy: 0.5657 - loss: 49.6810 - priority_mean_absolute_error: 0.4964\n",
            "\u001b[1m40/40\u001b[0m \u001b[32m━━━━━━━━━━━━━━━━━━━━\u001b[0m\u001b[37m\u001b[0m \u001b[1m0s\u001b[0m 2ms/step\n"
          ]
        }
      ],
      "source": [
        "model.compile(optimizer=\"rmsprop\", # compiling the model with rmsprop optimizer\n",
        "              loss={\"priority\": \"mean_squared_error\", \"department\": \"categorical_crossentropy\"}, # defining the loss functions for the priority and department\n",
        "              metrics={\"priority\": [\"mean_absolute_error\"], \"department\": [\"accuracy\"]}) # defining the metrics for the priority and department\n",
        "model.fit({\"title\": title_data, \"text_body\": text_body_data, \"tags\": tags_data}, # training the model with the input and output data\n",
        "          {\"priority\": priority_data, \"department\": department_data}, \n",
        "          epochs=1) # training the model for 1 epoch\n",
        "model.evaluate({\"title\": title_data, \"text_body\": text_body_data, \"tags\": tags_data}, # evaluating the model with the input and output data\n",
        "               {\"priority\": priority_data, \"department\": department_data})\n",
        "priority_preds, department_preds = model.predict( # predicting the priority and department with the input data\n",
        "    {\"title\": title_data, \"text_body\": text_body_data, \"tags\": tags_data})"
      ]
    },
    {
      "cell_type": "markdown",
      "metadata": {
        "id": "CdM67DHlDnNB"
      },
      "source": [
        "#### The power of the Functional API: Access to layer connectivity"
      ]
    },
    {
      "cell_type": "code",
      "execution_count": 21,
      "metadata": {
        "id": "gS4JfHfmDnNB"
      },
      "outputs": [
        {
          "name": "stdout",
          "output_type": "stream",
          "text": [
            "You must install pydot (`pip install pydot`) for `plot_model` to work.\n"
          ]
        }
      ],
      "source": [
        "keras.utils.plot_model(model, \"ticket_classifier.png\") # plotting the model and saving it as ticket_classifier.png"
      ]
    },
    {
      "cell_type": "code",
      "execution_count": 22,
      "metadata": {
        "id": "KKlP73vNDnNB"
      },
      "outputs": [
        {
          "name": "stdout",
          "output_type": "stream",
          "text": [
            "You must install pydot (`pip install pydot`) for `plot_model` to work.\n"
          ]
        }
      ],
      "source": [
        "keras.utils.plot_model(model, \"ticket_classifier_with_shape_info.png\", show_shapes=True) # plotting the model with shape information and saving it as ticket_classifier_with_shape_info.png"
      ]
    },
    {
      "cell_type": "markdown",
      "metadata": {
        "id": "8i6-fLMXDnNB"
      },
      "source": [
        "**Retrieving the inputs or outputs of a layer in a Functional model**"
      ]
    },
    {
      "cell_type": "code",
      "execution_count": 23,
      "metadata": {
        "id": "X_N3O_3-DnNB"
      },
      "outputs": [
        {
          "data": {
            "text/plain": [
              "[<InputLayer name=title, built=True>,\n",
              " <InputLayer name=text_body, built=True>,\n",
              " <InputLayer name=tags, built=True>,\n",
              " <Concatenate name=concatenate, built=True>,\n",
              " <Dense name=dense_12, built=True>,\n",
              " <Dense name=priority, built=True>,\n",
              " <Dense name=department, built=True>]"
            ]
          },
          "execution_count": 23,
          "metadata": {},
          "output_type": "execute_result"
        }
      ],
      "source": [
        "model.layers # printing the layers of the model"
      ]
    },
    {
      "cell_type": "code",
      "execution_count": 24,
      "metadata": {
        "id": "e_hw7-BzDnNB"
      },
      "outputs": [
        {
          "data": {
            "text/plain": [
              "[<KerasTensor shape=(None, 10000), dtype=float32, sparse=None, name=title>,\n",
              " <KerasTensor shape=(None, 10000), dtype=float32, sparse=None, name=text_body>,\n",
              " <KerasTensor shape=(None, 100), dtype=float32, sparse=None, name=tags>]"
            ]
          },
          "execution_count": 24,
          "metadata": {},
          "output_type": "execute_result"
        }
      ],
      "source": [
        "model.layers[3].input # printing the input of the 4th layer"
      ]
    },
    {
      "cell_type": "code",
      "execution_count": 25,
      "metadata": {
        "id": "DkVPtWL8DnNB"
      },
      "outputs": [
        {
          "data": {
            "text/plain": [
              "<KerasTensor shape=(None, 20100), dtype=float32, sparse=False, name=keras_tensor_14>"
            ]
          },
          "execution_count": 25,
          "metadata": {},
          "output_type": "execute_result"
        }
      ],
      "source": [
        "model.layers[3].output # printing the output of the 4th layer"
      ]
    },
    {
      "cell_type": "markdown",
      "metadata": {
        "id": "F23Th9xBDnNB"
      },
      "source": [
        "**Creating a new model by reusing intermediate layer outputs**"
      ]
    },
    {
      "cell_type": "code",
      "execution_count": 26,
      "metadata": {
        "id": "OfTgxy4xDnNB"
      },
      "outputs": [],
      "source": [
        "features = model.layers[4].output # getting the output of the 5th layer\n",
        "difficulty = layers.Dense(3, activation=\"softmax\", name=\"difficulty\")(features) # adding a dense layer with 3 neurons and softmax activation function for the difficulty\n",
        "\n",
        "new_model = keras.Model( # defining a new model with the input and output layers\n",
        "    inputs=[title, text_body, tags], # defining the input layers with title, text_body, and tags\n",
        "    outputs=[priority, department, difficulty]) # defining the output layers with priority, department, and difficulty"
      ]
    },
    {
      "cell_type": "code",
      "execution_count": 27,
      "metadata": {
        "id": "ECJQGgz7DnNB"
      },
      "outputs": [
        {
          "name": "stdout",
          "output_type": "stream",
          "text": [
            "You must install pydot (`pip install pydot`) for `plot_model` to work.\n"
          ]
        }
      ],
      "source": [
        "keras.utils.plot_model(new_model, \"updated_ticket_classifier.png\", show_shapes=True) # plotting the updated model with shape information and saving it as updated_ticket_classifier.png"
      ]
    },
    {
      "cell_type": "markdown",
      "metadata": {
        "id": "zQ1gSzzyDnNB"
      },
      "source": [
        "### Subclassing the Model class"
      ]
    },
    {
      "cell_type": "markdown",
      "metadata": {
        "id": "hgzaLKRGDnNB"
      },
      "source": [
        "#### Rewriting our previous example as a subclassed model"
      ]
    },
    {
      "cell_type": "markdown",
      "metadata": {
        "id": "vmURC5_uDnNB"
      },
      "source": [
        "**A simple subclassed model**"
      ]
    },
    {
      "cell_type": "code",
      "execution_count": 28,
      "metadata": {
        "id": "ywMHu6ISDnNB"
      },
      "outputs": [],
      "source": [
        "class CustomerTicketModel(keras.Model): # defining a custom model class\n",
        "\n",
        "    def __init__(self, num_departments): # defining the constructor with the number of departments as input \n",
        "        super().__init__() # calling the constructor of the parent class\n",
        "        self.concat_layer = layers.Concatenate() # concatenating the input layers\n",
        "        self.mixing_layer = layers.Dense(64, activation=\"relu\") # adding a dense layer with 64 neurons and relu activation function\n",
        "        self.priority_scorer = layers.Dense(1, activation=\"sigmoid\") # adding a dense layer with 1 neuron and sigmoid activation function for the priority\n",
        "        self.department_classifier = layers.Dense( # adding a dense layer for the department\n",
        "            num_departments, activation=\"softmax\") # with num_departments neurons and softmax activation function\n",
        "\n",
        "    def call(self, inputs): # defining the call method with inputs as input\n",
        "        title = inputs[\"title\"] # getting the title from the inputs\n",
        "        text_body = inputs[\"text_body\"] # getting the text body from the inputs\n",
        "        tags = inputs[\"tags\"] # getting the tags from the inputs\n",
        "\n",
        "        features = self.concat_layer([title, text_body, tags]) # concatenating the input layers\n",
        "        features = self.mixing_layer(features) # passing the concatenated features to the mixing layer\n",
        "        priority = self.priority_scorer(features) # passing the mixed features to the priority scorer\n",
        "        department = self.department_classifier(features) # passing the mixed features to the department classifier\n",
        "        return priority, department # returning the priority and department"
      ]
    },
    {
      "cell_type": "code",
      "execution_count": 29,
      "metadata": {
        "id": "p_xJQsdkDnNB"
      },
      "outputs": [],
      "source": [
        "model = CustomerTicketModel(num_departments=4) # creating an instance of the custom model class with 4 departments\n",
        "\n",
        "priority, department = model( # calling the model with the input data\n",
        "    {\"title\": title_data, \"text_body\": text_body_data, \"tags\": tags_data})"
      ]
    },
    {
      "cell_type": "code",
      "execution_count": 30,
      "metadata": {
        "id": "cV6EDTPtDnNB"
      },
      "outputs": [
        {
          "name": "stdout",
          "output_type": "stream",
          "text": [
            "\u001b[1m40/40\u001b[0m \u001b[32m━━━━━━━━━━━━━━━━━━━━\u001b[0m\u001b[37m\u001b[0m \u001b[1m1s\u001b[0m 8ms/step - accuracy: 0.1697 - loss: 50.1776 - mean_absolute_error: 0.4810\n",
            "\u001b[1m40/40\u001b[0m \u001b[32m━━━━━━━━━━━━━━━━━━━━\u001b[0m\u001b[37m\u001b[0m \u001b[1m0s\u001b[0m 3ms/step - accuracy: 0.2349 - loss: 24.3458 - mean_absolute_error: 0.5036\n",
            "\u001b[1m40/40\u001b[0m \u001b[32m━━━━━━━━━━━━━━━━━━━━\u001b[0m\u001b[37m\u001b[0m \u001b[1m0s\u001b[0m 2ms/step\n"
          ]
        }
      ],
      "source": [
        "model.compile(optimizer=\"rmsprop\", # compiling the model with rmsprop optimizer\n",
        "              loss=[\"mean_squared_error\", \"categorical_crossentropy\"], # defining the loss functions for the priority and department\n",
        "              metrics=[[\"mean_absolute_error\"], [\"accuracy\"]]) # defining the metrics for the priority and department\n",
        "model.fit({\"title\": title_data, # training the model with the input and output data\n",
        "           \"text_body\": text_body_data, \n",
        "           \"tags\": tags_data},\n",
        "          [priority_data, department_data], \n",
        "          epochs=1) # training the model for 1 epoch\n",
        "model.evaluate({\"title\": title_data, # evaluating the model with the input and output data\n",
        "                \"text_body\": text_body_data,\n",
        "                \"tags\": tags_data},\n",
        "               [priority_data, department_data]) \n",
        "priority_preds, department_preds = model.predict({\"title\": title_data, # predicting the priority and department with the input data\n",
        "                                                  \"text_body\": text_body_data, \n",
        "                                                  \"tags\": tags_data}) "
      ]
    },
    {
      "cell_type": "markdown",
      "metadata": {
        "id": "_ITMGJbcDnNC"
      },
      "source": [
        "#### Beware: What subclassed models don't support"
      ]
    },
    {
      "cell_type": "markdown",
      "metadata": {
        "id": "9I-4eHI9DnNC"
      },
      "source": [
        "### Mixing and matching different components"
      ]
    },
    {
      "cell_type": "markdown",
      "metadata": {
        "id": "WmyB-Q-hDnNC"
      },
      "source": [
        "**Creating a Functional model that includes a subclassed model**"
      ]
    },
    {
      "cell_type": "code",
      "execution_count": 31,
      "metadata": {
        "id": "AnFLDj5SDnNC"
      },
      "outputs": [],
      "source": [
        "class Classifier(keras.Model): # defining a custom model class\n",
        "\n",
        "    def __init__(self, num_classes=2): # defining the constructor with the number of classes as input\n",
        "        super().__init__() # calling the constructor of the parent class\n",
        "        if num_classes == 2: # if the number of classes is 2\n",
        "            num_units = 1 # set the number of units to 1\n",
        "            activation = \"sigmoid\" # set the activation function to sigmoid\n",
        "        else: # if the number of classes is not 2\n",
        "            num_units = num_classes # set the number of units to the number of classes\n",
        "            activation = \"softmax\" # set the activation function to softmax\n",
        "        self.dense = layers.Dense(num_units, activation=activation) # adding a dense layer with num_units neurons and the specified activation function\n",
        "\n",
        "    def call(self, inputs): # defining the call method with inputs as input\n",
        "        return self.dense(inputs) # returning the output of the dense layer\n",
        " \n",
        "inputs = keras.Input(shape=(3,)) # defining the input layer with input shape of (None, 3) because we have 3 features in the input data\n",
        "features = layers.Dense(64, activation=\"relu\")(inputs) # adding a dense layer with 64 neurons and relu activation function\n",
        "outputs = Classifier(num_classes=10)(features) # adding a custom classifier with 10 classes\n",
        "model = keras.Model(inputs=inputs, outputs=outputs) # defining the model with the input and output layers"
      ]
    },
    {
      "cell_type": "markdown",
      "metadata": {
        "id": "wjeG4WMtDnNC"
      },
      "source": [
        "**Creating a subclassed model that includes a Functional model**"
      ]
    },
    {
      "cell_type": "code",
      "execution_count": 32,
      "metadata": {
        "id": "AUpCv2PCDnNC"
      },
      "outputs": [],
      "source": [
        "inputs = keras.Input(shape=(64,)) # defining the input layer with input shape of (None, 64) because the output shape of the dense layer is (None, 64)\n",
        "outputs = layers.Dense(1, activation=\"sigmoid\")(inputs) # adding a dense layer with 1 neuron and sigmoid activation function\n",
        "binary_classifier = keras.Model(inputs=inputs, outputs=outputs) # defining a binary classifier model with the input and output layers\n",
        "\n",
        "class MyModel(keras.Model): # defining a custom model class\n",
        "\n",
        "    def __init__(self, num_classes=2): # defining the constructor with the number of classes as input\n",
        "        super().__init__() # calling the constructor of the parent class\n",
        "        self.dense = layers.Dense(64, activation=\"relu\") # adding a dense layer with 64 neurons and relu activation function\n",
        "        self.classifier = binary_classifier # adding a binary classifier\n",
        "\n",
        "    def call(self, inputs): # defining the call method with inputs as input\n",
        "        features = self.dense(inputs) # passing the inputs to the dense layer\n",
        "        return self.classifier(features) # passing the features to the binary classifier\n",
        "\n",
        "model = MyModel() # creating an instance of the custom model class"
      ]
    },
    {
      "cell_type": "markdown",
      "metadata": {
        "id": "YnpDwwNNDnNC"
      },
      "source": [
        "### Remember: Use the right tool for the job"
      ]
    },
    {
      "cell_type": "markdown",
      "metadata": {
        "id": "EfCULVzeDnNC"
      },
      "source": [
        "## Using built-in training and evaluation loops"
      ]
    },
    {
      "cell_type": "markdown",
      "metadata": {
        "id": "2IzbsZLiDnNC"
      },
      "source": [
        "**The standard workflow: `compile()`, `fit()`, `evaluate()`, `predict()`**"
      ]
    },
    {
      "cell_type": "code",
      "execution_count": 33,
      "metadata": {
        "id": "OrpckXLDDnNC"
      },
      "outputs": [
        {
          "name": "stdout",
          "output_type": "stream",
          "text": [
            "Epoch 1/3\n",
            "\u001b[1m1563/1563\u001b[0m \u001b[32m━━━━━━━━━━━━━━━━━━━━\u001b[0m\u001b[37m\u001b[0m \u001b[1m3s\u001b[0m 2ms/step - accuracy: 0.8673 - loss: 0.4428 - val_accuracy: 0.9578 - val_loss: 0.1454\n",
            "Epoch 2/3\n",
            "\u001b[1m1563/1563\u001b[0m \u001b[32m━━━━━━━━━━━━━━━━━━━━\u001b[0m\u001b[37m\u001b[0m \u001b[1m2s\u001b[0m 2ms/step - accuracy: 0.9510 - loss: 0.1706 - val_accuracy: 0.9689 - val_loss: 0.1075\n",
            "Epoch 3/3\n",
            "\u001b[1m1563/1563\u001b[0m \u001b[32m━━━━━━━━━━━━━━━━━━━━\u001b[0m\u001b[37m\u001b[0m \u001b[1m2s\u001b[0m 1ms/step - accuracy: 0.9652 - loss: 0.1257 - val_accuracy: 0.9744 - val_loss: 0.0962\n",
            "\u001b[1m313/313\u001b[0m \u001b[32m━━━━━━━━━━━━━━━━━━━━\u001b[0m\u001b[37m\u001b[0m \u001b[1m0s\u001b[0m 487us/step - accuracy: 0.9696 - loss: 0.1052\n",
            "\u001b[1m313/313\u001b[0m \u001b[32m━━━━━━━━━━━━━━━━━━━━\u001b[0m\u001b[37m\u001b[0m \u001b[1m0s\u001b[0m 444us/step\n"
          ]
        }
      ],
      "source": [
        "from tensorflow.keras.datasets import mnist # importing mnist dataset\n",
        "\n",
        "def get_mnist_model(): # defining a function to get the mnist model\n",
        "    inputs = keras.Input(shape=(28 * 28,)) # defining the input layer with input shape of (None, 28*28) because the input data has 28*28 features\n",
        "    features = layers.Dense(512, activation=\"relu\")(inputs) # adding a dense layer with 512 neurons and relu activation function\n",
        "    features = layers.Dropout(0.5)(features) # adding a dropout layer with a dropout rate of 0.5 (the most common rate)\n",
        "    outputs = layers.Dense(10, activation=\"softmax\")(features) # adding a dense layer with 10 neurons and softmax activation function\n",
        "    model = keras.Model(inputs, outputs) # defining the model with the input and output layers\n",
        "    return model # returning the model\n",
        "\n",
        "(images, labels), (test_images, test_labels) = mnist.load_data() # loading the mnist dataset\n",
        "images = images.reshape((60000, 28 * 28)).astype(\"float32\") / 255 # reshaping the images and normalizing them\n",
        "test_images = test_images.reshape((10000, 28 * 28)).astype(\"float32\") / 255 # reshaping the test images and normalizing them\n",
        "train_images, val_images = images[10000:], images[:10000] # splitting the images into training and validation sets\n",
        "train_labels, val_labels = labels[10000:], labels[:10000] # splitting the labels into training and validation sets\n",
        "\n",
        "model = get_mnist_model() # getting the mnist model\n",
        "model.compile(optimizer=\"rmsprop\", # compiling the model with rmsprop optimizer\n",
        "              loss=\"sparse_categorical_crossentropy\", # defining the loss function\n",
        "              metrics=[\"accuracy\"]) # defining the metrics\n",
        "model.fit(train_images, train_labels, # training the model with the training data\n",
        "          epochs=3, # training the model for 3 epochs\n",
        "          validation_data=(val_images, val_labels)) # validating the model with the validation data\n",
        "test_metrics = model.evaluate(test_images, test_labels) # evaluating the model with the test data\n",
        "predictions = model.predict(test_images) # predicting the test data"
      ]
    },
    {
      "cell_type": "markdown",
      "metadata": {
        "id": "9ZY57HchDnNC"
      },
      "source": [
        "### Writing your own metrics"
      ]
    },
    {
      "cell_type": "markdown",
      "metadata": {
        "id": "3h6cfCFrDnNC"
      },
      "source": [
        "**Implementing a custom metric by subclassing the `Metric` class**"
      ]
    },
    {
      "cell_type": "code",
      "execution_count": 34,
      "metadata": {
        "id": "VLpOvwslDnNC"
      },
      "outputs": [],
      "source": [
        "import tensorflow as tf # importing tensorflow package\n",
        "\n",
        "class RootMeanSquaredError(keras.metrics.Metric): # defining a custom metric class\n",
        "\n",
        "    def __init__(self, name=\"rmse\", **kwargs): # defining the constructor with the name and keyword arguments\n",
        "        super().__init__(name=name, **kwargs) # calling the constructor of the parent class\n",
        "        self.mse_sum = self.add_weight(name=\"mse_sum\", initializer=\"zeros\") # adding a weight for the mse sum\n",
        "        self.total_samples = self.add_weight( # adding a weight for the total number of samples\n",
        "            name=\"total_samples\", initializer=\"zeros\", dtype=\"int32\") # with dtype int32 for integer values \n",
        "\n",
        "    def update_state(self, y_true, y_pred, sample_weight=None): # defining the update state method with y_true, y_pred, and sample_weight as inputs\n",
        "        y_true = tf.one_hot(y_true, depth=tf.shape(y_pred)[1]) # converting the true labels to one-hot encoding\n",
        "        mse = tf.reduce_sum(tf.square(y_true - y_pred)) # calculating the mean squared error\n",
        "        self.mse_sum.assign_add(mse) # adding the mse to the mse sum\n",
        "        num_samples = tf.shape(y_pred)[0] # getting the number of samples\n",
        "        self.total_samples.assign_add(num_samples) # adding the number of samples to the total samples\n",
        "\n",
        "    def result(self): # defining the result method\n",
        "        return tf.sqrt(self.mse_sum / tf.cast(self.total_samples, tf.float32)) # returning the root mean squared error\n",
        "\n",
        "    def reset_state(self): # defining the reset state method\n",
        "        self.mse_sum.assign(0.) # assigning 0 to the mse sum\n",
        "        self.total_samples.assign(0) # assigning 0 to the total samples"
      ]
    },
    {
      "cell_type": "code",
      "execution_count": 35,
      "metadata": {
        "id": "QWCqtptnDnNC"
      },
      "outputs": [
        {
          "name": "stdout",
          "output_type": "stream",
          "text": [
            "Epoch 1/3\n",
            "\u001b[1m1563/1563\u001b[0m \u001b[32m━━━━━━━━━━━━━━━━━━━━\u001b[0m\u001b[37m\u001b[0m \u001b[1m4s\u001b[0m 2ms/step - accuracy: 0.8630 - loss: 0.4512 - rmse: 0.4404 - val_accuracy: 0.9582 - val_loss: 0.1434 - val_rmse: 0.2507\n",
            "Epoch 2/3\n",
            "\u001b[1m1563/1563\u001b[0m \u001b[32m━━━━━━━━━━━━━━━━━━━━\u001b[0m\u001b[37m\u001b[0m \u001b[1m3s\u001b[0m 2ms/step - accuracy: 0.9497 - loss: 0.1708 - rmse: 0.2746 - val_accuracy: 0.9659 - val_loss: 0.1166 - val_rmse: 0.2245\n",
            "Epoch 3/3\n",
            "\u001b[1m1563/1563\u001b[0m \u001b[32m━━━━━━━━━━━━━━━━━━━━\u001b[0m\u001b[37m\u001b[0m \u001b[1m3s\u001b[0m 2ms/step - accuracy: 0.9614 - loss: 0.1328 - rmse: 0.2421 - val_accuracy: 0.9720 - val_loss: 0.1035 - val_rmse: 0.2076\n",
            "\u001b[1m313/313\u001b[0m \u001b[32m━━━━━━━━━━━━━━━━━━━━\u001b[0m\u001b[37m\u001b[0m \u001b[1m0s\u001b[0m 461us/step - accuracy: 0.9695 - loss: 0.1035 - rmse: 0.2133\n"
          ]
        }
      ],
      "source": [
        "model = get_mnist_model() # getting the mnist model\n",
        "model.compile(optimizer=\"rmsprop\", # compiling the model with rmsprop optimizer\n",
        "              loss=\"sparse_categorical_crossentropy\", # defining the loss function\n",
        "              metrics=[\"accuracy\", RootMeanSquaredError()]) # defining the metrics with accuracy and the custom metric\n",
        "model.fit(train_images, train_labels, # training the model with the training data\n",
        "          epochs=3, # training the model for 3 epochs\n",
        "          validation_data=(val_images, val_labels)) # validating the model with the validation data\n",
        "test_metrics = model.evaluate(test_images, test_labels) # evaluating the model with the test data"
      ]
    },
    {
      "cell_type": "markdown",
      "metadata": {
        "id": "wIWPMXqsDnNC"
      },
      "source": [
        "### Using callbacks"
      ]
    },
    {
      "cell_type": "markdown",
      "metadata": {
        "id": "JCzNIthADnNC"
      },
      "source": [
        "#### The EarlyStopping and ModelCheckpoint callbacks"
      ]
    },
    {
      "cell_type": "markdown",
      "metadata": {
        "id": "kzGnPZPWDnNC"
      },
      "source": [
        "**Using the `callbacks` argument in the `fit()` method**"
      ]
    },
    {
      "cell_type": "code",
      "execution_count": 36,
      "metadata": {
        "id": "wf7BuvXUDnNC"
      },
      "outputs": [
        {
          "name": "stdout",
          "output_type": "stream",
          "text": [
            "Epoch 1/10\n",
            "\u001b[1m1563/1563\u001b[0m \u001b[32m━━━━━━━━━━━━━━━━━━━━\u001b[0m\u001b[37m\u001b[0m \u001b[1m3s\u001b[0m 2ms/step - accuracy: 0.8650 - loss: 0.4452 - val_accuracy: 0.9575 - val_loss: 0.1432\n",
            "Epoch 2/10\n",
            "\u001b[1m1563/1563\u001b[0m \u001b[32m━━━━━━━━━━━━━━━━━━━━\u001b[0m\u001b[37m\u001b[0m \u001b[1m3s\u001b[0m 2ms/step - accuracy: 0.9525 - loss: 0.1660 - val_accuracy: 0.9666 - val_loss: 0.1160\n",
            "Epoch 3/10\n",
            "\u001b[1m1563/1563\u001b[0m \u001b[32m━━━━━━━━━━━━━━━━━━━━\u001b[0m\u001b[37m\u001b[0m \u001b[1m2s\u001b[0m 1ms/step - accuracy: 0.9617 - loss: 0.1338 - val_accuracy: 0.9728 - val_loss: 0.1023\n",
            "Epoch 4/10\n",
            "\u001b[1m1563/1563\u001b[0m \u001b[32m━━━━━━━━━━━━━━━━━━━━\u001b[0m\u001b[37m\u001b[0m \u001b[1m3s\u001b[0m 2ms/step - accuracy: 0.9674 - loss: 0.1173 - val_accuracy: 0.9753 - val_loss: 0.0983\n",
            "Epoch 5/10\n",
            "\u001b[1m1563/1563\u001b[0m \u001b[32m━━━━━━━━━━━━━━━━━━━━\u001b[0m\u001b[37m\u001b[0m \u001b[1m3s\u001b[0m 2ms/step - accuracy: 0.9729 - loss: 0.1011 - val_accuracy: 0.9761 - val_loss: 0.0910\n",
            "Epoch 6/10\n",
            "\u001b[1m1563/1563\u001b[0m \u001b[32m━━━━━━━━━━━━━━━━━━━━\u001b[0m\u001b[37m\u001b[0m \u001b[1m2s\u001b[0m 2ms/step - accuracy: 0.9757 - loss: 0.0895 - val_accuracy: 0.9779 - val_loss: 0.0927\n",
            "Epoch 7/10\n",
            "\u001b[1m1563/1563\u001b[0m \u001b[32m━━━━━━━━━━━━━━━━━━━━\u001b[0m\u001b[37m\u001b[0m \u001b[1m2s\u001b[0m 2ms/step - accuracy: 0.9758 - loss: 0.0887 - val_accuracy: 0.9794 - val_loss: 0.0837\n",
            "Epoch 8/10\n",
            "\u001b[1m1563/1563\u001b[0m \u001b[32m━━━━━━━━━━━━━━━━━━━━\u001b[0m\u001b[37m\u001b[0m \u001b[1m3s\u001b[0m 2ms/step - accuracy: 0.9794 - loss: 0.0797 - val_accuracy: 0.9772 - val_loss: 0.0949\n",
            "Epoch 9/10\n",
            "\u001b[1m1563/1563\u001b[0m \u001b[32m━━━━━━━━━━━━━━━━━━━━\u001b[0m\u001b[37m\u001b[0m \u001b[1m3s\u001b[0m 2ms/step - accuracy: 0.9786 - loss: 0.0809 - val_accuracy: 0.9785 - val_loss: 0.1009\n"
          ]
        },
        {
          "data": {
            "text/plain": [
              "<keras.src.callbacks.history.History at 0x2e7163290>"
            ]
          },
          "execution_count": 36,
          "metadata": {},
          "output_type": "execute_result"
        }
      ],
      "source": [
        "callbacks_list = [ # defining a list of callbacks\n",
        "    keras.callbacks.EarlyStopping( # adding an early stopping callback\n",
        "        monitor=\"val_accuracy\", # monitoring the validation accuracy\n",
        "        patience=2, # waiting for 2 epochs without improvement\n",
        "    ),\n",
        "    keras.callbacks.ModelCheckpoint( # adding a model checkpoint callback\n",
        "        filepath=\"checkpoint_path.keras\", # saving the model to the specified path\n",
        "        monitor=\"val_loss\", # monitoring the validation loss\n",
        "        save_best_only=True, # saving only the best model\n",
        "    )\n",
        "]\n",
        "model = get_mnist_model() # getting the mnist model\n",
        "model.compile(optimizer=\"rmsprop\", # compiling the model with rmsprop optimizer\n",
        "              loss=\"sparse_categorical_crossentropy\", # defining the loss function\n",
        "              metrics=[\"accuracy\"]) # defining the metrics\n",
        "model.fit(train_images, train_labels, # training the model with the training data\n",
        "          epochs=10, # training the model for 10 epochs\n",
        "          callbacks=callbacks_list, # using the callbacks list\n",
        "          validation_data=(val_images, val_labels)) # validating the model with the validation data"
      ]
    },
    {
      "cell_type": "code",
      "execution_count": 37,
      "metadata": {
        "id": "yZr2tuOzDnND"
      },
      "outputs": [],
      "source": [
        "model = keras.models.load_model(\"checkpoint_path.keras\") # loading the best model from the checkpoint path"
      ]
    },
    {
      "cell_type": "markdown",
      "metadata": {
        "id": "Nb5YCf7MDnND"
      },
      "source": [
        "### Writing your own callbacks"
      ]
    },
    {
      "cell_type": "markdown",
      "metadata": {
        "id": "pJNiNEYBDnND"
      },
      "source": [
        "**Creating a custom callback by subclassing the `Callback` class**"
      ]
    },
    {
      "cell_type": "code",
      "execution_count": 38,
      "metadata": {
        "id": "HkTmaKlUDnND"
      },
      "outputs": [],
      "source": [
        "from matplotlib import pyplot as plt # importing pyplot from matplotlib package\n",
        "\n",
        "class LossHistory(keras.callbacks.Callback): # defining a custom callback class\n",
        "    def on_train_begin(self, logs): # defining the on train begin method with logs as input\n",
        "        self.per_batch_losses = [] # initializing the list of per batch losses\n",
        "\n",
        "    def on_batch_end(self, batch, logs): # defining the on batch end method with batch and logs as inputs\n",
        "        self.per_batch_losses.append(logs.get(\"loss\")) # appending the loss to the list of per batch losses\n",
        "\n",
        "    def on_epoch_end(self, epoch, logs): # defining the on epoch end method with epoch and logs as inputs\n",
        "        plt.clf() # clearing the current figure\n",
        "        plt.plot(range(len(self.per_batch_losses)), self.per_batch_losses, # plotting the per batch losses for the epoch \n",
        "                 label=\"Training loss for each batch\") # adding a label for the plot\n",
        "        plt.xlabel(f\"Batch (epoch {epoch})\") # setting the x-axis label\n",
        "        plt.ylabel(\"Loss\") # setting the y-axis label\n",
        "        plt.legend() # adding a legend to the plot\n",
        "        plt.savefig(f\"plot_at_epoch_{epoch}\") # saving the plot as a file\n",
        "        self.per_batch_losses = [] # resetting the list of per batch losses"
      ]
    },
    {
      "cell_type": "code",
      "execution_count": 39,
      "metadata": {
        "id": "XrlQnOiyDnND"
      },
      "outputs": [
        {
          "name": "stdout",
          "output_type": "stream",
          "text": [
            "Epoch 1/10\n",
            "\u001b[1m1563/1563\u001b[0m \u001b[32m━━━━━━━━━━━━━━━━━━━━\u001b[0m\u001b[37m\u001b[0m \u001b[1m3s\u001b[0m 2ms/step - accuracy: 0.8633 - loss: 0.4522 - val_accuracy: 0.9597 - val_loss: 0.1458\n",
            "Epoch 2/10\n",
            "\u001b[1m  44/1563\u001b[0m \u001b[37m━━━━━━━━━━━━━━━━━━━━\u001b[0m \u001b[1m3s\u001b[0m 2ms/step - accuracy: 0.9597 - loss: 0.1452"
          ]
        },
        {
          "name": "stderr",
          "output_type": "stream",
          "text": [
            "/var/folders/5j/v9msxv8n6jv_3409lgk47xph0000gn/T/ipykernel_69949/3405740079.py:17: MatplotlibDeprecationWarning: savefig() got unexpected keyword argument \"facecolor\" which is no longer supported as of 3.3 and will become an error two minor releases later\n",
            "  plt.savefig(f\"plot_at_epoch_{epoch}\")\n",
            "/var/folders/5j/v9msxv8n6jv_3409lgk47xph0000gn/T/ipykernel_69949/3405740079.py:17: MatplotlibDeprecationWarning: savefig() got unexpected keyword argument \"edgecolor\" which is no longer supported as of 3.3 and will become an error two minor releases later\n",
            "  plt.savefig(f\"plot_at_epoch_{epoch}\")\n",
            "/var/folders/5j/v9msxv8n6jv_3409lgk47xph0000gn/T/ipykernel_69949/3405740079.py:17: MatplotlibDeprecationWarning: savefig() got unexpected keyword argument \"orientation\" which is no longer supported as of 3.3 and will become an error two minor releases later\n",
            "  plt.savefig(f\"plot_at_epoch_{epoch}\")\n",
            "/var/folders/5j/v9msxv8n6jv_3409lgk47xph0000gn/T/ipykernel_69949/3405740079.py:17: MatplotlibDeprecationWarning: savefig() got unexpected keyword argument \"bbox_inches_restore\" which is no longer supported as of 3.3 and will become an error two minor releases later\n",
            "  plt.savefig(f\"plot_at_epoch_{epoch}\")\n"
          ]
        },
        {
          "name": "stdout",
          "output_type": "stream",
          "text": [
            "\u001b[1m1563/1563\u001b[0m \u001b[32m━━━━━━━━━━━━━━━━━━━━\u001b[0m\u001b[37m\u001b[0m \u001b[1m3s\u001b[0m 2ms/step - accuracy: 0.9532 - loss: 0.1624 - val_accuracy: 0.9689 - val_loss: 0.1131\n",
            "Epoch 3/10\n",
            "\u001b[1m1563/1563\u001b[0m \u001b[32m━━━━━━━━━━━━━━━━━━━━\u001b[0m\u001b[37m\u001b[0m \u001b[1m2s\u001b[0m 2ms/step - accuracy: 0.9614 - loss: 0.1328 - val_accuracy: 0.9695 - val_loss: 0.1142\n",
            "Epoch 4/10\n",
            "\u001b[1m1563/1563\u001b[0m \u001b[32m━━━━━━━━━━━━━━━━━━━━\u001b[0m\u001b[37m\u001b[0m \u001b[1m3s\u001b[0m 2ms/step - accuracy: 0.9690 - loss: 0.1102 - val_accuracy: 0.9731 - val_loss: 0.0986\n",
            "Epoch 5/10\n",
            "\u001b[1m1563/1563\u001b[0m \u001b[32m━━━━━━━━━━━━━━━━━━━━\u001b[0m\u001b[37m\u001b[0m \u001b[1m2s\u001b[0m 2ms/step - accuracy: 0.9718 - loss: 0.1005 - val_accuracy: 0.9750 - val_loss: 0.0942\n",
            "Epoch 6/10\n",
            "\u001b[1m1563/1563\u001b[0m \u001b[32m━━━━━━━━━━━━━━━━━━━━\u001b[0m\u001b[37m\u001b[0m \u001b[1m3s\u001b[0m 2ms/step - accuracy: 0.9741 - loss: 0.0937 - val_accuracy: 0.9781 - val_loss: 0.0888\n",
            "Epoch 7/10\n",
            "\u001b[1m1563/1563\u001b[0m \u001b[32m━━━━━━━━━━━━━━━━━━━━\u001b[0m\u001b[37m\u001b[0m \u001b[1m2s\u001b[0m 2ms/step - accuracy: 0.9763 - loss: 0.0854 - val_accuracy: 0.9757 - val_loss: 0.0981\n",
            "Epoch 8/10\n",
            "\u001b[1m1563/1563\u001b[0m \u001b[32m━━━━━━━━━━━━━━━━━━━━\u001b[0m\u001b[37m\u001b[0m \u001b[1m3s\u001b[0m 2ms/step - accuracy: 0.9761 - loss: 0.0835 - val_accuracy: 0.9775 - val_loss: 0.0917\n",
            "Epoch 9/10\n",
            "\u001b[1m1563/1563\u001b[0m \u001b[32m━━━━━━━━━━━━━━━━━━━━\u001b[0m\u001b[37m\u001b[0m \u001b[1m3s\u001b[0m 2ms/step - accuracy: 0.9799 - loss: 0.0716 - val_accuracy: 0.9785 - val_loss: 0.0947\n",
            "Epoch 10/10\n",
            "\u001b[1m1563/1563\u001b[0m \u001b[32m━━━━━━━━━━━━━━━━━━━━\u001b[0m\u001b[37m\u001b[0m \u001b[1m3s\u001b[0m 2ms/step - accuracy: 0.9810 - loss: 0.0705 - val_accuracy: 0.9789 - val_loss: 0.0975\n"
          ]
        },
        {
          "data": {
            "text/plain": [
              "<keras.src.callbacks.history.History at 0x2a1f510d0>"
            ]
          },
          "execution_count": 39,
          "metadata": {},
          "output_type": "execute_result"
        },
        {
          "name": "stderr",
          "output_type": "stream",
          "text": [
            "/Users/miakuntz/Library/Python/3.11/lib/python/site-packages/IPython/core/pylabtools.py:152: MatplotlibDeprecationWarning: savefig() got unexpected keyword argument \"orientation\" which is no longer supported as of 3.3 and will become an error two minor releases later\n",
            "  fig.canvas.print_figure(bytes_io, **kw)\n",
            "/Users/miakuntz/Library/Python/3.11/lib/python/site-packages/IPython/core/pylabtools.py:152: MatplotlibDeprecationWarning: savefig() got unexpected keyword argument \"facecolor\" which is no longer supported as of 3.3 and will become an error two minor releases later\n",
            "  fig.canvas.print_figure(bytes_io, **kw)\n",
            "/Users/miakuntz/Library/Python/3.11/lib/python/site-packages/IPython/core/pylabtools.py:152: MatplotlibDeprecationWarning: savefig() got unexpected keyword argument \"edgecolor\" which is no longer supported as of 3.3 and will become an error two minor releases later\n",
            "  fig.canvas.print_figure(bytes_io, **kw)\n",
            "/Users/miakuntz/Library/Python/3.11/lib/python/site-packages/IPython/core/pylabtools.py:152: MatplotlibDeprecationWarning: savefig() got unexpected keyword argument \"bbox_inches_restore\" which is no longer supported as of 3.3 and will become an error two minor releases later\n",
            "  fig.canvas.print_figure(bytes_io, **kw)\n"
          ]
        },
        {
          "data": {
            "image/png": "[encoded data removed]",
            "text/plain": [
              "<Figure size 640x480 with 1 Axes>"
            ]
          },
          "metadata": {},
          "output_type": "display_data"
        }
      ],
      "source": [
        "model = get_mnist_model() # getting the mnist model\n",
        "model.compile(optimizer=\"rmsprop\", # compiling the model with rmsprop optimizer\n",
        "              loss=\"sparse_categorical_crossentropy\", # defining the loss function\n",
        "              metrics=[\"accuracy\"]) # defining the metrics\n",
        "model.fit(train_images, train_labels, # training the model with the training data\n",
        "          epochs=10, # training the model for 10 epochs\n",
        "          callbacks=[LossHistory()], # using the custom callback\n",
        "          validation_data=(val_images, val_labels)) # validating the model with the validation data"
      ]
    },
    {
      "cell_type": "markdown",
      "metadata": {
        "id": "OPMDIDYGDnND"
      },
      "source": [
        "### Monitoring and visualization with TensorBoard"
      ]
    },
    {
      "cell_type": "code",
      "execution_count": 40,
      "metadata": {
        "id": "ksZFkhwmDnND"
      },
      "outputs": [
        {
          "name": "stderr",
          "output_type": "stream",
          "text": [
            "2024-04-02 14:39:50.370004: W tensorflow/core/framework/op_kernel.cc:1839] OP_REQUIRES failed at summary_kernels.cc:65 : PERMISSION_DENIED: /full_path_to_your_log_dir; Read-only file system\n",
            "2024-04-02 14:39:50.370020: W tensorflow/core/framework/local_rendezvous.cc:404] Local rendezvous is aborting with status: PERMISSION_DENIED: /full_path_to_your_log_dir; Read-only file system\n"
          ]
        },
        {
          "ename": "PermissionDeniedError",
          "evalue": "{{function_node __wrapped__CreateSummaryFileWriter_device_/job:localhost/replica:0/task:0/device:CPU:0}} /full_path_to_your_log_dir; Read-only file system [Op:CreateSummaryFileWriter] name: ",
          "output_type": "error",
          "traceback": [
            "\u001b[0;31m---------------------------------------------------------------------------\u001b[0m",
            "\u001b[0;31mPermissionDeniedError\u001b[0m                     Traceback (most recent call last)",
            "\u001b[1;32m/Users/miakuntz/Documents/UNI/8. semester/machine learning for business intelligence 2/machine_learning_2/nbs/ch.07_working_with_keras.ipynb Cell 79\u001b[0m line \u001b[0;36m9\n\u001b[1;32m      <a href='vscode-notebook-cell:/Users/miakuntz/Documents/UNI/8.%20semester/machine%20learning%20for%20business%20intelligence%202/machine_learning_2/nbs/ch.07_working_with_keras.ipynb#Y141sZmlsZQ%3D%3D?line=1'>2</a>\u001b[0m model\u001b[39m.\u001b[39mcompile(optimizer\u001b[39m=\u001b[39m\u001b[39m\"\u001b[39m\u001b[39mrmsprop\u001b[39m\u001b[39m\"\u001b[39m,\n\u001b[1;32m      <a href='vscode-notebook-cell:/Users/miakuntz/Documents/UNI/8.%20semester/machine%20learning%20for%20business%20intelligence%202/machine_learning_2/nbs/ch.07_working_with_keras.ipynb#Y141sZmlsZQ%3D%3D?line=2'>3</a>\u001b[0m               loss\u001b[39m=\u001b[39m\u001b[39m\"\u001b[39m\u001b[39msparse_categorical_crossentropy\u001b[39m\u001b[39m\"\u001b[39m,\n\u001b[1;32m      <a href='vscode-notebook-cell:/Users/miakuntz/Documents/UNI/8.%20semester/machine%20learning%20for%20business%20intelligence%202/machine_learning_2/nbs/ch.07_working_with_keras.ipynb#Y141sZmlsZQ%3D%3D?line=3'>4</a>\u001b[0m               metrics\u001b[39m=\u001b[39m[\u001b[39m\"\u001b[39m\u001b[39maccuracy\u001b[39m\u001b[39m\"\u001b[39m])\n\u001b[1;32m      <a href='vscode-notebook-cell:/Users/miakuntz/Documents/UNI/8.%20semester/machine%20learning%20for%20business%20intelligence%202/machine_learning_2/nbs/ch.07_working_with_keras.ipynb#Y141sZmlsZQ%3D%3D?line=5'>6</a>\u001b[0m tensorboard \u001b[39m=\u001b[39m keras\u001b[39m.\u001b[39mcallbacks\u001b[39m.\u001b[39mTensorBoard(\n\u001b[1;32m      <a href='vscode-notebook-cell:/Users/miakuntz/Documents/UNI/8.%20semester/machine%20learning%20for%20business%20intelligence%202/machine_learning_2/nbs/ch.07_working_with_keras.ipynb#Y141sZmlsZQ%3D%3D?line=6'>7</a>\u001b[0m     log_dir\u001b[39m=\u001b[39m\u001b[39m\"\u001b[39m\u001b[39m/full_path_to_your_log_dir\u001b[39m\u001b[39m\"\u001b[39m,\n\u001b[1;32m      <a href='vscode-notebook-cell:/Users/miakuntz/Documents/UNI/8.%20semester/machine%20learning%20for%20business%20intelligence%202/machine_learning_2/nbs/ch.07_working_with_keras.ipynb#Y141sZmlsZQ%3D%3D?line=7'>8</a>\u001b[0m )\n\u001b[0;32m----> <a href='vscode-notebook-cell:/Users/miakuntz/Documents/UNI/8.%20semester/machine%20learning%20for%20business%20intelligence%202/machine_learning_2/nbs/ch.07_working_with_keras.ipynb#Y141sZmlsZQ%3D%3D?line=8'>9</a>\u001b[0m model\u001b[39m.\u001b[39;49mfit(train_images, train_labels,\n\u001b[1;32m     <a href='vscode-notebook-cell:/Users/miakuntz/Documents/UNI/8.%20semester/machine%20learning%20for%20business%20intelligence%202/machine_learning_2/nbs/ch.07_working_with_keras.ipynb#Y141sZmlsZQ%3D%3D?line=9'>10</a>\u001b[0m           epochs\u001b[39m=\u001b[39;49m\u001b[39m10\u001b[39;49m,\n\u001b[1;32m     <a href='vscode-notebook-cell:/Users/miakuntz/Documents/UNI/8.%20semester/machine%20learning%20for%20business%20intelligence%202/machine_learning_2/nbs/ch.07_working_with_keras.ipynb#Y141sZmlsZQ%3D%3D?line=10'>11</a>\u001b[0m           validation_data\u001b[39m=\u001b[39;49m(val_images, val_labels),\n\u001b[1;32m     <a href='vscode-notebook-cell:/Users/miakuntz/Documents/UNI/8.%20semester/machine%20learning%20for%20business%20intelligence%202/machine_learning_2/nbs/ch.07_working_with_keras.ipynb#Y141sZmlsZQ%3D%3D?line=11'>12</a>\u001b[0m           callbacks\u001b[39m=\u001b[39;49m[tensorboard])\n",
            "File \u001b[0;32m~/Library/Python/3.11/lib/python/site-packages/keras/src/utils/traceback_utils.py:122\u001b[0m, in \u001b[0;36mfilter_traceback.<locals>.error_handler\u001b[0;34m(*args, **kwargs)\u001b[0m\n\u001b[1;32m    119\u001b[0m     filtered_tb \u001b[39m=\u001b[39m _process_traceback_frames(e\u001b[39m.\u001b[39m__traceback__)\n\u001b[1;32m    120\u001b[0m     \u001b[39m# To get the full stack trace, call:\u001b[39;00m\n\u001b[1;32m    121\u001b[0m     \u001b[39m# `keras.config.disable_traceback_filtering()`\u001b[39;00m\n\u001b[0;32m--> 122\u001b[0m     \u001b[39mraise\u001b[39;00m e\u001b[39m.\u001b[39mwith_traceback(filtered_tb) \u001b[39mfrom\u001b[39;00m \u001b[39mNone\u001b[39m\n\u001b[1;32m    123\u001b[0m \u001b[39mfinally\u001b[39;00m:\n\u001b[1;32m    124\u001b[0m     \u001b[39mdel\u001b[39;00m filtered_tb\n",
            "File \u001b[0;32m~/Library/Python/3.11/lib/python/site-packages/tensorflow/python/framework/ops.py:5983\u001b[0m, in \u001b[0;36mraise_from_not_ok_status\u001b[0;34m(e, name)\u001b[0m\n\u001b[1;32m   5981\u001b[0m \u001b[39mdef\u001b[39;00m \u001b[39mraise_from_not_ok_status\u001b[39m(e, name) \u001b[39m-\u001b[39m\u001b[39m>\u001b[39m NoReturn:\n\u001b[1;32m   5982\u001b[0m   e\u001b[39m.\u001b[39mmessage \u001b[39m+\u001b[39m\u001b[39m=\u001b[39m (\u001b[39m\"\u001b[39m\u001b[39m name: \u001b[39m\u001b[39m\"\u001b[39m \u001b[39m+\u001b[39m \u001b[39mstr\u001b[39m(name \u001b[39mif\u001b[39;00m name \u001b[39mis\u001b[39;00m \u001b[39mnot\u001b[39;00m \u001b[39mNone\u001b[39;00m \u001b[39melse\u001b[39;00m \u001b[39m\"\u001b[39m\u001b[39m\"\u001b[39m))\n\u001b[0;32m-> 5983\u001b[0m   \u001b[39mraise\u001b[39;00m core\u001b[39m.\u001b[39m_status_to_exception(e) \u001b[39mfrom\u001b[39;00m \u001b[39mNone\u001b[39m\n",
            "\u001b[0;31mPermissionDeniedError\u001b[0m: {{function_node __wrapped__CreateSummaryFileWriter_device_/job:localhost/replica:0/task:0/device:CPU:0}} /full_path_to_your_log_dir; Read-only file system [Op:CreateSummaryFileWriter] name: "
          ]
        }
      ],
      "source": [
        "model = get_mnist_model() # getting the mnist model\n",
        "model.compile(optimizer=\"rmsprop\", # compiling the model with rmsprop optimizer\n",
        "              loss=\"sparse_categorical_crossentropy\", # defining the loss function\n",
        "              metrics=[\"accuracy\"]) # defining the metrics\n",
        "\n",
        "tensorboard = keras.callbacks.TensorBoard( # defining a tensorboard callback\n",
        "    log_dir=\"/full_path_to_your_log_dir\", # specifying the log directory\n",
        ")\n",
        "model.fit(train_images, train_labels, # training the model with the training data\n",
        "          epochs=10, # training the model for 10 epochs\n",
        "          validation_data=(val_images, val_labels), # validating the model with the validation data\n",
        "          callbacks=[tensorboard]) # using the tensorboard callback"
      ]
    },
    {
      "cell_type": "code",
      "execution_count": null,
      "metadata": {
        "id": "NsE8cJEwDnND"
      },
      "outputs": [],
      "source": [
        "%load_ext tensorboard # loading the tensorboard extension\n",
        "%tensorboard --logdir /full_path_to_your_log_dir # running the tensorboard with the specified log directory"
      ]
    },
    {
      "cell_type": "markdown",
      "metadata": {
        "id": "W795rwQ5DnND"
      },
      "source": [
        "## Writing your own training and evaluation loops"
      ]
    },
    {
      "cell_type": "markdown",
      "metadata": {
        "id": "-zsVYn8HDnND"
      },
      "source": [
        "### Training versus inference"
      ]
    },
    {
      "cell_type": "markdown",
      "metadata": {
        "id": "kyDSJ6OXDnND"
      },
      "source": [
        "### Low-level usage of metrics"
      ]
    },
    {
      "cell_type": "code",
      "execution_count": null,
      "metadata": {
        "id": "osbVG5wrDnND"
      },
      "outputs": [],
      "source": [
        "metric = keras.metrics.SparseCategoricalAccuracy() # defining a sparse categorical accuracy metric\n",
        "targets = [0, 1, 2] # defining the target labels\n",
        "predictions = [[1, 0, 0], [0, 1, 0], [0, 0, 1]] # defining the predicted labels\n",
        "metric.update_state(targets, predictions) # updating the metric with the targets and predictions\n",
        "current_result = metric.result() # getting the current result of the metric\n",
        "print(f\"result: {current_result:.2f}\") # printing the current result of the metric"
      ]
    },
    {
      "cell_type": "code",
      "execution_count": null,
      "metadata": {
        "id": "gVI3iyOgDnND"
      },
      "outputs": [],
      "source": [
        "values = [0, 1, 2, 3, 4] # defining a list of values\n",
        "mean_tracker = keras.metrics.Mean() # defining a mean metric\n",
        "for value in values: # iterating over the values\n",
        "    mean_tracker.update_state(value) # updating the mean metric with the value\n",
        "print(f\"Mean of values: {mean_tracker.result():.2f}\") # printing the mean of the values"
      ]
    },
    {
      "cell_type": "markdown",
      "metadata": {
        "id": "k7evRYIUDnND"
      },
      "source": [
        "### A complete training and evaluation loop"
      ]
    },
    {
      "cell_type": "markdown",
      "metadata": {
        "id": "cNolBterDnND"
      },
      "source": [
        "**Writing a step-by-step training loop: the training step function**"
      ]
    },
    {
      "cell_type": "code",
      "execution_count": null,
      "metadata": {
        "id": "4J4mkLcbDnND"
      },
      "outputs": [],
      "source": [
        "model = get_mnist_model() # getting the mnist model\n",
        "\n",
        "loss_fn = keras.losses.SparseCategoricalCrossentropy() # defining a sparse categorical crossentropy loss function\n",
        "optimizer = keras.optimizers.RMSprop() # defining an RMSprop optimizer\n",
        "metrics = [keras.metrics.SparseCategoricalAccuracy()] # defining a sparse categorical accuracy metric\n",
        "loss_tracking_metric = keras.metrics.Mean() # defining a mean metric for tracking the loss\n",
        "\n",
        "def train_step(inputs, targets): # defining a training step function with inputs and targets as inputs\n",
        "    with tf.GradientTape() as tape: # using a gradient tape to record the operations\n",
        "        predictions = model(inputs, training=True) # getting the predictions from the model\n",
        "        loss = loss_fn(targets, predictions) # calculating the loss\n",
        "    gradients = tape.gradient(loss, model.trainable_weights) # calculating the gradients\n",
        "    optimizer.apply_gradients(zip(gradients, model.trainable_weights)) # applying the gradients\n",
        "\n",
        "    logs = {} # initializing a dictionary for logs\n",
        "    for metric in metrics: # iterating over the metrics\n",
        "        metric.update_state(targets, predictions) # updating the metric with the targets and predictions\n",
        "        logs[metric.name] = metric.result() # adding the metric result to the logs\n",
        "\n",
        "    loss_tracking_metric.update_state(loss) # updating the loss tracking metric with the loss\n",
        "    logs[\"loss\"] = loss_tracking_metric.result() # adding the loss to the logs\n",
        "    return logs # returning the logs"
      ]
    },
    {
      "cell_type": "markdown",
      "metadata": {
        "id": "D6YFIZMNDnND"
      },
      "source": [
        "**Writing a step-by-step training loop: resetting the metrics**"
      ]
    },
    {
      "cell_type": "code",
      "execution_count": null,
      "metadata": {
        "id": "0h589VrkDnND"
      },
      "outputs": [],
      "source": [
        "def reset_metrics(): # defining a function to reset the metrics\n",
        "    for metric in metrics: # iterating over the metrics\n",
        "        metric.reset_state() # resetting the state of the metric\n",
        "    loss_tracking_metric.reset_state() # resetting the state of the loss tracking metric"
      ]
    },
    {
      "cell_type": "markdown",
      "metadata": {
        "id": "CaU-26JfDnND"
      },
      "source": [
        "**Writing a step-by-step training loop: the loop itself**"
      ]
    },
    {
      "cell_type": "code",
      "execution_count": null,
      "metadata": {
        "id": "xb-ss_FvDnNE"
      },
      "outputs": [],
      "source": [
        "training_dataset = tf.data.Dataset.from_tensor_slices((train_images, train_labels)) # creating a training dataset\n",
        "training_dataset = training_dataset.batch(32) # batching the training dataset into batches of size 32 because it is a common batch size for training \n",
        "epochs = 3 # defining the number of epochs\n",
        "for epoch in range(epochs): # iterating over the epochs\n",
        "    reset_metrics() # resetting the metrics\n",
        "    for inputs_batch, targets_batch in training_dataset: # iterating over the training dataset\n",
        "        logs = train_step(inputs_batch, targets_batch) # performing a training step\n",
        "    print(f\"Results at the end of epoch {epoch}\") # printing the results at the end of the epoch\n",
        "    for key, value in logs.items(): # iterating over the logs\n",
        "        print(f\"...{key}: {value:.4f}\") # printing the key and value"
      ]
    },
    {
      "cell_type": "markdown",
      "metadata": {
        "id": "VJDLECmSDnNE"
      },
      "source": [
        "**Writing a step-by-step evaluation loop**"
      ]
    },
    {
      "cell_type": "code",
      "execution_count": null,
      "metadata": {
        "id": "8BUJA10IDnNE"
      },
      "outputs": [],
      "source": [
        "def test_step(inputs, targets): # defining a test step function with inputs and targets as inputs\n",
        "    predictions = model(inputs, training=False) # getting the predictions from the model\n",
        "    loss = loss_fn(targets, predictions) # calculating the loss\n",
        "\n",
        "    logs = {} # initializing a dictionary for logs\n",
        "    for metric in metrics: # iterating over the metrics\n",
        "        metric.update_state(targets, predictions) # updating the metric with the targets and predictions\n",
        "        logs[\"val_\" + metric.name] = metric.result() # adding the metric result to the logs\n",
        "\n",
        "    loss_tracking_metric.update_state(loss) # updating the loss tracking metric with the loss\n",
        "    logs[\"val_loss\"] = loss_tracking_metric.result() # adding the loss to the logs\n",
        "    return logs # returning the logs\n",
        "\n",
        "val_dataset = tf.data.Dataset.from_tensor_slices((val_images, val_labels)) # creating a validation dataset\n",
        "val_dataset = val_dataset.batch(32) # batching the validation dataset into batches of size 32 because it is a common batch size for validation\n",
        "reset_metrics() # resetting the metrics\n",
        "for inputs_batch, targets_batch in val_dataset: # iterating over the validation dataset\n",
        "    logs = test_step(inputs_batch, targets_batch) # performing a test step\n",
        "print(\"Evaluation results:\") # printing the evaluation results\n",
        "for key, value in logs.items(): # iterating over the logs\n",
        "    print(f\"...{key}: {value:.4f}\") # printing the key and value"
      ]
    },
    {
      "cell_type": "markdown",
      "metadata": {
        "id": "3OUDGlzfDnNE"
      },
      "source": [
        "### Make it fast with tf.function"
      ]
    },
    {
      "cell_type": "markdown",
      "metadata": {
        "id": "a9a02HnUDnNE"
      },
      "source": [
        "**Adding a `tf.function` decorator to our evaluation-step function**"
      ]
    },
    {
      "cell_type": "code",
      "execution_count": null,
      "metadata": {
        "id": "RGxipBy-DnNE"
      },
      "outputs": [],
      "source": [
        "@tf.function # defining a TensorFlow function for the training step\n",
        "def test_step(inputs, targets): # defining a test step function with inputs and targets as inputs\n",
        "    predictions = model(inputs, training=False) # getting the predictions from the model\n",
        "    loss = loss_fn(targets, predictions) # calculating the loss\n",
        "\n",
        "    logs = {} # initializing a dictionary for logs\n",
        "    for metric in metrics: # iterating over the metrics\n",
        "        metric.update_state(targets, predictions) # updating the metric with the targets and predictions\n",
        "        logs[\"val_\" + metric.name] = metric.result() # adding the metric result to the logs\n",
        "\n",
        "    loss_tracking_metric.update_state(loss) # updating the loss tracking metric with the loss\n",
        "    logs[\"val_loss\"] = loss_tracking_metric.result() # adding the loss to the logs\n",
        "    return logs # returning the logs\n",
        "\n",
        "val_dataset = tf.data.Dataset.from_tensor_slices((val_images, val_labels)) # creating a validation dataset\n",
        "val_dataset = val_dataset.batch(32) # batching the validation dataset into batches of size 32 because it is a common batch size for validation\n",
        "reset_metrics() # resetting the metrics\n",
        "for inputs_batch, targets_batch in val_dataset: # iterating over the validation dataset\n",
        "    logs = test_step(inputs_batch, targets_batch) # performing a test step\n",
        "print(\"Evaluation results:\") # printing the evaluation results\n",
        "for key, value in logs.items(): # iterating over the logs\n",
        "    print(f\"...{key}: {value:.4f}\") # printing the key and value"
      ]
    },
    {
      "cell_type": "markdown",
      "metadata": {
        "id": "7AJx4vXWDnNE"
      },
      "source": [
        "### Leveraging fit() with a custom training loop"
      ]
    },
    {
      "cell_type": "markdown",
      "metadata": {
        "id": "ATfG7f58DnNE"
      },
      "source": [
        "**Implementing a custom training step to use with `fit()`**"
      ]
    },
    {
      "cell_type": "code",
      "execution_count": null,
      "metadata": {
        "id": "VzjRbzk6DnNE"
      },
      "outputs": [],
      "source": [
        "loss_fn = keras.losses.SparseCategoricalCrossentropy() # defining a sparse categorical crossentropy loss function\n",
        "loss_tracker = keras.metrics.Mean(name=\"loss\") # defining a mean metric for tracking the loss\n",
        "\n",
        "class CustomModel(keras.Model): # defining a custom model class\n",
        "    def train_step(self, data): # defining a train step method with data as input\n",
        "        inputs, targets = data # getting the inputs and targets from the data\n",
        "        with tf.GradientTape() as tape: # using a gradient tape to record the operations\n",
        "            predictions = self(inputs, training=True) # getting the predictions from the model\n",
        "            loss = loss_fn(targets, predictions) # calculating the loss\n",
        "        gradients = tape.gradient(loss, self.trainable_weights) # calculating the gradients\n",
        "        self.optimizer.apply_gradients(zip(gradients, self.trainable_weights)) # applying the gradients\n",
        "\n",
        "        loss_tracker.update_state(loss) # updating the loss tracker with the loss\n",
        "        return {\"loss\": loss_tracker.result()} # returning the loss\n",
        "\n",
        "    @property # defining a property\n",
        "    def metrics(self): # defining a metrics method\n",
        "        return [loss_tracker] # returning the loss tracker"
      ]
    },
    {
      "cell_type": "code",
      "execution_count": null,
      "metadata": {
        "id": "2HoEe9jKDnNE"
      },
      "outputs": [],
      "source": [
        "inputs = keras.Input(shape=(28 * 28,)) # defining the input layer with input shape of (None, 28*28) because the input data has 28*28 features\n",
        "features = layers.Dense(512, activation=\"relu\")(inputs) # adding a dense layer with 512 neurons and relu activation function\n",
        "features = layers.Dropout(0.5)(features) # adding a dropout layer with a dropout rate of 0.5 (the most common rate)\n",
        "outputs = layers.Dense(10, activation=\"softmax\")(features) # adding a dense layer with 10 neurons and softmax activation function\n",
        "model = CustomModel(inputs, outputs) # defining the model with the input and output layers\n",
        "\n",
        "model.compile(optimizer=keras.optimizers.RMSprop()) # compiling the model with rmsprop optimizer\n",
        "model.fit(train_images, train_labels, epochs=3) # training the model with the training data for 3 epochs"
      ]
    },
    {
      "cell_type": "code",
      "execution_count": null,
      "metadata": {
        "id": "Xg7bVfGDDnNE"
      },
      "outputs": [],
      "source": [
        "class CustomModel(keras.Model): # defining a custom model class\n",
        "    def train_step(self, data): # defining a train step method with data as input\n",
        "        inputs, targets = data # getting the inputs and targets from the data\n",
        "        with tf.GradientTape() as tape: # using a gradient tape to record the operations\n",
        "            predictions = self(inputs, training=True) # getting the predictions from the model\n",
        "            loss = self.compiled_loss(targets, predictions) # calculating the loss\n",
        "        gradients = tape.gradient(loss, self.trainable_weights) # calculating the gradients\n",
        "        self.optimizer.apply_gradients(zip(gradients, self.trainable_weights)) # applying the gradients\n",
        "        self.compiled_metrics.update_state(targets, predictions) # updating the metrics with the targets and predictions\n",
        "        return {m.name: m.result() for m in self.metrics} # returning the metrics"
      ]
    },
    {
      "cell_type": "code",
      "execution_count": null,
      "metadata": {
        "id": "BAMHrZ-VDnNE"
      },
      "outputs": [],
      "source": [
        "inputs = keras.Input(shape=(28 * 28,)) # defining the input layer with input shape of (None, 28*28) because the input data has 28*28 features\n",
        "features = layers.Dense(512, activation=\"relu\")(inputs) # adding a dense layer with 512 neurons and relu activation function\n",
        "features = layers.Dropout(0.5)(features) # adding a dropout layer with a dropout rate of 0.5 (the most common rate)\n",
        "outputs = layers.Dense(10, activation=\"softmax\")(features) # adding a dense layer with 10 neurons and softmax activation function\n",
        "model = CustomModel(inputs, outputs) # defining the model with the input and output layers\n",
        "\n",
        "model.compile(optimizer=keras.optimizers.RMSprop(), # compiling the model with rmsprop optimizer\n",
        "              loss=keras.losses.SparseCategoricalCrossentropy(), # defining the loss function\n",
        "              metrics=[keras.metrics.SparseCategoricalAccuracy()]) # defining the metrics\n",
        "model.fit(train_images, train_labels, epochs=3) # training the model with the training data for 3 epochs"
      ]
    },
    {
      "cell_type": "markdown",
      "metadata": {
        "id": "vuKZJXyADnNE"
      },
      "source": [
        "## Summary"
      ]
    }
  ],
  "metadata": {
    "colab": {
      "name": "chapter07_working-with-keras.i",
      "provenance": [],
      "toc_visible": true
    },
    "kernelspec": {
      "display_name": "Python 3",
      "language": "python",
      "name": "python3"
    },
    "language_info": {
      "codemirror_mode": {
        "name": "ipython",
        "version": 3
      },
      "file_extension": ".py",
      "mimetype": "text/x-python",
      "name": "python",
      "nbconvert_exporter": "python",
      "pygments_lexer": "ipython3",
      "version": "3.11.1"
    }
  },
  "nbformat": 4,
  "nbformat_minor": 0
}
