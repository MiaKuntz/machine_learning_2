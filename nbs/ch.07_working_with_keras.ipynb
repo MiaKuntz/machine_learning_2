{
  "cells": [
    {
      "cell_type": "markdown",
      "metadata": {
        "id": "qHVrfbrHDnM8"
      },
      "source": [
        "This is a companion notebook for the book [Deep Learning with Python, Second Edition](https://www.manning.com/books/deep-learning-with-python-second-edition?a_aid=keras&a_bid=76564dff). For readability, it only contains runnable code blocks and section titles, and omits everything else in the book: text paragraphs, figures, and pseudocode.\n",
        "\n",
        "**If you want to be able to follow what's going on, I recommend reading the notebook side by side with your copy of the book.**\n",
        "\n",
        "This notebook was generated for TensorFlow 2.6."
      ]
    },
    {
      "cell_type": "markdown",
      "metadata": {
        "id": "gdGXnY2jDnM9"
      },
      "source": [
        "# Working with Keras: A deep dive"
      ]
    },
    {
      "cell_type": "markdown",
      "metadata": {
        "id": "ekbA_fuHDnM9"
      },
      "source": [
        "## A spectrum of workflows"
      ]
    },
    {
      "cell_type": "markdown",
      "metadata": {
        "id": "7eQD1NCRDnM9"
      },
      "source": [
        "## Different ways to build Keras models"
      ]
    },
    {
      "cell_type": "markdown",
      "metadata": {
        "id": "Oqm71MMkDnM9"
      },
      "source": [
        "### The Sequential model"
      ]
    },
    {
      "cell_type": "markdown",
      "metadata": {
        "id": "naWvrzCiDnM9"
      },
      "source": [
        "**The `Sequential` class**"
      ]
    },
    {
      "cell_type": "code",
      "execution_count": 1,
      "metadata": {
        "id": "ZapiCl8jDnM-"
      },
      "outputs": [],
      "source": [
        "from tensorflow import keras # importing keras from tensorflow package \n",
        "from tensorflow.keras import layers # importing layers from keras package\n",
        "\n",
        "model = keras.Sequential([ # defining the sequential model\n",
        "    layers.Dense(64, activation=\"relu\"), # adding a dense layer with 64 neurons and relu activation function\n",
        "    layers.Dense(10, activation=\"softmax\") # adding a dense layer with 10 neurons and softmax activation function\n",
        "])"
      ]
    },
    {
      "cell_type": "markdown",
      "metadata": {
        "id": "IgpRC18cDnM-"
      },
      "source": [
        "**Incrementally building a Sequential model**"
      ]
    },
    {
      "cell_type": "code",
      "execution_count": 2,
      "metadata": {
        "id": "2J-yf3G-DnM_"
      },
      "outputs": [],
      "source": [
        "model = keras.Sequential() # defining the sequential model\n",
        "model.add(layers.Dense(64, activation=\"relu\")) # adding a dense layer with 64 neurons and relu activation function\n",
        "model.add(layers.Dense(10, activation=\"softmax\")) # adding a dense layer with 10 neurons and softmax activation function"
      ]
    },
    {
      "cell_type": "markdown",
      "metadata": {
        "id": "jVPOhFdpDnM_"
      },
      "source": [
        "**Calling a model for the first time to build it**"
      ]
    },
    {
      "cell_type": "code",
      "execution_count": 3,
      "metadata": {
        "id": "73QtTrEeDnM_"
      },
      "outputs": [
        {
          "data": {
            "text/plain": [
              "[<KerasVariable shape=(3, 64), dtype=float32, path=sequential_1/dense_2/kernel>,\n",
              " <KerasVariable shape=(64,), dtype=float32, path=sequential_1/dense_2/bias>,\n",
              " <KerasVariable shape=(64, 10), dtype=float32, path=sequential_1/dense_3/kernel>,\n",
              " <KerasVariable shape=(10,), dtype=float32, path=sequential_1/dense_3/bias>]"
            ]
          },
          "execution_count": 3,
          "metadata": {},
          "output_type": "execute_result"
        }
      ],
      "source": [
        "model.build(input_shape=(None, 3)) # building the model with input shape of (None, 3) because we have 3 features in the input data \n",
        "model.weights # printing the weights of the model"
      ]
    },
    {
      "cell_type": "markdown",
      "metadata": {
        "id": "JAf8JksDDnM_"
      },
      "source": [
        "**The summary method**"
      ]
    },
    {
      "cell_type": "code",
      "execution_count": 4,
      "metadata": {
        "id": "bWAocSlKDnM_"
      },
      "outputs": [
        {
          "data": {
            "text/html": [
              "<pre style=\"white-space:pre;overflow-x:auto;line-height:normal;font-family:Menlo,'DejaVu Sans Mono',consolas,'Courier New',monospace\"><span style=\"font-weight: bold\">Model: \"sequential_1\"</span>\n",
              "</pre>\n"
            ],
            "text/plain": [
              "\u001b[1mModel: \"sequential_1\"\u001b[0m\n"
            ]
          },
          "metadata": {},
          "output_type": "display_data"
        },
        {
          "data": {
            "text/html": [
              "<pre style=\"white-space:pre;overflow-x:auto;line-height:normal;font-family:Menlo,'DejaVu Sans Mono',consolas,'Courier New',monospace\">┏━━━━━━━━━━━━━━━━━━━━━━━━━━━━━━━━━┳━━━━━━━━━━━━━━━━━━━━━━━━┳━━━━━━━━━━━━━━━┓\n",
              "┃<span style=\"font-weight: bold\"> Layer (type)                    </span>┃<span style=\"font-weight: bold\"> Output Shape           </span>┃<span style=\"font-weight: bold\">       Param # </span>┃\n",
              "┡━━━━━━━━━━━━━━━━━━━━━━━━━━━━━━━━━╇━━━━━━━━━━━━━━━━━━━━━━━━╇━━━━━━━━━━━━━━━┩\n",
              "│ dense_2 (<span style=\"color: #0087ff; text-decoration-color: #0087ff\">Dense</span>)                 │ (<span style=\"color: #00d7ff; text-decoration-color: #00d7ff\">None</span>, <span style=\"color: #00af00; text-decoration-color: #00af00\">64</span>)             │           <span style=\"color: #00af00; text-decoration-color: #00af00\">256</span> │\n",
              "├─────────────────────────────────┼────────────────────────┼───────────────┤\n",
              "│ dense_3 (<span style=\"color: #0087ff; text-decoration-color: #0087ff\">Dense</span>)                 │ (<span style=\"color: #00d7ff; text-decoration-color: #00d7ff\">None</span>, <span style=\"color: #00af00; text-decoration-color: #00af00\">10</span>)             │           <span style=\"color: #00af00; text-decoration-color: #00af00\">650</span> │\n",
              "└─────────────────────────────────┴────────────────────────┴───────────────┘\n",
              "</pre>\n"
            ],
            "text/plain": [
              "┏━━━━━━━━━━━━━━━━━━━━━━━━━━━━━━━━━┳━━━━━━━━━━━━━━━━━━━━━━━━┳━━━━━━━━━━━━━━━┓\n",
              "┃\u001b[1m \u001b[0m\u001b[1mLayer (type)                   \u001b[0m\u001b[1m \u001b[0m┃\u001b[1m \u001b[0m\u001b[1mOutput Shape          \u001b[0m\u001b[1m \u001b[0m┃\u001b[1m \u001b[0m\u001b[1m      Param #\u001b[0m\u001b[1m \u001b[0m┃\n",
              "┡━━━━━━━━━━━━━━━━━━━━━━━━━━━━━━━━━╇━━━━━━━━━━━━━━━━━━━━━━━━╇━━━━━━━━━━━━━━━┩\n",
              "│ dense_2 (\u001b[38;5;33mDense\u001b[0m)                 │ (\u001b[38;5;45mNone\u001b[0m, \u001b[38;5;34m64\u001b[0m)             │           \u001b[38;5;34m256\u001b[0m │\n",
              "├─────────────────────────────────┼────────────────────────┼───────────────┤\n",
              "│ dense_3 (\u001b[38;5;33mDense\u001b[0m)                 │ (\u001b[38;5;45mNone\u001b[0m, \u001b[38;5;34m10\u001b[0m)             │           \u001b[38;5;34m650\u001b[0m │\n",
              "└─────────────────────────────────┴────────────────────────┴───────────────┘\n"
            ]
          },
          "metadata": {},
          "output_type": "display_data"
        },
        {
          "data": {
            "text/html": [
              "<pre style=\"white-space:pre;overflow-x:auto;line-height:normal;font-family:Menlo,'DejaVu Sans Mono',consolas,'Courier New',monospace\"><span style=\"font-weight: bold\"> Total params: </span><span style=\"color: #00af00; text-decoration-color: #00af00\">906</span> (3.54 KB)\n",
              "</pre>\n"
            ],
            "text/plain": [
              "\u001b[1m Total params: \u001b[0m\u001b[38;5;34m906\u001b[0m (3.54 KB)\n"
            ]
          },
          "metadata": {},
          "output_type": "display_data"
        },
        {
          "data": {
            "text/html": [
              "<pre style=\"white-space:pre;overflow-x:auto;line-height:normal;font-family:Menlo,'DejaVu Sans Mono',consolas,'Courier New',monospace\"><span style=\"font-weight: bold\"> Trainable params: </span><span style=\"color: #00af00; text-decoration-color: #00af00\">906</span> (3.54 KB)\n",
              "</pre>\n"
            ],
            "text/plain": [
              "\u001b[1m Trainable params: \u001b[0m\u001b[38;5;34m906\u001b[0m (3.54 KB)\n"
            ]
          },
          "metadata": {},
          "output_type": "display_data"
        },
        {
          "data": {
            "text/html": [
              "<pre style=\"white-space:pre;overflow-x:auto;line-height:normal;font-family:Menlo,'DejaVu Sans Mono',consolas,'Courier New',monospace\"><span style=\"font-weight: bold\"> Non-trainable params: </span><span style=\"color: #00af00; text-decoration-color: #00af00\">0</span> (0.00 B)\n",
              "</pre>\n"
            ],
            "text/plain": [
              "\u001b[1m Non-trainable params: \u001b[0m\u001b[38;5;34m0\u001b[0m (0.00 B)\n"
            ]
          },
          "metadata": {},
          "output_type": "display_data"
        }
      ],
      "source": [
        "model.summary() # printing the summary of the model\n",
        "# The summary shows the number of parameters in each layer and the total number of parameters in the model\n",
        "# It also shows the output shape of each layer and the number of neurons in each layer\n",
        "# The output shape of the first layer is (None, 64) because the first layer has 64 neurons and the input shape is (None, 3)\n",
        "# The output shape of the second layer is (None, 10) because the second layer has 10 neurons and the input shape is (None, 64) which is the output shape of the first layer"
      ]
    },
    {
      "cell_type": "markdown",
      "metadata": {
        "id": "0-VRxxQrDnM_"
      },
      "source": [
        "**Naming models and layers with the `name` argument**"
      ]
    },
    {
      "cell_type": "code",
      "execution_count": 5,
      "metadata": {
        "id": "t9sKS4JsDnM_"
      },
      "outputs": [
        {
          "data": {
            "text/html": [
              "<pre style=\"white-space:pre;overflow-x:auto;line-height:normal;font-family:Menlo,'DejaVu Sans Mono',consolas,'Courier New',monospace\"><span style=\"font-weight: bold\">Model: \"my_example_model\"</span>\n",
              "</pre>\n"
            ],
            "text/plain": [
              "\u001b[1mModel: \"my_example_model\"\u001b[0m\n"
            ]
          },
          "metadata": {},
          "output_type": "display_data"
        },
        {
          "data": {
            "text/html": [
              "<pre style=\"white-space:pre;overflow-x:auto;line-height:normal;font-family:Menlo,'DejaVu Sans Mono',consolas,'Courier New',monospace\">┏━━━━━━━━━━━━━━━━━━━━━━━━━━━━━━━━━┳━━━━━━━━━━━━━━━━━━━━━━━━┳━━━━━━━━━━━━━━━┓\n",
              "┃<span style=\"font-weight: bold\"> Layer (type)                    </span>┃<span style=\"font-weight: bold\"> Output Shape           </span>┃<span style=\"font-weight: bold\">       Param # </span>┃\n",
              "┡━━━━━━━━━━━━━━━━━━━━━━━━━━━━━━━━━╇━━━━━━━━━━━━━━━━━━━━━━━━╇━━━━━━━━━━━━━━━┩\n",
              "│ my_first_layer (<span style=\"color: #0087ff; text-decoration-color: #0087ff\">Dense</span>)          │ (<span style=\"color: #00d7ff; text-decoration-color: #00d7ff\">None</span>, <span style=\"color: #00af00; text-decoration-color: #00af00\">64</span>)             │           <span style=\"color: #00af00; text-decoration-color: #00af00\">256</span> │\n",
              "├─────────────────────────────────┼────────────────────────┼───────────────┤\n",
              "│ my_last_layer (<span style=\"color: #0087ff; text-decoration-color: #0087ff\">Dense</span>)           │ (<span style=\"color: #00d7ff; text-decoration-color: #00d7ff\">None</span>, <span style=\"color: #00af00; text-decoration-color: #00af00\">10</span>)             │           <span style=\"color: #00af00; text-decoration-color: #00af00\">650</span> │\n",
              "└─────────────────────────────────┴────────────────────────┴───────────────┘\n",
              "</pre>\n"
            ],
            "text/plain": [
              "┏━━━━━━━━━━━━━━━━━━━━━━━━━━━━━━━━━┳━━━━━━━━━━━━━━━━━━━━━━━━┳━━━━━━━━━━━━━━━┓\n",
              "┃\u001b[1m \u001b[0m\u001b[1mLayer (type)                   \u001b[0m\u001b[1m \u001b[0m┃\u001b[1m \u001b[0m\u001b[1mOutput Shape          \u001b[0m\u001b[1m \u001b[0m┃\u001b[1m \u001b[0m\u001b[1m      Param #\u001b[0m\u001b[1m \u001b[0m┃\n",
              "┡━━━━━━━━━━━━━━━━━━━━━━━━━━━━━━━━━╇━━━━━━━━━━━━━━━━━━━━━━━━╇━━━━━━━━━━━━━━━┩\n",
              "│ my_first_layer (\u001b[38;5;33mDense\u001b[0m)          │ (\u001b[38;5;45mNone\u001b[0m, \u001b[38;5;34m64\u001b[0m)             │           \u001b[38;5;34m256\u001b[0m │\n",
              "├─────────────────────────────────┼────────────────────────┼───────────────┤\n",
              "│ my_last_layer (\u001b[38;5;33mDense\u001b[0m)           │ (\u001b[38;5;45mNone\u001b[0m, \u001b[38;5;34m10\u001b[0m)             │           \u001b[38;5;34m650\u001b[0m │\n",
              "└─────────────────────────────────┴────────────────────────┴───────────────┘\n"
            ]
          },
          "metadata": {},
          "output_type": "display_data"
        },
        {
          "data": {
            "text/html": [
              "<pre style=\"white-space:pre;overflow-x:auto;line-height:normal;font-family:Menlo,'DejaVu Sans Mono',consolas,'Courier New',monospace\"><span style=\"font-weight: bold\"> Total params: </span><span style=\"color: #00af00; text-decoration-color: #00af00\">906</span> (3.54 KB)\n",
              "</pre>\n"
            ],
            "text/plain": [
              "\u001b[1m Total params: \u001b[0m\u001b[38;5;34m906\u001b[0m (3.54 KB)\n"
            ]
          },
          "metadata": {},
          "output_type": "display_data"
        },
        {
          "data": {
            "text/html": [
              "<pre style=\"white-space:pre;overflow-x:auto;line-height:normal;font-family:Menlo,'DejaVu Sans Mono',consolas,'Courier New',monospace\"><span style=\"font-weight: bold\"> Trainable params: </span><span style=\"color: #00af00; text-decoration-color: #00af00\">906</span> (3.54 KB)\n",
              "</pre>\n"
            ],
            "text/plain": [
              "\u001b[1m Trainable params: \u001b[0m\u001b[38;5;34m906\u001b[0m (3.54 KB)\n"
            ]
          },
          "metadata": {},
          "output_type": "display_data"
        },
        {
          "data": {
            "text/html": [
              "<pre style=\"white-space:pre;overflow-x:auto;line-height:normal;font-family:Menlo,'DejaVu Sans Mono',consolas,'Courier New',monospace\"><span style=\"font-weight: bold\"> Non-trainable params: </span><span style=\"color: #00af00; text-decoration-color: #00af00\">0</span> (0.00 B)\n",
              "</pre>\n"
            ],
            "text/plain": [
              "\u001b[1m Non-trainable params: \u001b[0m\u001b[38;5;34m0\u001b[0m (0.00 B)\n"
            ]
          },
          "metadata": {},
          "output_type": "display_data"
        }
      ],
      "source": [
        "model = keras.Sequential(name=\"my_example_model\") # defining the sequential model with a name \n",
        "model.add(layers.Dense(64, activation=\"relu\", name=\"my_first_layer\")) # adding a dense layer with 64 neurons and relu activation function with a name \n",
        "model.add(layers.Dense(10, activation=\"softmax\", name=\"my_last_layer\")) # adding a dense layer with 10 neurons and softmax activation function with a name\n",
        "model.build((None, 3)) # building the model with input shape of (None, 3) because we have 3 features in the input data\n",
        "model.summary() # printing the summary of the model\n",
        "# The summary shows the number of parameters in each layer and the total number of parameters in the model with the names of the layers\n",
        "# It also shows the output shape of each layer and the number of neurons in each layer"
      ]
    },
    {
      "cell_type": "markdown",
      "metadata": {
        "id": "xIf0-GGFDnM_"
      },
      "source": [
        "**Specifying the input shape of your model in advance**"
      ]
    },
    {
      "cell_type": "code",
      "execution_count": 6,
      "metadata": {
        "id": "8yCDbhBiDnM_"
      },
      "outputs": [],
      "source": [
        "model = keras.Sequential() # defining the sequential model\n",
        "model.add(keras.Input(shape=(3,))) # adding an input layer with input shape of (None, 3) because we have 3 features in the input data\n",
        "model.add(layers.Dense(64, activation=\"relu\")) # adding a dense layer with 64 neurons and relu activation function"
      ]
    },
    {
      "cell_type": "code",
      "execution_count": 7,
      "metadata": {
        "id": "0HCXO5mSDnM_"
      },
      "outputs": [
        {
          "data": {
            "text/html": [
              "<pre style=\"white-space:pre;overflow-x:auto;line-height:normal;font-family:Menlo,'DejaVu Sans Mono',consolas,'Courier New',monospace\"><span style=\"font-weight: bold\">Model: \"sequential_2\"</span>\n",
              "</pre>\n"
            ],
            "text/plain": [
              "\u001b[1mModel: \"sequential_2\"\u001b[0m\n"
            ]
          },
          "metadata": {},
          "output_type": "display_data"
        },
        {
          "data": {
            "text/html": [
              "<pre style=\"white-space:pre;overflow-x:auto;line-height:normal;font-family:Menlo,'DejaVu Sans Mono',consolas,'Courier New',monospace\">┏━━━━━━━━━━━━━━━━━━━━━━━━━━━━━━━━━┳━━━━━━━━━━━━━━━━━━━━━━━━┳━━━━━━━━━━━━━━━┓\n",
              "┃<span style=\"font-weight: bold\"> Layer (type)                    </span>┃<span style=\"font-weight: bold\"> Output Shape           </span>┃<span style=\"font-weight: bold\">       Param # </span>┃\n",
              "┡━━━━━━━━━━━━━━━━━━━━━━━━━━━━━━━━━╇━━━━━━━━━━━━━━━━━━━━━━━━╇━━━━━━━━━━━━━━━┩\n",
              "│ dense_4 (<span style=\"color: #0087ff; text-decoration-color: #0087ff\">Dense</span>)                 │ (<span style=\"color: #00d7ff; text-decoration-color: #00d7ff\">None</span>, <span style=\"color: #00af00; text-decoration-color: #00af00\">64</span>)             │           <span style=\"color: #00af00; text-decoration-color: #00af00\">256</span> │\n",
              "└─────────────────────────────────┴────────────────────────┴───────────────┘\n",
              "</pre>\n"
            ],
            "text/plain": [
              "┏━━━━━━━━━━━━━━━━━━━━━━━━━━━━━━━━━┳━━━━━━━━━━━━━━━━━━━━━━━━┳━━━━━━━━━━━━━━━┓\n",
              "┃\u001b[1m \u001b[0m\u001b[1mLayer (type)                   \u001b[0m\u001b[1m \u001b[0m┃\u001b[1m \u001b[0m\u001b[1mOutput Shape          \u001b[0m\u001b[1m \u001b[0m┃\u001b[1m \u001b[0m\u001b[1m      Param #\u001b[0m\u001b[1m \u001b[0m┃\n",
              "┡━━━━━━━━━━━━━━━━━━━━━━━━━━━━━━━━━╇━━━━━━━━━━━━━━━━━━━━━━━━╇━━━━━━━━━━━━━━━┩\n",
              "│ dense_4 (\u001b[38;5;33mDense\u001b[0m)                 │ (\u001b[38;5;45mNone\u001b[0m, \u001b[38;5;34m64\u001b[0m)             │           \u001b[38;5;34m256\u001b[0m │\n",
              "└─────────────────────────────────┴────────────────────────┴───────────────┘\n"
            ]
          },
          "metadata": {},
          "output_type": "display_data"
        },
        {
          "data": {
            "text/html": [
              "<pre style=\"white-space:pre;overflow-x:auto;line-height:normal;font-family:Menlo,'DejaVu Sans Mono',consolas,'Courier New',monospace\"><span style=\"font-weight: bold\"> Total params: </span><span style=\"color: #00af00; text-decoration-color: #00af00\">256</span> (1.00 KB)\n",
              "</pre>\n"
            ],
            "text/plain": [
              "\u001b[1m Total params: \u001b[0m\u001b[38;5;34m256\u001b[0m (1.00 KB)\n"
            ]
          },
          "metadata": {},
          "output_type": "display_data"
        },
        {
          "data": {
            "text/html": [
              "<pre style=\"white-space:pre;overflow-x:auto;line-height:normal;font-family:Menlo,'DejaVu Sans Mono',consolas,'Courier New',monospace\"><span style=\"font-weight: bold\"> Trainable params: </span><span style=\"color: #00af00; text-decoration-color: #00af00\">256</span> (1.00 KB)\n",
              "</pre>\n"
            ],
            "text/plain": [
              "\u001b[1m Trainable params: \u001b[0m\u001b[38;5;34m256\u001b[0m (1.00 KB)\n"
            ]
          },
          "metadata": {},
          "output_type": "display_data"
        },
        {
          "data": {
            "text/html": [
              "<pre style=\"white-space:pre;overflow-x:auto;line-height:normal;font-family:Menlo,'DejaVu Sans Mono',consolas,'Courier New',monospace\"><span style=\"font-weight: bold\"> Non-trainable params: </span><span style=\"color: #00af00; text-decoration-color: #00af00\">0</span> (0.00 B)\n",
              "</pre>\n"
            ],
            "text/plain": [
              "\u001b[1m Non-trainable params: \u001b[0m\u001b[38;5;34m0\u001b[0m (0.00 B)\n"
            ]
          },
          "metadata": {},
          "output_type": "display_data"
        }
      ],
      "source": [
        "model.summary() # printing the summary of the model\n",
        "# The summary shows the number of parameters in each layer and the total number of parameters in the model\n",
        "# It also shows the output shape of each layer and the number of neurons in each layer\n",
        "# The output shape of the first layer is (None, 64) because the first layer has 64 neurons and the input shape is (None, 3)"
      ]
    },
    {
      "cell_type": "code",
      "execution_count": 8,
      "metadata": {
        "id": "tFolCvoLDnM_"
      },
      "outputs": [
        {
          "data": {
            "text/html": [
              "<pre style=\"white-space:pre;overflow-x:auto;line-height:normal;font-family:Menlo,'DejaVu Sans Mono',consolas,'Courier New',monospace\"><span style=\"font-weight: bold\">Model: \"sequential_2\"</span>\n",
              "</pre>\n"
            ],
            "text/plain": [
              "\u001b[1mModel: \"sequential_2\"\u001b[0m\n"
            ]
          },
          "metadata": {},
          "output_type": "display_data"
        },
        {
          "data": {
            "text/html": [
              "<pre style=\"white-space:pre;overflow-x:auto;line-height:normal;font-family:Menlo,'DejaVu Sans Mono',consolas,'Courier New',monospace\">┏━━━━━━━━━━━━━━━━━━━━━━━━━━━━━━━━━┳━━━━━━━━━━━━━━━━━━━━━━━━┳━━━━━━━━━━━━━━━┓\n",
              "┃<span style=\"font-weight: bold\"> Layer (type)                    </span>┃<span style=\"font-weight: bold\"> Output Shape           </span>┃<span style=\"font-weight: bold\">       Param # </span>┃\n",
              "┡━━━━━━━━━━━━━━━━━━━━━━━━━━━━━━━━━╇━━━━━━━━━━━━━━━━━━━━━━━━╇━━━━━━━━━━━━━━━┩\n",
              "│ dense_4 (<span style=\"color: #0087ff; text-decoration-color: #0087ff\">Dense</span>)                 │ (<span style=\"color: #00d7ff; text-decoration-color: #00d7ff\">None</span>, <span style=\"color: #00af00; text-decoration-color: #00af00\">64</span>)             │           <span style=\"color: #00af00; text-decoration-color: #00af00\">256</span> │\n",
              "├─────────────────────────────────┼────────────────────────┼───────────────┤\n",
              "│ dense_5 (<span style=\"color: #0087ff; text-decoration-color: #0087ff\">Dense</span>)                 │ (<span style=\"color: #00d7ff; text-decoration-color: #00d7ff\">None</span>, <span style=\"color: #00af00; text-decoration-color: #00af00\">10</span>)             │           <span style=\"color: #00af00; text-decoration-color: #00af00\">650</span> │\n",
              "└─────────────────────────────────┴────────────────────────┴───────────────┘\n",
              "</pre>\n"
            ],
            "text/plain": [
              "┏━━━━━━━━━━━━━━━━━━━━━━━━━━━━━━━━━┳━━━━━━━━━━━━━━━━━━━━━━━━┳━━━━━━━━━━━━━━━┓\n",
              "┃\u001b[1m \u001b[0m\u001b[1mLayer (type)                   \u001b[0m\u001b[1m \u001b[0m┃\u001b[1m \u001b[0m\u001b[1mOutput Shape          \u001b[0m\u001b[1m \u001b[0m┃\u001b[1m \u001b[0m\u001b[1m      Param #\u001b[0m\u001b[1m \u001b[0m┃\n",
              "┡━━━━━━━━━━━━━━━━━━━━━━━━━━━━━━━━━╇━━━━━━━━━━━━━━━━━━━━━━━━╇━━━━━━━━━━━━━━━┩\n",
              "│ dense_4 (\u001b[38;5;33mDense\u001b[0m)                 │ (\u001b[38;5;45mNone\u001b[0m, \u001b[38;5;34m64\u001b[0m)             │           \u001b[38;5;34m256\u001b[0m │\n",
              "├─────────────────────────────────┼────────────────────────┼───────────────┤\n",
              "│ dense_5 (\u001b[38;5;33mDense\u001b[0m)                 │ (\u001b[38;5;45mNone\u001b[0m, \u001b[38;5;34m10\u001b[0m)             │           \u001b[38;5;34m650\u001b[0m │\n",
              "└─────────────────────────────────┴────────────────────────┴───────────────┘\n"
            ]
          },
          "metadata": {},
          "output_type": "display_data"
        },
        {
          "data": {
            "text/html": [
              "<pre style=\"white-space:pre;overflow-x:auto;line-height:normal;font-family:Menlo,'DejaVu Sans Mono',consolas,'Courier New',monospace\"><span style=\"font-weight: bold\"> Total params: </span><span style=\"color: #00af00; text-decoration-color: #00af00\">906</span> (3.54 KB)\n",
              "</pre>\n"
            ],
            "text/plain": [
              "\u001b[1m Total params: \u001b[0m\u001b[38;5;34m906\u001b[0m (3.54 KB)\n"
            ]
          },
          "metadata": {},
          "output_type": "display_data"
        },
        {
          "data": {
            "text/html": [
              "<pre style=\"white-space:pre;overflow-x:auto;line-height:normal;font-family:Menlo,'DejaVu Sans Mono',consolas,'Courier New',monospace\"><span style=\"font-weight: bold\"> Trainable params: </span><span style=\"color: #00af00; text-decoration-color: #00af00\">906</span> (3.54 KB)\n",
              "</pre>\n"
            ],
            "text/plain": [
              "\u001b[1m Trainable params: \u001b[0m\u001b[38;5;34m906\u001b[0m (3.54 KB)\n"
            ]
          },
          "metadata": {},
          "output_type": "display_data"
        },
        {
          "data": {
            "text/html": [
              "<pre style=\"white-space:pre;overflow-x:auto;line-height:normal;font-family:Menlo,'DejaVu Sans Mono',consolas,'Courier New',monospace\"><span style=\"font-weight: bold\"> Non-trainable params: </span><span style=\"color: #00af00; text-decoration-color: #00af00\">0</span> (0.00 B)\n",
              "</pre>\n"
            ],
            "text/plain": [
              "\u001b[1m Non-trainable params: \u001b[0m\u001b[38;5;34m0\u001b[0m (0.00 B)\n"
            ]
          },
          "metadata": {},
          "output_type": "display_data"
        }
      ],
      "source": [
        "model.add(layers.Dense(10, activation=\"softmax\")) # adding a dense layer with 10 neurons and softmax activation function \n",
        "model.summary() # printing the summary of the model\n",
        "# The summary shows the number of parameters in each layer and the total number of parameters in the model\n",
        "# It also shows the output shape of each layer and the number of neurons in each layer\n",
        "# The output shape of the second layer is (None, 10) because the second layer has 10 neurons and the input shape is (None, 64) which is the output shape of the first layer"
      ]
    },
    {
      "cell_type": "markdown",
      "metadata": {
        "id": "ea-3aoNhDnNA"
      },
      "source": [
        "### The Functional API"
      ]
    },
    {
      "cell_type": "markdown",
      "metadata": {
        "id": "HlxcQ2oTDnNA"
      },
      "source": [
        "#### A simple example"
      ]
    },
    {
      "cell_type": "markdown",
      "metadata": {
        "id": "NbyAy26PDnNA"
      },
      "source": [
        "**A simple Functional model with two `Dense` layers**"
      ]
    },
    {
      "cell_type": "code",
      "execution_count": 9,
      "metadata": {
        "id": "Y71KXbxRDnNA"
      },
      "outputs": [],
      "source": [
        "inputs = keras.Input(shape=(3,), name=\"my_input\") # defining the input layer with input shape of (None, 3) because we have 3 features in the input data\n",
        "features = layers.Dense(64, activation=\"relu\")(inputs) # adding a dense layer with 64 neurons and relu activation function\n",
        "outputs = layers.Dense(10, activation=\"softmax\")(features) # adding a dense layer with 10 neurons and softmax activation function\n",
        "model = keras.Model(inputs=inputs, outputs=outputs) # defining the model with the input and output layers"
      ]
    },
    {
      "cell_type": "code",
      "execution_count": 10,
      "metadata": {
        "id": "X2J0SWxRDnNA"
      },
      "outputs": [],
      "source": [
        "inputs = keras.Input(shape=(3,), name=\"my_input\") # defining the input layer with input shape of (None, 3) because we have 3 features in the input data"
      ]
    },
    {
      "cell_type": "code",
      "execution_count": 11,
      "metadata": {
        "id": "CN7ms3U9DnNA"
      },
      "outputs": [
        {
          "data": {
            "text/plain": [
              "(None, 3)"
            ]
          },
          "execution_count": 11,
          "metadata": {},
          "output_type": "execute_result"
        }
      ],
      "source": [
        "inputs.shape # printing the shape of the input layer\n",
        "# The shape of the input layer is (None, 3) because we have 3 features in the input data and the batch size is None"
      ]
    },
    {
      "cell_type": "code",
      "execution_count": 12,
      "metadata": {
        "id": "rwowPYV7DnNA"
      },
      "outputs": [
        {
          "data": {
            "text/plain": [
              "'float32'"
            ]
          },
          "execution_count": 12,
          "metadata": {},
          "output_type": "execute_result"
        }
      ],
      "source": [
        "inputs.dtype # printing the data type of the input layer\n",
        "# The data type of the input layer is float32 by default"
      ]
    },
    {
      "cell_type": "code",
      "execution_count": 13,
      "metadata": {
        "id": "NVuoXa6VDnNA"
      },
      "outputs": [],
      "source": [
        "features = layers.Dense(64, activation=\"relu\")(inputs) # adding a dense layer with 64 neurons and relu activation function"
      ]
    },
    {
      "cell_type": "code",
      "execution_count": 14,
      "metadata": {
        "id": "8YuYIV7ADnNA"
      },
      "outputs": [
        {
          "data": {
            "text/plain": [
              "(None, 64)"
            ]
          },
          "execution_count": 14,
          "metadata": {},
          "output_type": "execute_result"
        }
      ],
      "source": [
        "features.shape # printing the shape of the features layer\n",
        "# The shape of the features layer is (None, 64) because the dense layer has 64 neurons and the input shape is (None, 3)"
      ]
    },
    {
      "cell_type": "code",
      "execution_count": 15,
      "metadata": {
        "id": "Q-yomxDgDnNA"
      },
      "outputs": [],
      "source": [
        "outputs = layers.Dense(10, activation=\"softmax\")(features) # adding a dense layer with 10 neurons and softmax activation function\n",
        "model = keras.Model(inputs=inputs, outputs=outputs) # defining the model with the input and output layers"
      ]
    },
    {
      "cell_type": "code",
      "execution_count": 16,
      "metadata": {
        "id": "AHHfgBWYDnNA"
      },
      "outputs": [
        {
          "data": {
            "text/html": [
              "<pre style=\"white-space:pre;overflow-x:auto;line-height:normal;font-family:Menlo,'DejaVu Sans Mono',consolas,'Courier New',monospace\"><span style=\"font-weight: bold\">Model: \"functional_7\"</span>\n",
              "</pre>\n"
            ],
            "text/plain": [
              "\u001b[1mModel: \"functional_7\"\u001b[0m\n"
            ]
          },
          "metadata": {},
          "output_type": "display_data"
        },
        {
          "data": {
            "text/html": [
              "<pre style=\"white-space:pre;overflow-x:auto;line-height:normal;font-family:Menlo,'DejaVu Sans Mono',consolas,'Courier New',monospace\">┏━━━━━━━━━━━━━━━━━━━━━━━━━━━━━━━━━┳━━━━━━━━━━━━━━━━━━━━━━━━┳━━━━━━━━━━━━━━━┓\n",
              "┃<span style=\"font-weight: bold\"> Layer (type)                    </span>┃<span style=\"font-weight: bold\"> Output Shape           </span>┃<span style=\"font-weight: bold\">       Param # </span>┃\n",
              "┡━━━━━━━━━━━━━━━━━━━━━━━━━━━━━━━━━╇━━━━━━━━━━━━━━━━━━━━━━━━╇━━━━━━━━━━━━━━━┩\n",
              "│ my_input (<span style=\"color: #0087ff; text-decoration-color: #0087ff\">InputLayer</span>)           │ (<span style=\"color: #00d7ff; text-decoration-color: #00d7ff\">None</span>, <span style=\"color: #00af00; text-decoration-color: #00af00\">3</span>)              │             <span style=\"color: #00af00; text-decoration-color: #00af00\">0</span> │\n",
              "├─────────────────────────────────┼────────────────────────┼───────────────┤\n",
              "│ dense_8 (<span style=\"color: #0087ff; text-decoration-color: #0087ff\">Dense</span>)                 │ (<span style=\"color: #00d7ff; text-decoration-color: #00d7ff\">None</span>, <span style=\"color: #00af00; text-decoration-color: #00af00\">64</span>)             │           <span style=\"color: #00af00; text-decoration-color: #00af00\">256</span> │\n",
              "├─────────────────────────────────┼────────────────────────┼───────────────┤\n",
              "│ dense_9 (<span style=\"color: #0087ff; text-decoration-color: #0087ff\">Dense</span>)                 │ (<span style=\"color: #00d7ff; text-decoration-color: #00d7ff\">None</span>, <span style=\"color: #00af00; text-decoration-color: #00af00\">10</span>)             │           <span style=\"color: #00af00; text-decoration-color: #00af00\">650</span> │\n",
              "└─────────────────────────────────┴────────────────────────┴───────────────┘\n",
              "</pre>\n"
            ],
            "text/plain": [
              "┏━━━━━━━━━━━━━━━━━━━━━━━━━━━━━━━━━┳━━━━━━━━━━━━━━━━━━━━━━━━┳━━━━━━━━━━━━━━━┓\n",
              "┃\u001b[1m \u001b[0m\u001b[1mLayer (type)                   \u001b[0m\u001b[1m \u001b[0m┃\u001b[1m \u001b[0m\u001b[1mOutput Shape          \u001b[0m\u001b[1m \u001b[0m┃\u001b[1m \u001b[0m\u001b[1m      Param #\u001b[0m\u001b[1m \u001b[0m┃\n",
              "┡━━━━━━━━━━━━━━━━━━━━━━━━━━━━━━━━━╇━━━━━━━━━━━━━━━━━━━━━━━━╇━━━━━━━━━━━━━━━┩\n",
              "│ my_input (\u001b[38;5;33mInputLayer\u001b[0m)           │ (\u001b[38;5;45mNone\u001b[0m, \u001b[38;5;34m3\u001b[0m)              │             \u001b[38;5;34m0\u001b[0m │\n",
              "├─────────────────────────────────┼────────────────────────┼───────────────┤\n",
              "│ dense_8 (\u001b[38;5;33mDense\u001b[0m)                 │ (\u001b[38;5;45mNone\u001b[0m, \u001b[38;5;34m64\u001b[0m)             │           \u001b[38;5;34m256\u001b[0m │\n",
              "├─────────────────────────────────┼────────────────────────┼───────────────┤\n",
              "│ dense_9 (\u001b[38;5;33mDense\u001b[0m)                 │ (\u001b[38;5;45mNone\u001b[0m, \u001b[38;5;34m10\u001b[0m)             │           \u001b[38;5;34m650\u001b[0m │\n",
              "└─────────────────────────────────┴────────────────────────┴───────────────┘\n"
            ]
          },
          "metadata": {},
          "output_type": "display_data"
        },
        {
          "data": {
            "text/html": [
              "<pre style=\"white-space:pre;overflow-x:auto;line-height:normal;font-family:Menlo,'DejaVu Sans Mono',consolas,'Courier New',monospace\"><span style=\"font-weight: bold\"> Total params: </span><span style=\"color: #00af00; text-decoration-color: #00af00\">906</span> (3.54 KB)\n",
              "</pre>\n"
            ],
            "text/plain": [
              "\u001b[1m Total params: \u001b[0m\u001b[38;5;34m906\u001b[0m (3.54 KB)\n"
            ]
          },
          "metadata": {},
          "output_type": "display_data"
        },
        {
          "data": {
            "text/html": [
              "<pre style=\"white-space:pre;overflow-x:auto;line-height:normal;font-family:Menlo,'DejaVu Sans Mono',consolas,'Courier New',monospace\"><span style=\"font-weight: bold\"> Trainable params: </span><span style=\"color: #00af00; text-decoration-color: #00af00\">906</span> (3.54 KB)\n",
              "</pre>\n"
            ],
            "text/plain": [
              "\u001b[1m Trainable params: \u001b[0m\u001b[38;5;34m906\u001b[0m (3.54 KB)\n"
            ]
          },
          "metadata": {},
          "output_type": "display_data"
        },
        {
          "data": {
            "text/html": [
              "<pre style=\"white-space:pre;overflow-x:auto;line-height:normal;font-family:Menlo,'DejaVu Sans Mono',consolas,'Courier New',monospace\"><span style=\"font-weight: bold\"> Non-trainable params: </span><span style=\"color: #00af00; text-decoration-color: #00af00\">0</span> (0.00 B)\n",
              "</pre>\n"
            ],
            "text/plain": [
              "\u001b[1m Non-trainable params: \u001b[0m\u001b[38;5;34m0\u001b[0m (0.00 B)\n"
            ]
          },
          "metadata": {},
          "output_type": "display_data"
        }
      ],
      "source": [
        "model.summary() # printing the summary of the model\n",
        "# The summary shows the number of parameters in each layer and the total number of parameters in the model\n",
        "# It also shows the output shape of each layer and the number of neurons in each layer\n",
        "# The output shape of the first layer is (None, 3) because the input shape is (None, 3) and the input layer has 3 features in the input data \n",
        "# The output shape of the second layer is (None, 64) because the dense layer has 64 neurons and the input shape is (None, 3) which is the output shape of the input layer\n",
        "# The output shape of the third layer is (None, 10) because the dense layer has 10 neurons and the input shape is (None, 64) which is the output shape of the dense layer\n",
        "# The total number of parameters in the model is 650 because the first dense layer has 64 neurons and 64*3=192 parameters and the second dense layer has 10 neurons and 10*64=640 parameters"
      ]
    },
    {
      "cell_type": "markdown",
      "metadata": {
        "id": "9f7uLt-oDnNA"
      },
      "source": [
        "#### Multi-input, multi-output models"
      ]
    },
    {
      "cell_type": "markdown",
      "metadata": {
        "id": "VpQL9szJDnNA"
      },
      "source": [
        "**A multi-input, multi-output Functional model**"
      ]
    },
    {
      "cell_type": "code",
      "execution_count": 17,
      "metadata": {
        "id": "CBmHezNnDnNA"
      },
      "outputs": [],
      "source": [
        "vocabulary_size = 10000 # defining the vocabulary size \n",
        "num_tags = 100 # defining the number of tags\n",
        "num_departments = 4 # defining the number of departments\n",
        "\n",
        "title = keras.Input(shape=(vocabulary_size,), name=\"title\") # defining the input layer for the title with input shape of (None, vocabulary_size)\n",
        "text_body = keras.Input(shape=(vocabulary_size,), name=\"text_body\") # defining the input layer for the text body with input shape of (None, vocabulary_size)\n",
        "tags = keras.Input(shape=(num_tags,), name=\"tags\") # defining the input layer for the tags with input shape of (None, num_tags)\n",
        "\n",
        "features = layers.Concatenate()([title, text_body, tags]) # concatenating the input layers because it needs to be combined before passing to the dense layer\n",
        "features = layers.Dense(64, activation=\"relu\")(features) # adding a dense layer with 64 neurons and relu activation function\n",
        "\n",
        "priority = layers.Dense(1, activation=\"sigmoid\", name=\"priority\")(features) # adding a dense layer with 1 neuron and sigmoid activation function for the priority\n",
        "department = layers.Dense( \n",
        "    num_departments, activation=\"softmax\", name=\"department\")(features) # adding a dense layer with num_departments neurons and softmax activation function for the department\n",
        "\n",
        "model = keras.Model(inputs=[title, text_body, tags], outputs=[priority, department]) # defining the model with the input and output layers"
      ]
    },
    {
      "cell_type": "markdown",
      "metadata": {
        "id": "RngfFtJYDnNA"
      },
      "source": [
        "#### Training a multi-input, multi-output model"
      ]
    },
    {
      "cell_type": "markdown",
      "metadata": {
        "id": "FC0hLPzUDnNA"
      },
      "source": [
        "**Training a model by providing lists of input & target arrays**"
      ]
    },
    {
      "cell_type": "code",
      "execution_count": 18,
      "metadata": {
        "id": "rHspVYhqDnNA"
      },
      "outputs": [
        {
          "name": "stdout",
          "output_type": "stream",
          "text": [
            "\u001b[1m40/40\u001b[0m \u001b[32m━━━━━━━━━━━━━━━━━━━━\u001b[0m\u001b[37m\u001b[0m \u001b[1m1s\u001b[0m 5ms/step - department_accuracy: 0.2173 - loss: 39.9631 - priority_mean_absolute_error: 0.4750\n",
            "\u001b[1m40/40\u001b[0m \u001b[32m━━━━━━━━━━━━━━━━━━━━\u001b[0m\u001b[37m\u001b[0m \u001b[1m0s\u001b[0m 1ms/step - department_accuracy: 0.1249 - loss: 21.5575 - priority_mean_absolute_error: 0.5147\n",
            "\u001b[1m40/40\u001b[0m \u001b[32m━━━━━━━━━━━━━━━━━━━━\u001b[0m\u001b[37m\u001b[0m \u001b[1m0s\u001b[0m 1ms/step \n"
          ]
        }
      ],
      "source": [
        "import numpy as np # importing numpy package \n",
        "\n",
        "num_samples = 1280 # defining the number of samples\n",
        "\n",
        "title_data = np.random.randint(0, 2, size=(num_samples, vocabulary_size)) # generating random title data\n",
        "text_body_data = np.random.randint(0, 2, size=(num_samples, vocabulary_size)) # generating random text body data\n",
        "tags_data = np.random.randint(0, 2, size=(num_samples, num_tags)) # generating random tags data\n",
        " \n",
        "priority_data = np.random.random(size=(num_samples, 1)) # generating random priority data\n",
        "department_data = np.random.randint(0, 2, size=(num_samples, num_departments)) # generating random department data\n",
        "\n",
        "model.compile(optimizer=\"rmsprop\", # compiling the model with rmsprop optimizer\n",
        "              loss=[\"mean_squared_error\", \"categorical_crossentropy\"], # defining the loss functions for the priority and department\n",
        "              metrics=[[\"mean_absolute_error\"], [\"accuracy\"]]) # defining the metrics for the priority and department\n",
        "model.fit([title_data, text_body_data, tags_data], # training the model with the input and output data\n",
        "          [priority_data, department_data], epochs=1) # training the model for 1 epoch with the input and output data \n",
        "model.evaluate([title_data, text_body_data, tags_data], # evaluating the model with the input and output data\n",
        "               [priority_data, department_data]) \n",
        "priority_preds, department_preds = model.predict([title_data, text_body_data, tags_data]) # predicting the priority and department with the input data "
      ]
    },
    {
      "cell_type": "markdown",
      "metadata": {
        "id": "Zwf99dujDnNA"
      },
      "source": [
        "**Training a model by providing dicts of input & target arrays**"
      ]
    },
    {
      "cell_type": "code",
      "execution_count": 19,
      "metadata": {
        "id": "Vd2RJCGpDnNB"
      },
      "outputs": [
        {
          "name": "stdout",
          "output_type": "stream",
          "text": [
            "\u001b[1m40/40\u001b[0m \u001b[32m━━━━━━━━━━━━━━━━━━━━\u001b[0m\u001b[37m\u001b[0m \u001b[1m0s\u001b[0m 4ms/step - department_accuracy: 0.2252 - loss: 59.9590 - priority_mean_absolute_error: 0.4784\n",
            "\u001b[1m40/40\u001b[0m \u001b[32m━━━━━━━━━━━━━━━━━━━━\u001b[0m\u001b[37m\u001b[0m \u001b[1m0s\u001b[0m 1ms/step - department_accuracy: 0.0753 - loss: 35.2625 - priority_mean_absolute_error: 0.5147\n",
            "\u001b[1m40/40\u001b[0m \u001b[32m━━━━━━━━━━━━━━━━━━━━\u001b[0m\u001b[37m\u001b[0m \u001b[1m0s\u001b[0m 1ms/step \n"
          ]
        }
      ],
      "source": [
        "model.compile(optimizer=\"rmsprop\", # compiling the model with rmsprop optimizer\n",
        "              loss={\"priority\": \"mean_squared_error\", \"department\": \"categorical_crossentropy\"}, # defining the loss functions for the priority and department\n",
        "              metrics={\"priority\": [\"mean_absolute_error\"], \"department\": [\"accuracy\"]}) # defining the metrics for the priority and department\n",
        "model.fit({\"title\": title_data, \"text_body\": text_body_data, \"tags\": tags_data}, # training the model with the input and output data\n",
        "          {\"priority\": priority_data, \"department\": department_data}, \n",
        "          epochs=1) # training the model for 1 epoch\n",
        "model.evaluate({\"title\": title_data, \"text_body\": text_body_data, \"tags\": tags_data}, # evaluating the model with the input and output data\n",
        "               {\"priority\": priority_data, \"department\": department_data})\n",
        "priority_preds, department_preds = model.predict( # predicting the priority and department with the input data\n",
        "    {\"title\": title_data, \"text_body\": text_body_data, \"tags\": tags_data})"
      ]
    },
    {
      "cell_type": "markdown",
      "metadata": {
        "id": "CdM67DHlDnNB"
      },
      "source": [
        "#### The power of the Functional API: Access to layer connectivity"
      ]
    },
    {
      "cell_type": "code",
      "execution_count": 20,
      "metadata": {
        "id": "gS4JfHfmDnNB"
      },
      "outputs": [
        {
          "data": {
            "image/png": "[encoded data removed]",
            "text/plain": [
              "<IPython.core.display.Image object>"
            ]
          },
          "execution_count": 20,
          "metadata": {},
          "output_type": "execute_result"
        }
      ],
      "source": [
        "keras.utils.plot_model(model, \"ticket_classifier.png\") # plotting the model and saving it as ticket_classifier.png"
      ]
    },
    {
      "cell_type": "code",
      "execution_count": 21,
      "metadata": {
        "id": "KKlP73vNDnNB"
      },
      "outputs": [
        {
          "data": {
            "image/png": "[encoded data removed]",
            "text/plain": [
              "<IPython.core.display.Image object>"
            ]
          },
          "execution_count": 21,
          "metadata": {},
          "output_type": "execute_result"
        }
      ],
      "source": [
        "keras.utils.plot_model(model, \"ticket_classifier_with_shape_info.png\", show_shapes=True) # plotting the model with shape information and saving it as ticket_classifier_with_shape_info.png"
      ]
    },
    {
      "cell_type": "markdown",
      "metadata": {
        "id": "8i6-fLMXDnNB"
      },
      "source": [
        "**Retrieving the inputs or outputs of a layer in a Functional model**"
      ]
    },
    {
      "cell_type": "code",
      "execution_count": 22,
      "metadata": {
        "id": "X_N3O_3-DnNB"
      },
      "outputs": [
        {
          "data": {
            "text/plain": [
              "[<InputLayer name=title, built=True>,\n",
              " <InputLayer name=text_body, built=True>,\n",
              " <InputLayer name=tags, built=True>,\n",
              " <Concatenate name=concatenate, built=True>,\n",
              " <Dense name=dense_10, built=True>,\n",
              " <Dense name=priority, built=True>,\n",
              " <Dense name=department, built=True>]"
            ]
          },
          "execution_count": 22,
          "metadata": {},
          "output_type": "execute_result"
        }
      ],
      "source": [
        "model.layers # printing the layers of the model"
      ]
    },
    {
      "cell_type": "code",
      "execution_count": 23,
      "metadata": {
        "id": "e_hw7-BzDnNB"
      },
      "outputs": [
        {
          "data": {
            "text/plain": [
              "[<KerasTensor shape=(None, 10000), dtype=float32, sparse=None, name=title>,\n",
              " <KerasTensor shape=(None, 10000), dtype=float32, sparse=None, name=text_body>,\n",
              " <KerasTensor shape=(None, 100), dtype=float32, sparse=None, name=tags>]"
            ]
          },
          "execution_count": 23,
          "metadata": {},
          "output_type": "execute_result"
        }
      ],
      "source": [
        "model.layers[3].input # printing the input of the 4th layer"
      ]
    },
    {
      "cell_type": "code",
      "execution_count": 24,
      "metadata": {
        "id": "DkVPtWL8DnNB"
      },
      "outputs": [
        {
          "data": {
            "text/plain": [
              "<KerasTensor shape=(None, 20100), dtype=float32, sparse=False, name=keras_tensor_14>"
            ]
          },
          "execution_count": 24,
          "metadata": {},
          "output_type": "execute_result"
        }
      ],
      "source": [
        "model.layers[3].output # printing the output of the 4th layer"
      ]
    },
    {
      "cell_type": "markdown",
      "metadata": {
        "id": "F23Th9xBDnNB"
      },
      "source": [
        "**Creating a new model by reusing intermediate layer outputs**"
      ]
    },
    {
      "cell_type": "code",
      "execution_count": 25,
      "metadata": {
        "id": "OfTgxy4xDnNB"
      },
      "outputs": [],
      "source": [
        "features = model.layers[4].output # getting the output of the 5th layer\n",
        "difficulty = layers.Dense(3, activation=\"softmax\", name=\"difficulty\")(features) # adding a dense layer with 3 neurons and softmax activation function for the difficulty\n",
        "\n",
        "new_model = keras.Model( # defining a new model with the input and output layers\n",
        "    inputs=[title, text_body, tags], # defining the input layers with title, text_body, and tags\n",
        "    outputs=[priority, department, difficulty]) # defining the output layers with priority, department, and difficulty"
      ]
    },
    {
      "cell_type": "code",
      "execution_count": 26,
      "metadata": {
        "id": "ECJQGgz7DnNB"
      },
      "outputs": [
        {
          "data": {
            "image/png": "[encoded data removed]",
            "text/plain": [
              "<IPython.core.display.Image object>"
            ]
          },
          "execution_count": 26,
          "metadata": {},
          "output_type": "execute_result"
        }
      ],
      "source": [
        "keras.utils.plot_model(new_model, \"updated_ticket_classifier.png\", show_shapes=True) # plotting the updated model with shape information and saving it as updated_ticket_classifier.png"
      ]
    },
    {
      "cell_type": "markdown",
      "metadata": {
        "id": "zQ1gSzzyDnNB"
      },
      "source": [
        "### Subclassing the Model class"
      ]
    },
    {
      "cell_type": "markdown",
      "metadata": {
        "id": "hgzaLKRGDnNB"
      },
      "source": [
        "#### Rewriting our previous example as a subclassed model"
      ]
    },
    {
      "cell_type": "markdown",
      "metadata": {
        "id": "vmURC5_uDnNB"
      },
      "source": [
        "**A simple subclassed model**"
      ]
    },
    {
      "cell_type": "code",
      "execution_count": 27,
      "metadata": {
        "id": "ywMHu6ISDnNB"
      },
      "outputs": [],
      "source": [
        "class CustomerTicketModel(keras.Model): # defining a custom model class\n",
        "\n",
        "    def __init__(self, num_departments): # defining the constructor with the number of departments as input \n",
        "        super().__init__() # calling the constructor of the parent class\n",
        "        self.concat_layer = layers.Concatenate() # concatenating the input layers\n",
        "        self.mixing_layer = layers.Dense(64, activation=\"relu\") # adding a dense layer with 64 neurons and relu activation function\n",
        "        self.priority_scorer = layers.Dense(1, activation=\"sigmoid\") # adding a dense layer with 1 neuron and sigmoid activation function for the priority\n",
        "        self.department_classifier = layers.Dense( # adding a dense layer for the department\n",
        "            num_departments, activation=\"softmax\") # with num_departments neurons and softmax activation function\n",
        "\n",
        "    def call(self, inputs): # defining the call method with inputs as input\n",
        "        title = inputs[\"title\"] # getting the title from the inputs\n",
        "        text_body = inputs[\"text_body\"] # getting the text body from the inputs\n",
        "        tags = inputs[\"tags\"] # getting the tags from the inputs\n",
        "\n",
        "        features = self.concat_layer([title, text_body, tags]) # concatenating the input layers\n",
        "        features = self.mixing_layer(features) # passing the concatenated features to the mixing layer\n",
        "        priority = self.priority_scorer(features) # passing the mixed features to the priority scorer\n",
        "        department = self.department_classifier(features) # passing the mixed features to the department classifier\n",
        "        return priority, department # returning the priority and department"
      ]
    },
    {
      "cell_type": "code",
      "execution_count": 28,
      "metadata": {
        "id": "p_xJQsdkDnNB"
      },
      "outputs": [],
      "source": [
        "model = CustomerTicketModel(num_departments=4) # creating an instance of the custom model class with 4 departments\n",
        "\n",
        "priority, department = model( # calling the model with the input data\n",
        "    {\"title\": title_data, \"text_body\": text_body_data, \"tags\": tags_data})"
      ]
    },
    {
      "cell_type": "code",
      "execution_count": 29,
      "metadata": {
        "id": "cV6EDTPtDnNB"
      },
      "outputs": [
        {
          "name": "stdout",
          "output_type": "stream",
          "text": [
            "\u001b[1m40/40\u001b[0m \u001b[32m━━━━━━━━━━━━━━━━━━━━\u001b[0m\u001b[37m\u001b[0m \u001b[1m0s\u001b[0m 4ms/step - accuracy: 0.2223 - loss: 29.4274 - mean_absolute_error: 0.4780\n",
            "\u001b[1m40/40\u001b[0m \u001b[32m━━━━━━━━━━━━━━━━━━━━\u001b[0m\u001b[37m\u001b[0m \u001b[1m0s\u001b[0m 1ms/step - accuracy: 0.0475 - loss: 54.4114 - mean_absolute_error: 0.5147\n",
            "\u001b[1m40/40\u001b[0m \u001b[32m━━━━━━━━━━━━━━━━━━━━\u001b[0m\u001b[37m\u001b[0m \u001b[1m0s\u001b[0m 1ms/step\n"
          ]
        }
      ],
      "source": [
        "model.compile(optimizer=\"rmsprop\", # compiling the model with rmsprop optimizer\n",
        "              loss=[\"mean_squared_error\", \"categorical_crossentropy\"], # defining the loss functions for the priority and department\n",
        "              metrics=[[\"mean_absolute_error\"], [\"accuracy\"]]) # defining the metrics for the priority and department\n",
        "model.fit({\"title\": title_data, # training the model with the input and output data\n",
        "           \"text_body\": text_body_data, \n",
        "           \"tags\": tags_data},\n",
        "          [priority_data, department_data], \n",
        "          epochs=1) # training the model for 1 epoch\n",
        "model.evaluate({\"title\": title_data, # evaluating the model with the input and output data\n",
        "                \"text_body\": text_body_data,\n",
        "                \"tags\": tags_data},\n",
        "               [priority_data, department_data]) \n",
        "priority_preds, department_preds = model.predict({\"title\": title_data, # predicting the priority and department with the input data\n",
        "                                                  \"text_body\": text_body_data, \n",
        "                                                  \"tags\": tags_data}) "
      ]
    },
    {
      "cell_type": "markdown",
      "metadata": {
        "id": "_ITMGJbcDnNC"
      },
      "source": [
        "#### Beware: What subclassed models don't support"
      ]
    },
    {
      "cell_type": "markdown",
      "metadata": {
        "id": "9I-4eHI9DnNC"
      },
      "source": [
        "### Mixing and matching different components"
      ]
    },
    {
      "cell_type": "markdown",
      "metadata": {
        "id": "WmyB-Q-hDnNC"
      },
      "source": [
        "**Creating a Functional model that includes a subclassed model**"
      ]
    },
    {
      "cell_type": "code",
      "execution_count": 30,
      "metadata": {
        "id": "AnFLDj5SDnNC"
      },
      "outputs": [],
      "source": [
        "class Classifier(keras.Model): # defining a custom model class\n",
        "\n",
        "    def __init__(self, num_classes=2): # defining the constructor with the number of classes as input\n",
        "        super().__init__() # calling the constructor of the parent class\n",
        "        if num_classes == 2: # if the number of classes is 2\n",
        "            num_units = 1 # set the number of units to 1\n",
        "            activation = \"sigmoid\" # set the activation function to sigmoid\n",
        "        else: # if the number of classes is not 2\n",
        "            num_units = num_classes # set the number of units to the number of classes\n",
        "            activation = \"softmax\" # set the activation function to softmax\n",
        "        self.dense = layers.Dense(num_units, activation=activation) # adding a dense layer with num_units neurons and the specified activation function\n",
        "\n",
        "    def call(self, inputs): # defining the call method with inputs as input\n",
        "        return self.dense(inputs) # returning the output of the dense layer\n",
        " \n",
        "inputs = keras.Input(shape=(3,)) # defining the input layer with input shape of (None, 3) because we have 3 features in the input data\n",
        "features = layers.Dense(64, activation=\"relu\")(inputs) # adding a dense layer with 64 neurons and relu activation function\n",
        "outputs = Classifier(num_classes=10)(features) # adding a custom classifier with 10 classes\n",
        "model = keras.Model(inputs=inputs, outputs=outputs) # defining the model with the input and output layers"
      ]
    },
    {
      "cell_type": "markdown",
      "metadata": {
        "id": "wjeG4WMtDnNC"
      },
      "source": [
        "**Creating a subclassed model that includes a Functional model**"
      ]
    },
    {
      "cell_type": "code",
      "execution_count": 31,
      "metadata": {
        "id": "AUpCv2PCDnNC"
      },
      "outputs": [],
      "source": [
        "inputs = keras.Input(shape=(64,)) # defining the input layer with input shape of (None, 64) because the output shape of the dense layer is (None, 64)\n",
        "outputs = layers.Dense(1, activation=\"sigmoid\")(inputs) # adding a dense layer with 1 neuron and sigmoid activation function\n",
        "binary_classifier = keras.Model(inputs=inputs, outputs=outputs) # defining a binary classifier model with the input and output layers\n",
        "\n",
        "class MyModel(keras.Model): # defining a custom model class\n",
        "\n",
        "    def __init__(self, num_classes=2): # defining the constructor with the number of classes as input\n",
        "        super().__init__() # calling the constructor of the parent class\n",
        "        self.dense = layers.Dense(64, activation=\"relu\") # adding a dense layer with 64 neurons and relu activation function\n",
        "        self.classifier = binary_classifier # adding a binary classifier\n",
        "\n",
        "    def call(self, inputs): # defining the call method with inputs as input\n",
        "        features = self.dense(inputs) # passing the inputs to the dense layer\n",
        "        return self.classifier(features) # passing the features to the binary classifier\n",
        "\n",
        "model = MyModel() # creating an instance of the custom model class"
      ]
    },
    {
      "cell_type": "markdown",
      "metadata": {
        "id": "YnpDwwNNDnNC"
      },
      "source": [
        "### Remember: Use the right tool for the job"
      ]
    },
    {
      "cell_type": "markdown",
      "metadata": {
        "id": "EfCULVzeDnNC"
      },
      "source": [
        "## Using built-in training and evaluation loops"
      ]
    },
    {
      "cell_type": "markdown",
      "metadata": {
        "id": "2IzbsZLiDnNC"
      },
      "source": [
        "**The standard workflow: `compile()`, `fit()`, `evaluate()`, `predict()`**"
      ]
    },
    {
      "cell_type": "code",
      "execution_count": 32,
      "metadata": {
        "id": "OrpckXLDDnNC"
      },
      "outputs": [
        {
          "name": "stdout",
          "output_type": "stream",
          "text": [
            "Epoch 1/3\n",
            "\u001b[1m1563/1563\u001b[0m \u001b[32m━━━━━━━━━━━━━━━━━━━━\u001b[0m\u001b[37m\u001b[0m \u001b[1m3s\u001b[0m 1ms/step - accuracy: 0.8623 - loss: 0.4506 - val_accuracy: 0.9568 - val_loss: 0.1461\n",
            "Epoch 2/3\n",
            "\u001b[1m1563/1563\u001b[0m \u001b[32m━━━━━━━━━━━━━━━━━━━━\u001b[0m\u001b[37m\u001b[0m \u001b[1m2s\u001b[0m 1ms/step - accuracy: 0.9550 - loss: 0.1559 - val_accuracy: 0.9695 - val_loss: 0.1100\n",
            "Epoch 3/3\n",
            "\u001b[1m1563/1563\u001b[0m \u001b[32m━━━━━━━━━━━━━━━━━━━━\u001b[0m\u001b[37m\u001b[0m \u001b[1m2s\u001b[0m 1ms/step - accuracy: 0.9633 - loss: 0.1322 - val_accuracy: 0.9726 - val_loss: 0.1060\n",
            "\u001b[1m313/313\u001b[0m \u001b[32m━━━━━━━━━━━━━━━━━━━━\u001b[0m\u001b[37m\u001b[0m \u001b[1m0s\u001b[0m 401us/step - accuracy: 0.9680 - loss: 0.1160\n",
            "\u001b[1m313/313\u001b[0m \u001b[32m━━━━━━━━━━━━━━━━━━━━\u001b[0m\u001b[37m\u001b[0m \u001b[1m0s\u001b[0m 418us/step\n"
          ]
        }
      ],
      "source": [
        "from tensorflow.keras.datasets import mnist # importing mnist dataset\n",
        "\n",
        "def get_mnist_model(): # defining a function to get the mnist model\n",
        "    inputs = keras.Input(shape=(28 * 28,)) # defining the input layer with input shape of (None, 28*28) because the input data has 28*28 features\n",
        "    features = layers.Dense(512, activation=\"relu\")(inputs) # adding a dense layer with 512 neurons and relu activation function\n",
        "    features = layers.Dropout(0.5)(features) # adding a dropout layer with a dropout rate of 0.5 (the most common rate)\n",
        "    outputs = layers.Dense(10, activation=\"softmax\")(features) # adding a dense layer with 10 neurons and softmax activation function\n",
        "    model = keras.Model(inputs, outputs) # defining the model with the input and output layers\n",
        "    return model # returning the model\n",
        "\n",
        "(images, labels), (test_images, test_labels) = mnist.load_data() # loading the mnist dataset\n",
        "images = images.reshape((60000, 28 * 28)).astype(\"float32\") / 255 # reshaping the images and normalizing them\n",
        "test_images = test_images.reshape((10000, 28 * 28)).astype(\"float32\") / 255 # reshaping the test images and normalizing them\n",
        "train_images, val_images = images[10000:], images[:10000] # splitting the images into training and validation sets\n",
        "train_labels, val_labels = labels[10000:], labels[:10000] # splitting the labels into training and validation sets\n",
        "\n",
        "model = get_mnist_model() # getting the mnist model\n",
        "model.compile(optimizer=\"rmsprop\", # compiling the model with rmsprop optimizer\n",
        "              loss=\"sparse_categorical_crossentropy\", # defining the loss function\n",
        "              metrics=[\"accuracy\"]) # defining the metrics\n",
        "model.fit(train_images, train_labels, # training the model with the training data\n",
        "          epochs=3, # training the model for 3 epochs\n",
        "          validation_data=(val_images, val_labels)) # validating the model with the validation data\n",
        "test_metrics = model.evaluate(test_images, test_labels) # evaluating the model with the test data\n",
        "predictions = model.predict(test_images) # predicting the test data"
      ]
    },
    {
      "cell_type": "markdown",
      "metadata": {
        "id": "9ZY57HchDnNC"
      },
      "source": [
        "### Writing your own metrics"
      ]
    },
    {
      "cell_type": "markdown",
      "metadata": {
        "id": "3h6cfCFrDnNC"
      },
      "source": [
        "**Implementing a custom metric by subclassing the `Metric` class**"
      ]
    },
    {
      "cell_type": "code",
      "execution_count": 33,
      "metadata": {
        "id": "VLpOvwslDnNC"
      },
      "outputs": [],
      "source": [
        "import tensorflow as tf # importing tensorflow package\n",
        "\n",
        "class RootMeanSquaredError(keras.metrics.Metric): # defining a custom metric class\n",
        "\n",
        "    def __init__(self, name=\"rmse\", **kwargs): # defining the constructor with the name and keyword arguments\n",
        "        super().__init__(name=name, **kwargs) # calling the constructor of the parent class\n",
        "        self.mse_sum = self.add_weight(name=\"mse_sum\", initializer=\"zeros\") # adding a weight for the mse sum\n",
        "        self.total_samples = self.add_weight( # adding a weight for the total number of samples\n",
        "            name=\"total_samples\", initializer=\"zeros\", dtype=\"int32\") # with dtype int32 for integer values \n",
        "\n",
        "    def update_state(self, y_true, y_pred, sample_weight=None): # defining the update state method with y_true, y_pred, and sample_weight as inputs\n",
        "        y_true = tf.one_hot(y_true, depth=tf.shape(y_pred)[1]) # converting the true labels to one-hot encoding\n",
        "        mse = tf.reduce_sum(tf.square(y_true - y_pred)) # calculating the mean squared error\n",
        "        self.mse_sum.assign_add(mse) # adding the mse to the mse sum\n",
        "        num_samples = tf.shape(y_pred)[0] # getting the number of samples\n",
        "        self.total_samples.assign_add(num_samples) # adding the number of samples to the total samples\n",
        "\n",
        "    def result(self): # defining the result method\n",
        "        return tf.sqrt(self.mse_sum / tf.cast(self.total_samples, tf.float32)) # returning the root mean squared error\n",
        "\n",
        "    def reset_state(self): # defining the reset state method\n",
        "        self.mse_sum.assign(0.) # assigning 0 to the mse sum\n",
        "        self.total_samples.assign(0) # assigning 0 to the total samples"
      ]
    },
    {
      "cell_type": "code",
      "execution_count": 34,
      "metadata": {
        "id": "QWCqtptnDnNC"
      },
      "outputs": [
        {
          "name": "stdout",
          "output_type": "stream",
          "text": [
            "Epoch 1/3\n",
            "\u001b[1m1563/1563\u001b[0m \u001b[32m━━━━━━━━━━━━━━━━━━━━\u001b[0m\u001b[37m\u001b[0m \u001b[1m2s\u001b[0m 1ms/step - accuracy: 0.8631 - loss: 0.4455 - rmse: 0.4381 - val_accuracy: 0.9566 - val_loss: 0.1544 - val_rmse: 0.2578\n",
            "Epoch 2/3\n",
            "\u001b[1m1563/1563\u001b[0m \u001b[32m━━━━━━━━━━━━━━━━━━━━\u001b[0m\u001b[37m\u001b[0m \u001b[1m2s\u001b[0m 1ms/step - accuracy: 0.9525 - loss: 0.1696 - rmse: 0.2713 - val_accuracy: 0.9674 - val_loss: 0.1178 - val_rmse: 0.2242\n",
            "Epoch 3/3\n",
            "\u001b[1m1563/1563\u001b[0m \u001b[32m━━━━━━━━━━━━━━━━━━━━\u001b[0m\u001b[37m\u001b[0m \u001b[1m2s\u001b[0m 1ms/step - accuracy: 0.9619 - loss: 0.1304 - rmse: 0.2414 - val_accuracy: 0.9721 - val_loss: 0.1076 - val_rmse: 0.2107\n",
            "\u001b[1m313/313\u001b[0m \u001b[32m━━━━━━━━━━━━━━━━━━━━\u001b[0m\u001b[37m\u001b[0m \u001b[1m0s\u001b[0m 449us/step - accuracy: 0.9679 - loss: 0.1134 - rmse: 0.2190\n"
          ]
        }
      ],
      "source": [
        "model = get_mnist_model() # getting the mnist model\n",
        "model.compile(optimizer=\"rmsprop\", # compiling the model with rmsprop optimizer\n",
        "              loss=\"sparse_categorical_crossentropy\", # defining the loss function\n",
        "              metrics=[\"accuracy\", RootMeanSquaredError()]) # defining the metrics with accuracy and the custom metric\n",
        "model.fit(train_images, train_labels, # training the model with the training data\n",
        "          epochs=3, # training the model for 3 epochs\n",
        "          validation_data=(val_images, val_labels)) # validating the model with the validation data\n",
        "test_metrics = model.evaluate(test_images, test_labels) # evaluating the model with the test data"
      ]
    },
    {
      "cell_type": "markdown",
      "metadata": {
        "id": "wIWPMXqsDnNC"
      },
      "source": [
        "### Using callbacks"
      ]
    },
    {
      "cell_type": "markdown",
      "metadata": {
        "id": "JCzNIthADnNC"
      },
      "source": [
        "#### The EarlyStopping and ModelCheckpoint callbacks"
      ]
    },
    {
      "cell_type": "markdown",
      "metadata": {
        "id": "kzGnPZPWDnNC"
      },
      "source": [
        "**Using the `callbacks` argument in the `fit()` method**"
      ]
    },
    {
      "cell_type": "code",
      "execution_count": 35,
      "metadata": {
        "id": "wf7BuvXUDnNC"
      },
      "outputs": [
        {
          "name": "stdout",
          "output_type": "stream",
          "text": [
            "Epoch 1/10\n",
            "\u001b[1m1563/1563\u001b[0m \u001b[32m━━━━━━━━━━━━━━━━━━━━\u001b[0m\u001b[37m\u001b[0m \u001b[1m3s\u001b[0m 2ms/step - accuracy: 0.8625 - loss: 0.4455 - val_accuracy: 0.9554 - val_loss: 0.1521\n",
            "Epoch 2/10\n",
            "\u001b[1m1563/1563\u001b[0m \u001b[32m━━━━━━━━━━━━━━━━━━━━\u001b[0m\u001b[37m\u001b[0m \u001b[1m2s\u001b[0m 1ms/step - accuracy: 0.9523 - loss: 0.1633 - val_accuracy: 0.9665 - val_loss: 0.1223\n",
            "Epoch 3/10\n",
            "\u001b[1m1563/1563\u001b[0m \u001b[32m━━━━━━━━━━━━━━━━━━━━\u001b[0m\u001b[37m\u001b[0m \u001b[1m2s\u001b[0m 1ms/step - accuracy: 0.9624 - loss: 0.1340 - val_accuracy: 0.9724 - val_loss: 0.1011\n",
            "Epoch 4/10\n",
            "\u001b[1m1563/1563\u001b[0m \u001b[32m━━━━━━━━━━━━━━━━━━━━\u001b[0m\u001b[37m\u001b[0m \u001b[1m2s\u001b[0m 1ms/step - accuracy: 0.9670 - loss: 0.1187 - val_accuracy: 0.9737 - val_loss: 0.1034\n",
            "Epoch 5/10\n",
            "\u001b[1m1563/1563\u001b[0m \u001b[32m━━━━━━━━━━━━━━━━━━━━\u001b[0m\u001b[37m\u001b[0m \u001b[1m2s\u001b[0m 1ms/step - accuracy: 0.9709 - loss: 0.1031 - val_accuracy: 0.9760 - val_loss: 0.0929\n",
            "Epoch 6/10\n",
            "\u001b[1m1563/1563\u001b[0m \u001b[32m━━━━━━━━━━━━━━━━━━━━\u001b[0m\u001b[37m\u001b[0m \u001b[1m2s\u001b[0m 1ms/step - accuracy: 0.9737 - loss: 0.0971 - val_accuracy: 0.9777 - val_loss: 0.0922\n",
            "Epoch 7/10\n",
            "\u001b[1m1563/1563\u001b[0m \u001b[32m━━━━━━━━━━━━━━━━━━━━\u001b[0m\u001b[37m\u001b[0m \u001b[1m2s\u001b[0m 1ms/step - accuracy: 0.9752 - loss: 0.0878 - val_accuracy: 0.9773 - val_loss: 0.0975\n",
            "Epoch 8/10\n",
            "\u001b[1m1563/1563\u001b[0m \u001b[32m━━━━━━━━━━━━━━━━━━━━\u001b[0m\u001b[37m\u001b[0m \u001b[1m2s\u001b[0m 1ms/step - accuracy: 0.9787 - loss: 0.0768 - val_accuracy: 0.9793 - val_loss: 0.0824\n",
            "Epoch 9/10\n",
            "\u001b[1m1563/1563\u001b[0m \u001b[32m━━━━━━━━━━━━━━━━━━━━\u001b[0m\u001b[37m\u001b[0m \u001b[1m2s\u001b[0m 1ms/step - accuracy: 0.9806 - loss: 0.0724 - val_accuracy: 0.9778 - val_loss: 0.0976\n",
            "Epoch 10/10\n",
            "\u001b[1m1563/1563\u001b[0m \u001b[32m━━━━━━━━━━━━━━━━━━━━\u001b[0m\u001b[37m\u001b[0m \u001b[1m2s\u001b[0m 1ms/step - accuracy: 0.9804 - loss: 0.0707 - val_accuracy: 0.9808 - val_loss: 0.0812\n"
          ]
        },
        {
          "data": {
            "text/plain": [
              "<keras.src.callbacks.history.History at 0x2a1663d10>"
            ]
          },
          "execution_count": 35,
          "metadata": {},
          "output_type": "execute_result"
        }
      ],
      "source": [
        "callbacks_list = [ # defining a list of callbacks\n",
        "    keras.callbacks.EarlyStopping( # adding an early stopping callback\n",
        "        monitor=\"val_accuracy\", # monitoring the validation accuracy\n",
        "        patience=2, # waiting for 2 epochs without improvement\n",
        "    ),\n",
        "    keras.callbacks.ModelCheckpoint( # adding a model checkpoint callback\n",
        "        filepath=\"checkpoint_path.keras\", # saving the model to the specified path\n",
        "        monitor=\"val_loss\", # monitoring the validation loss\n",
        "        save_best_only=True, # saving only the best model\n",
        "    )\n",
        "]\n",
        "model = get_mnist_model() # getting the mnist model\n",
        "model.compile(optimizer=\"rmsprop\", # compiling the model with rmsprop optimizer\n",
        "              loss=\"sparse_categorical_crossentropy\", # defining the loss function\n",
        "              metrics=[\"accuracy\"]) # defining the metrics\n",
        "model.fit(train_images, train_labels, # training the model with the training data\n",
        "          epochs=10, # training the model for 10 epochs\n",
        "          callbacks=callbacks_list, # using the callbacks list\n",
        "          validation_data=(val_images, val_labels)) # validating the model with the validation data"
      ]
    },
    {
      "cell_type": "code",
      "execution_count": 36,
      "metadata": {
        "id": "yZr2tuOzDnND"
      },
      "outputs": [],
      "source": [
        "model = keras.models.load_model(\"checkpoint_path.keras\") # loading the best model from the checkpoint path"
      ]
    },
    {
      "cell_type": "markdown",
      "metadata": {
        "id": "Nb5YCf7MDnND"
      },
      "source": [
        "### Writing your own callbacks"
      ]
    },
    {
      "cell_type": "markdown",
      "metadata": {
        "id": "pJNiNEYBDnND"
      },
      "source": [
        "**Creating a custom callback by subclassing the `Callback` class**"
      ]
    },
    {
      "cell_type": "code",
      "execution_count": 37,
      "metadata": {
        "id": "HkTmaKlUDnND"
      },
      "outputs": [],
      "source": [
        "from matplotlib import pyplot as plt # importing pyplot from matplotlib package\n",
        "\n",
        "class LossHistory(keras.callbacks.Callback): # defining a custom callback class\n",
        "    def on_train_begin(self, logs): # defining the on train begin method with logs as input\n",
        "        self.per_batch_losses = [] # initializing the list of per batch losses\n",
        "\n",
        "    def on_batch_end(self, batch, logs): # defining the on batch end method with batch and logs as inputs\n",
        "        self.per_batch_losses.append(logs.get(\"loss\")) # appending the loss to the list of per batch losses\n",
        "\n",
        "    def on_epoch_end(self, epoch, logs): # defining the on epoch end method with epoch and logs as inputs\n",
        "        plt.clf() # clearing the current figure\n",
        "        plt.plot(range(len(self.per_batch_losses)), self.per_batch_losses, # plotting the per batch losses for the epoch \n",
        "                 label=\"Training loss for each batch\") # adding a label for the plot\n",
        "        plt.xlabel(f\"Batch (epoch {epoch})\") # setting the x-axis label\n",
        "        plt.ylabel(\"Loss\") # setting the y-axis label\n",
        "        plt.legend() # adding a legend to the plot\n",
        "        plt.savefig(f\"plot_at_epoch_{epoch}\") # saving the plot as a file\n",
        "        self.per_batch_losses = [] # resetting the list of per batch losses"
      ]
    },
    {
      "cell_type": "code",
      "execution_count": 38,
      "metadata": {
        "id": "XrlQnOiyDnND"
      },
      "outputs": [
        {
          "name": "stdout",
          "output_type": "stream",
          "text": [
            "Epoch 1/10\n",
            "\u001b[1m1563/1563\u001b[0m \u001b[32m━━━━━━━━━━━━━━━━━━━━\u001b[0m\u001b[37m\u001b[0m \u001b[1m3s\u001b[0m 2ms/step - accuracy: 0.8637 - loss: 0.4515 - val_accuracy: 0.9553 - val_loss: 0.1518\n",
            "Epoch 2/10\n",
            "\u001b[1m  16/1563\u001b[0m \u001b[37m━━━━━━━━━━━━━━━━━━━━\u001b[0m \u001b[1m5s\u001b[0m 4ms/step - accuracy: 0.9515 - loss: 0.1451   "
          ]
        },
        {
          "name": "stderr",
          "output_type": "stream",
          "text": [
            "/var/folders/5j/v9msxv8n6jv_3409lgk47xph0000gn/T/ipykernel_16137/786061774.py:17: MatplotlibDeprecationWarning: savefig() got unexpected keyword argument \"facecolor\" which is no longer supported as of 3.3 and will become an error two minor releases later\n",
            "  plt.savefig(f\"plot_at_epoch_{epoch}\") # saving the plot as a file\n",
            "/var/folders/5j/v9msxv8n6jv_3409lgk47xph0000gn/T/ipykernel_16137/786061774.py:17: MatplotlibDeprecationWarning: savefig() got unexpected keyword argument \"edgecolor\" which is no longer supported as of 3.3 and will become an error two minor releases later\n",
            "  plt.savefig(f\"plot_at_epoch_{epoch}\") # saving the plot as a file\n",
            "/var/folders/5j/v9msxv8n6jv_3409lgk47xph0000gn/T/ipykernel_16137/786061774.py:17: MatplotlibDeprecationWarning: savefig() got unexpected keyword argument \"orientation\" which is no longer supported as of 3.3 and will become an error two minor releases later\n",
            "  plt.savefig(f\"plot_at_epoch_{epoch}\") # saving the plot as a file\n",
            "/var/folders/5j/v9msxv8n6jv_3409lgk47xph0000gn/T/ipykernel_16137/786061774.py:17: MatplotlibDeprecationWarning: savefig() got unexpected keyword argument \"bbox_inches_restore\" which is no longer supported as of 3.3 and will become an error two minor releases later\n",
            "  plt.savefig(f\"plot_at_epoch_{epoch}\") # saving the plot as a file\n"
          ]
        },
        {
          "name": "stdout",
          "output_type": "stream",
          "text": [
            "\u001b[1m1563/1563\u001b[0m \u001b[32m━━━━━━━━━━━━━━━━━━━━\u001b[0m\u001b[37m\u001b[0m \u001b[1m2s\u001b[0m 2ms/step - accuracy: 0.9516 - loss: 0.1651 - val_accuracy: 0.9676 - val_loss: 0.1151\n",
            "Epoch 3/10\n",
            "\u001b[1m1563/1563\u001b[0m \u001b[32m━━━━━━━━━━━━━━━━━━━━\u001b[0m\u001b[37m\u001b[0m \u001b[1m2s\u001b[0m 1ms/step - accuracy: 0.9620 - loss: 0.1346 - val_accuracy: 0.9730 - val_loss: 0.1059\n",
            "Epoch 4/10\n",
            "\u001b[1m1563/1563\u001b[0m \u001b[32m━━━━━━━━━━━━━━━━━━━━\u001b[0m\u001b[37m\u001b[0m \u001b[1m2s\u001b[0m 1ms/step - accuracy: 0.9676 - loss: 0.1169 - val_accuracy: 0.9738 - val_loss: 0.0966\n",
            "Epoch 5/10\n",
            "\u001b[1m1563/1563\u001b[0m \u001b[32m━━━━━━━━━━━━━━━━━━━━\u001b[0m\u001b[37m\u001b[0m \u001b[1m2s\u001b[0m 1ms/step - accuracy: 0.9725 - loss: 0.0953 - val_accuracy: 0.9775 - val_loss: 0.0925\n",
            "Epoch 6/10\n",
            "\u001b[1m1563/1563\u001b[0m \u001b[32m━━━━━━━━━━━━━━━━━━━━\u001b[0m\u001b[37m\u001b[0m \u001b[1m2s\u001b[0m 1ms/step - accuracy: 0.9747 - loss: 0.0918 - val_accuracy: 0.9772 - val_loss: 0.0935\n",
            "Epoch 7/10\n",
            "\u001b[1m1563/1563\u001b[0m \u001b[32m━━━━━━━━━━━━━━━━━━━━\u001b[0m\u001b[37m\u001b[0m \u001b[1m2s\u001b[0m 2ms/step - accuracy: 0.9762 - loss: 0.0834 - val_accuracy: 0.9798 - val_loss: 0.0914\n",
            "Epoch 8/10\n",
            "\u001b[1m1563/1563\u001b[0m \u001b[32m━━━━━━━━━━━━━━━━━━━━\u001b[0m\u001b[37m\u001b[0m \u001b[1m2s\u001b[0m 2ms/step - accuracy: 0.9786 - loss: 0.0794 - val_accuracy: 0.9787 - val_loss: 0.0886\n",
            "Epoch 9/10\n",
            "\u001b[1m1563/1563\u001b[0m \u001b[32m━━━━━━━━━━━━━━━━━━━━\u001b[0m\u001b[37m\u001b[0m \u001b[1m2s\u001b[0m 2ms/step - accuracy: 0.9805 - loss: 0.0720 - val_accuracy: 0.9791 - val_loss: 0.0890\n",
            "Epoch 10/10\n",
            "\u001b[1m1563/1563\u001b[0m \u001b[32m━━━━━━━━━━━━━━━━━━━━\u001b[0m\u001b[37m\u001b[0m \u001b[1m2s\u001b[0m 2ms/step - accuracy: 0.9794 - loss: 0.0756 - val_accuracy: 0.9810 - val_loss: 0.0921\n"
          ]
        },
        {
          "data": {
            "text/plain": [
              "<keras.src.callbacks.history.History at 0x2fb90e610>"
            ]
          },
          "execution_count": 38,
          "metadata": {},
          "output_type": "execute_result"
        },
        {
          "name": "stderr",
          "output_type": "stream",
          "text": [
            "/Users/miakuntz/Library/Python/3.11/lib/python/site-packages/IPython/core/pylabtools.py:152: MatplotlibDeprecationWarning: savefig() got unexpected keyword argument \"orientation\" which is no longer supported as of 3.3 and will become an error two minor releases later\n",
            "  fig.canvas.print_figure(bytes_io, **kw)\n",
            "/Users/miakuntz/Library/Python/3.11/lib/python/site-packages/IPython/core/pylabtools.py:152: MatplotlibDeprecationWarning: savefig() got unexpected keyword argument \"facecolor\" which is no longer supported as of 3.3 and will become an error two minor releases later\n",
            "  fig.canvas.print_figure(bytes_io, **kw)\n",
            "/Users/miakuntz/Library/Python/3.11/lib/python/site-packages/IPython/core/pylabtools.py:152: MatplotlibDeprecationWarning: savefig() got unexpected keyword argument \"edgecolor\" which is no longer supported as of 3.3 and will become an error two minor releases later\n",
            "  fig.canvas.print_figure(bytes_io, **kw)\n",
            "/Users/miakuntz/Library/Python/3.11/lib/python/site-packages/IPython/core/pylabtools.py:152: MatplotlibDeprecationWarning: savefig() got unexpected keyword argument \"bbox_inches_restore\" which is no longer supported as of 3.3 and will become an error two minor releases later\n",
            "  fig.canvas.print_figure(bytes_io, **kw)\n"
          ]
        },
        {
          "data": {
            "image/png": "[encoded data removed]",
            "text/plain": [
              "<Figure size 640x480 with 1 Axes>"
            ]
          },
          "metadata": {},
          "output_type": "display_data"
        }
      ],
      "source": [
        "model = get_mnist_model() # getting the mnist model\n",
        "model.compile(optimizer=\"rmsprop\", # compiling the model with rmsprop optimizer\n",
        "              loss=\"sparse_categorical_crossentropy\", # defining the loss function\n",
        "              metrics=[\"accuracy\"]) # defining the metrics\n",
        "model.fit(train_images, train_labels, # training the model with the training data\n",
        "          epochs=10, # training the model for 10 epochs\n",
        "          callbacks=[LossHistory()], # using the custom callback\n",
        "          validation_data=(val_images, val_labels)) # validating the model with the validation data"
      ]
    },
    {
      "cell_type": "markdown",
      "metadata": {
        "id": "OPMDIDYGDnND"
      },
      "source": [
        "### Monitoring and visualization with TensorBoard"
      ]
    },
    {
      "cell_type": "code",
      "execution_count": 39,
      "metadata": {
        "id": "ksZFkhwmDnND"
      },
      "outputs": [
        {
          "name": "stdout",
          "output_type": "stream",
          "text": [
            "Epoch 1/10\n",
            "\u001b[1m1563/1563\u001b[0m \u001b[32m━━━━━━━━━━━━━━━━━━━━\u001b[0m\u001b[37m\u001b[0m \u001b[1m3s\u001b[0m 2ms/step - accuracy: 0.8670 - loss: 0.4421 - val_accuracy: 0.9601 - val_loss: 0.1406\n",
            "Epoch 2/10\n",
            "\u001b[1m1563/1563\u001b[0m \u001b[32m━━━━━━━━━━━━━━━━━━━━\u001b[0m\u001b[37m\u001b[0m \u001b[1m3s\u001b[0m 2ms/step - accuracy: 0.9534 - loss: 0.1608 - val_accuracy: 0.9695 - val_loss: 0.1180\n",
            "Epoch 3/10\n",
            "\u001b[1m1563/1563\u001b[0m \u001b[32m━━━━━━━━━━━━━━━━━━━━\u001b[0m\u001b[37m\u001b[0m \u001b[1m3s\u001b[0m 2ms/step - accuracy: 0.9625 - loss: 0.1289 - val_accuracy: 0.9700 - val_loss: 0.1116\n",
            "Epoch 4/10\n",
            "\u001b[1m1563/1563\u001b[0m \u001b[32m━━━━━━━━━━━━━━━━━━━━\u001b[0m\u001b[37m\u001b[0m \u001b[1m2s\u001b[0m 2ms/step - accuracy: 0.9689 - loss: 0.1156 - val_accuracy: 0.9752 - val_loss: 0.0983\n",
            "Epoch 5/10\n",
            "\u001b[1m1563/1563\u001b[0m \u001b[32m━━━━━━━━━━━━━━━━━━━━\u001b[0m\u001b[37m\u001b[0m \u001b[1m2s\u001b[0m 2ms/step - accuracy: 0.9702 - loss: 0.1047 - val_accuracy: 0.9741 - val_loss: 0.0976\n",
            "Epoch 6/10\n",
            "\u001b[1m1563/1563\u001b[0m \u001b[32m━━━━━━━━━━━━━━━━━━━━\u001b[0m\u001b[37m\u001b[0m \u001b[1m2s\u001b[0m 2ms/step - accuracy: 0.9751 - loss: 0.0912 - val_accuracy: 0.9773 - val_loss: 0.0974\n",
            "Epoch 7/10\n",
            "\u001b[1m1563/1563\u001b[0m \u001b[32m━━━━━━━━━━━━━━━━━━━━\u001b[0m\u001b[37m\u001b[0m \u001b[1m2s\u001b[0m 1ms/step - accuracy: 0.9758 - loss: 0.0873 - val_accuracy: 0.9787 - val_loss: 0.0955\n",
            "Epoch 8/10\n",
            "\u001b[1m1563/1563\u001b[0m \u001b[32m━━━━━━━━━━━━━━━━━━━━\u001b[0m\u001b[37m\u001b[0m \u001b[1m2s\u001b[0m 2ms/step - accuracy: 0.9787 - loss: 0.0794 - val_accuracy: 0.9780 - val_loss: 0.0938\n",
            "Epoch 9/10\n",
            "\u001b[1m1563/1563\u001b[0m \u001b[32m━━━━━━━━━━━━━━━━━━━━\u001b[0m\u001b[37m\u001b[0m \u001b[1m2s\u001b[0m 2ms/step - accuracy: 0.9786 - loss: 0.0746 - val_accuracy: 0.9810 - val_loss: 0.0916\n",
            "Epoch 10/10\n",
            "\u001b[1m1563/1563\u001b[0m \u001b[32m━━━━━━━━━━━━━━━━━━━━\u001b[0m\u001b[37m\u001b[0m \u001b[1m2s\u001b[0m 2ms/step - accuracy: 0.9806 - loss: 0.0753 - val_accuracy: 0.9797 - val_loss: 0.0957\n"
          ]
        },
        {
          "data": {
            "text/plain": [
              "<keras.src.callbacks.history.History at 0x1724cfcd0>"
            ]
          },
          "execution_count": 39,
          "metadata": {},
          "output_type": "execute_result"
        }
      ],
      "source": [
        "model = get_mnist_model() # getting the mnist model\n",
        "model.compile(optimizer=\"rmsprop\", # compiling the model with rmsprop optimizer\n",
        "              loss=\"sparse_categorical_crossentropy\", # defining the loss function\n",
        "              metrics=[\"accuracy\"]) # defining the metrics\n",
        "\n",
        "tensorboard = keras.callbacks.TensorBoard( # defining a tensorboard callback\n",
        "    log_dir=\"log\", # specifying the log directory\n",
        ")\n",
        "model.fit(train_images, train_labels, # training the model with the training data\n",
        "          epochs=10, # training the model for 10 epochs\n",
        "          validation_data=(val_images, val_labels), # validating the model with the validation data\n",
        "          callbacks=[tensorboard]) # using the tensorboard callback"
      ]
    },
    {
      "cell_type": "code",
      "execution_count": 45,
      "metadata": {
        "id": "NsE8cJEwDnND"
      },
      "outputs": [
        {
          "name": "stderr",
          "output_type": "stream",
          "text": [
            "UsageError: Line magic function `%%tensorboard` not found.\n"
          ]
        }
      ],
      "source": [
        "%load_ext tensorboard\n",
        "# loading the tensorboard extension\n",
        "%%tensorboard --logdir log\n",
        "# running the tensorboard with the specified log directory"
      ]
    },
    {
      "cell_type": "markdown",
      "metadata": {
        "id": "W795rwQ5DnND"
      },
      "source": [
        "## Writing your own training and evaluation loops"
      ]
    },
    {
      "cell_type": "markdown",
      "metadata": {
        "id": "-zsVYn8HDnND"
      },
      "source": [
        "### Training versus inference"
      ]
    },
    {
      "cell_type": "markdown",
      "metadata": {
        "id": "kyDSJ6OXDnND"
      },
      "source": [
        "### Low-level usage of metrics"
      ]
    },
    {
      "cell_type": "code",
      "execution_count": 48,
      "metadata": {
        "id": "osbVG5wrDnND"
      },
      "outputs": [
        {
          "name": "stdout",
          "output_type": "stream",
          "text": [
            "result: 1.00\n"
          ]
        }
      ],
      "source": [
        "import tensorflow as tf\n",
        "from tensorflow import keras\n",
        "\n",
        "metric = keras.metrics.SparseCategoricalAccuracy() # defining a sparse categorical accuracy metric\n",
        "targets = [0, 1, 2] # defining the target labels\n",
        "predictions = [[1, 0, 0], [0, 1, 0], [0, 0, 1]] # defining the predicted labels\n",
        "\n",
        "targets = tf.convert_to_tensor(targets)\n",
        "predictions = tf.convert_to_tensor(predictions)\n",
        "\n",
        "metric.update_state(targets, predictions) # updating the metric with the targets and predictions\n",
        "current_result = metric.result() # getting the current result of the metric\n",
        "print(f\"result: {current_result:.2f}\") # printing the current result of the metric"
      ]
    },
    {
      "cell_type": "code",
      "execution_count": 49,
      "metadata": {
        "id": "gVI3iyOgDnND"
      },
      "outputs": [
        {
          "name": "stdout",
          "output_type": "stream",
          "text": [
            "Mean of values: 2.00\n"
          ]
        }
      ],
      "source": [
        "values = [0, 1, 2, 3, 4] # defining a list of values\n",
        "mean_tracker = keras.metrics.Mean() # defining a mean metric\n",
        "for value in values: # iterating over the values\n",
        "    mean_tracker.update_state(value) # updating the mean metric with the value\n",
        "print(f\"Mean of values: {mean_tracker.result():.2f}\") # printing the mean of the values"
      ]
    },
    {
      "cell_type": "markdown",
      "metadata": {
        "id": "k7evRYIUDnND"
      },
      "source": [
        "### A complete training and evaluation loop"
      ]
    },
    {
      "cell_type": "markdown",
      "metadata": {
        "id": "cNolBterDnND"
      },
      "source": [
        "**Writing a step-by-step training loop: the training step function**"
      ]
    },
    {
      "cell_type": "code",
      "execution_count": 50,
      "metadata": {
        "id": "4J4mkLcbDnND"
      },
      "outputs": [],
      "source": [
        "model = get_mnist_model() # getting the mnist model\n",
        "\n",
        "loss_fn = keras.losses.SparseCategoricalCrossentropy() # defining a sparse categorical crossentropy loss function\n",
        "optimizer = keras.optimizers.RMSprop() # defining an RMSprop optimizer\n",
        "metrics = [keras.metrics.SparseCategoricalAccuracy()] # defining a sparse categorical accuracy metric\n",
        "loss_tracking_metric = keras.metrics.Mean() # defining a mean metric for tracking the loss\n",
        "\n",
        "def train_step(inputs, targets): # defining a training step function with inputs and targets as inputs\n",
        "    with tf.GradientTape() as tape: # using a gradient tape to record the operations\n",
        "        predictions = model(inputs, training=True) # getting the predictions from the model\n",
        "        loss = loss_fn(targets, predictions) # calculating the loss\n",
        "    gradients = tape.gradient(loss, model.trainable_weights) # calculating the gradients\n",
        "    optimizer.apply_gradients(zip(gradients, model.trainable_weights)) # applying the gradients\n",
        "\n",
        "    logs = {} # initializing a dictionary for logs\n",
        "    for metric in metrics: # iterating over the metrics\n",
        "        metric.update_state(targets, predictions) # updating the metric with the targets and predictions\n",
        "        logs[metric.name] = metric.result() # adding the metric result to the logs\n",
        "\n",
        "    loss_tracking_metric.update_state(loss) # updating the loss tracking metric with the loss\n",
        "    logs[\"loss\"] = loss_tracking_metric.result() # adding the loss to the logs\n",
        "    return logs # returning the logs"
      ]
    },
    {
      "cell_type": "markdown",
      "metadata": {
        "id": "D6YFIZMNDnND"
      },
      "source": [
        "**Writing a step-by-step training loop: resetting the metrics**"
      ]
    },
    {
      "cell_type": "code",
      "execution_count": 51,
      "metadata": {
        "id": "0h589VrkDnND"
      },
      "outputs": [],
      "source": [
        "def reset_metrics(): # defining a function to reset the metrics\n",
        "    for metric in metrics: # iterating over the metrics\n",
        "        metric.reset_state() # resetting the state of the metric\n",
        "    loss_tracking_metric.reset_state() # resetting the state of the loss tracking metric"
      ]
    },
    {
      "cell_type": "markdown",
      "metadata": {
        "id": "CaU-26JfDnND"
      },
      "source": [
        "**Writing a step-by-step training loop: the loop itself**"
      ]
    },
    {
      "cell_type": "code",
      "execution_count": 52,
      "metadata": {
        "id": "xb-ss_FvDnNE"
      },
      "outputs": [
        {
          "name": "stderr",
          "output_type": "stream",
          "text": [
            "2024-04-11 14:27:18.179109: W tensorflow/core/framework/local_rendezvous.cc:404] Local rendezvous is aborting with status: OUT_OF_RANGE: End of sequence\n"
          ]
        },
        {
          "name": "stdout",
          "output_type": "stream",
          "text": [
            "Results at the end of epoch 0\n",
            "...sparse_categorical_accuracy: 0.9136\n",
            "...loss: 0.2901\n"
          ]
        },
        {
          "name": "stderr",
          "output_type": "stream",
          "text": [
            "2024-04-11 14:27:28.983639: W tensorflow/core/framework/local_rendezvous.cc:404] Local rendezvous is aborting with status: OUT_OF_RANGE: End of sequence\n"
          ]
        },
        {
          "name": "stdout",
          "output_type": "stream",
          "text": [
            "Results at the end of epoch 1\n",
            "...sparse_categorical_accuracy: 0.9536\n",
            "...loss: 0.1603\n",
            "Results at the end of epoch 2\n",
            "...sparse_categorical_accuracy: 0.9646\n",
            "...loss: 0.1287\n"
          ]
        },
        {
          "name": "stderr",
          "output_type": "stream",
          "text": [
            "2024-04-11 14:27:39.779641: W tensorflow/core/framework/local_rendezvous.cc:404] Local rendezvous is aborting with status: OUT_OF_RANGE: End of sequence\n"
          ]
        }
      ],
      "source": [
        "training_dataset = tf.data.Dataset.from_tensor_slices((train_images, train_labels)) # creating a training dataset\n",
        "training_dataset = training_dataset.batch(32) # batching the training dataset into batches of size 32 because it is a common batch size for training \n",
        "epochs = 3 # defining the number of epochs\n",
        "for epoch in range(epochs): # iterating over the epochs\n",
        "    reset_metrics() # resetting the metrics\n",
        "    for inputs_batch, targets_batch in training_dataset: # iterating over the training dataset\n",
        "        logs = train_step(inputs_batch, targets_batch) # performing a training step\n",
        "    print(f\"Results at the end of epoch {epoch}\") # printing the results at the end of the epoch\n",
        "    for key, value in logs.items(): # iterating over the logs\n",
        "        print(f\"...{key}: {value:.4f}\") # printing the key and value"
      ]
    },
    {
      "cell_type": "markdown",
      "metadata": {
        "id": "VJDLECmSDnNE"
      },
      "source": [
        "**Writing a step-by-step evaluation loop**"
      ]
    },
    {
      "cell_type": "code",
      "execution_count": 53,
      "metadata": {
        "id": "8BUJA10IDnNE"
      },
      "outputs": [
        {
          "name": "stdout",
          "output_type": "stream",
          "text": [
            "Evaluation results:\n",
            "...val_sparse_categorical_accuracy: 0.9678\n",
            "...val_loss: 0.1248\n"
          ]
        },
        {
          "name": "stderr",
          "output_type": "stream",
          "text": [
            "2024-04-11 14:27:42.477575: W tensorflow/core/framework/local_rendezvous.cc:404] Local rendezvous is aborting with status: OUT_OF_RANGE: End of sequence\n"
          ]
        }
      ],
      "source": [
        "def test_step(inputs, targets): # defining a test step function with inputs and targets as inputs\n",
        "    predictions = model(inputs, training=False) # getting the predictions from the model\n",
        "    loss = loss_fn(targets, predictions) # calculating the loss\n",
        "\n",
        "    logs = {} # initializing a dictionary for logs\n",
        "    for metric in metrics: # iterating over the metrics\n",
        "        metric.update_state(targets, predictions) # updating the metric with the targets and predictions\n",
        "        logs[\"val_\" + metric.name] = metric.result() # adding the metric result to the logs\n",
        "\n",
        "    loss_tracking_metric.update_state(loss) # updating the loss tracking metric with the loss\n",
        "    logs[\"val_loss\"] = loss_tracking_metric.result() # adding the loss to the logs\n",
        "    return logs # returning the logs\n",
        "\n",
        "val_dataset = tf.data.Dataset.from_tensor_slices((val_images, val_labels)) # creating a validation dataset\n",
        "val_dataset = val_dataset.batch(32) # batching the validation dataset into batches of size 32 because it is a common batch size for validation\n",
        "reset_metrics() # resetting the metrics\n",
        "for inputs_batch, targets_batch in val_dataset: # iterating over the validation dataset\n",
        "    logs = test_step(inputs_batch, targets_batch) # performing a test step\n",
        "print(\"Evaluation results:\") # printing the evaluation results\n",
        "for key, value in logs.items(): # iterating over the logs\n",
        "    print(f\"...{key}: {value:.4f}\") # printing the key and value"
      ]
    },
    {
      "cell_type": "markdown",
      "metadata": {
        "id": "3OUDGlzfDnNE"
      },
      "source": [
        "### Make it fast with tf.function"
      ]
    },
    {
      "cell_type": "markdown",
      "metadata": {
        "id": "a9a02HnUDnNE"
      },
      "source": [
        "**Adding a `tf.function` decorator to our evaluation-step function**"
      ]
    },
    {
      "cell_type": "code",
      "execution_count": 54,
      "metadata": {
        "id": "RGxipBy-DnNE"
      },
      "outputs": [
        {
          "name": "stdout",
          "output_type": "stream",
          "text": [
            "Evaluation results:\n",
            "...val_sparse_categorical_accuracy: 0.9678\n",
            "...val_loss: 0.1248\n"
          ]
        },
        {
          "name": "stderr",
          "output_type": "stream",
          "text": [
            "2024-04-11 14:27:44.487545: W tensorflow/core/framework/local_rendezvous.cc:404] Local rendezvous is aborting with status: OUT_OF_RANGE: End of sequence\n"
          ]
        }
      ],
      "source": [
        "@tf.function # defining a TensorFlow function for the training step\n",
        "def test_step(inputs, targets): # defining a test step function with inputs and targets as inputs\n",
        "    predictions = model(inputs, training=False) # getting the predictions from the model\n",
        "    loss = loss_fn(targets, predictions) # calculating the loss\n",
        "\n",
        "    logs = {} # initializing a dictionary for logs\n",
        "    for metric in metrics: # iterating over the metrics\n",
        "        metric.update_state(targets, predictions) # updating the metric with the targets and predictions\n",
        "        logs[\"val_\" + metric.name] = metric.result() # adding the metric result to the logs\n",
        "\n",
        "    loss_tracking_metric.update_state(loss) # updating the loss tracking metric with the loss\n",
        "    logs[\"val_loss\"] = loss_tracking_metric.result() # adding the loss to the logs\n",
        "    return logs # returning the logs\n",
        "\n",
        "val_dataset = tf.data.Dataset.from_tensor_slices((val_images, val_labels)) # creating a validation dataset\n",
        "val_dataset = val_dataset.batch(32) # batching the validation dataset into batches of size 32 because it is a common batch size for validation\n",
        "reset_metrics() # resetting the metrics\n",
        "for inputs_batch, targets_batch in val_dataset: # iterating over the validation dataset\n",
        "    logs = test_step(inputs_batch, targets_batch) # performing a test step\n",
        "print(\"Evaluation results:\") # printing the evaluation results\n",
        "for key, value in logs.items(): # iterating over the logs\n",
        "    print(f\"...{key}: {value:.4f}\") # printing the key and value"
      ]
    },
    {
      "cell_type": "markdown",
      "metadata": {
        "id": "7AJx4vXWDnNE"
      },
      "source": [
        "### Leveraging fit() with a custom training loop"
      ]
    },
    {
      "cell_type": "markdown",
      "metadata": {
        "id": "ATfG7f58DnNE"
      },
      "source": [
        "**Implementing a custom training step to use with `fit()`**"
      ]
    },
    {
      "cell_type": "code",
      "execution_count": 55,
      "metadata": {
        "id": "VzjRbzk6DnNE"
      },
      "outputs": [],
      "source": [
        "loss_fn = keras.losses.SparseCategoricalCrossentropy() # defining a sparse categorical crossentropy loss function\n",
        "loss_tracker = keras.metrics.Mean(name=\"loss\") # defining a mean metric for tracking the loss\n",
        "\n",
        "class CustomModel(keras.Model): # defining a custom model class\n",
        "    def train_step(self, data): # defining a train step method with data as input\n",
        "        inputs, targets = data # getting the inputs and targets from the data\n",
        "        with tf.GradientTape() as tape: # using a gradient tape to record the operations\n",
        "            predictions = self(inputs, training=True) # getting the predictions from the model\n",
        "            loss = loss_fn(targets, predictions) # calculating the loss\n",
        "        gradients = tape.gradient(loss, self.trainable_weights) # calculating the gradients\n",
        "        self.optimizer.apply_gradients(zip(gradients, self.trainable_weights)) # applying the gradients\n",
        "\n",
        "        loss_tracker.update_state(loss) # updating the loss tracker with the loss\n",
        "        return {\"loss\": loss_tracker.result()} # returning the loss\n",
        "\n",
        "    @property # defining a property\n",
        "    def metrics(self): # defining a metrics method\n",
        "        return [loss_tracker] # returning the loss tracker"
      ]
    },
    {
      "cell_type": "code",
      "execution_count": 56,
      "metadata": {
        "id": "2HoEe9jKDnNE"
      },
      "outputs": [
        {
          "name": "stdout",
          "output_type": "stream",
          "text": [
            "Epoch 1/3\n",
            "\u001b[1m1563/1563\u001b[0m \u001b[32m━━━━━━━━━━━━━━━━━━━━\u001b[0m\u001b[37m\u001b[0m \u001b[1m2s\u001b[0m 1ms/step - loss: 0.4498\n",
            "Epoch 2/3\n",
            "\u001b[1m1563/1563\u001b[0m \u001b[32m━━━━━━━━━━━━━━━━━━━━\u001b[0m\u001b[37m\u001b[0m \u001b[1m2s\u001b[0m 1ms/step - loss: 0.1629\n",
            "Epoch 3/3\n",
            "\u001b[1m1563/1563\u001b[0m \u001b[32m━━━━━━━━━━━━━━━━━━━━\u001b[0m\u001b[37m\u001b[0m \u001b[1m2s\u001b[0m 1ms/step - loss: 0.1329\n"
          ]
        },
        {
          "data": {
            "text/plain": [
              "<keras.src.callbacks.history.History at 0x2f5a03fd0>"
            ]
          },
          "execution_count": 56,
          "metadata": {},
          "output_type": "execute_result"
        }
      ],
      "source": [
        "inputs = keras.Input(shape=(28 * 28,)) # defining the input layer with input shape of (None, 28*28) because the input data has 28*28 features\n",
        "features = layers.Dense(512, activation=\"relu\")(inputs) # adding a dense layer with 512 neurons and relu activation function\n",
        "features = layers.Dropout(0.5)(features) # adding a dropout layer with a dropout rate of 0.5 (the most common rate)\n",
        "outputs = layers.Dense(10, activation=\"softmax\")(features) # adding a dense layer with 10 neurons and softmax activation function\n",
        "model = CustomModel(inputs, outputs) # defining the model with the input and output layers\n",
        "\n",
        "model.compile(optimizer=keras.optimizers.RMSprop()) # compiling the model with rmsprop optimizer\n",
        "model.fit(train_images, train_labels, epochs=3) # training the model with the training data for 3 epochs"
      ]
    },
    {
      "cell_type": "code",
      "execution_count": 57,
      "metadata": {
        "id": "Xg7bVfGDDnNE"
      },
      "outputs": [],
      "source": [
        "class CustomModel(keras.Model): # defining a custom model class\n",
        "    def train_step(self, data): # defining a train step method with data as input\n",
        "        inputs, targets = data # getting the inputs and targets from the data\n",
        "        with tf.GradientTape() as tape: # using a gradient tape to record the operations\n",
        "            predictions = self(inputs, training=True) # getting the predictions from the model\n",
        "            loss = self.compiled_loss(targets, predictions) # calculating the loss\n",
        "        gradients = tape.gradient(loss, self.trainable_weights) # calculating the gradients\n",
        "        self.optimizer.apply_gradients(zip(gradients, self.trainable_weights)) # applying the gradients\n",
        "        self.compiled_metrics.update_state(targets, predictions) # updating the metrics with the targets and predictions\n",
        "        return {m.name: m.result() for m in self.metrics} # returning the metrics"
      ]
    },
    {
      "cell_type": "code",
      "execution_count": 58,
      "metadata": {
        "id": "BAMHrZ-VDnNE"
      },
      "outputs": [
        {
          "name": "stdout",
          "output_type": "stream",
          "text": [
            "Epoch 1/3\n"
          ]
        },
        {
          "name": "stderr",
          "output_type": "stream",
          "text": [
            "/Users/miakuntz/Library/Python/3.11/lib/python/site-packages/keras/src/backend/tensorflow/trainer.py:614: UserWarning: `model.compiled_loss()` is deprecated. Instead, use `model.compute_loss(x, y, y_pred, sample_weight)`.\n",
            "  warnings.warn(\n",
            "/Users/miakuntz/Library/Python/3.11/lib/python/site-packages/keras/src/backend/tensorflow/trainer.py:589: UserWarning: `model.compiled_metrics()` is deprecated. Instead, use e.g.:\n",
            "```\n",
            "for metric in self.metrics:\n",
            "    metric.update_state(y, y_pred)\n",
            "```\n",
            "\n",
            "  return self._compiled_metrics_update_state(\n"
          ]
        },
        {
          "name": "stdout",
          "output_type": "stream",
          "text": [
            "\u001b[1m1563/1563\u001b[0m \u001b[32m━━━━━━━━━━━━━━━━━━━━\u001b[0m\u001b[37m\u001b[0m \u001b[1m3s\u001b[0m 1ms/step - sparse_categorical_accuracy: 0.8643 - loss: 0.1000\n",
            "Epoch 2/3\n",
            "\u001b[1m1563/1563\u001b[0m \u001b[32m━━━━━━━━━━━━━━━━━━━━\u001b[0m\u001b[37m\u001b[0m \u001b[1m2s\u001b[0m 1ms/step - sparse_categorical_accuracy: 0.9504 - loss: 0.1000\n",
            "Epoch 3/3\n",
            "\u001b[1m1563/1563\u001b[0m \u001b[32m━━━━━━━━━━━━━━━━━━━━\u001b[0m\u001b[37m\u001b[0m \u001b[1m2s\u001b[0m 1ms/step - sparse_categorical_accuracy: 0.9641 - loss: 0.1000\n"
          ]
        },
        {
          "data": {
            "text/plain": [
              "<keras.src.callbacks.history.History at 0x1721e3650>"
            ]
          },
          "execution_count": 58,
          "metadata": {},
          "output_type": "execute_result"
        }
      ],
      "source": [
        "inputs = keras.Input(shape=(28 * 28,)) # defining the input layer with input shape of (None, 28*28) because the input data has 28*28 features\n",
        "features = layers.Dense(512, activation=\"relu\")(inputs) # adding a dense layer with 512 neurons and relu activation function\n",
        "features = layers.Dropout(0.5)(features) # adding a dropout layer with a dropout rate of 0.5 (the most common rate)\n",
        "outputs = layers.Dense(10, activation=\"softmax\")(features) # adding a dense layer with 10 neurons and softmax activation function\n",
        "model = CustomModel(inputs, outputs) # defining the model with the input and output layers\n",
        "\n",
        "model.compile(optimizer=keras.optimizers.RMSprop(), # compiling the model with rmsprop optimizer\n",
        "              loss=keras.losses.SparseCategoricalCrossentropy(), # defining the loss function\n",
        "              metrics=[keras.metrics.SparseCategoricalAccuracy()]) # defining the metrics\n",
        "model.fit(train_images, train_labels, epochs=3) # training the model with the training data for 3 epochs"
      ]
    },
    {
      "cell_type": "markdown",
      "metadata": {
        "id": "vuKZJXyADnNE"
      },
      "source": [
        "## Summary"
      ]
    }
  ],
  "metadata": {
    "colab": {
      "name": "chapter07_working-with-keras.i",
      "provenance": [],
      "toc_visible": true
    },
    "kernelspec": {
      "display_name": "Python 3",
      "language": "python",
      "name": "python3"
    },
    "language_info": {
      "codemirror_mode": {
        "name": "ipython",
        "version": 3
      },
      "file_extension": ".py",
      "mimetype": "text/x-python",
      "name": "python",
      "nbconvert_exporter": "python",
      "pygments_lexer": "ipython3",
      "version": "3.11.1"
    }
  },
  "nbformat": 4,
  "nbformat_minor": 0
}
