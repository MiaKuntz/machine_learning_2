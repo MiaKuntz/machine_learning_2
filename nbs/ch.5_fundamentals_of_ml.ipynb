{
  "cells": [
    {
      "cell_type": "markdown",
      "metadata": {
        "id": "nPaIYD7L4EqT"
      },
      "source": [
        "This is a companion notebook for the book [Deep Learning with Python, Second Edition](https://www.manning.com/books/deep-learning-with-python-second-edition?a_aid=keras&a_bid=76564dff). For readability, it only contains runnable code blocks and section titles, and omits everything else in the book: text paragraphs, figures, and pseudocode.\n",
        "\n",
        "**If you want to be able to follow what's going on, I recommend reading the notebook side by side with your copy of the book.**\n",
        "\n",
        "This notebook was generated for TensorFlow 2.6."
      ]
    },
    {
      "cell_type": "markdown",
      "metadata": {
        "id": "1q2hU9_i4EqV"
      },
      "source": [
        "# Fundamentals of machine learning"
      ]
    },
    {
      "cell_type": "markdown",
      "metadata": {
        "id": "5LhFuTJ84EqV"
      },
      "source": [
        "## Generalization: The goal of machine learning"
      ]
    },
    {
      "cell_type": "markdown",
      "metadata": {
        "id": "RCVFIPsx4EqW"
      },
      "source": [
        "### Underfitting and overfitting"
      ]
    },
    {
      "cell_type": "markdown",
      "metadata": {
        "id": "PE177rJd4EqW"
      },
      "source": [
        "#### Noisy training data"
      ]
    },
    {
      "cell_type": "markdown",
      "metadata": {
        "id": "U8odH4tF4EqW"
      },
      "source": [
        "#### Ambiguous features"
      ]
    },
    {
      "cell_type": "markdown",
      "metadata": {
        "id": "05drgXGP4EqW"
      },
      "source": [
        "#### Rare features and spurious correlations"
      ]
    },
    {
      "cell_type": "markdown",
      "metadata": {
        "id": "OaRvsw3k4EqW"
      },
      "source": [
        "**Adding white-noise channels or all-zeros channels to MNIST**"
      ]
    },
    {
      "cell_type": "code",
      "execution_count": null,
      "metadata": {
        "id": "lbipXIR94EqW"
      },
      "outputs": [],
      "source": [
        "from tensorflow.keras.datasets import mnist # importing the mnist dataset from keras library \n",
        "import numpy as np # importing numpy library to work with arrays \n",
        "\n",
        "(train_images, train_labels), _ = mnist.load_data() # loading the mnist dataset into train_images and train_labels \n",
        "train_images = train_images.reshape((60000, 28 * 28)) # reshaping the train_images to 60000, 28*28 \n",
        "train_images = train_images.astype(\"float32\") / 255 # normalizing the train_images by dividing by 255 \n",
        "\n",
        "train_images_with_noise_channels = np.concatenate( # adding random noise to the train_images \n",
        "    [train_images, np.random.random((len(train_images), 784))], axis=1) # adding random noise to the train_images \n",
        "\n",
        "train_images_with_zeros_channels = np.concatenate( # adding zeros to the train_images\n",
        "    [train_images, np.zeros((len(train_images), 784))], axis=1) # adding zeros to the train_images"
      ]
    },
    {
      "cell_type": "markdown",
      "metadata": {
        "id": "cizQe8u64EqX"
      },
      "source": [
        "**Training the same model on MNIST data with noise channels or all-zero channels**"
      ]
    },
    {
      "cell_type": "code",
      "execution_count": null,
      "metadata": {
        "id": "D9vTCqbB4EqX"
      },
      "outputs": [],
      "source": [
        "from tensorflow import keras # importing keras from tensorflow library\n",
        "from tensorflow.keras import layers # importing layers from keras library\n",
        "\n",
        "def get_model(): # defining a function to get the model\n",
        "    model = keras.Sequential([ # creating a sequential model\n",
        "        layers.Dense(512, activation=\"relu\"), # adding a dense layer with 512 neurons and relu activation function\n",
        "        layers.Dense(10, activation=\"softmax\") # adding a dense layer with 10 neurons and softmax activation function\n",
        "    ])\n",
        "    model.compile(optimizer=\"rmsprop\", # compiling the model with optimizer as rmsprop\n",
        "                  loss=\"sparse_categorical_crossentropy\", # setting loss function as sparse_categorical_crossentropy\n",
        "                  metrics=[\"accuracy\"]) # setting the metrics as accuracy\n",
        "    return model # returning the model\n",
        "\n",
        "model = get_model() # getting the model\n",
        "history_noise = model.fit( # fitting the model with train_images_with_noise_channels and train_labels\n",
        "    train_images_with_noise_channels, train_labels, \n",
        "    epochs=10, # setting the epochs as 10\n",
        "    batch_size=128, # setting the batch size as 128\n",
        "    validation_split=0.2) # setting the validation split as 0.2\n",
        "\n",
        "model = get_model() # getting the model\n",
        "history_zeros = model.fit( # fitting the model with train_images_with_zeros_channels and train_labels\n",
        "    train_images_with_zeros_channels, train_labels,\n",
        "    epochs=10, # setting the epochs as 10\n",
        "    batch_size=128, # setting the batch size as 128\n",
        "    validation_split=0.2) # setting the validation split as 0.2"
      ]
    },
    {
      "cell_type": "markdown",
      "metadata": {
        "id": "Q-lK9trB4EqY"
      },
      "source": [
        "**Plotting a validation accuracy comparison**"
      ]
    },
    {
      "cell_type": "code",
      "execution_count": null,
      "metadata": {
        "id": "eF2v10i14EqY"
      },
      "outputs": [],
      "source": [
        "import matplotlib.pyplot as plt # importing matplotlib library to plot the graph\n",
        "val_acc_noise = history_noise.history[\"val_accuracy\"] # getting the validation accuracy from history_noise\n",
        "val_acc_zeros = history_zeros.history[\"val_accuracy\"] # getting the validation accuracy from history_zeros\n",
        "epochs = range(1, 11) # setting the epochs as 1 to 11\n",
        "plt.plot(epochs, val_acc_noise, \"b-\", # plotting the graph with epochs, val_acc_noise and val_acc_zeros\n",
        "         label=\"Validation accuracy with noise channels\") # setting the label as Validation accuracy with noise channels\n",
        "plt.plot(epochs, val_acc_zeros, \"b--\", # plotting the graph with epochs, val_acc_noise and val_acc_zeros\n",
        "         label=\"Validation accuracy with zeros channels\") # setting the label as Validation accuracy with zeros channels\n",
        "plt.title(\"Effect of noise channels on validation accuracy\") # setting the title of the graph\n",
        "plt.xlabel(\"Epochs\") # setting the x-axis label as Epochs\n",
        "plt.ylabel(\"Accuracy\") # setting the y-axis label as Accuracy\n",
        "plt.legend() # setting the legend "
      ]
    },
    {
      "cell_type": "markdown",
      "metadata": {
        "id": "xtx0Uskc4EqY"
      },
      "source": [
        "### The nature of generalization in deep learning"
      ]
    },
    {
      "cell_type": "markdown",
      "metadata": {
        "id": "mxzCAh8D4EqY"
      },
      "source": [
        "**Fitting a MNIST model with randomly shuffled labels**"
      ]
    },
    {
      "cell_type": "code",
      "execution_count": null,
      "metadata": {
        "id": "ZcOcGbuJ4EqY"
      },
      "outputs": [],
      "source": [
        "(train_images, train_labels), _ = mnist.load_data() # loading the mnist dataset into train_images and train_labels\n",
        "train_images = train_images.reshape((60000, 28 * 28)) # reshaping the train_images to 60000, 28*28\n",
        "train_images = train_images.astype(\"float32\") / 255 # normalizing the train_images by dividing by 255\n",
        "\n",
        "random_train_labels = train_labels[:] # copying the train_labels to random_train_labels\n",
        "np.random.shuffle(random_train_labels) # shuffling the random_train_labels\n",
        "\n",
        "model = keras.Sequential([ # creating a sequential model\n",
        "    layers.Dense(512, activation=\"relu\"), # adding a dense layer with 512 neurons and relu activation function\n",
        "    layers.Dense(10, activation=\"softmax\") # adding a dense layer with 10 neurons and softmax activation function\n",
        "])\n",
        "model.compile(optimizer=\"rmsprop\", # compiling the model with optimizer as rmsprop\n",
        "              loss=\"sparse_categorical_crossentropy\", # setting loss function as sparse_categorical_crossentropy\n",
        "              metrics=[\"accuracy\"]) # setting the metrics as accuracy\n",
        "model.fit(train_images, random_train_labels, # fitting the model with train_images and random_train_labels\n",
        "          epochs=100, # setting the epochs as 100\n",
        "          batch_size=128, # setting the batch size as 128\n",
        "          validation_split=0.2) # setting the validation split as 0.2"
      ]
    },
    {
      "cell_type": "markdown",
      "metadata": {
        "id": "sOMfZoWq4EqY"
      },
      "source": [
        "#### The manifold hypothesis"
      ]
    },
    {
      "cell_type": "markdown",
      "metadata": {
        "id": "NThIkWq64EqY"
      },
      "source": [
        "#### Interpolation as a source of generalization"
      ]
    },
    {
      "cell_type": "markdown",
      "metadata": {
        "id": "slR-VKyq4EqZ"
      },
      "source": [
        "#### Why deep learning works"
      ]
    },
    {
      "cell_type": "markdown",
      "metadata": {
        "id": "OTX5peVc4EqZ"
      },
      "source": [
        "#### Training data is paramount"
      ]
    },
    {
      "cell_type": "markdown",
      "metadata": {
        "id": "wiciTAb84EqZ"
      },
      "source": [
        "## Evaluating machine-learning models"
      ]
    },
    {
      "cell_type": "markdown",
      "metadata": {
        "id": "_8twmDSJ4EqZ"
      },
      "source": [
        "### Training, validation, and test sets"
      ]
    },
    {
      "cell_type": "markdown",
      "metadata": {
        "id": "2sIJ1bvi4EqZ"
      },
      "source": [
        "#### Simple hold-out validation"
      ]
    },
    {
      "cell_type": "markdown",
      "metadata": {
        "id": "z3wKV9Rf4EqZ"
      },
      "source": [
        "#### K-fold validation"
      ]
    },
    {
      "cell_type": "markdown",
      "metadata": {
        "id": "G4q6MT6K4EqZ"
      },
      "source": [
        "#### Iterated K-fold validation with shuffling"
      ]
    },
    {
      "cell_type": "markdown",
      "metadata": {
        "id": "ZCLyZQ7l4EqZ"
      },
      "source": [
        "### Beating a common-sense baseline"
      ]
    },
    {
      "cell_type": "markdown",
      "metadata": {
        "id": "m2yjYo204EqZ"
      },
      "source": [
        "### Things to keep in mind about model evaluation"
      ]
    },
    {
      "cell_type": "markdown",
      "metadata": {
        "id": "sSBpaXPB4EqZ"
      },
      "source": [
        "## Improving model fit"
      ]
    },
    {
      "cell_type": "markdown",
      "metadata": {
        "id": "oYj3QcsN4EqZ"
      },
      "source": [
        "### Tuning key gradient descent parameters"
      ]
    },
    {
      "cell_type": "markdown",
      "metadata": {
        "id": "eizc9KFk4Eqa"
      },
      "source": [
        "**Training a MNIST model with an incorrectly high learning rate**"
      ]
    },
    {
      "cell_type": "code",
      "execution_count": null,
      "metadata": {
        "id": "JR5iNh-U4Eqa"
      },
      "outputs": [],
      "source": [
        "(train_images, train_labels), _ = mnist.load_data() # loading the mnist dataset into train_images and train_labels\n",
        "train_images = train_images.reshape((60000, 28 * 28)) # reshaping the train_images to 60000, 28*28\n",
        "train_images = train_images.astype(\"float32\") / 255 # normalizing the train_images by dividing by 255\n",
        "\n",
        "model = keras.Sequential([ # creating a sequential model\n",
        "    layers.Dense(512, activation=\"relu\"), # adding a dense layer with 512 neurons and relu activation function\n",
        "    layers.Dense(10, activation=\"softmax\") # adding a dense layer with 10 neurons and softmax activation function\n",
        "])\n",
        "model.compile(optimizer=keras.optimizers.RMSprop(1.), # compiling the model with optimizer as RMSprop with learning rate as 1.0\n",
        "              loss=\"sparse_categorical_crossentropy\", # setting loss function as sparse_categorical_crossentropy\n",
        "              metrics=[\"accuracy\"]) # setting the metrics as accuracy\n",
        "model.fit(train_images, train_labels, # fitting the model with train_images and train_labels\n",
        "          epochs=10, # setting the epochs as 10\n",
        "          batch_size=128, # setting the batch size as 128\n",
        "          validation_split=0.2) # setting the validation split as 0.2"
      ]
    },
    {
      "cell_type": "markdown",
      "metadata": {
        "id": "xmN1X7v54Eqa"
      },
      "source": [
        "**The same model with a more appropriate learning rate**"
      ]
    },
    {
      "cell_type": "code",
      "execution_count": null,
      "metadata": {
        "id": "OXUCUs2p4Eqa"
      },
      "outputs": [],
      "source": [
        "model = keras.Sequential([ # creating a sequential model\n",
        "    layers.Dense(512, activation=\"relu\"), # adding a dense layer with 512 neurons and relu activation function\n",
        "    layers.Dense(10, activation=\"softmax\") # adding a dense layer with 10 neurons and softmax activation function\n",
        "])\n",
        "model.compile(optimizer=keras.optimizers.RMSprop(1e-2), # compiling the model with optimizer as RMSprop with learning rate as 0.01\n",
        "              loss=\"sparse_categorical_crossentropy\", # setting loss function as sparse_categorical_crossentropy\n",
        "              metrics=[\"accuracy\"]) # setting the metrics as accuracy\n",
        "model.fit(train_images, train_labels, # fitting the model with train_images and train_labels\n",
        "          epochs=10, # setting the epochs as 10\n",
        "          batch_size=128, # setting the batch size as 128\n",
        "          validation_split=0.2) # setting the validation split as 0.2"
      ]
    },
    {
      "cell_type": "markdown",
      "metadata": {
        "id": "N_l-Ontx4Eqa"
      },
      "source": [
        "### Leveraging better architecture priors"
      ]
    },
    {
      "cell_type": "markdown",
      "metadata": {
        "id": "xESArUpi4Eqb"
      },
      "source": [
        "### Increasing model capacity"
      ]
    },
    {
      "cell_type": "markdown",
      "metadata": {
        "id": "Bi_NSTSt4Eqb"
      },
      "source": [
        "**A simple logistic regression on MNIST**"
      ]
    },
    {
      "cell_type": "code",
      "execution_count": null,
      "metadata": {
        "id": "jTgXHGaL4Eqb"
      },
      "outputs": [],
      "source": [
        "model = keras.Sequential([layers.Dense(10, activation=\"softmax\")]) # creating a sequential model with a dense layer with 10 neurons and softmax activation function\n",
        "model.compile(optimizer=\"rmsprop\", # compiling the model with optimizer as rmsprop\n",
        "              loss=\"sparse_categorical_crossentropy\", # setting loss function as sparse_categorical_crossentropy\n",
        "              metrics=[\"accuracy\"]) # setting the metrics as accuracy\n",
        "history_small_model = model.fit( # fitting the model with train_images and train_labels\n",
        "    train_images, train_labels, \n",
        "    epochs=20, # setting the epochs as 20\n",
        "    batch_size=128, # setting the batch size as 128\n",
        "    validation_split=0.2) # setting the validation split as 0.2"
      ]
    },
    {
      "cell_type": "code",
      "execution_count": null,
      "metadata": {
        "id": "6zf6OvYx4Eqb"
      },
      "outputs": [],
      "source": [
        "import matplotlib.pyplot as plt # importing matplotlib library to plot the graph\n",
        "val_loss = history_small_model.history[\"val_loss\"] # getting the validation loss from history_small_model\n",
        "epochs = range(1, 21) # setting the epochs as 1 to 21\n",
        "plt.plot(epochs, val_loss, \"b--\", # plotting the graph with epochs and val_loss\n",
        "         label=\"Validation loss\") # setting the label as Validation loss\n",
        "plt.title(\"Effect of insufficient model capacity on validation loss\") # setting the title of the graph\n",
        "plt.xlabel(\"Epochs\") # setting the x-axis label as Epochs\n",
        "plt.ylabel(\"Loss\") # setting the y-axis label as Loss\n",
        "plt.legend() # setting the legend"
      ]
    },
    {
      "cell_type": "code",
      "execution_count": null,
      "metadata": {
        "id": "ZJwhdtLf4Eqc"
      },
      "outputs": [],
      "source": [
        "model = keras.Sequential([ # creating a sequential model\n",
        "    layers.Dense(96, activation=\"relu\"), # adding a dense layer with 96 neurons and relu activation function\n",
        "    layers.Dense(96, activation=\"relu\"), # adding a dense layer with 96 neurons and relu activation function\n",
        "    layers.Dense(10, activation=\"softmax\"), # adding a dense layer with 10 neurons and softmax activation function\n",
        "])\n",
        "model.compile(optimizer=\"rmsprop\", # compiling the model with optimizer as rmsprop\n",
        "              loss=\"sparse_categorical_crossentropy\", # setting loss function as sparse_categorical_crossentropy\n",
        "              metrics=[\"accuracy\"]) # setting the metrics as accuracy\n",
        "history_large_model = model.fit( # fitting the model with train_images and train_labels\n",
        "    train_images, train_labels,\n",
        "    epochs=20, # setting the epochs as 20\n",
        "    batch_size=128, # setting the batch size as 128\n",
        "    validation_split=0.2) # setting the validation split as 0.2"
      ]
    },
    {
      "cell_type": "markdown",
      "metadata": {
        "id": "GwJP1Wpp4Eqd"
      },
      "source": [
        "## Improving generalization"
      ]
    },
    {
      "cell_type": "markdown",
      "metadata": {
        "id": "xm_RmJdN4Eqe"
      },
      "source": [
        "### Dataset curation"
      ]
    },
    {
      "cell_type": "markdown",
      "metadata": {
        "id": "DGBEUsLK4Eqe"
      },
      "source": [
        "### Feature engineering"
      ]
    },
    {
      "cell_type": "markdown",
      "metadata": {
        "id": "XlnE7Wd-4Eqe"
      },
      "source": [
        "### Using early stopping"
      ]
    },
    {
      "cell_type": "markdown",
      "metadata": {
        "id": "L68mEeno4Eqf"
      },
      "source": [
        "### Regularizing your model"
      ]
    },
    {
      "cell_type": "markdown",
      "metadata": {
        "id": "eYJE9Pvz4Eqf"
      },
      "source": [
        "#### Reducing the network's size"
      ]
    },
    {
      "cell_type": "markdown",
      "metadata": {
        "id": "jdBZLJdP4Eqg"
      },
      "source": [
        "**Original model**"
      ]
    },
    {
      "cell_type": "code",
      "execution_count": null,
      "metadata": {
        "id": "e_whjxsl4Eqg"
      },
      "outputs": [],
      "source": [
        "from tensorflow.keras.datasets import imdb # importing the imdb dataset from keras library\n",
        "(train_data, train_labels), _ = imdb.load_data(num_words=10000) # loading the imdb dataset into train_data and train_labels with 10000 words\n",
        "\n",
        "def vectorize_sequences(sequences, dimension=10000): # defining a function to vectorize the sequences\n",
        "    results = np.zeros((len(sequences), dimension)) # creating a results array with zeros\n",
        "    for i, sequence in enumerate(sequences): # iterating through the sequences\n",
        "        results[i, sequence] = 1. # setting the results[i, sequence] as 1\n",
        "    return results # returning the results\n",
        "train_data = vectorize_sequences(train_data) # vectorizing the train_data\n",
        "\n",
        "model = keras.Sequential([ # creating a sequential model\n",
        "    layers.Dense(16, activation=\"relu\"), # adding a dense layer with 16 neurons and relu activation function\n",
        "    layers.Dense(16, activation=\"relu\"), # adding a dense layer with 16 neurons and relu activation function\n",
        "    layers.Dense(1, activation=\"sigmoid\") # adding a dense layer with 1 neuron and sigmoid activation function\n",
        "])\n",
        "model.compile(optimizer=\"rmsprop\", # compiling the model with optimizer as rmsprop\n",
        "              loss=\"binary_crossentropy\", # setting loss function as binary_crossentropy\n",
        "              metrics=[\"accuracy\"]) # setting the metrics as accuracy\n",
        "history_original = model.fit(train_data, train_labels, # fitting the model with train_data and train_labels\n",
        "                             epochs=20, batch_size=512, validation_split=0.4) # setting the epochs as 20, batch size as 512 and validation split as 0.4"
      ]
    },
    {
      "cell_type": "markdown",
      "metadata": {
        "id": "8RA1ccut4Eqg"
      },
      "source": [
        "**Version of the model with lower capacity**"
      ]
    },
    {
      "cell_type": "code",
      "execution_count": null,
      "metadata": {
        "id": "ozgLU0jC4Eqk"
      },
      "outputs": [],
      "source": [
        "model = keras.Sequential([ # creating a sequential model\n",
        "    layers.Dense(4, activation=\"relu\"), # adding a dense layer with 4 neurons and relu activation function\n",
        "    layers.Dense(4, activation=\"relu\"), # adding a dense layer with 4 neurons and relu activation function\n",
        "    layers.Dense(1, activation=\"sigmoid\") # adding a dense layer with 1 neuron and sigmoid activation function\n",
        "])\n",
        "model.compile(optimizer=\"rmsprop\", # compiling the model with optimizer as rmsprop\n",
        "              loss=\"binary_crossentropy\", # setting loss function as binary_crossentropy\n",
        "              metrics=[\"accuracy\"]) # setting the metrics as accuracy\n",
        "history_smaller_model = model.fit( # fitting the model with train_data and train_labels\n",
        "    train_data, train_labels,\n",
        "    epochs=20, batch_size=512, validation_split=0.4) # setting the epochs as 20, batch size as 512 and validation split as 0.4"
      ]
    },
    {
      "cell_type": "markdown",
      "metadata": {
        "id": "KmZoInO14Eql"
      },
      "source": [
        "**Version of the model with higher capacity**"
      ]
    },
    {
      "cell_type": "code",
      "execution_count": null,
      "metadata": {
        "id": "JN7j3LvB4Eql"
      },
      "outputs": [],
      "source": [
        "model = keras.Sequential([ # creating a sequential model\n",
        "    layers.Dense(512, activation=\"relu\"), # adding a dense layer with 512 neurons and relu activation function\n",
        "    layers.Dense(512, activation=\"relu\"), # adding a dense layer with 512 neurons and relu activation function\n",
        "    layers.Dense(1, activation=\"sigmoid\") # adding a dense layer with 1 neuron and sigmoid activation function\n",
        "])\n",
        "model.compile(optimizer=\"rmsprop\", # compiling the model with optimizer as rmsprop\n",
        "              loss=\"binary_crossentropy\", # setting loss function as binary_crossentropy\n",
        "              metrics=[\"accuracy\"]) # setting the metrics as accuracy\n",
        "history_larger_model = model.fit( # fitting the model with train_data and train_labels\n",
        "    train_data, train_labels,\n",
        "    epochs=20, batch_size=512, validation_split=0.4) # setting the epochs as 20, batch size as 512 and validation split as 0.4"
      ]
    },
    {
      "cell_type": "markdown",
      "metadata": {
        "id": "5EsJXpLW4Eql"
      },
      "source": [
        "#### Adding weight regularization"
      ]
    },
    {
      "cell_type": "markdown",
      "metadata": {
        "id": "M283l5-64Eql"
      },
      "source": [
        "**Adding L2 weight regularization to the model**"
      ]
    },
    {
      "cell_type": "code",
      "execution_count": null,
      "metadata": {
        "id": "BOCB4kaz4Eql"
      },
      "outputs": [],
      "source": [
        "from tensorflow.keras import regularizers # importing regularizers from keras library\n",
        "model = keras.Sequential([ # creating a sequential model\n",
        "    layers.Dense(16, # adding a dense layer with 16 neurons\n",
        "                 kernel_regularizer=regularizers.l2(0.002), # setting the kernel_regularizer as l2 with 0.002\n",
        "                 activation=\"relu\"), # setting the activation function as relu\n",
        "    layers.Dense(16, # adding a dense layer with 16 neurons\n",
        "                 kernel_regularizer=regularizers.l2(0.002), # setting the kernel_regularizer as l2 with 0.002\n",
        "                 activation=\"relu\"), # setting the activation function as relu\n",
        "    layers.Dense(1, activation=\"sigmoid\") # adding a dense layer with 1 neuron and sigmoid activation function\n",
        "])\n",
        "model.compile(optimizer=\"rmsprop\", # compiling the model with optimizer as rmsprop\n",
        "              loss=\"binary_crossentropy\", # setting loss function as binary_crossentropy\n",
        "              metrics=[\"accuracy\"]) # setting the metrics as accuracy\n",
        "history_l2_reg = model.fit( # fitting the model with train_data and train_labels\n",
        "    train_data, train_labels, \n",
        "    epochs=20, batch_size=512, validation_split=0.4) # setting the epochs as 20, batch size as 512 and validation split as 0.4"
      ]
    },
    {
      "cell_type": "markdown",
      "metadata": {
        "id": "bTQr10zV4Eql"
      },
      "source": [
        "**Different weight regularizers available in Keras**"
      ]
    },
    {
      "cell_type": "code",
      "execution_count": null,
      "metadata": {
        "id": "uHEwjaeV4Eql"
      },
      "outputs": [],
      "source": [
        "from tensorflow.keras import regularizers # importing regularizers from keras library\n",
        "regularizers.l1(0.001) # setting the regularizer as l1 with 0.001\n",
        "regularizers.l1_l2(l1=0.001, l2=0.001) # setting the regularizer as l1_l2 with l1 as 0.001 and l2 as 0.001"
      ]
    },
    {
      "cell_type": "markdown",
      "metadata": {
        "id": "8MKSOCI94Eql"
      },
      "source": [
        "#### Adding dropout"
      ]
    },
    {
      "cell_type": "markdown",
      "metadata": {
        "id": "U4YIjwYa4Eql"
      },
      "source": [
        "**Adding dropout to the IMDB model**"
      ]
    },
    {
      "cell_type": "code",
      "execution_count": null,
      "metadata": {
        "id": "Vz4Fk6ei4Eql"
      },
      "outputs": [],
      "source": [
        "model = keras.Sequential([ # creating a sequential model\n",
        "    layers.Dense(16, activation=\"relu\"), # adding a dense layer with 16 neurons and relu activation function\n",
        "    layers.Dropout(0.5), # adding a dropout layer with 0.5\n",
        "    layers.Dense(16, activation=\"relu\"), # adding a dense layer with 16 neurons and relu activation function\n",
        "    layers.Dropout(0.5), # adding a dropout layer with 0.5\n",
        "    layers.Dense(1, activation=\"sigmoid\") # adding a dense layer with 1 neuron and sigmoid activation function\n",
        "])\n",
        "model.compile(optimizer=\"rmsprop\", # compiling the model with optimizer as rmsprop\n",
        "              loss=\"binary_crossentropy\", # setting loss function as binary_crossentropy\n",
        "              metrics=[\"accuracy\"]) # setting the metrics as accuracy\n",
        "history_dropout = model.fit( # fitting the model with train_data and train_labels\n",
        "    train_data, train_labels, \n",
        "    epochs=20, batch_size=512, validation_split=0.4) # setting the epochs as 20, batch size as 512 and validation split as 0.4"
      ]
    },
    {
      "cell_type": "markdown",
      "metadata": {
        "id": "QGLCtv_L4Eql"
      },
      "source": [
        "## Summary"
      ]
    }
  ],
  "metadata": {
    "colab": {
      "name": "chapter05_fundamentals-of-ml.i",
      "provenance": [],
      "toc_visible": true
    },
    "kernelspec": {
      "display_name": "Python 3",
      "language": "python",
      "name": "python3"
    },
    "language_info": {
      "codemirror_mode": {
        "name": "ipython",
        "version": 3
      },
      "file_extension": ".py",
      "mimetype": "text/x-python",
      "name": "python",
      "nbconvert_exporter": "python",
      "pygments_lexer": "ipython3",
      "version": "3.7.0"
    }
  },
  "nbformat": 4,
  "nbformat_minor": 0
}
