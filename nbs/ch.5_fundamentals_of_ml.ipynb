{
  "cells": [
    {
      "cell_type": "markdown",
      "metadata": {
        "id": "nPaIYD7L4EqT"
      },
      "source": [
        "This is a companion notebook for the book [Deep Learning with Python, Second Edition](https://www.manning.com/books/deep-learning-with-python-second-edition?a_aid=keras&a_bid=76564dff). For readability, it only contains runnable code blocks and section titles, and omits everything else in the book: text paragraphs, figures, and pseudocode.\n",
        "\n",
        "**If you want to be able to follow what's going on, I recommend reading the notebook side by side with your copy of the book.**\n",
        "\n",
        "This notebook was generated for TensorFlow 2.6."
      ]
    },
    {
      "cell_type": "markdown",
      "metadata": {
        "id": "1q2hU9_i4EqV"
      },
      "source": [
        "# Fundamentals of machine learning"
      ]
    },
    {
      "cell_type": "markdown",
      "metadata": {
        "id": "5LhFuTJ84EqV"
      },
      "source": [
        "## Generalization: The goal of machine learning"
      ]
    },
    {
      "cell_type": "markdown",
      "metadata": {
        "id": "RCVFIPsx4EqW"
      },
      "source": [
        "### Underfitting and overfitting"
      ]
    },
    {
      "cell_type": "markdown",
      "metadata": {
        "id": "PE177rJd4EqW"
      },
      "source": [
        "#### Noisy training data"
      ]
    },
    {
      "cell_type": "markdown",
      "metadata": {
        "id": "U8odH4tF4EqW"
      },
      "source": [
        "#### Ambiguous features"
      ]
    },
    {
      "cell_type": "markdown",
      "metadata": {
        "id": "05drgXGP4EqW"
      },
      "source": [
        "#### Rare features and spurious correlations"
      ]
    },
    {
      "cell_type": "markdown",
      "metadata": {
        "id": "OaRvsw3k4EqW"
      },
      "source": [
        "**Adding white-noise channels or all-zeros channels to MNIST**"
      ]
    },
    {
      "cell_type": "code",
      "execution_count": 1,
      "metadata": {
        "id": "lbipXIR94EqW"
      },
      "outputs": [],
      "source": [
        "from tensorflow.keras.datasets import mnist # importing the mnist dataset from keras library \n",
        "import numpy as np # importing numpy library to work with arrays \n",
        "\n",
        "(train_images, train_labels), _ = mnist.load_data() # loading the mnist dataset into train_images and train_labels \n",
        "train_images = train_images.reshape((60000, 28 * 28)) # reshaping the train_images to 60000, 28*28 \n",
        "train_images = train_images.astype(\"float32\") / 255 # normalizing the train_images by dividing by 255 \n",
        "\n",
        "train_images_with_noise_channels = np.concatenate( # adding random noise to the train_images \n",
        "    [train_images, np.random.random((len(train_images), 784))], axis=1) # adding random noise to the train_images \n",
        "\n",
        "train_images_with_zeros_channels = np.concatenate( # adding zeros to the train_images\n",
        "    [train_images, np.zeros((len(train_images), 784))], axis=1) # adding zeros to the train_images"
      ]
    },
    {
      "cell_type": "markdown",
      "metadata": {
        "id": "cizQe8u64EqX"
      },
      "source": [
        "**Training the same model on MNIST data with noise channels or all-zero channels**"
      ]
    },
    {
      "cell_type": "code",
      "execution_count": 2,
      "metadata": {
        "id": "D9vTCqbB4EqX"
      },
      "outputs": [
        {
          "name": "stdout",
          "output_type": "stream",
          "text": [
            "Epoch 1/10\n",
            "375/375 [==============================] - 2s 5ms/step - loss: 0.6205 - accuracy: 0.8101 - val_loss: 0.3329 - val_accuracy: 0.8946\n",
            "Epoch 2/10\n",
            "375/375 [==============================] - 1s 4ms/step - loss: 0.2482 - accuracy: 0.9221 - val_loss: 0.1897 - val_accuracy: 0.9460\n",
            "Epoch 3/10\n",
            "375/375 [==============================] - 1s 4ms/step - loss: 0.1582 - accuracy: 0.9512 - val_loss: 0.2029 - val_accuracy: 0.9407\n",
            "Epoch 4/10\n",
            "375/375 [==============================] - 1s 4ms/step - loss: 0.1122 - accuracy: 0.9646 - val_loss: 0.1447 - val_accuracy: 0.9562\n",
            "Epoch 5/10\n",
            "375/375 [==============================] - 1s 4ms/step - loss: 0.0819 - accuracy: 0.9737 - val_loss: 0.1327 - val_accuracy: 0.9606\n",
            "Epoch 6/10\n",
            "375/375 [==============================] - 1s 4ms/step - loss: 0.0602 - accuracy: 0.9809 - val_loss: 0.1406 - val_accuracy: 0.9598\n",
            "Epoch 7/10\n",
            "375/375 [==============================] - 1s 4ms/step - loss: 0.0445 - accuracy: 0.9857 - val_loss: 0.1285 - val_accuracy: 0.9655\n",
            "Epoch 8/10\n",
            "375/375 [==============================] - 1s 4ms/step - loss: 0.0345 - accuracy: 0.9886 - val_loss: 0.1318 - val_accuracy: 0.9640\n",
            "Epoch 9/10\n",
            "375/375 [==============================] - 1s 4ms/step - loss: 0.0256 - accuracy: 0.9913 - val_loss: 0.1440 - val_accuracy: 0.9653\n",
            "Epoch 10/10\n",
            "375/375 [==============================] - 1s 4ms/step - loss: 0.0190 - accuracy: 0.9939 - val_loss: 0.1311 - val_accuracy: 0.9671\n",
            "Epoch 1/10\n",
            "375/375 [==============================] - 2s 4ms/step - loss: 0.2883 - accuracy: 0.9167 - val_loss: 0.1518 - val_accuracy: 0.9564\n",
            "Epoch 2/10\n",
            "375/375 [==============================] - 1s 4ms/step - loss: 0.1189 - accuracy: 0.9650 - val_loss: 0.1073 - val_accuracy: 0.9678\n",
            "Epoch 3/10\n",
            "375/375 [==============================] - 1s 4ms/step - loss: 0.0784 - accuracy: 0.9763 - val_loss: 0.0942 - val_accuracy: 0.9730\n",
            "Epoch 4/10\n",
            "375/375 [==============================] - 1s 4ms/step - loss: 0.0574 - accuracy: 0.9835 - val_loss: 0.0788 - val_accuracy: 0.9762\n",
            "Epoch 5/10\n",
            "375/375 [==============================] - 1s 4ms/step - loss: 0.0416 - accuracy: 0.9872 - val_loss: 0.0821 - val_accuracy: 0.9761\n",
            "Epoch 6/10\n",
            "375/375 [==============================] - 1s 4ms/step - loss: 0.0315 - accuracy: 0.9907 - val_loss: 0.0811 - val_accuracy: 0.9778\n",
            "Epoch 7/10\n",
            "375/375 [==============================] - 1s 4ms/step - loss: 0.0241 - accuracy: 0.9930 - val_loss: 0.0820 - val_accuracy: 0.9782\n",
            "Epoch 8/10\n",
            "375/375 [==============================] - 1s 4ms/step - loss: 0.0184 - accuracy: 0.9941 - val_loss: 0.0923 - val_accuracy: 0.9763\n",
            "Epoch 9/10\n",
            "375/375 [==============================] - 1s 4ms/step - loss: 0.0136 - accuracy: 0.9966 - val_loss: 0.0899 - val_accuracy: 0.9783\n",
            "Epoch 10/10\n",
            "375/375 [==============================] - 1s 4ms/step - loss: 0.0109 - accuracy: 0.9969 - val_loss: 0.0898 - val_accuracy: 0.9777\n"
          ]
        }
      ],
      "source": [
        "from tensorflow import keras # importing keras from tensorflow library\n",
        "from tensorflow.keras import layers # importing layers from keras library\n",
        "\n",
        "def get_model(): # defining a function to get the model\n",
        "    model = keras.Sequential([ # creating a sequential model\n",
        "        layers.Dense(512, activation=\"relu\"), # adding a dense layer with 512 neurons and relu activation function\n",
        "        layers.Dense(10, activation=\"softmax\") # adding a dense layer with 10 neurons and softmax activation function\n",
        "    ])\n",
        "    model.compile(optimizer=\"rmsprop\", # compiling the model with optimizer as rmsprop\n",
        "                  loss=\"sparse_categorical_crossentropy\", # setting loss function as sparse_categorical_crossentropy\n",
        "                  metrics=[\"accuracy\"]) # setting the metrics as accuracy\n",
        "    return model # returning the model\n",
        "\n",
        "model = get_model() # getting the model\n",
        "history_noise = model.fit( # fitting the model with train_images_with_noise_channels and train_labels\n",
        "    train_images_with_noise_channels, train_labels, \n",
        "    epochs=10, # setting the epochs as 10\n",
        "    batch_size=128, # setting the batch size as 128\n",
        "    validation_split=0.2) # setting the validation split as 0.2\n",
        "\n",
        "model = get_model() # getting the model\n",
        "history_zeros = model.fit( # fitting the model with train_images_with_zeros_channels and train_labels\n",
        "    train_images_with_zeros_channels, train_labels,\n",
        "    epochs=10, # setting the epochs as 10\n",
        "    batch_size=128, # setting the batch size as 128\n",
        "    validation_split=0.2) # setting the validation split as 0.2"
      ]
    },
    {
      "cell_type": "markdown",
      "metadata": {
        "id": "Q-lK9trB4EqY"
      },
      "source": [
        "**Plotting a validation accuracy comparison**"
      ]
    },
    {
      "cell_type": "code",
      "execution_count": 3,
      "metadata": {
        "id": "eF2v10i14EqY"
      },
      "outputs": [
        {
          "data": {
            "text/plain": [
              "<matplotlib.legend.Legend at 0x17c66db90>"
            ]
          },
          "execution_count": 3,
          "metadata": {},
          "output_type": "execute_result"
        },
        {
          "name": "stderr",
          "output_type": "stream",
          "text": [
            "/Users/miakuntz/Library/Python/3.11/lib/python/site-packages/IPython/core/pylabtools.py:152: MatplotlibDeprecationWarning: savefig() got unexpected keyword argument \"orientation\" which is no longer supported as of 3.3 and will become an error two minor releases later\n",
            "  fig.canvas.print_figure(bytes_io, **kw)\n",
            "/Users/miakuntz/Library/Python/3.11/lib/python/site-packages/IPython/core/pylabtools.py:152: MatplotlibDeprecationWarning: savefig() got unexpected keyword argument \"facecolor\" which is no longer supported as of 3.3 and will become an error two minor releases later\n",
            "  fig.canvas.print_figure(bytes_io, **kw)\n",
            "/Users/miakuntz/Library/Python/3.11/lib/python/site-packages/IPython/core/pylabtools.py:152: MatplotlibDeprecationWarning: savefig() got unexpected keyword argument \"edgecolor\" which is no longer supported as of 3.3 and will become an error two minor releases later\n",
            "  fig.canvas.print_figure(bytes_io, **kw)\n",
            "/Users/miakuntz/Library/Python/3.11/lib/python/site-packages/IPython/core/pylabtools.py:152: MatplotlibDeprecationWarning: savefig() got unexpected keyword argument \"bbox_inches_restore\" which is no longer supported as of 3.3 and will become an error two minor releases later\n",
            "  fig.canvas.print_figure(bytes_io, **kw)\n"
          ]
        },
        {
          "data": {
            "image/png": "[encoded data removed]",
            "text/plain": [
              "<Figure size 640x480 with 1 Axes>"
            ]
          },
          "metadata": {},
          "output_type": "display_data"
        }
      ],
      "source": [
        "import matplotlib.pyplot as plt # importing matplotlib library to plot the graph\n",
        "val_acc_noise = history_noise.history[\"val_accuracy\"] # getting the validation accuracy from history_noise\n",
        "val_acc_zeros = history_zeros.history[\"val_accuracy\"] # getting the validation accuracy from history_zeros\n",
        "epochs = range(1, 11) # setting the epochs as 1 to 11\n",
        "plt.plot(epochs, val_acc_noise, \"b-\", # plotting the graph with epochs, val_acc_noise and val_acc_zeros\n",
        "         label=\"Validation accuracy with noise channels\") # setting the label as Validation accuracy with noise channels\n",
        "plt.plot(epochs, val_acc_zeros, \"b--\", # plotting the graph with epochs, val_acc_noise and val_acc_zeros\n",
        "         label=\"Validation accuracy with zeros channels\") # setting the label as Validation accuracy with zeros channels\n",
        "plt.title(\"Effect of noise channels on validation accuracy\") # setting the title of the graph\n",
        "plt.xlabel(\"Epochs\") # setting the x-axis label as Epochs\n",
        "plt.ylabel(\"Accuracy\") # setting the y-axis label as Accuracy\n",
        "plt.legend() # setting the legend "
      ]
    },
    {
      "cell_type": "markdown",
      "metadata": {
        "id": "xtx0Uskc4EqY"
      },
      "source": [
        "### The nature of generalization in deep learning"
      ]
    },
    {
      "cell_type": "markdown",
      "metadata": {
        "id": "mxzCAh8D4EqY"
      },
      "source": [
        "**Fitting a MNIST model with randomly shuffled labels**"
      ]
    },
    {
      "cell_type": "code",
      "execution_count": 4,
      "metadata": {
        "id": "ZcOcGbuJ4EqY"
      },
      "outputs": [
        {
          "name": "stdout",
          "output_type": "stream",
          "text": [
            "Epoch 1/100\n",
            "375/375 [==============================] - 1s 3ms/step - loss: 2.3161 - accuracy: 0.1024 - val_loss: 2.3042 - val_accuracy: 0.1152\n",
            "Epoch 2/100\n",
            "375/375 [==============================] - 1s 2ms/step - loss: 2.3000 - accuracy: 0.1165 - val_loss: 2.3101 - val_accuracy: 0.1105\n",
            "Epoch 3/100\n",
            "375/375 [==============================] - 1s 2ms/step - loss: 2.2911 - accuracy: 0.1266 - val_loss: 2.3135 - val_accuracy: 0.1051\n",
            "Epoch 4/100\n",
            "375/375 [==============================] - 1s 2ms/step - loss: 2.2772 - accuracy: 0.1405 - val_loss: 2.3248 - val_accuracy: 0.1034\n",
            "Epoch 5/100\n",
            "375/375 [==============================] - 1s 2ms/step - loss: 2.2596 - accuracy: 0.1539 - val_loss: 2.3368 - val_accuracy: 0.1039\n",
            "Epoch 6/100\n",
            "375/375 [==============================] - 1s 2ms/step - loss: 2.2392 - accuracy: 0.1679 - val_loss: 2.3490 - val_accuracy: 0.1002\n",
            "Epoch 7/100\n",
            "375/375 [==============================] - 1s 2ms/step - loss: 2.2144 - accuracy: 0.1834 - val_loss: 2.3637 - val_accuracy: 0.1042\n",
            "Epoch 8/100\n",
            "375/375 [==============================] - 1s 2ms/step - loss: 2.1888 - accuracy: 0.1985 - val_loss: 2.3814 - val_accuracy: 0.0978\n",
            "Epoch 9/100\n",
            "375/375 [==============================] - 1s 2ms/step - loss: 2.1592 - accuracy: 0.2152 - val_loss: 2.3983 - val_accuracy: 0.1013\n",
            "Epoch 10/100\n",
            "375/375 [==============================] - 1s 2ms/step - loss: 2.1293 - accuracy: 0.2292 - val_loss: 2.4258 - val_accuracy: 0.1032\n",
            "Epoch 11/100\n",
            "375/375 [==============================] - 1s 2ms/step - loss: 2.0973 - accuracy: 0.2453 - val_loss: 2.4541 - val_accuracy: 0.1076\n",
            "Epoch 12/100\n",
            "375/375 [==============================] - 1s 2ms/step - loss: 2.0637 - accuracy: 0.2617 - val_loss: 2.4842 - val_accuracy: 0.0954\n",
            "Epoch 13/100\n",
            "375/375 [==============================] - 1s 2ms/step - loss: 2.0299 - accuracy: 0.2761 - val_loss: 2.5031 - val_accuracy: 0.0976\n",
            "Epoch 14/100\n",
            "375/375 [==============================] - 1s 2ms/step - loss: 1.9956 - accuracy: 0.2896 - val_loss: 2.5346 - val_accuracy: 0.1019\n",
            "Epoch 15/100\n",
            "375/375 [==============================] - 1s 2ms/step - loss: 1.9608 - accuracy: 0.3059 - val_loss: 2.5584 - val_accuracy: 0.1002\n",
            "Epoch 16/100\n",
            "375/375 [==============================] - 1s 2ms/step - loss: 1.9277 - accuracy: 0.3215 - val_loss: 2.6062 - val_accuracy: 0.0938\n",
            "Epoch 17/100\n",
            "375/375 [==============================] - 1s 2ms/step - loss: 1.8944 - accuracy: 0.3331 - val_loss: 2.6520 - val_accuracy: 0.0984\n",
            "Epoch 18/100\n",
            "375/375 [==============================] - 1s 2ms/step - loss: 1.8599 - accuracy: 0.3454 - val_loss: 2.6549 - val_accuracy: 0.0997\n",
            "Epoch 19/100\n",
            "375/375 [==============================] - 1s 2ms/step - loss: 1.8277 - accuracy: 0.3584 - val_loss: 2.6937 - val_accuracy: 0.0981\n",
            "Epoch 20/100\n",
            "375/375 [==============================] - 1s 2ms/step - loss: 1.7971 - accuracy: 0.3682 - val_loss: 2.7258 - val_accuracy: 0.1013\n",
            "Epoch 21/100\n",
            "375/375 [==============================] - 1s 2ms/step - loss: 1.7630 - accuracy: 0.3854 - val_loss: 2.7733 - val_accuracy: 0.0993\n",
            "Epoch 22/100\n",
            "375/375 [==============================] - 1s 2ms/step - loss: 1.7326 - accuracy: 0.3983 - val_loss: 2.8123 - val_accuracy: 0.1035\n",
            "Epoch 23/100\n",
            "375/375 [==============================] - 1s 2ms/step - loss: 1.7036 - accuracy: 0.4080 - val_loss: 2.8382 - val_accuracy: 0.0993\n",
            "Epoch 24/100\n",
            "375/375 [==============================] - 1s 2ms/step - loss: 1.6715 - accuracy: 0.4203 - val_loss: 2.8869 - val_accuracy: 0.1020\n",
            "Epoch 25/100\n",
            "375/375 [==============================] - 1s 2ms/step - loss: 1.6437 - accuracy: 0.4320 - val_loss: 2.9241 - val_accuracy: 0.1010\n",
            "Epoch 26/100\n",
            "375/375 [==============================] - 1s 2ms/step - loss: 1.6150 - accuracy: 0.4441 - val_loss: 2.9533 - val_accuracy: 0.0983\n",
            "Epoch 27/100\n",
            "375/375 [==============================] - 1s 2ms/step - loss: 1.5861 - accuracy: 0.4537 - val_loss: 2.9948 - val_accuracy: 0.0999\n",
            "Epoch 28/100\n",
            "375/375 [==============================] - 1s 2ms/step - loss: 1.5598 - accuracy: 0.4636 - val_loss: 3.0509 - val_accuracy: 0.0994\n",
            "Epoch 29/100\n",
            "375/375 [==============================] - 1s 2ms/step - loss: 1.5324 - accuracy: 0.4737 - val_loss: 3.0804 - val_accuracy: 0.1001\n",
            "Epoch 30/100\n",
            "375/375 [==============================] - 1s 2ms/step - loss: 1.5063 - accuracy: 0.4821 - val_loss: 3.1241 - val_accuracy: 0.1020\n",
            "Epoch 31/100\n",
            "375/375 [==============================] - 1s 2ms/step - loss: 1.4799 - accuracy: 0.4930 - val_loss: 3.1577 - val_accuracy: 0.0994\n",
            "Epoch 32/100\n",
            "375/375 [==============================] - 1s 2ms/step - loss: 1.4567 - accuracy: 0.5021 - val_loss: 3.2219 - val_accuracy: 0.1016\n",
            "Epoch 33/100\n",
            "375/375 [==============================] - 1s 2ms/step - loss: 1.4322 - accuracy: 0.5110 - val_loss: 3.2583 - val_accuracy: 0.0994\n",
            "Epoch 34/100\n",
            "375/375 [==============================] - 1s 3ms/step - loss: 1.4084 - accuracy: 0.5208 - val_loss: 3.2903 - val_accuracy: 0.1001\n",
            "Epoch 35/100\n",
            "375/375 [==============================] - 1s 2ms/step - loss: 1.3838 - accuracy: 0.5278 - val_loss: 3.3541 - val_accuracy: 0.0979\n",
            "Epoch 36/100\n",
            "375/375 [==============================] - 1s 2ms/step - loss: 1.3626 - accuracy: 0.5355 - val_loss: 3.4246 - val_accuracy: 0.1018\n",
            "Epoch 37/100\n",
            "375/375 [==============================] - 1s 2ms/step - loss: 1.3405 - accuracy: 0.5447 - val_loss: 3.4342 - val_accuracy: 0.0985\n",
            "Epoch 38/100\n",
            "375/375 [==============================] - 1s 2ms/step - loss: 1.3198 - accuracy: 0.5519 - val_loss: 3.4933 - val_accuracy: 0.1006\n",
            "Epoch 39/100\n",
            "375/375 [==============================] - 1s 2ms/step - loss: 1.2967 - accuracy: 0.5587 - val_loss: 3.5268 - val_accuracy: 0.0993\n",
            "Epoch 40/100\n",
            "375/375 [==============================] - 1s 2ms/step - loss: 1.2774 - accuracy: 0.5662 - val_loss: 3.5760 - val_accuracy: 0.1007\n",
            "Epoch 41/100\n",
            "375/375 [==============================] - 1s 2ms/step - loss: 1.2546 - accuracy: 0.5739 - val_loss: 3.6247 - val_accuracy: 0.1028\n",
            "Epoch 42/100\n",
            "375/375 [==============================] - 1s 2ms/step - loss: 1.2356 - accuracy: 0.5806 - val_loss: 3.6947 - val_accuracy: 0.1028\n",
            "Epoch 43/100\n",
            "375/375 [==============================] - 1s 2ms/step - loss: 1.2163 - accuracy: 0.5879 - val_loss: 3.7698 - val_accuracy: 0.1011\n",
            "Epoch 44/100\n",
            "375/375 [==============================] - 1s 2ms/step - loss: 1.1964 - accuracy: 0.5965 - val_loss: 3.8170 - val_accuracy: 0.1000\n",
            "Epoch 45/100\n",
            "375/375 [==============================] - 1s 2ms/step - loss: 1.1767 - accuracy: 0.6035 - val_loss: 3.8503 - val_accuracy: 0.1000\n",
            "Epoch 46/100\n",
            "375/375 [==============================] - 1s 2ms/step - loss: 1.1597 - accuracy: 0.6077 - val_loss: 3.9252 - val_accuracy: 0.1007\n",
            "Epoch 47/100\n",
            "375/375 [==============================] - 1s 2ms/step - loss: 1.1425 - accuracy: 0.6134 - val_loss: 3.9329 - val_accuracy: 0.1002\n",
            "Epoch 48/100\n",
            "375/375 [==============================] - 1s 2ms/step - loss: 1.1230 - accuracy: 0.6214 - val_loss: 3.9778 - val_accuracy: 0.0954\n",
            "Epoch 49/100\n",
            "375/375 [==============================] - 1s 2ms/step - loss: 1.1054 - accuracy: 0.6274 - val_loss: 4.0638 - val_accuracy: 0.1018\n",
            "Epoch 50/100\n",
            "375/375 [==============================] - 1s 2ms/step - loss: 1.0884 - accuracy: 0.6374 - val_loss: 4.0842 - val_accuracy: 0.0990\n",
            "Epoch 51/100\n",
            "375/375 [==============================] - 1s 2ms/step - loss: 1.0714 - accuracy: 0.6418 - val_loss: 4.1534 - val_accuracy: 0.1021\n",
            "Epoch 52/100\n",
            "375/375 [==============================] - 1s 2ms/step - loss: 1.0570 - accuracy: 0.6456 - val_loss: 4.2038 - val_accuracy: 0.1005\n",
            "Epoch 53/100\n",
            "375/375 [==============================] - 1s 2ms/step - loss: 1.0393 - accuracy: 0.6534 - val_loss: 4.2737 - val_accuracy: 0.0992\n",
            "Epoch 54/100\n",
            "375/375 [==============================] - 1s 2ms/step - loss: 1.0233 - accuracy: 0.6566 - val_loss: 4.3232 - val_accuracy: 0.1002\n",
            "Epoch 55/100\n",
            "375/375 [==============================] - 1s 2ms/step - loss: 1.0066 - accuracy: 0.6618 - val_loss: 4.3699 - val_accuracy: 0.0998\n",
            "Epoch 56/100\n",
            "375/375 [==============================] - 1s 2ms/step - loss: 0.9936 - accuracy: 0.6691 - val_loss: 4.4279 - val_accuracy: 0.1035\n",
            "Epoch 57/100\n",
            "375/375 [==============================] - 1s 2ms/step - loss: 0.9753 - accuracy: 0.6739 - val_loss: 4.4875 - val_accuracy: 0.1042\n",
            "Epoch 58/100\n",
            "375/375 [==============================] - 1s 2ms/step - loss: 0.9629 - accuracy: 0.6805 - val_loss: 4.5397 - val_accuracy: 0.0993\n",
            "Epoch 59/100\n",
            "375/375 [==============================] - 1s 2ms/step - loss: 0.9504 - accuracy: 0.6841 - val_loss: 4.5867 - val_accuracy: 0.1014\n",
            "Epoch 60/100\n",
            "375/375 [==============================] - 1s 2ms/step - loss: 0.9333 - accuracy: 0.6862 - val_loss: 4.6562 - val_accuracy: 0.1035\n",
            "Epoch 61/100\n",
            "375/375 [==============================] - 1s 2ms/step - loss: 0.9186 - accuracy: 0.6944 - val_loss: 4.7125 - val_accuracy: 0.1031\n",
            "Epoch 62/100\n",
            "375/375 [==============================] - 1s 2ms/step - loss: 0.9066 - accuracy: 0.6986 - val_loss: 4.7739 - val_accuracy: 0.1023\n",
            "Epoch 63/100\n",
            "375/375 [==============================] - 1s 2ms/step - loss: 0.8922 - accuracy: 0.7030 - val_loss: 4.8492 - val_accuracy: 0.1030\n",
            "Epoch 64/100\n",
            "375/375 [==============================] - 1s 2ms/step - loss: 0.8780 - accuracy: 0.7093 - val_loss: 4.8907 - val_accuracy: 0.0992\n",
            "Epoch 65/100\n",
            "375/375 [==============================] - 1s 2ms/step - loss: 0.8666 - accuracy: 0.7137 - val_loss: 4.9290 - val_accuracy: 0.1031\n",
            "Epoch 66/100\n",
            "375/375 [==============================] - 1s 2ms/step - loss: 0.8543 - accuracy: 0.7177 - val_loss: 4.9921 - val_accuracy: 0.1037\n",
            "Epoch 67/100\n",
            "375/375 [==============================] - 1s 2ms/step - loss: 0.8413 - accuracy: 0.7207 - val_loss: 5.0854 - val_accuracy: 0.1016\n",
            "Epoch 68/100\n",
            "375/375 [==============================] - 1s 2ms/step - loss: 0.8287 - accuracy: 0.7272 - val_loss: 5.1273 - val_accuracy: 0.1009\n",
            "Epoch 69/100\n",
            "375/375 [==============================] - 1s 2ms/step - loss: 0.8163 - accuracy: 0.7289 - val_loss: 5.2031 - val_accuracy: 0.1033\n",
            "Epoch 70/100\n",
            "375/375 [==============================] - 1s 2ms/step - loss: 0.8060 - accuracy: 0.7328 - val_loss: 5.2456 - val_accuracy: 0.1010\n",
            "Epoch 71/100\n",
            "375/375 [==============================] - 1s 2ms/step - loss: 0.7928 - accuracy: 0.7405 - val_loss: 5.3188 - val_accuracy: 0.0998\n",
            "Epoch 72/100\n",
            "375/375 [==============================] - 1s 2ms/step - loss: 0.7819 - accuracy: 0.7430 - val_loss: 5.3931 - val_accuracy: 0.1053\n",
            "Epoch 73/100\n",
            "375/375 [==============================] - 1s 2ms/step - loss: 0.7725 - accuracy: 0.7454 - val_loss: 5.4151 - val_accuracy: 0.0999\n",
            "Epoch 74/100\n",
            "375/375 [==============================] - 1s 2ms/step - loss: 0.7574 - accuracy: 0.7521 - val_loss: 5.4798 - val_accuracy: 0.1002\n",
            "Epoch 75/100\n",
            "375/375 [==============================] - 1s 2ms/step - loss: 0.7459 - accuracy: 0.7541 - val_loss: 5.5442 - val_accuracy: 0.1023\n",
            "Epoch 76/100\n",
            "375/375 [==============================] - 1s 2ms/step - loss: 0.7386 - accuracy: 0.7564 - val_loss: 5.6126 - val_accuracy: 0.1027\n",
            "Epoch 77/100\n",
            "375/375 [==============================] - 1s 2ms/step - loss: 0.7265 - accuracy: 0.7629 - val_loss: 5.6584 - val_accuracy: 0.1031\n",
            "Epoch 78/100\n",
            "375/375 [==============================] - 1s 2ms/step - loss: 0.7168 - accuracy: 0.7661 - val_loss: 5.7847 - val_accuracy: 0.1023\n",
            "Epoch 79/100\n",
            "375/375 [==============================] - 1s 2ms/step - loss: 0.7071 - accuracy: 0.7688 - val_loss: 5.8153 - val_accuracy: 0.1026\n",
            "Epoch 80/100\n",
            "375/375 [==============================] - 1s 2ms/step - loss: 0.6949 - accuracy: 0.7734 - val_loss: 5.8935 - val_accuracy: 0.1047\n",
            "Epoch 81/100\n",
            "375/375 [==============================] - 1s 2ms/step - loss: 0.6848 - accuracy: 0.7777 - val_loss: 5.9371 - val_accuracy: 0.1013\n",
            "Epoch 82/100\n",
            "375/375 [==============================] - 1s 2ms/step - loss: 0.6760 - accuracy: 0.7777 - val_loss: 5.9513 - val_accuracy: 0.0990\n",
            "Epoch 83/100\n",
            "375/375 [==============================] - 1s 2ms/step - loss: 0.6682 - accuracy: 0.7834 - val_loss: 6.0418 - val_accuracy: 0.1047\n",
            "Epoch 84/100\n",
            "375/375 [==============================] - 1s 2ms/step - loss: 0.6579 - accuracy: 0.7851 - val_loss: 6.1231 - val_accuracy: 0.1012\n",
            "Epoch 85/100\n",
            "375/375 [==============================] - 1s 2ms/step - loss: 0.6485 - accuracy: 0.7897 - val_loss: 6.1803 - val_accuracy: 0.1033\n",
            "Epoch 86/100\n",
            "375/375 [==============================] - 1s 2ms/step - loss: 0.6388 - accuracy: 0.7939 - val_loss: 6.2969 - val_accuracy: 0.1031\n",
            "Epoch 87/100\n",
            "375/375 [==============================] - 1s 2ms/step - loss: 0.6316 - accuracy: 0.7946 - val_loss: 6.3612 - val_accuracy: 0.1002\n",
            "Epoch 88/100\n",
            "375/375 [==============================] - 1s 2ms/step - loss: 0.6212 - accuracy: 0.7981 - val_loss: 6.3717 - val_accuracy: 0.1026\n",
            "Epoch 89/100\n",
            "375/375 [==============================] - 1s 2ms/step - loss: 0.6136 - accuracy: 0.8006 - val_loss: 6.4357 - val_accuracy: 0.1002\n",
            "Epoch 90/100\n",
            "375/375 [==============================] - 1s 2ms/step - loss: 0.6026 - accuracy: 0.8055 - val_loss: 6.5111 - val_accuracy: 0.1033\n",
            "Epoch 91/100\n",
            "375/375 [==============================] - 1s 2ms/step - loss: 0.5974 - accuracy: 0.8055 - val_loss: 6.5704 - val_accuracy: 0.1034\n",
            "Epoch 92/100\n",
            "375/375 [==============================] - 1s 2ms/step - loss: 0.5866 - accuracy: 0.8097 - val_loss: 6.6639 - val_accuracy: 0.0994\n",
            "Epoch 93/100\n",
            "375/375 [==============================] - 1s 2ms/step - loss: 0.5773 - accuracy: 0.8127 - val_loss: 6.6518 - val_accuracy: 0.1027\n",
            "Epoch 94/100\n",
            "375/375 [==============================] - 1s 2ms/step - loss: 0.5711 - accuracy: 0.8154 - val_loss: 6.7608 - val_accuracy: 0.1028\n",
            "Epoch 95/100\n",
            "375/375 [==============================] - 1s 2ms/step - loss: 0.5627 - accuracy: 0.8191 - val_loss: 6.8619 - val_accuracy: 0.1017\n",
            "Epoch 96/100\n",
            "375/375 [==============================] - 1s 2ms/step - loss: 0.5564 - accuracy: 0.8216 - val_loss: 6.8895 - val_accuracy: 0.1028\n",
            "Epoch 97/100\n",
            "375/375 [==============================] - 1s 2ms/step - loss: 0.5494 - accuracy: 0.8247 - val_loss: 6.9677 - val_accuracy: 0.1038\n",
            "Epoch 98/100\n",
            "375/375 [==============================] - 1s 2ms/step - loss: 0.5424 - accuracy: 0.8250 - val_loss: 7.0192 - val_accuracy: 0.0989\n",
            "Epoch 99/100\n",
            "375/375 [==============================] - 1s 2ms/step - loss: 0.5336 - accuracy: 0.8287 - val_loss: 7.0781 - val_accuracy: 0.1007\n",
            "Epoch 100/100\n",
            "375/375 [==============================] - 1s 2ms/step - loss: 0.5250 - accuracy: 0.8312 - val_loss: 7.1682 - val_accuracy: 0.1004\n"
          ]
        },
        {
          "data": {
            "text/plain": [
              "<keras.callbacks.History at 0x17b20af50>"
            ]
          },
          "execution_count": 4,
          "metadata": {},
          "output_type": "execute_result"
        }
      ],
      "source": [
        "(train_images, train_labels), _ = mnist.load_data() # loading the mnist dataset into train_images and train_labels\n",
        "train_images = train_images.reshape((60000, 28 * 28)) # reshaping the train_images to 60000, 28*28\n",
        "train_images = train_images.astype(\"float32\") / 255 # normalizing the train_images by dividing by 255\n",
        "\n",
        "random_train_labels = train_labels[:] # copying the train_labels to random_train_labels\n",
        "np.random.shuffle(random_train_labels) # shuffling the random_train_labels\n",
        "\n",
        "model = keras.Sequential([ # creating a sequential model\n",
        "    layers.Dense(512, activation=\"relu\"), # adding a dense layer with 512 neurons and relu activation function\n",
        "    layers.Dense(10, activation=\"softmax\") # adding a dense layer with 10 neurons and softmax activation function\n",
        "])\n",
        "model.compile(optimizer=\"rmsprop\", # compiling the model with optimizer as rmsprop\n",
        "              loss=\"sparse_categorical_crossentropy\", # setting loss function as sparse_categorical_crossentropy\n",
        "              metrics=[\"accuracy\"]) # setting the metrics as accuracy\n",
        "model.fit(train_images, random_train_labels, # fitting the model with train_images and random_train_labels\n",
        "          epochs=100, # setting the epochs as 100\n",
        "          batch_size=128, # setting the batch size as 128\n",
        "          validation_split=0.2) # setting the validation split as 0.2"
      ]
    },
    {
      "cell_type": "markdown",
      "metadata": {
        "id": "sOMfZoWq4EqY"
      },
      "source": [
        "#### The manifold hypothesis"
      ]
    },
    {
      "cell_type": "markdown",
      "metadata": {
        "id": "NThIkWq64EqY"
      },
      "source": [
        "#### Interpolation as a source of generalization"
      ]
    },
    {
      "cell_type": "markdown",
      "metadata": {
        "id": "slR-VKyq4EqZ"
      },
      "source": [
        "#### Why deep learning works"
      ]
    },
    {
      "cell_type": "markdown",
      "metadata": {
        "id": "OTX5peVc4EqZ"
      },
      "source": [
        "#### Training data is paramount"
      ]
    },
    {
      "cell_type": "markdown",
      "metadata": {
        "id": "wiciTAb84EqZ"
      },
      "source": [
        "## Evaluating machine-learning models"
      ]
    },
    {
      "cell_type": "markdown",
      "metadata": {
        "id": "_8twmDSJ4EqZ"
      },
      "source": [
        "### Training, validation, and test sets"
      ]
    },
    {
      "cell_type": "markdown",
      "metadata": {
        "id": "2sIJ1bvi4EqZ"
      },
      "source": [
        "#### Simple hold-out validation"
      ]
    },
    {
      "cell_type": "markdown",
      "metadata": {
        "id": "z3wKV9Rf4EqZ"
      },
      "source": [
        "#### K-fold validation"
      ]
    },
    {
      "cell_type": "markdown",
      "metadata": {
        "id": "G4q6MT6K4EqZ"
      },
      "source": [
        "#### Iterated K-fold validation with shuffling"
      ]
    },
    {
      "cell_type": "markdown",
      "metadata": {
        "id": "ZCLyZQ7l4EqZ"
      },
      "source": [
        "### Beating a common-sense baseline"
      ]
    },
    {
      "cell_type": "markdown",
      "metadata": {
        "id": "m2yjYo204EqZ"
      },
      "source": [
        "### Things to keep in mind about model evaluation"
      ]
    },
    {
      "cell_type": "markdown",
      "metadata": {
        "id": "sSBpaXPB4EqZ"
      },
      "source": [
        "## Improving model fit"
      ]
    },
    {
      "cell_type": "markdown",
      "metadata": {
        "id": "oYj3QcsN4EqZ"
      },
      "source": [
        "### Tuning key gradient descent parameters"
      ]
    },
    {
      "cell_type": "markdown",
      "metadata": {
        "id": "eizc9KFk4Eqa"
      },
      "source": [
        "**Training a MNIST model with an incorrectly high learning rate**"
      ]
    },
    {
      "cell_type": "code",
      "execution_count": 5,
      "metadata": {
        "id": "JR5iNh-U4Eqa"
      },
      "outputs": [
        {
          "name": "stderr",
          "output_type": "stream",
          "text": [
            "WARNING:absl:At this time, the v2.11+ optimizer `tf.keras.optimizers.RMSprop` runs slowly on M1/M2 Macs, please use the legacy Keras optimizer instead, located at `tf.keras.optimizers.legacy.RMSprop`.\n",
            "WARNING:absl:There is a known slowdown when using v2.11+ Keras optimizers on M1/M2 Macs. Falling back to the legacy Keras optimizer, i.e., `tf.keras.optimizers.legacy.RMSprop`.\n"
          ]
        },
        {
          "name": "stdout",
          "output_type": "stream",
          "text": [
            "Epoch 1/10\n",
            "375/375 [==============================] - 1s 2ms/step - loss: 890.9338 - accuracy: 0.3880 - val_loss: 2.5377 - val_accuracy: 0.2582\n",
            "Epoch 2/10\n",
            "375/375 [==============================] - 1s 2ms/step - loss: 4.1357 - accuracy: 0.2481 - val_loss: 2.0941 - val_accuracy: 0.2642\n",
            "Epoch 3/10\n",
            "375/375 [==============================] - 1s 2ms/step - loss: 2.8806 - accuracy: 0.2351 - val_loss: 2.4360 - val_accuracy: 0.2457\n",
            "Epoch 4/10\n",
            "375/375 [==============================] - 1s 2ms/step - loss: 2.8090 - accuracy: 0.2427 - val_loss: 2.3395 - val_accuracy: 0.2558\n",
            "Epoch 5/10\n",
            "375/375 [==============================] - 1s 2ms/step - loss: 2.6172 - accuracy: 0.2233 - val_loss: 2.4205 - val_accuracy: 0.2220\n",
            "Epoch 6/10\n",
            "375/375 [==============================] - 1s 3ms/step - loss: 2.5643 - accuracy: 0.2516 - val_loss: 2.1739 - val_accuracy: 0.2588\n",
            "Epoch 7/10\n",
            "375/375 [==============================] - 1s 2ms/step - loss: 2.4559 - accuracy: 0.2353 - val_loss: 1.9892 - val_accuracy: 0.2580\n",
            "Epoch 8/10\n",
            "375/375 [==============================] - 1s 3ms/step - loss: 2.4121 - accuracy: 0.2511 - val_loss: 2.6720 - val_accuracy: 0.2227\n",
            "Epoch 9/10\n",
            "375/375 [==============================] - 1s 2ms/step - loss: 2.4266 - accuracy: 0.2658 - val_loss: 3.5956 - val_accuracy: 0.3268\n",
            "Epoch 10/10\n",
            "375/375 [==============================] - 1s 2ms/step - loss: 2.6349 - accuracy: 0.2806 - val_loss: 2.6598 - val_accuracy: 0.2504\n"
          ]
        },
        {
          "data": {
            "text/plain": [
              "<keras.callbacks.History at 0x17f26b290>"
            ]
          },
          "execution_count": 5,
          "metadata": {},
          "output_type": "execute_result"
        }
      ],
      "source": [
        "(train_images, train_labels), _ = mnist.load_data() # loading the mnist dataset into train_images and train_labels\n",
        "train_images = train_images.reshape((60000, 28 * 28)) # reshaping the train_images to 60000, 28*28\n",
        "train_images = train_images.astype(\"float32\") / 255 # normalizing the train_images by dividing by 255\n",
        "\n",
        "model = keras.Sequential([ # creating a sequential model\n",
        "    layers.Dense(512, activation=\"relu\"), # adding a dense layer with 512 neurons and relu activation function\n",
        "    layers.Dense(10, activation=\"softmax\") # adding a dense layer with 10 neurons and softmax activation function\n",
        "])\n",
        "model.compile(optimizer=keras.optimizers.RMSprop(1.), # compiling the model with optimizer as RMSprop with learning rate as 1.0\n",
        "              loss=\"sparse_categorical_crossentropy\", # setting loss function as sparse_categorical_crossentropy\n",
        "              metrics=[\"accuracy\"]) # setting the metrics as accuracy\n",
        "model.fit(train_images, train_labels, # fitting the model with train_images and train_labels\n",
        "          epochs=10, # setting the epochs as 10\n",
        "          batch_size=128, # setting the batch size as 128\n",
        "          validation_split=0.2) # setting the validation split as 0.2"
      ]
    },
    {
      "cell_type": "markdown",
      "metadata": {
        "id": "xmN1X7v54Eqa"
      },
      "source": [
        "**The same model with a more appropriate learning rate**"
      ]
    },
    {
      "cell_type": "code",
      "execution_count": 6,
      "metadata": {
        "id": "OXUCUs2p4Eqa"
      },
      "outputs": [
        {
          "name": "stderr",
          "output_type": "stream",
          "text": [
            "WARNING:absl:At this time, the v2.11+ optimizer `tf.keras.optimizers.RMSprop` runs slowly on M1/M2 Macs, please use the legacy Keras optimizer instead, located at `tf.keras.optimizers.legacy.RMSprop`.\n",
            "WARNING:absl:There is a known slowdown when using v2.11+ Keras optimizers on M1/M2 Macs. Falling back to the legacy Keras optimizer, i.e., `tf.keras.optimizers.legacy.RMSprop`.\n"
          ]
        },
        {
          "name": "stdout",
          "output_type": "stream",
          "text": [
            "Epoch 1/10\n",
            "375/375 [==============================] - 1s 2ms/step - loss: 0.3673 - accuracy: 0.9115 - val_loss: 0.1780 - val_accuracy: 0.9508\n",
            "Epoch 2/10\n",
            "375/375 [==============================] - 1s 2ms/step - loss: 0.1431 - accuracy: 0.9632 - val_loss: 0.1327 - val_accuracy: 0.9694\n",
            "Epoch 3/10\n",
            "375/375 [==============================] - 1s 2ms/step - loss: 0.1204 - accuracy: 0.9724 - val_loss: 0.1493 - val_accuracy: 0.9715\n",
            "Epoch 4/10\n",
            "375/375 [==============================] - 1s 2ms/step - loss: 0.1022 - accuracy: 0.9779 - val_loss: 0.1990 - val_accuracy: 0.9693\n",
            "Epoch 5/10\n",
            "375/375 [==============================] - 1s 2ms/step - loss: 0.0923 - accuracy: 0.9812 - val_loss: 0.2016 - val_accuracy: 0.9712\n",
            "Epoch 6/10\n",
            "375/375 [==============================] - 1s 2ms/step - loss: 0.0799 - accuracy: 0.9838 - val_loss: 0.2411 - val_accuracy: 0.9703\n",
            "Epoch 7/10\n",
            "375/375 [==============================] - 1s 2ms/step - loss: 0.0753 - accuracy: 0.9862 - val_loss: 0.2341 - val_accuracy: 0.9734\n",
            "Epoch 8/10\n",
            "375/375 [==============================] - 1s 2ms/step - loss: 0.0652 - accuracy: 0.9881 - val_loss: 0.2425 - val_accuracy: 0.9749\n",
            "Epoch 9/10\n",
            "375/375 [==============================] - 1s 2ms/step - loss: 0.0651 - accuracy: 0.9887 - val_loss: 0.2599 - val_accuracy: 0.9738\n",
            "Epoch 10/10\n",
            "375/375 [==============================] - 1s 2ms/step - loss: 0.0550 - accuracy: 0.9905 - val_loss: 0.2980 - val_accuracy: 0.9737\n"
          ]
        },
        {
          "data": {
            "text/plain": [
              "<keras.callbacks.History at 0x17f2b63d0>"
            ]
          },
          "execution_count": 6,
          "metadata": {},
          "output_type": "execute_result"
        }
      ],
      "source": [
        "model = keras.Sequential([ # creating a sequential model\n",
        "    layers.Dense(512, activation=\"relu\"), # adding a dense layer with 512 neurons and relu activation function\n",
        "    layers.Dense(10, activation=\"softmax\") # adding a dense layer with 10 neurons and softmax activation function\n",
        "])\n",
        "model.compile(optimizer=keras.optimizers.RMSprop(1e-2), # compiling the model with optimizer as RMSprop with learning rate as 0.01\n",
        "              loss=\"sparse_categorical_crossentropy\", # setting loss function as sparse_categorical_crossentropy\n",
        "              metrics=[\"accuracy\"]) # setting the metrics as accuracy\n",
        "model.fit(train_images, train_labels, # fitting the model with train_images and train_labels\n",
        "          epochs=10, # setting the epochs as 10\n",
        "          batch_size=128, # setting the batch size as 128\n",
        "          validation_split=0.2) # setting the validation split as 0.2"
      ]
    },
    {
      "cell_type": "markdown",
      "metadata": {
        "id": "N_l-Ontx4Eqa"
      },
      "source": [
        "### Leveraging better architecture priors"
      ]
    },
    {
      "cell_type": "markdown",
      "metadata": {
        "id": "xESArUpi4Eqb"
      },
      "source": [
        "### Increasing model capacity"
      ]
    },
    {
      "cell_type": "markdown",
      "metadata": {
        "id": "Bi_NSTSt4Eqb"
      },
      "source": [
        "**A simple logistic regression on MNIST**"
      ]
    },
    {
      "cell_type": "code",
      "execution_count": 7,
      "metadata": {
        "id": "jTgXHGaL4Eqb"
      },
      "outputs": [
        {
          "name": "stdout",
          "output_type": "stream",
          "text": [
            "Epoch 1/20\n",
            "375/375 [==============================] - 0s 760us/step - loss: 0.6799 - accuracy: 0.8305 - val_loss: 0.3602 - val_accuracy: 0.9053\n",
            "Epoch 2/20\n",
            "375/375 [==============================] - 0s 521us/step - loss: 0.3513 - accuracy: 0.9043 - val_loss: 0.3068 - val_accuracy: 0.9145\n",
            "Epoch 3/20\n",
            "375/375 [==============================] - 0s 526us/step - loss: 0.3157 - accuracy: 0.9123 - val_loss: 0.2917 - val_accuracy: 0.9177\n",
            "Epoch 4/20\n",
            "375/375 [==============================] - 0s 521us/step - loss: 0.2990 - accuracy: 0.9173 - val_loss: 0.2811 - val_accuracy: 0.9217\n",
            "Epoch 5/20\n",
            "375/375 [==============================] - 0s 530us/step - loss: 0.2895 - accuracy: 0.9190 - val_loss: 0.2761 - val_accuracy: 0.9247\n",
            "Epoch 6/20\n",
            "375/375 [==============================] - 0s 532us/step - loss: 0.2830 - accuracy: 0.9212 - val_loss: 0.2728 - val_accuracy: 0.9246\n",
            "Epoch 7/20\n",
            "375/375 [==============================] - 0s 528us/step - loss: 0.2782 - accuracy: 0.9225 - val_loss: 0.2679 - val_accuracy: 0.9260\n",
            "Epoch 8/20\n",
            "375/375 [==============================] - 0s 593us/step - loss: 0.2743 - accuracy: 0.9241 - val_loss: 0.2677 - val_accuracy: 0.9264\n",
            "Epoch 9/20\n",
            "375/375 [==============================] - 0s 529us/step - loss: 0.2711 - accuracy: 0.9247 - val_loss: 0.2650 - val_accuracy: 0.9278\n",
            "Epoch 10/20\n",
            "375/375 [==============================] - 0s 551us/step - loss: 0.2690 - accuracy: 0.9257 - val_loss: 0.2648 - val_accuracy: 0.9269\n",
            "Epoch 11/20\n",
            "375/375 [==============================] - 0s 526us/step - loss: 0.2665 - accuracy: 0.9265 - val_loss: 0.2646 - val_accuracy: 0.9281\n",
            "Epoch 12/20\n",
            "375/375 [==============================] - 0s 525us/step - loss: 0.2646 - accuracy: 0.9269 - val_loss: 0.2624 - val_accuracy: 0.9293\n",
            "Epoch 13/20\n",
            "375/375 [==============================] - 0s 526us/step - loss: 0.2628 - accuracy: 0.9275 - val_loss: 0.2634 - val_accuracy: 0.9290\n",
            "Epoch 14/20\n",
            "375/375 [==============================] - 0s 531us/step - loss: 0.2618 - accuracy: 0.9274 - val_loss: 0.2622 - val_accuracy: 0.9293\n",
            "Epoch 15/20\n",
            "375/375 [==============================] - 0s 531us/step - loss: 0.2603 - accuracy: 0.9290 - val_loss: 0.2606 - val_accuracy: 0.9294\n",
            "Epoch 16/20\n",
            "375/375 [==============================] - 0s 525us/step - loss: 0.2594 - accuracy: 0.9293 - val_loss: 0.2614 - val_accuracy: 0.9296\n",
            "Epoch 17/20\n",
            "375/375 [==============================] - 0s 518us/step - loss: 0.2582 - accuracy: 0.9295 - val_loss: 0.2606 - val_accuracy: 0.9307\n",
            "Epoch 18/20\n",
            "375/375 [==============================] - 0s 521us/step - loss: 0.2571 - accuracy: 0.9298 - val_loss: 0.2614 - val_accuracy: 0.9306\n",
            "Epoch 19/20\n",
            "375/375 [==============================] - 0s 560us/step - loss: 0.2564 - accuracy: 0.9297 - val_loss: 0.2629 - val_accuracy: 0.9293\n",
            "Epoch 20/20\n",
            "375/375 [==============================] - 0s 531us/step - loss: 0.2557 - accuracy: 0.9301 - val_loss: 0.2605 - val_accuracy: 0.9306\n"
          ]
        }
      ],
      "source": [
        "model = keras.Sequential([layers.Dense(10, activation=\"softmax\")]) # creating a sequential model with a dense layer with 10 neurons and softmax activation function\n",
        "model.compile(optimizer=\"rmsprop\", # compiling the model with optimizer as rmsprop\n",
        "              loss=\"sparse_categorical_crossentropy\", # setting loss function as sparse_categorical_crossentropy\n",
        "              metrics=[\"accuracy\"]) # setting the metrics as accuracy\n",
        "history_small_model = model.fit( # fitting the model with train_images and train_labels\n",
        "    train_images, train_labels, \n",
        "    epochs=20, # setting the epochs as 20\n",
        "    batch_size=128, # setting the batch size as 128\n",
        "    validation_split=0.2) # setting the validation split as 0.2"
      ]
    },
    {
      "cell_type": "code",
      "execution_count": 8,
      "metadata": {
        "id": "6zf6OvYx4Eqb"
      },
      "outputs": [
        {
          "data": {
            "text/plain": [
              "<matplotlib.legend.Legend at 0x29bfc5310>"
            ]
          },
          "execution_count": 8,
          "metadata": {},
          "output_type": "execute_result"
        },
        {
          "data": {
            "image/png": "[encoded data removed]",
            "text/plain": [
              "<Figure size 640x480 with 1 Axes>"
            ]
          },
          "metadata": {},
          "output_type": "display_data"
        }
      ],
      "source": [
        "import matplotlib.pyplot as plt # importing matplotlib library to plot the graph\n",
        "val_loss = history_small_model.history[\"val_loss\"] # getting the validation loss from history_small_model\n",
        "epochs = range(1, 21) # setting the epochs as 1 to 21\n",
        "plt.plot(epochs, val_loss, \"b--\", # plotting the graph with epochs and val_loss\n",
        "         label=\"Validation loss\") # setting the label as Validation loss\n",
        "plt.title(\"Effect of insufficient model capacity on validation loss\") # setting the title of the graph\n",
        "plt.xlabel(\"Epochs\") # setting the x-axis label as Epochs\n",
        "plt.ylabel(\"Loss\") # setting the y-axis label as Loss\n",
        "plt.legend() # setting the legend"
      ]
    },
    {
      "cell_type": "code",
      "execution_count": 9,
      "metadata": {
        "id": "ZJwhdtLf4Eqc"
      },
      "outputs": [
        {
          "name": "stdout",
          "output_type": "stream",
          "text": [
            "Epoch 1/20\n",
            "375/375 [==============================] - 1s 1ms/step - loss: 0.3717 - accuracy: 0.8954 - val_loss: 0.1957 - val_accuracy: 0.9418\n",
            "Epoch 2/20\n",
            "375/375 [==============================] - 0s 1ms/step - loss: 0.1611 - accuracy: 0.9524 - val_loss: 0.1297 - val_accuracy: 0.9628\n",
            "Epoch 3/20\n",
            "375/375 [==============================] - 0s 1ms/step - loss: 0.1126 - accuracy: 0.9663 - val_loss: 0.1106 - val_accuracy: 0.9667\n",
            "Epoch 4/20\n",
            "375/375 [==============================] - 0s 987us/step - loss: 0.0876 - accuracy: 0.9731 - val_loss: 0.1057 - val_accuracy: 0.9702\n",
            "Epoch 5/20\n",
            "375/375 [==============================] - 0s 1ms/step - loss: 0.0705 - accuracy: 0.9785 - val_loss: 0.0978 - val_accuracy: 0.9729\n",
            "Epoch 6/20\n",
            "375/375 [==============================] - 0s 963us/step - loss: 0.0576 - accuracy: 0.9826 - val_loss: 0.1165 - val_accuracy: 0.9691\n",
            "Epoch 7/20\n",
            "375/375 [==============================] - 0s 987us/step - loss: 0.0480 - accuracy: 0.9849 - val_loss: 0.0893 - val_accuracy: 0.9762\n",
            "Epoch 8/20\n",
            "375/375 [==============================] - 0s 970us/step - loss: 0.0405 - accuracy: 0.9879 - val_loss: 0.0984 - val_accuracy: 0.9731\n",
            "Epoch 9/20\n",
            "375/375 [==============================] - 0s 978us/step - loss: 0.0330 - accuracy: 0.9899 - val_loss: 0.0970 - val_accuracy: 0.9752\n",
            "Epoch 10/20\n",
            "375/375 [==============================] - 0s 966us/step - loss: 0.0291 - accuracy: 0.9914 - val_loss: 0.1006 - val_accuracy: 0.9757\n",
            "Epoch 11/20\n",
            "375/375 [==============================] - 0s 989us/step - loss: 0.0247 - accuracy: 0.9921 - val_loss: 0.1248 - val_accuracy: 0.9712\n",
            "Epoch 12/20\n",
            "375/375 [==============================] - 0s 967us/step - loss: 0.0211 - accuracy: 0.9929 - val_loss: 0.1055 - val_accuracy: 0.9756\n",
            "Epoch 13/20\n",
            "375/375 [==============================] - 0s 971us/step - loss: 0.0174 - accuracy: 0.9949 - val_loss: 0.1085 - val_accuracy: 0.9767\n",
            "Epoch 14/20\n",
            "375/375 [==============================] - 0s 966us/step - loss: 0.0147 - accuracy: 0.9953 - val_loss: 0.1128 - val_accuracy: 0.9753\n",
            "Epoch 15/20\n",
            "375/375 [==============================] - 0s 974us/step - loss: 0.0130 - accuracy: 0.9960 - val_loss: 0.1194 - val_accuracy: 0.9753\n",
            "Epoch 16/20\n",
            "375/375 [==============================] - 0s 962us/step - loss: 0.0109 - accuracy: 0.9967 - val_loss: 0.1237 - val_accuracy: 0.9744\n",
            "Epoch 17/20\n",
            "375/375 [==============================] - 0s 957us/step - loss: 0.0098 - accuracy: 0.9970 - val_loss: 0.1224 - val_accuracy: 0.9766\n",
            "Epoch 18/20\n",
            "375/375 [==============================] - 0s 1ms/step - loss: 0.0077 - accuracy: 0.9976 - val_loss: 0.1252 - val_accuracy: 0.9768\n",
            "Epoch 19/20\n",
            "375/375 [==============================] - 0s 982us/step - loss: 0.0071 - accuracy: 0.9979 - val_loss: 0.1384 - val_accuracy: 0.9747\n",
            "Epoch 20/20\n",
            "375/375 [==============================] - 0s 979us/step - loss: 0.0058 - accuracy: 0.9979 - val_loss: 0.1318 - val_accuracy: 0.9762\n"
          ]
        }
      ],
      "source": [
        "model = keras.Sequential([ # creating a sequential model\n",
        "    layers.Dense(96, activation=\"relu\"), # adding a dense layer with 96 neurons and relu activation function\n",
        "    layers.Dense(96, activation=\"relu\"), # adding a dense layer with 96 neurons and relu activation function\n",
        "    layers.Dense(10, activation=\"softmax\"), # adding a dense layer with 10 neurons and softmax activation function\n",
        "])\n",
        "model.compile(optimizer=\"rmsprop\", # compiling the model with optimizer as rmsprop\n",
        "              loss=\"sparse_categorical_crossentropy\", # setting loss function as sparse_categorical_crossentropy\n",
        "              metrics=[\"accuracy\"]) # setting the metrics as accuracy\n",
        "history_large_model = model.fit( # fitting the model with train_images and train_labels\n",
        "    train_images, train_labels,\n",
        "    epochs=20, # setting the epochs as 20\n",
        "    batch_size=128, # setting the batch size as 128\n",
        "    validation_split=0.2) # setting the validation split as 0.2"
      ]
    },
    {
      "cell_type": "markdown",
      "metadata": {
        "id": "GwJP1Wpp4Eqd"
      },
      "source": [
        "## Improving generalization"
      ]
    },
    {
      "cell_type": "markdown",
      "metadata": {
        "id": "xm_RmJdN4Eqe"
      },
      "source": [
        "### Dataset curation"
      ]
    },
    {
      "cell_type": "markdown",
      "metadata": {
        "id": "DGBEUsLK4Eqe"
      },
      "source": [
        "### Feature engineering"
      ]
    },
    {
      "cell_type": "markdown",
      "metadata": {
        "id": "XlnE7Wd-4Eqe"
      },
      "source": [
        "### Using early stopping"
      ]
    },
    {
      "cell_type": "markdown",
      "metadata": {
        "id": "L68mEeno4Eqf"
      },
      "source": [
        "### Regularizing your model"
      ]
    },
    {
      "cell_type": "markdown",
      "metadata": {
        "id": "eYJE9Pvz4Eqf"
      },
      "source": [
        "#### Reducing the network's size"
      ]
    },
    {
      "cell_type": "markdown",
      "metadata": {
        "id": "jdBZLJdP4Eqg"
      },
      "source": [
        "**Original model**"
      ]
    },
    {
      "cell_type": "code",
      "execution_count": 10,
      "metadata": {
        "id": "e_whjxsl4Eqg"
      },
      "outputs": [
        {
          "name": "stdout",
          "output_type": "stream",
          "text": [
            "Epoch 1/20\n",
            "30/30 [==============================] - 1s 31ms/step - loss: 0.5200 - accuracy: 0.7888 - val_loss: 0.3917 - val_accuracy: 0.8698\n",
            "Epoch 2/20\n",
            "30/30 [==============================] - 0s 10ms/step - loss: 0.3136 - accuracy: 0.9039 - val_loss: 0.3144 - val_accuracy: 0.8850\n",
            "Epoch 3/20\n",
            "30/30 [==============================] - 0s 9ms/step - loss: 0.2311 - accuracy: 0.9265 - val_loss: 0.2885 - val_accuracy: 0.8862\n",
            "Epoch 4/20\n",
            "30/30 [==============================] - 0s 7ms/step - loss: 0.1828 - accuracy: 0.9417 - val_loss: 0.2889 - val_accuracy: 0.8834\n",
            "Epoch 5/20\n",
            "30/30 [==============================] - 0s 7ms/step - loss: 0.1502 - accuracy: 0.9526 - val_loss: 0.2824 - val_accuracy: 0.8862\n",
            "Epoch 6/20\n",
            "30/30 [==============================] - 0s 6ms/step - loss: 0.1242 - accuracy: 0.9615 - val_loss: 0.3437 - val_accuracy: 0.8677\n",
            "Epoch 7/20\n",
            "30/30 [==============================] - 0s 7ms/step - loss: 0.1049 - accuracy: 0.9681 - val_loss: 0.3273 - val_accuracy: 0.8782\n",
            "Epoch 8/20\n",
            "30/30 [==============================] - 0s 9ms/step - loss: 0.0892 - accuracy: 0.9743 - val_loss: 0.3279 - val_accuracy: 0.8817\n",
            "Epoch 9/20\n",
            "30/30 [==============================] - 0s 7ms/step - loss: 0.0730 - accuracy: 0.9798 - val_loss: 0.3415 - val_accuracy: 0.8831\n",
            "Epoch 10/20\n",
            "30/30 [==============================] - 0s 8ms/step - loss: 0.0616 - accuracy: 0.9837 - val_loss: 0.4019 - val_accuracy: 0.8714\n",
            "Epoch 11/20\n",
            "30/30 [==============================] - 0s 10ms/step - loss: 0.0510 - accuracy: 0.9872 - val_loss: 0.3980 - val_accuracy: 0.8772\n",
            "Epoch 12/20\n",
            "30/30 [==============================] - 0s 7ms/step - loss: 0.0416 - accuracy: 0.9900 - val_loss: 0.4275 - val_accuracy: 0.8771\n",
            "Epoch 13/20\n",
            "30/30 [==============================] - 0s 6ms/step - loss: 0.0330 - accuracy: 0.9938 - val_loss: 0.4754 - val_accuracy: 0.8734\n",
            "Epoch 14/20\n",
            "30/30 [==============================] - 0s 7ms/step - loss: 0.0289 - accuracy: 0.9938 - val_loss: 0.4958 - val_accuracy: 0.8732\n",
            "Epoch 15/20\n",
            "30/30 [==============================] - 0s 6ms/step - loss: 0.0235 - accuracy: 0.9955 - val_loss: 0.5167 - val_accuracy: 0.8702\n",
            "Epoch 16/20\n",
            "30/30 [==============================] - 0s 7ms/step - loss: 0.0188 - accuracy: 0.9967 - val_loss: 0.5501 - val_accuracy: 0.8701\n",
            "Epoch 17/20\n",
            "30/30 [==============================] - 0s 6ms/step - loss: 0.0157 - accuracy: 0.9972 - val_loss: 0.5876 - val_accuracy: 0.8695\n",
            "Epoch 18/20\n",
            "30/30 [==============================] - 0s 6ms/step - loss: 0.0120 - accuracy: 0.9981 - val_loss: 0.6150 - val_accuracy: 0.8692\n",
            "Epoch 19/20\n",
            "30/30 [==============================] - 0s 6ms/step - loss: 0.0084 - accuracy: 0.9991 - val_loss: 0.6506 - val_accuracy: 0.8671\n",
            "Epoch 20/20\n",
            "30/30 [==============================] - 0s 7ms/step - loss: 0.0090 - accuracy: 0.9984 - val_loss: 0.6893 - val_accuracy: 0.8672\n"
          ]
        }
      ],
      "source": [
        "from tensorflow.keras.datasets import imdb # importing the imdb dataset from keras library\n",
        "(train_data, train_labels), _ = imdb.load_data(num_words=10000) # loading the imdb dataset into train_data and train_labels with 10000 words\n",
        "\n",
        "def vectorize_sequences(sequences, dimension=10000): # defining a function to vectorize the sequences\n",
        "    results = np.zeros((len(sequences), dimension)) # creating a results array with zeros\n",
        "    for i, sequence in enumerate(sequences): # iterating through the sequences\n",
        "        results[i, sequence] = 1. # setting the results[i, sequence] as 1\n",
        "    return results # returning the results\n",
        "train_data = vectorize_sequences(train_data) # vectorizing the train_data\n",
        "\n",
        "model = keras.Sequential([ # creating a sequential model\n",
        "    layers.Dense(16, activation=\"relu\"), # adding a dense layer with 16 neurons and relu activation function\n",
        "    layers.Dense(16, activation=\"relu\"), # adding a dense layer with 16 neurons and relu activation function\n",
        "    layers.Dense(1, activation=\"sigmoid\") # adding a dense layer with 1 neuron and sigmoid activation function\n",
        "])\n",
        "model.compile(optimizer=\"rmsprop\", # compiling the model with optimizer as rmsprop\n",
        "              loss=\"binary_crossentropy\", # setting loss function as binary_crossentropy\n",
        "              metrics=[\"accuracy\"]) # setting the metrics as accuracy\n",
        "history_original = model.fit(train_data, train_labels, # fitting the model with train_data and train_labels\n",
        "                             epochs=20, batch_size=512, validation_split=0.4) # setting the epochs as 20, batch size as 512 and validation split as 0.4"
      ]
    },
    {
      "cell_type": "markdown",
      "metadata": {
        "id": "8RA1ccut4Eqg"
      },
      "source": [
        "**Version of the model with lower capacity**"
      ]
    },
    {
      "cell_type": "code",
      "execution_count": 11,
      "metadata": {
        "id": "ozgLU0jC4Eqk"
      },
      "outputs": [
        {
          "name": "stdout",
          "output_type": "stream",
          "text": [
            "Epoch 1/20\n",
            "30/30 [==============================] - 1s 28ms/step - loss: 0.6214 - accuracy: 0.6474 - val_loss: 0.5674 - val_accuracy: 0.7939\n",
            "Epoch 2/20\n",
            "30/30 [==============================] - 0s 8ms/step - loss: 0.5264 - accuracy: 0.8039 - val_loss: 0.5141 - val_accuracy: 0.8408\n",
            "Epoch 3/20\n",
            "30/30 [==============================] - 0s 6ms/step - loss: 0.4729 - accuracy: 0.8639 - val_loss: 0.4807 - val_accuracy: 0.8634\n",
            "Epoch 4/20\n",
            "30/30 [==============================] - 0s 6ms/step - loss: 0.4350 - accuracy: 0.8937 - val_loss: 0.4604 - val_accuracy: 0.8533\n",
            "Epoch 5/20\n",
            "30/30 [==============================] - 0s 6ms/step - loss: 0.4030 - accuracy: 0.9151 - val_loss: 0.4404 - val_accuracy: 0.8779\n",
            "Epoch 6/20\n",
            "30/30 [==============================] - 0s 5ms/step - loss: 0.3749 - accuracy: 0.9340 - val_loss: 0.4298 - val_accuracy: 0.8768\n",
            "Epoch 7/20\n",
            "30/30 [==============================] - 0s 5ms/step - loss: 0.3505 - accuracy: 0.9460 - val_loss: 0.4264 - val_accuracy: 0.8707\n",
            "Epoch 8/20\n",
            "30/30 [==============================] - 0s 6ms/step - loss: 0.3287 - accuracy: 0.9552 - val_loss: 0.4313 - val_accuracy: 0.8624\n",
            "Epoch 9/20\n",
            "30/30 [==============================] - 0s 7ms/step - loss: 0.3079 - accuracy: 0.9625 - val_loss: 0.4136 - val_accuracy: 0.8792\n",
            "Epoch 10/20\n",
            "30/30 [==============================] - 0s 6ms/step - loss: 0.2881 - accuracy: 0.9683 - val_loss: 0.4278 - val_accuracy: 0.8673\n",
            "Epoch 11/20\n",
            "30/30 [==============================] - 0s 6ms/step - loss: 0.2696 - accuracy: 0.9730 - val_loss: 0.4187 - val_accuracy: 0.8768\n",
            "Epoch 12/20\n",
            "30/30 [==============================] - 0s 5ms/step - loss: 0.2522 - accuracy: 0.9776 - val_loss: 0.4224 - val_accuracy: 0.8759\n",
            "Epoch 13/20\n",
            "30/30 [==============================] - 0s 5ms/step - loss: 0.2362 - accuracy: 0.9805 - val_loss: 0.4553 - val_accuracy: 0.8653\n",
            "Epoch 14/20\n",
            "30/30 [==============================] - 0s 6ms/step - loss: 0.2206 - accuracy: 0.9825 - val_loss: 0.4595 - val_accuracy: 0.8676\n",
            "Epoch 15/20\n",
            "30/30 [==============================] - 0s 6ms/step - loss: 0.2060 - accuracy: 0.9859 - val_loss: 0.4501 - val_accuracy: 0.8716\n",
            "Epoch 16/20\n",
            "30/30 [==============================] - 0s 6ms/step - loss: 0.1917 - accuracy: 0.9877 - val_loss: 0.4541 - val_accuracy: 0.8702\n",
            "Epoch 17/20\n",
            "30/30 [==============================] - 0s 6ms/step - loss: 0.1789 - accuracy: 0.9889 - val_loss: 0.4987 - val_accuracy: 0.8648\n",
            "Epoch 18/20\n",
            "30/30 [==============================] - 0s 5ms/step - loss: 0.1662 - accuracy: 0.9900 - val_loss: 0.4385 - val_accuracy: 0.8747\n",
            "Epoch 19/20\n",
            "30/30 [==============================] - 0s 5ms/step - loss: 0.1549 - accuracy: 0.9913 - val_loss: 0.5259 - val_accuracy: 0.8632\n",
            "Epoch 20/20\n",
            "30/30 [==============================] - 0s 5ms/step - loss: 0.1435 - accuracy: 0.9923 - val_loss: 0.5308 - val_accuracy: 0.8638\n"
          ]
        }
      ],
      "source": [
        "model = keras.Sequential([ # creating a sequential model\n",
        "    layers.Dense(4, activation=\"relu\"), # adding a dense layer with 4 neurons and relu activation function\n",
        "    layers.Dense(4, activation=\"relu\"), # adding a dense layer with 4 neurons and relu activation function\n",
        "    layers.Dense(1, activation=\"sigmoid\") # adding a dense layer with 1 neuron and sigmoid activation function\n",
        "])\n",
        "model.compile(optimizer=\"rmsprop\", # compiling the model with optimizer as rmsprop\n",
        "              loss=\"binary_crossentropy\", # setting loss function as binary_crossentropy\n",
        "              metrics=[\"accuracy\"]) # setting the metrics as accuracy\n",
        "history_smaller_model = model.fit( # fitting the model with train_data and train_labels\n",
        "    train_data, train_labels,\n",
        "    epochs=20, batch_size=512, validation_split=0.4) # setting the epochs as 20, batch size as 512 and validation split as 0.4"
      ]
    },
    {
      "cell_type": "markdown",
      "metadata": {
        "id": "KmZoInO14Eql"
      },
      "source": [
        "**Version of the model with higher capacity**"
      ]
    },
    {
      "cell_type": "code",
      "execution_count": 12,
      "metadata": {
        "id": "JN7j3LvB4Eql"
      },
      "outputs": [
        {
          "name": "stdout",
          "output_type": "stream",
          "text": [
            "Epoch 1/20\n",
            "30/30 [==============================] - 3s 76ms/step - loss: 0.5574 - accuracy: 0.7503 - val_loss: 0.3095 - val_accuracy: 0.8828\n",
            "Epoch 2/20\n",
            "30/30 [==============================] - 2s 55ms/step - loss: 0.2539 - accuracy: 0.9033 - val_loss: 0.2885 - val_accuracy: 0.8858\n",
            "Epoch 3/20\n",
            "30/30 [==============================] - 2s 53ms/step - loss: 0.1538 - accuracy: 0.9396 - val_loss: 0.3005 - val_accuracy: 0.8926\n",
            "Epoch 4/20\n",
            "30/30 [==============================] - 2s 55ms/step - loss: 0.0893 - accuracy: 0.9653 - val_loss: 0.2848 - val_accuracy: 0.8912\n",
            "Epoch 5/20\n",
            "30/30 [==============================] - 2s 72ms/step - loss: 0.0126 - accuracy: 0.9976 - val_loss: 0.4972 - val_accuracy: 0.8884\n",
            "Epoch 6/20\n",
            "30/30 [==============================] - 2s 54ms/step - loss: 0.1607 - accuracy: 0.9765 - val_loss: 0.3910 - val_accuracy: 0.8807\n",
            "Epoch 7/20\n",
            "30/30 [==============================] - 2s 54ms/step - loss: 0.0032 - accuracy: 0.9999 - val_loss: 0.5074 - val_accuracy: 0.8877\n",
            "Epoch 8/20\n",
            "30/30 [==============================] - 2s 54ms/step - loss: 4.1769e-04 - accuracy: 1.0000 - val_loss: 0.6346 - val_accuracy: 0.8853\n",
            "Epoch 9/20\n",
            "30/30 [==============================] - 2s 54ms/step - loss: 9.4881e-05 - accuracy: 1.0000 - val_loss: 0.7104 - val_accuracy: 0.8877\n",
            "Epoch 10/20\n",
            "30/30 [==============================] - 2s 54ms/step - loss: 3.3716e-05 - accuracy: 1.0000 - val_loss: 0.8168 - val_accuracy: 0.8892\n",
            "Epoch 11/20\n",
            "30/30 [==============================] - 2s 54ms/step - loss: 0.3351 - accuracy: 0.9803 - val_loss: 0.7365 - val_accuracy: 0.8767\n",
            "Epoch 12/20\n",
            "30/30 [==============================] - 2s 54ms/step - loss: 6.7162e-04 - accuracy: 0.9999 - val_loss: 0.7139 - val_accuracy: 0.8837\n",
            "Epoch 13/20\n",
            "30/30 [==============================] - 2s 55ms/step - loss: 3.4262e-05 - accuracy: 1.0000 - val_loss: 0.7287 - val_accuracy: 0.8870\n",
            "Epoch 14/20\n",
            "30/30 [==============================] - 2s 56ms/step - loss: 1.6138e-05 - accuracy: 1.0000 - val_loss: 0.7680 - val_accuracy: 0.8878\n",
            "Epoch 15/20\n",
            "30/30 [==============================] - 2s 55ms/step - loss: 7.4266e-06 - accuracy: 1.0000 - val_loss: 0.8247 - val_accuracy: 0.8872\n",
            "Epoch 16/20\n",
            "30/30 [==============================] - 2s 55ms/step - loss: 3.0150e-06 - accuracy: 1.0000 - val_loss: 0.9023 - val_accuracy: 0.8874\n",
            "Epoch 17/20\n",
            "30/30 [==============================] - 2s 54ms/step - loss: 1.0975e-06 - accuracy: 1.0000 - val_loss: 0.9807 - val_accuracy: 0.8858\n",
            "Epoch 18/20\n",
            "30/30 [==============================] - 2s 53ms/step - loss: 3.6819e-07 - accuracy: 1.0000 - val_loss: 1.0790 - val_accuracy: 0.8867\n",
            "Epoch 19/20\n",
            "30/30 [==============================] - 2s 53ms/step - loss: 1.4345e-07 - accuracy: 1.0000 - val_loss: 1.1297 - val_accuracy: 0.8866\n",
            "Epoch 20/20\n",
            "30/30 [==============================] - 2s 53ms/step - loss: 6.3751e-08 - accuracy: 1.0000 - val_loss: 1.1876 - val_accuracy: 0.8871\n"
          ]
        }
      ],
      "source": [
        "model = keras.Sequential([ # creating a sequential model\n",
        "    layers.Dense(512, activation=\"relu\"), # adding a dense layer with 512 neurons and relu activation function\n",
        "    layers.Dense(512, activation=\"relu\"), # adding a dense layer with 512 neurons and relu activation function\n",
        "    layers.Dense(1, activation=\"sigmoid\") # adding a dense layer with 1 neuron and sigmoid activation function\n",
        "])\n",
        "model.compile(optimizer=\"rmsprop\", # compiling the model with optimizer as rmsprop\n",
        "              loss=\"binary_crossentropy\", # setting loss function as binary_crossentropy\n",
        "              metrics=[\"accuracy\"]) # setting the metrics as accuracy\n",
        "history_larger_model = model.fit( # fitting the model with train_data and train_labels\n",
        "    train_data, train_labels,\n",
        "    epochs=20, batch_size=512, validation_split=0.4) # setting the epochs as 20, batch size as 512 and validation split as 0.4"
      ]
    },
    {
      "cell_type": "markdown",
      "metadata": {
        "id": "5EsJXpLW4Eql"
      },
      "source": [
        "#### Adding weight regularization"
      ]
    },
    {
      "cell_type": "markdown",
      "metadata": {
        "id": "M283l5-64Eql"
      },
      "source": [
        "**Adding L2 weight regularization to the model**"
      ]
    },
    {
      "cell_type": "code",
      "execution_count": 13,
      "metadata": {
        "id": "BOCB4kaz4Eql"
      },
      "outputs": [
        {
          "name": "stdout",
          "output_type": "stream",
          "text": [
            "Epoch 1/20\n",
            "30/30 [==============================] - 1s 28ms/step - loss: 0.5800 - accuracy: 0.7936 - val_loss: 0.4573 - val_accuracy: 0.8710\n",
            "Epoch 2/20\n",
            "30/30 [==============================] - 0s 9ms/step - loss: 0.3953 - accuracy: 0.8947 - val_loss: 0.4106 - val_accuracy: 0.8646\n",
            "Epoch 3/20\n",
            "30/30 [==============================] - 0s 7ms/step - loss: 0.3328 - accuracy: 0.9125 - val_loss: 0.3652 - val_accuracy: 0.8880\n",
            "Epoch 4/20\n",
            "30/30 [==============================] - 0s 7ms/step - loss: 0.3024 - accuracy: 0.9237 - val_loss: 0.3557 - val_accuracy: 0.8875\n",
            "Epoch 5/20\n",
            "30/30 [==============================] - 0s 6ms/step - loss: 0.2867 - accuracy: 0.9267 - val_loss: 0.3546 - val_accuracy: 0.8874\n",
            "Epoch 6/20\n",
            "30/30 [==============================] - 0s 6ms/step - loss: 0.2711 - accuracy: 0.9344 - val_loss: 0.3722 - val_accuracy: 0.8818\n",
            "Epoch 7/20\n",
            "30/30 [==============================] - 0s 6ms/step - loss: 0.2616 - accuracy: 0.9386 - val_loss: 0.3611 - val_accuracy: 0.8864\n",
            "Epoch 8/20\n",
            "30/30 [==============================] - 0s 6ms/step - loss: 0.2519 - accuracy: 0.9389 - val_loss: 0.3658 - val_accuracy: 0.8829\n",
            "Epoch 9/20\n",
            "30/30 [==============================] - 0s 6ms/step - loss: 0.2468 - accuracy: 0.9439 - val_loss: 0.3672 - val_accuracy: 0.8835\n",
            "Epoch 10/20\n",
            "30/30 [==============================] - 0s 6ms/step - loss: 0.2398 - accuracy: 0.9447 - val_loss: 0.3772 - val_accuracy: 0.8796\n",
            "Epoch 11/20\n",
            "30/30 [==============================] - 0s 7ms/step - loss: 0.2374 - accuracy: 0.9459 - val_loss: 0.3761 - val_accuracy: 0.8797\n",
            "Epoch 12/20\n",
            "30/30 [==============================] - 0s 6ms/step - loss: 0.2339 - accuracy: 0.9474 - val_loss: 0.3970 - val_accuracy: 0.8757\n",
            "Epoch 13/20\n",
            "30/30 [==============================] - 0s 7ms/step - loss: 0.2293 - accuracy: 0.9478 - val_loss: 0.4047 - val_accuracy: 0.8745\n",
            "Epoch 14/20\n",
            "30/30 [==============================] - 0s 7ms/step - loss: 0.2248 - accuracy: 0.9488 - val_loss: 0.4039 - val_accuracy: 0.8745\n",
            "Epoch 15/20\n",
            "30/30 [==============================] - 0s 7ms/step - loss: 0.2220 - accuracy: 0.9527 - val_loss: 0.3906 - val_accuracy: 0.8784\n",
            "Epoch 16/20\n",
            "30/30 [==============================] - 0s 7ms/step - loss: 0.2174 - accuracy: 0.9529 - val_loss: 0.4469 - val_accuracy: 0.8622\n",
            "Epoch 17/20\n",
            "30/30 [==============================] - 0s 7ms/step - loss: 0.2171 - accuracy: 0.9534 - val_loss: 0.3961 - val_accuracy: 0.8762\n",
            "Epoch 18/20\n",
            "30/30 [==============================] - 0s 6ms/step - loss: 0.2100 - accuracy: 0.9573 - val_loss: 0.4173 - val_accuracy: 0.8715\n",
            "Epoch 19/20\n",
            "30/30 [==============================] - 0s 6ms/step - loss: 0.2118 - accuracy: 0.9545 - val_loss: 0.4194 - val_accuracy: 0.8703\n",
            "Epoch 20/20\n",
            "30/30 [==============================] - 0s 6ms/step - loss: 0.2081 - accuracy: 0.9555 - val_loss: 0.4146 - val_accuracy: 0.8735\n"
          ]
        }
      ],
      "source": [
        "from tensorflow.keras import regularizers # importing regularizers from keras library\n",
        "model = keras.Sequential([ # creating a sequential model\n",
        "    layers.Dense(16, # adding a dense layer with 16 neurons\n",
        "                 kernel_regularizer=regularizers.l2(0.002), # setting the kernel_regularizer as l2 with 0.002\n",
        "                 activation=\"relu\"), # setting the activation function as relu\n",
        "    layers.Dense(16, # adding a dense layer with 16 neurons\n",
        "                 kernel_regularizer=regularizers.l2(0.002), # setting the kernel_regularizer as l2 with 0.002\n",
        "                 activation=\"relu\"), # setting the activation function as relu\n",
        "    layers.Dense(1, activation=\"sigmoid\") # adding a dense layer with 1 neuron and sigmoid activation function\n",
        "])\n",
        "model.compile(optimizer=\"rmsprop\", # compiling the model with optimizer as rmsprop\n",
        "              loss=\"binary_crossentropy\", # setting loss function as binary_crossentropy\n",
        "              metrics=[\"accuracy\"]) # setting the metrics as accuracy\n",
        "history_l2_reg = model.fit( # fitting the model with train_data and train_labels\n",
        "    train_data, train_labels, \n",
        "    epochs=20, batch_size=512, validation_split=0.4) # setting the epochs as 20, batch size as 512 and validation split as 0.4"
      ]
    },
    {
      "cell_type": "markdown",
      "metadata": {
        "id": "bTQr10zV4Eql"
      },
      "source": [
        "**Different weight regularizers available in Keras**"
      ]
    },
    {
      "cell_type": "code",
      "execution_count": 14,
      "metadata": {
        "id": "uHEwjaeV4Eql"
      },
      "outputs": [
        {
          "data": {
            "text/plain": [
              "<keras.regularizers.L1L2 at 0x32fee8850>"
            ]
          },
          "execution_count": 14,
          "metadata": {},
          "output_type": "execute_result"
        }
      ],
      "source": [
        "from tensorflow.keras import regularizers # importing regularizers from keras library\n",
        "regularizers.l1(0.001) # setting the regularizer as l1 with 0.001\n",
        "regularizers.l1_l2(l1=0.001, l2=0.001) # setting the regularizer as l1_l2 with l1 as 0.001 and l2 as 0.001"
      ]
    },
    {
      "cell_type": "markdown",
      "metadata": {
        "id": "8MKSOCI94Eql"
      },
      "source": [
        "#### Adding dropout"
      ]
    },
    {
      "cell_type": "markdown",
      "metadata": {
        "id": "U4YIjwYa4Eql"
      },
      "source": [
        "**Adding dropout to the IMDB model**"
      ]
    },
    {
      "cell_type": "code",
      "execution_count": 15,
      "metadata": {
        "id": "Vz4Fk6ei4Eql"
      },
      "outputs": [
        {
          "name": "stdout",
          "output_type": "stream",
          "text": [
            "Epoch 1/20\n",
            "30/30 [==============================] - 1s 28ms/step - loss: 0.6214 - accuracy: 0.6475 - val_loss: 0.4822 - val_accuracy: 0.8505\n",
            "Epoch 2/20\n",
            "30/30 [==============================] - 0s 9ms/step - loss: 0.4989 - accuracy: 0.7791 - val_loss: 0.3814 - val_accuracy: 0.8776\n",
            "Epoch 3/20\n",
            "30/30 [==============================] - 0s 8ms/step - loss: 0.4135 - accuracy: 0.8313 - val_loss: 0.3216 - val_accuracy: 0.8860\n",
            "Epoch 4/20\n",
            "30/30 [==============================] - 0s 7ms/step - loss: 0.3477 - accuracy: 0.8699 - val_loss: 0.2856 - val_accuracy: 0.8904\n",
            "Epoch 5/20\n",
            "30/30 [==============================] - 0s 8ms/step - loss: 0.3028 - accuracy: 0.8914 - val_loss: 0.2729 - val_accuracy: 0.8924\n",
            "Epoch 6/20\n",
            "30/30 [==============================] - 0s 7ms/step - loss: 0.2613 - accuracy: 0.9078 - val_loss: 0.2734 - val_accuracy: 0.8920\n",
            "Epoch 7/20\n",
            "30/30 [==============================] - 0s 7ms/step - loss: 0.2239 - accuracy: 0.9218 - val_loss: 0.2730 - val_accuracy: 0.8920\n",
            "Epoch 8/20\n",
            "30/30 [==============================] - 0s 6ms/step - loss: 0.2057 - accuracy: 0.9313 - val_loss: 0.2906 - val_accuracy: 0.8933\n",
            "Epoch 9/20\n",
            "30/30 [==============================] - 0s 6ms/step - loss: 0.1776 - accuracy: 0.9374 - val_loss: 0.3032 - val_accuracy: 0.8916\n",
            "Epoch 10/20\n",
            "30/30 [==============================] - 0s 6ms/step - loss: 0.1559 - accuracy: 0.9475 - val_loss: 0.3302 - val_accuracy: 0.8880\n",
            "Epoch 11/20\n",
            "30/30 [==============================] - 0s 7ms/step - loss: 0.1459 - accuracy: 0.9513 - val_loss: 0.3547 - val_accuracy: 0.8899\n",
            "Epoch 12/20\n",
            "30/30 [==============================] - 0s 6ms/step - loss: 0.1349 - accuracy: 0.9551 - val_loss: 0.3631 - val_accuracy: 0.8888\n",
            "Epoch 13/20\n",
            "30/30 [==============================] - 0s 6ms/step - loss: 0.1137 - accuracy: 0.9619 - val_loss: 0.3925 - val_accuracy: 0.8895\n",
            "Epoch 14/20\n",
            "30/30 [==============================] - 0s 6ms/step - loss: 0.1086 - accuracy: 0.9631 - val_loss: 0.4334 - val_accuracy: 0.8889\n",
            "Epoch 15/20\n",
            "30/30 [==============================] - 0s 6ms/step - loss: 0.1064 - accuracy: 0.9629 - val_loss: 0.4499 - val_accuracy: 0.8878\n",
            "Epoch 16/20\n",
            "30/30 [==============================] - 0s 6ms/step - loss: 0.0929 - accuracy: 0.9689 - val_loss: 0.4743 - val_accuracy: 0.8867\n",
            "Epoch 17/20\n",
            "30/30 [==============================] - 0s 6ms/step - loss: 0.0820 - accuracy: 0.9719 - val_loss: 0.4708 - val_accuracy: 0.8868\n",
            "Epoch 18/20\n",
            "30/30 [==============================] - 0s 6ms/step - loss: 0.0820 - accuracy: 0.9721 - val_loss: 0.5400 - val_accuracy: 0.8863\n",
            "Epoch 19/20\n",
            "30/30 [==============================] - 0s 6ms/step - loss: 0.0732 - accuracy: 0.9741 - val_loss: 0.5604 - val_accuracy: 0.8858\n",
            "Epoch 20/20\n",
            "30/30 [==============================] - 0s 6ms/step - loss: 0.0748 - accuracy: 0.9727 - val_loss: 0.5879 - val_accuracy: 0.8866\n"
          ]
        }
      ],
      "source": [
        "model = keras.Sequential([ # creating a sequential model\n",
        "    layers.Dense(16, activation=\"relu\"), # adding a dense layer with 16 neurons and relu activation function\n",
        "    layers.Dropout(0.5), # adding a dropout layer with 0.5\n",
        "    layers.Dense(16, activation=\"relu\"), # adding a dense layer with 16 neurons and relu activation function\n",
        "    layers.Dropout(0.5), # adding a dropout layer with 0.5\n",
        "    layers.Dense(1, activation=\"sigmoid\") # adding a dense layer with 1 neuron and sigmoid activation function\n",
        "])\n",
        "model.compile(optimizer=\"rmsprop\", # compiling the model with optimizer as rmsprop\n",
        "              loss=\"binary_crossentropy\", # setting loss function as binary_crossentropy\n",
        "              metrics=[\"accuracy\"]) # setting the metrics as accuracy\n",
        "history_dropout = model.fit( # fitting the model with train_data and train_labels\n",
        "    train_data, train_labels, \n",
        "    epochs=20, batch_size=512, validation_split=0.4) # setting the epochs as 20, batch size as 512 and validation split as 0.4"
      ]
    },
    {
      "cell_type": "markdown",
      "metadata": {
        "id": "QGLCtv_L4Eql"
      },
      "source": [
        "## Summary"
      ]
    }
  ],
  "metadata": {
    "colab": {
      "name": "chapter05_fundamentals-of-ml.i",
      "provenance": [],
      "toc_visible": true
    },
    "kernelspec": {
      "display_name": "Python 3",
      "language": "python",
      "name": "python3"
    },
    "language_info": {
      "codemirror_mode": {
        "name": "ipython",
        "version": 3
      },
      "file_extension": ".py",
      "mimetype": "text/x-python",
      "name": "python",
      "nbconvert_exporter": "python",
      "pygments_lexer": "ipython3",
      "version": "3.11.1"
    }
  },
  "nbformat": 4,
  "nbformat_minor": 0
}
