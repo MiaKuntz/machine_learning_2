{
  "cells": [
    {
      "cell_type": "markdown",
      "metadata": {
        "id": "nPaIYD7L4EqT"
      },
      "source": [
        "This is a companion notebook for the book [Deep Learning with Python, Second Edition](https://www.manning.com/books/deep-learning-with-python-second-edition?a_aid=keras&a_bid=76564dff). For readability, it only contains runnable code blocks and section titles, and omits everything else in the book: text paragraphs, figures, and pseudocode.\n",
        "\n",
        "**If you want to be able to follow what's going on, I recommend reading the notebook side by side with your copy of the book.**\n",
        "\n",
        "This notebook was generated for TensorFlow 2.6."
      ]
    },
    {
      "cell_type": "markdown",
      "metadata": {
        "id": "1q2hU9_i4EqV"
      },
      "source": [
        "# Fundamentals of machine learning"
      ]
    },
    {
      "cell_type": "markdown",
      "metadata": {
        "id": "5LhFuTJ84EqV"
      },
      "source": [
        "## Generalization: The goal of machine learning"
      ]
    },
    {
      "cell_type": "markdown",
      "metadata": {
        "id": "RCVFIPsx4EqW"
      },
      "source": [
        "### Underfitting and overfitting"
      ]
    },
    {
      "cell_type": "markdown",
      "metadata": {
        "id": "PE177rJd4EqW"
      },
      "source": [
        "#### Noisy training data"
      ]
    },
    {
      "cell_type": "markdown",
      "metadata": {
        "id": "U8odH4tF4EqW"
      },
      "source": [
        "#### Ambiguous features"
      ]
    },
    {
      "cell_type": "markdown",
      "metadata": {
        "id": "05drgXGP4EqW"
      },
      "source": [
        "#### Rare features and spurious correlations"
      ]
    },
    {
      "cell_type": "markdown",
      "metadata": {
        "id": "OaRvsw3k4EqW"
      },
      "source": [
        "**Adding white-noise channels or all-zeros channels to MNIST**"
      ]
    },
    {
      "cell_type": "code",
      "execution_count": 1,
      "metadata": {
        "id": "lbipXIR94EqW"
      },
      "outputs": [],
      "source": [
        "from tensorflow.keras.datasets import mnist # importing the mnist dataset from keras library \n",
        "import numpy as np # importing numpy library to work with arrays \n",
        "\n",
        "(train_images, train_labels), _ = mnist.load_data() # loading the mnist dataset into train_images and train_labels \n",
        "train_images = train_images.reshape((60000, 28 * 28)) # reshaping the train_images to 60000, 28*28 because the images are 28*28 pixels that are flattened into 1D array \n",
        "train_images = train_images.astype(\"float32\") / 255 # normalizing the train_images by dividing by 255 to get values between 0 and 1\n",
        "\n",
        "train_images_with_noise_channels = np.concatenate( # adding random noise to the train_images because the model will be trained on noisy images which will help the model to generalize better\n",
        "    [train_images, np.random.random((len(train_images), 784))], axis=1) # adding random noise to the train_images by adding random values between 0 and 1 to the train_images which will be used as input to the model \n",
        "\n",
        "train_images_with_zeros_channels = np.concatenate( # adding zeros to the train_images because the model will be trained on images with zeros which will help the model to generalize better\n",
        "    [train_images, np.zeros((len(train_images), 784))], axis=1) # adding zeros to the train_images that will be used as input to the model which will help the model to generalize better "
      ]
    },
    {
      "cell_type": "markdown",
      "metadata": {
        "id": "cizQe8u64EqX"
      },
      "source": [
        "**Training the same model on MNIST data with noise channels or all-zero channels**"
      ]
    },
    {
      "cell_type": "code",
      "execution_count": 2,
      "metadata": {
        "id": "D9vTCqbB4EqX"
      },
      "outputs": [
        {
          "name": "stdout",
          "output_type": "stream",
          "text": [
            "Epoch 1/10\n",
            "375/375 [==============================] - 2s 4ms/step - loss: 0.6213 - accuracy: 0.8120 - val_loss: 0.2729 - val_accuracy: 0.9188\n",
            "Epoch 2/10\n",
            "375/375 [==============================] - 2s 4ms/step - loss: 0.2498 - accuracy: 0.9235 - val_loss: 0.2004 - val_accuracy: 0.9387\n",
            "Epoch 3/10\n",
            "375/375 [==============================] - 2s 5ms/step - loss: 0.1651 - accuracy: 0.9492 - val_loss: 0.1377 - val_accuracy: 0.9579\n",
            "Epoch 4/10\n",
            "375/375 [==============================] - 2s 4ms/step - loss: 0.1167 - accuracy: 0.9631 - val_loss: 0.1326 - val_accuracy: 0.9601\n",
            "Epoch 5/10\n",
            "375/375 [==============================] - 2s 4ms/step - loss: 0.0863 - accuracy: 0.9730 - val_loss: 0.1504 - val_accuracy: 0.9582\n",
            "Epoch 6/10\n",
            "375/375 [==============================] - 2s 4ms/step - loss: 0.0632 - accuracy: 0.9801 - val_loss: 0.1196 - val_accuracy: 0.9679\n",
            "Epoch 7/10\n",
            "375/375 [==============================] - 2s 4ms/step - loss: 0.0466 - accuracy: 0.9848 - val_loss: 0.1230 - val_accuracy: 0.9680\n",
            "Epoch 8/10\n",
            "375/375 [==============================] - 2s 5ms/step - loss: 0.0355 - accuracy: 0.9885 - val_loss: 0.1458 - val_accuracy: 0.9632\n",
            "Epoch 9/10\n",
            "375/375 [==============================] - 2s 5ms/step - loss: 0.0270 - accuracy: 0.9915 - val_loss: 0.1223 - val_accuracy: 0.9692\n",
            "Epoch 10/10\n",
            "375/375 [==============================] - 2s 4ms/step - loss: 0.0205 - accuracy: 0.9931 - val_loss: 0.1747 - val_accuracy: 0.9611\n",
            "Epoch 1/10\n",
            "375/375 [==============================] - 2s 4ms/step - loss: 0.2849 - accuracy: 0.9176 - val_loss: 0.1703 - val_accuracy: 0.9498\n",
            "Epoch 2/10\n",
            "375/375 [==============================] - 2s 4ms/step - loss: 0.1178 - accuracy: 0.9652 - val_loss: 0.1138 - val_accuracy: 0.9647\n",
            "Epoch 3/10\n",
            "375/375 [==============================] - 2s 4ms/step - loss: 0.0778 - accuracy: 0.9769 - val_loss: 0.0914 - val_accuracy: 0.9740\n",
            "Epoch 4/10\n",
            "375/375 [==============================] - 2s 5ms/step - loss: 0.0553 - accuracy: 0.9843 - val_loss: 0.0861 - val_accuracy: 0.9762\n",
            "Epoch 5/10\n",
            "375/375 [==============================] - 2s 4ms/step - loss: 0.0410 - accuracy: 0.9883 - val_loss: 0.0824 - val_accuracy: 0.9768\n",
            "Epoch 6/10\n",
            "375/375 [==============================] - 1s 4ms/step - loss: 0.0311 - accuracy: 0.9908 - val_loss: 0.0824 - val_accuracy: 0.9757\n",
            "Epoch 7/10\n",
            "375/375 [==============================] - 2s 4ms/step - loss: 0.0233 - accuracy: 0.9934 - val_loss: 0.0907 - val_accuracy: 0.9763\n",
            "Epoch 8/10\n",
            "375/375 [==============================] - 2s 4ms/step - loss: 0.0180 - accuracy: 0.9948 - val_loss: 0.0752 - val_accuracy: 0.9808\n",
            "Epoch 9/10\n",
            "375/375 [==============================] - 1s 4ms/step - loss: 0.0137 - accuracy: 0.9959 - val_loss: 0.0847 - val_accuracy: 0.9797\n",
            "Epoch 10/10\n",
            "375/375 [==============================] - 2s 4ms/step - loss: 0.0110 - accuracy: 0.9967 - val_loss: 0.0799 - val_accuracy: 0.9807\n"
          ]
        }
      ],
      "source": [
        "from tensorflow import keras # importing keras from tensorflow library\n",
        "from tensorflow.keras import layers # importing layers from keras library\n",
        "\n",
        "def get_model(): # defining a function to get the model\n",
        "    model = keras.Sequential([ # creating a sequential model which is a linear stack of layers that can be created by passing a list of layers to the Sequential class\n",
        "        layers.Dense(512, activation=\"relu\"), # adding a dense layer with 512 neurons and relu activation function (this is the input layer that takes the input and passes it to the hidden layer) \n",
        "        layers.Dense(10, activation=\"softmax\") # adding a dense layer with 10 neurons and softmax activation function (this is the output layer that takes the input from the hidden layer and passes it to the output layer)\n",
        "    ])\n",
        "    model.compile(optimizer=\"rmsprop\", # compiling the model with optimizer as rmsprop which is a gradient descent optimization algorithm that is used to update the weights of the model\n",
        "                  loss=\"sparse_categorical_crossentropy\", # setting loss function as sparse_categorical_crossentropy which is used for multi-class classification problems where the output labels are integers\n",
        "                  metrics=[\"accuracy\"]) # setting the metrics as accuracy which is used to evaluate the performance of the model \n",
        "    return model # returning the model\n",
        "\n",
        "model = get_model() # getting the model\n",
        "history_noise = model.fit( # fitting the model with train_images_with_noise_channels and train_labels by training the model on noisy images which will help the model to generalize better\n",
        "    train_images_with_noise_channels, train_labels, \n",
        "    epochs=10, # setting the epochs as 10 (number of times the model will be trained on the dataset)\n",
        "    batch_size=128, # setting the batch size as 128 (number of samples that will be used to train the model at once)\n",
        "    validation_split=0.2) # setting the validation split as 0.2 (percentage of the dataset that will be used for validation)\n",
        "\n",
        "model = get_model() # getting the model\n",
        "history_zeros = model.fit( # fitting the model with train_images_with_zeros_channels and train_labels by training the model on images with zeros which will help the model to generalize better\n",
        "    train_images_with_zeros_channels, train_labels,\n",
        "    epochs=10, # setting the epochs as 10 (number of times the model will be trained on the dataset)\n",
        "    batch_size=128, # setting the batch size as 128 (number of samples that will be used to train the model at once)\n",
        "    validation_split=0.2) # setting the validation split as 0.2 (percentage of the dataset that will be used for validation)"
      ]
    },
    {
      "cell_type": "markdown",
      "metadata": {
        "id": "Q-lK9trB4EqY"
      },
      "source": [
        "**Plotting a validation accuracy comparison**"
      ]
    },
    {
      "cell_type": "code",
      "execution_count": 3,
      "metadata": {
        "id": "eF2v10i14EqY"
      },
      "outputs": [
        {
          "data": {
            "text/plain": [
              "<matplotlib.legend.Legend at 0x17e50a810>"
            ]
          },
          "execution_count": 3,
          "metadata": {},
          "output_type": "execute_result"
        },
        {
          "name": "stderr",
          "output_type": "stream",
          "text": [
            "/Users/miakuntz/Library/Python/3.11/lib/python/site-packages/IPython/core/pylabtools.py:152: MatplotlibDeprecationWarning: savefig() got unexpected keyword argument \"orientation\" which is no longer supported as of 3.3 and will become an error two minor releases later\n",
            "  fig.canvas.print_figure(bytes_io, **kw)\n",
            "/Users/miakuntz/Library/Python/3.11/lib/python/site-packages/IPython/core/pylabtools.py:152: MatplotlibDeprecationWarning: savefig() got unexpected keyword argument \"facecolor\" which is no longer supported as of 3.3 and will become an error two minor releases later\n",
            "  fig.canvas.print_figure(bytes_io, **kw)\n",
            "/Users/miakuntz/Library/Python/3.11/lib/python/site-packages/IPython/core/pylabtools.py:152: MatplotlibDeprecationWarning: savefig() got unexpected keyword argument \"edgecolor\" which is no longer supported as of 3.3 and will become an error two minor releases later\n",
            "  fig.canvas.print_figure(bytes_io, **kw)\n",
            "/Users/miakuntz/Library/Python/3.11/lib/python/site-packages/IPython/core/pylabtools.py:152: MatplotlibDeprecationWarning: savefig() got unexpected keyword argument \"bbox_inches_restore\" which is no longer supported as of 3.3 and will become an error two minor releases later\n",
            "  fig.canvas.print_figure(bytes_io, **kw)\n"
          ]
        },
        {
          "data": {
            "image/png": "[encoded data removed]",
            "text/plain": [
              "<Figure size 640x480 with 1 Axes>"
            ]
          },
          "metadata": {},
          "output_type": "display_data"
        }
      ],
      "source": [
        "import matplotlib.pyplot as plt # importing matplotlib library to plot the graph\n",
        "val_acc_noise = history_noise.history[\"val_accuracy\"] # getting the validation accuracy from history_noise\n",
        "val_acc_zeros = history_zeros.history[\"val_accuracy\"] # getting the validation accuracy from history_zeros\n",
        "epochs = range(1, 11) # setting the epochs as 1 to 11\n",
        "plt.plot(epochs, val_acc_noise, \"b-\", # plotting the graph with epochs, val_acc_noise and val_acc_zeros\n",
        "         label=\"Validation accuracy with noise channels\") # setting the label as Validation accuracy with noise channels\n",
        "plt.plot(epochs, val_acc_zeros, \"b--\", # plotting the graph with epochs, val_acc_noise and val_acc_zeros\n",
        "         label=\"Validation accuracy with zeros channels\") # setting the label as Validation accuracy with zeros channels\n",
        "plt.title(\"Effect of noise channels on validation accuracy\") # setting the title of the graph\n",
        "plt.xlabel(\"Epochs\") # setting the x-axis label as Epochs\n",
        "plt.ylabel(\"Accuracy\") # setting the y-axis label as Accuracy\n",
        "plt.legend() # setting the legend \n",
        "# The graph shows that the model trained on noisy images has better validation accuracy compared to the model trained on images with zeros which shows that adding noise to the images helps the model to generalize better"
      ]
    },
    {
      "cell_type": "markdown",
      "metadata": {
        "id": "xtx0Uskc4EqY"
      },
      "source": [
        "### The nature of generalization in deep learning"
      ]
    },
    {
      "cell_type": "markdown",
      "metadata": {
        "id": "mxzCAh8D4EqY"
      },
      "source": [
        "**Fitting a MNIST model with randomly shuffled labels**"
      ]
    },
    {
      "cell_type": "code",
      "execution_count": 4,
      "metadata": {
        "id": "ZcOcGbuJ4EqY"
      },
      "outputs": [
        {
          "name": "stdout",
          "output_type": "stream",
          "text": [
            "Epoch 1/100\n",
            "375/375 [==============================] - 1s 3ms/step - loss: 2.3182 - accuracy: 0.1021 - val_loss: 2.3061 - val_accuracy: 0.1066\n",
            "Epoch 2/100\n",
            "375/375 [==============================] - 1s 2ms/step - loss: 2.3002 - accuracy: 0.1160 - val_loss: 2.3099 - val_accuracy: 0.1003\n",
            "Epoch 3/100\n",
            "375/375 [==============================] - 1s 2ms/step - loss: 2.2906 - accuracy: 0.1266 - val_loss: 2.3164 - val_accuracy: 0.1047\n",
            "Epoch 4/100\n",
            "375/375 [==============================] - 1s 2ms/step - loss: 2.2768 - accuracy: 0.1385 - val_loss: 2.3271 - val_accuracy: 0.0986\n",
            "Epoch 5/100\n",
            "375/375 [==============================] - 1s 3ms/step - loss: 2.2588 - accuracy: 0.1547 - val_loss: 2.3373 - val_accuracy: 0.1001\n",
            "Epoch 6/100\n",
            "375/375 [==============================] - 1s 3ms/step - loss: 2.2382 - accuracy: 0.1700 - val_loss: 2.3510 - val_accuracy: 0.1015\n",
            "Epoch 7/100\n",
            "375/375 [==============================] - 1s 2ms/step - loss: 2.2126 - accuracy: 0.1845 - val_loss: 2.3727 - val_accuracy: 0.1015\n",
            "Epoch 8/100\n",
            "375/375 [==============================] - 1s 3ms/step - loss: 2.1864 - accuracy: 0.1997 - val_loss: 2.3864 - val_accuracy: 0.1042\n",
            "Epoch 9/100\n",
            "375/375 [==============================] - 1s 2ms/step - loss: 2.1559 - accuracy: 0.2173 - val_loss: 2.4121 - val_accuracy: 0.0981\n",
            "Epoch 10/100\n",
            "375/375 [==============================] - 1s 2ms/step - loss: 2.1253 - accuracy: 0.2305 - val_loss: 2.4268 - val_accuracy: 0.1017\n",
            "Epoch 11/100\n",
            "375/375 [==============================] - 1s 3ms/step - loss: 2.0904 - accuracy: 0.2489 - val_loss: 2.4457 - val_accuracy: 0.1020\n",
            "Epoch 12/100\n",
            "375/375 [==============================] - 1s 2ms/step - loss: 2.0571 - accuracy: 0.2629 - val_loss: 2.4771 - val_accuracy: 0.1002\n",
            "Epoch 13/100\n",
            "375/375 [==============================] - 1s 2ms/step - loss: 2.0222 - accuracy: 0.2762 - val_loss: 2.5042 - val_accuracy: 0.1018\n",
            "Epoch 14/100\n",
            "375/375 [==============================] - 1s 2ms/step - loss: 1.9872 - accuracy: 0.2950 - val_loss: 2.5428 - val_accuracy: 0.0962\n",
            "Epoch 15/100\n",
            "375/375 [==============================] - 1s 2ms/step - loss: 1.9526 - accuracy: 0.3112 - val_loss: 2.5654 - val_accuracy: 0.0995\n",
            "Epoch 16/100\n",
            "375/375 [==============================] - 1s 3ms/step - loss: 1.9166 - accuracy: 0.3227 - val_loss: 2.6073 - val_accuracy: 0.0998\n",
            "Epoch 17/100\n",
            "375/375 [==============================] - 1s 2ms/step - loss: 1.8825 - accuracy: 0.3371 - val_loss: 2.6425 - val_accuracy: 0.1047\n",
            "Epoch 18/100\n",
            "375/375 [==============================] - 1s 3ms/step - loss: 1.8486 - accuracy: 0.3519 - val_loss: 2.6867 - val_accuracy: 0.1044\n",
            "Epoch 19/100\n",
            "375/375 [==============================] - 1s 2ms/step - loss: 1.8156 - accuracy: 0.3655 - val_loss: 2.7145 - val_accuracy: 0.1005\n",
            "Epoch 20/100\n",
            "375/375 [==============================] - 1s 2ms/step - loss: 1.7824 - accuracy: 0.3780 - val_loss: 2.7754 - val_accuracy: 0.0997\n",
            "Epoch 21/100\n",
            "375/375 [==============================] - 1s 2ms/step - loss: 1.7495 - accuracy: 0.3909 - val_loss: 2.7888 - val_accuracy: 0.1016\n",
            "Epoch 22/100\n",
            "375/375 [==============================] - 1s 2ms/step - loss: 1.7164 - accuracy: 0.4034 - val_loss: 2.8364 - val_accuracy: 0.1035\n",
            "Epoch 23/100\n",
            "375/375 [==============================] - 1s 2ms/step - loss: 1.6869 - accuracy: 0.4151 - val_loss: 2.8682 - val_accuracy: 0.0991\n",
            "Epoch 24/100\n",
            "375/375 [==============================] - 1s 2ms/step - loss: 1.6579 - accuracy: 0.4257 - val_loss: 2.9079 - val_accuracy: 0.1028\n",
            "Epoch 25/100\n",
            "375/375 [==============================] - 1s 2ms/step - loss: 1.6271 - accuracy: 0.4386 - val_loss: 2.9615 - val_accuracy: 0.0967\n",
            "Epoch 26/100\n",
            "375/375 [==============================] - 1s 2ms/step - loss: 1.5981 - accuracy: 0.4487 - val_loss: 2.9852 - val_accuracy: 0.1008\n",
            "Epoch 27/100\n",
            "375/375 [==============================] - 1s 2ms/step - loss: 1.5706 - accuracy: 0.4582 - val_loss: 3.0368 - val_accuracy: 0.1022\n",
            "Epoch 28/100\n",
            "375/375 [==============================] - 1s 3ms/step - loss: 1.5403 - accuracy: 0.4723 - val_loss: 3.1087 - val_accuracy: 0.0992\n",
            "Epoch 29/100\n",
            "375/375 [==============================] - 1s 3ms/step - loss: 1.5126 - accuracy: 0.4815 - val_loss: 3.1277 - val_accuracy: 0.1017\n",
            "Epoch 30/100\n",
            "375/375 [==============================] - 1s 2ms/step - loss: 1.4860 - accuracy: 0.4918 - val_loss: 3.1767 - val_accuracy: 0.1022\n",
            "Epoch 31/100\n",
            "375/375 [==============================] - 1s 2ms/step - loss: 1.4594 - accuracy: 0.5029 - val_loss: 3.2310 - val_accuracy: 0.0999\n",
            "Epoch 32/100\n",
            "375/375 [==============================] - 1s 3ms/step - loss: 1.4348 - accuracy: 0.5099 - val_loss: 3.2696 - val_accuracy: 0.0993\n",
            "Epoch 33/100\n",
            "375/375 [==============================] - 1s 2ms/step - loss: 1.4096 - accuracy: 0.5177 - val_loss: 3.3313 - val_accuracy: 0.0985\n",
            "Epoch 34/100\n",
            "375/375 [==============================] - 1s 2ms/step - loss: 1.3876 - accuracy: 0.5276 - val_loss: 3.3510 - val_accuracy: 0.0998\n",
            "Epoch 35/100\n",
            "375/375 [==============================] - 1s 2ms/step - loss: 1.3617 - accuracy: 0.5361 - val_loss: 3.4189 - val_accuracy: 0.1020\n",
            "Epoch 36/100\n",
            "375/375 [==============================] - 1s 2ms/step - loss: 1.3390 - accuracy: 0.5460 - val_loss: 3.4717 - val_accuracy: 0.1013\n",
            "Epoch 37/100\n",
            "375/375 [==============================] - 1s 3ms/step - loss: 1.3156 - accuracy: 0.5536 - val_loss: 3.5038 - val_accuracy: 0.1003\n",
            "Epoch 38/100\n",
            "375/375 [==============================] - 1s 2ms/step - loss: 1.2925 - accuracy: 0.5623 - val_loss: 3.5505 - val_accuracy: 0.0995\n",
            "Epoch 39/100\n",
            "375/375 [==============================] - 1s 2ms/step - loss: 1.2701 - accuracy: 0.5680 - val_loss: 3.5983 - val_accuracy: 0.1030\n",
            "Epoch 40/100\n",
            "375/375 [==============================] - 1s 2ms/step - loss: 1.2485 - accuracy: 0.5782 - val_loss: 3.6497 - val_accuracy: 0.1017\n",
            "Epoch 41/100\n",
            "375/375 [==============================] - 1s 3ms/step - loss: 1.2274 - accuracy: 0.5844 - val_loss: 3.7453 - val_accuracy: 0.1017\n",
            "Epoch 42/100\n",
            "375/375 [==============================] - 1s 2ms/step - loss: 1.2092 - accuracy: 0.5926 - val_loss: 3.7716 - val_accuracy: 0.1026\n",
            "Epoch 43/100\n",
            "375/375 [==============================] - 1s 2ms/step - loss: 1.1885 - accuracy: 0.5989 - val_loss: 3.8015 - val_accuracy: 0.1013\n",
            "Epoch 44/100\n",
            "375/375 [==============================] - 1s 2ms/step - loss: 1.1680 - accuracy: 0.6060 - val_loss: 3.8620 - val_accuracy: 0.0970\n",
            "Epoch 45/100\n",
            "375/375 [==============================] - 1s 2ms/step - loss: 1.1478 - accuracy: 0.6147 - val_loss: 3.9340 - val_accuracy: 0.0983\n",
            "Epoch 46/100\n",
            "375/375 [==============================] - 1s 2ms/step - loss: 1.1304 - accuracy: 0.6189 - val_loss: 3.9858 - val_accuracy: 0.1031\n",
            "Epoch 47/100\n",
            "375/375 [==============================] - 1s 2ms/step - loss: 1.1129 - accuracy: 0.6260 - val_loss: 4.0252 - val_accuracy: 0.1014\n",
            "Epoch 48/100\n",
            "375/375 [==============================] - 1s 2ms/step - loss: 1.0924 - accuracy: 0.6316 - val_loss: 4.1119 - val_accuracy: 0.1032\n",
            "Epoch 49/100\n",
            "375/375 [==============================] - 1s 2ms/step - loss: 1.0748 - accuracy: 0.6396 - val_loss: 4.1437 - val_accuracy: 0.1016\n",
            "Epoch 50/100\n",
            "375/375 [==============================] - 1s 2ms/step - loss: 1.0564 - accuracy: 0.6460 - val_loss: 4.1999 - val_accuracy: 0.0989\n",
            "Epoch 51/100\n",
            "375/375 [==============================] - 1s 2ms/step - loss: 1.0398 - accuracy: 0.6526 - val_loss: 4.2869 - val_accuracy: 0.1009\n",
            "Epoch 52/100\n",
            "375/375 [==============================] - 1s 2ms/step - loss: 1.0255 - accuracy: 0.6560 - val_loss: 4.2926 - val_accuracy: 0.0976\n",
            "Epoch 53/100\n",
            "375/375 [==============================] - 1s 3ms/step - loss: 1.0080 - accuracy: 0.6630 - val_loss: 4.3747 - val_accuracy: 0.0987\n",
            "Epoch 54/100\n",
            "375/375 [==============================] - 1s 3ms/step - loss: 0.9908 - accuracy: 0.6684 - val_loss: 4.4423 - val_accuracy: 0.1018\n",
            "Epoch 55/100\n",
            "375/375 [==============================] - 1s 3ms/step - loss: 0.9759 - accuracy: 0.6751 - val_loss: 4.5015 - val_accuracy: 0.0997\n",
            "Epoch 56/100\n",
            "375/375 [==============================] - 1s 2ms/step - loss: 0.9598 - accuracy: 0.6780 - val_loss: 4.5367 - val_accuracy: 0.1013\n",
            "Epoch 57/100\n",
            "375/375 [==============================] - 1s 2ms/step - loss: 0.9446 - accuracy: 0.6858 - val_loss: 4.6165 - val_accuracy: 0.0986\n",
            "Epoch 58/100\n",
            "375/375 [==============================] - 1s 2ms/step - loss: 0.9288 - accuracy: 0.6910 - val_loss: 4.6748 - val_accuracy: 0.1012\n",
            "Epoch 59/100\n",
            "375/375 [==============================] - 1s 2ms/step - loss: 0.9138 - accuracy: 0.6970 - val_loss: 4.7631 - val_accuracy: 0.1013\n",
            "Epoch 60/100\n",
            "375/375 [==============================] - 1s 2ms/step - loss: 0.9001 - accuracy: 0.6999 - val_loss: 4.7887 - val_accuracy: 0.1042\n",
            "Epoch 61/100\n",
            "375/375 [==============================] - 1s 2ms/step - loss: 0.8855 - accuracy: 0.7063 - val_loss: 4.8427 - val_accuracy: 0.0979\n",
            "Epoch 62/100\n",
            "375/375 [==============================] - 1s 2ms/step - loss: 0.8701 - accuracy: 0.7115 - val_loss: 4.9112 - val_accuracy: 0.1008\n",
            "Epoch 63/100\n",
            "375/375 [==============================] - 1s 2ms/step - loss: 0.8579 - accuracy: 0.7147 - val_loss: 5.0126 - val_accuracy: 0.1007\n",
            "Epoch 64/100\n",
            "375/375 [==============================] - 1s 2ms/step - loss: 0.8453 - accuracy: 0.7207 - val_loss: 5.0557 - val_accuracy: 0.0961\n",
            "Epoch 65/100\n",
            "375/375 [==============================] - 1s 2ms/step - loss: 0.8292 - accuracy: 0.7274 - val_loss: 5.1061 - val_accuracy: 0.0987\n",
            "Epoch 66/100\n",
            "375/375 [==============================] - 1s 2ms/step - loss: 0.8162 - accuracy: 0.7319 - val_loss: 5.1634 - val_accuracy: 0.0982\n",
            "Epoch 67/100\n",
            "375/375 [==============================] - 1s 2ms/step - loss: 0.8036 - accuracy: 0.7351 - val_loss: 5.1983 - val_accuracy: 0.0992\n",
            "Epoch 68/100\n",
            "375/375 [==============================] - 1s 2ms/step - loss: 0.7930 - accuracy: 0.7396 - val_loss: 5.2978 - val_accuracy: 0.1014\n",
            "Epoch 69/100\n",
            "375/375 [==============================] - 1s 2ms/step - loss: 0.7817 - accuracy: 0.7419 - val_loss: 5.3514 - val_accuracy: 0.0993\n",
            "Epoch 70/100\n",
            "375/375 [==============================] - 1s 2ms/step - loss: 0.7689 - accuracy: 0.7470 - val_loss: 5.3851 - val_accuracy: 0.0994\n",
            "Epoch 71/100\n",
            "375/375 [==============================] - 1s 2ms/step - loss: 0.7554 - accuracy: 0.7536 - val_loss: 5.5000 - val_accuracy: 0.0984\n",
            "Epoch 72/100\n",
            "375/375 [==============================] - 1s 2ms/step - loss: 0.7454 - accuracy: 0.7547 - val_loss: 5.5260 - val_accuracy: 0.1034\n",
            "Epoch 73/100\n",
            "375/375 [==============================] - 1s 2ms/step - loss: 0.7325 - accuracy: 0.7603 - val_loss: 5.6243 - val_accuracy: 0.0968\n",
            "Epoch 74/100\n",
            "375/375 [==============================] - 1s 2ms/step - loss: 0.7225 - accuracy: 0.7640 - val_loss: 5.6962 - val_accuracy: 0.1001\n",
            "Epoch 75/100\n",
            "375/375 [==============================] - 1s 2ms/step - loss: 0.7103 - accuracy: 0.7693 - val_loss: 5.8182 - val_accuracy: 0.1009\n",
            "Epoch 76/100\n",
            "375/375 [==============================] - 1s 2ms/step - loss: 0.7014 - accuracy: 0.7704 - val_loss: 5.8228 - val_accuracy: 0.0984\n",
            "Epoch 77/100\n",
            "375/375 [==============================] - 1s 2ms/step - loss: 0.6906 - accuracy: 0.7748 - val_loss: 5.9221 - val_accuracy: 0.0978\n",
            "Epoch 78/100\n",
            "375/375 [==============================] - 1s 2ms/step - loss: 0.6784 - accuracy: 0.7795 - val_loss: 5.9083 - val_accuracy: 0.0993\n",
            "Epoch 79/100\n",
            "375/375 [==============================] - 1s 2ms/step - loss: 0.6696 - accuracy: 0.7808 - val_loss: 6.0095 - val_accuracy: 0.0988\n",
            "Epoch 80/100\n",
            "375/375 [==============================] - 1s 2ms/step - loss: 0.6594 - accuracy: 0.7875 - val_loss: 6.0811 - val_accuracy: 0.0991\n",
            "Epoch 81/100\n",
            "375/375 [==============================] - 1s 2ms/step - loss: 0.6485 - accuracy: 0.7889 - val_loss: 6.1485 - val_accuracy: 0.1002\n",
            "Epoch 82/100\n",
            "375/375 [==============================] - 1s 2ms/step - loss: 0.6375 - accuracy: 0.7929 - val_loss: 6.1821 - val_accuracy: 0.1002\n",
            "Epoch 83/100\n",
            "375/375 [==============================] - 1s 2ms/step - loss: 0.6285 - accuracy: 0.7950 - val_loss: 6.2679 - val_accuracy: 0.0976\n",
            "Epoch 84/100\n",
            "375/375 [==============================] - 1s 2ms/step - loss: 0.6199 - accuracy: 0.7985 - val_loss: 6.3367 - val_accuracy: 0.0972\n",
            "Epoch 85/100\n",
            "375/375 [==============================] - 1s 2ms/step - loss: 0.6099 - accuracy: 0.8022 - val_loss: 6.4060 - val_accuracy: 0.0978\n",
            "Epoch 86/100\n",
            "375/375 [==============================] - 1s 2ms/step - loss: 0.6023 - accuracy: 0.8034 - val_loss: 6.4754 - val_accuracy: 0.0996\n",
            "Epoch 87/100\n",
            "375/375 [==============================] - 1s 2ms/step - loss: 0.5926 - accuracy: 0.8085 - val_loss: 6.5446 - val_accuracy: 0.0967\n",
            "Epoch 88/100\n",
            "375/375 [==============================] - 1s 2ms/step - loss: 0.5843 - accuracy: 0.8101 - val_loss: 6.6262 - val_accuracy: 0.0963\n",
            "Epoch 89/100\n",
            "375/375 [==============================] - 1s 3ms/step - loss: 0.5754 - accuracy: 0.8149 - val_loss: 6.6880 - val_accuracy: 0.1023\n",
            "Epoch 90/100\n",
            "375/375 [==============================] - 1s 2ms/step - loss: 0.5662 - accuracy: 0.8173 - val_loss: 6.7729 - val_accuracy: 0.0962\n",
            "Epoch 91/100\n",
            "375/375 [==============================] - 1s 2ms/step - loss: 0.5589 - accuracy: 0.8198 - val_loss: 6.7961 - val_accuracy: 0.0988\n",
            "Epoch 92/100\n",
            "375/375 [==============================] - 1s 2ms/step - loss: 0.5492 - accuracy: 0.8225 - val_loss: 6.8898 - val_accuracy: 0.0964\n",
            "Epoch 93/100\n",
            "375/375 [==============================] - 1s 2ms/step - loss: 0.5403 - accuracy: 0.8261 - val_loss: 6.9685 - val_accuracy: 0.0988\n",
            "Epoch 94/100\n",
            "375/375 [==============================] - 1s 2ms/step - loss: 0.5343 - accuracy: 0.8287 - val_loss: 7.0291 - val_accuracy: 0.0977\n",
            "Epoch 95/100\n",
            "375/375 [==============================] - 1s 2ms/step - loss: 0.5266 - accuracy: 0.8304 - val_loss: 7.1115 - val_accuracy: 0.0989\n",
            "Epoch 96/100\n",
            "375/375 [==============================] - 1s 2ms/step - loss: 0.5175 - accuracy: 0.8333 - val_loss: 7.1915 - val_accuracy: 0.0993\n",
            "Epoch 97/100\n",
            "375/375 [==============================] - 1s 2ms/step - loss: 0.5120 - accuracy: 0.8359 - val_loss: 7.2473 - val_accuracy: 0.0969\n",
            "Epoch 98/100\n",
            "375/375 [==============================] - 1s 2ms/step - loss: 0.5053 - accuracy: 0.8392 - val_loss: 7.3664 - val_accuracy: 0.0998\n",
            "Epoch 99/100\n",
            "375/375 [==============================] - 1s 2ms/step - loss: 0.4961 - accuracy: 0.8411 - val_loss: 7.4022 - val_accuracy: 0.0971\n",
            "Epoch 100/100\n",
            "375/375 [==============================] - 1s 2ms/step - loss: 0.4907 - accuracy: 0.8445 - val_loss: 7.4250 - val_accuracy: 0.0976\n"
          ]
        },
        {
          "data": {
            "text/plain": [
              "<keras.callbacks.History at 0x17e017e90>"
            ]
          },
          "execution_count": 4,
          "metadata": {},
          "output_type": "execute_result"
        }
      ],
      "source": [
        "(train_images, train_labels), _ = mnist.load_data() # loading the mnist dataset into train_images and train_labels\n",
        "train_images = train_images.reshape((60000, 28 * 28)) # reshaping the train_images to 60000, 28*28 because the images are 28*28 pixels that are flattened into 1D array\n",
        "train_images = train_images.astype(\"float32\") / 255 # normalizing the train_images by dividing by 255 to get values between 0 and 1\n",
        "\n",
        "random_train_labels = train_labels[:] # copying the train_labels to random_train_labels\n",
        "np.random.shuffle(random_train_labels) # shuffling the random_train_labels to get random labels which will be used to train the model \n",
        "\n",
        "model = keras.Sequential([ # creating a sequential model which is a linear stack of layers that can be created by passing a list of layers to the Sequential class\n",
        "    layers.Dense(512, activation=\"relu\"), # adding a dense layer with 512 neurons and relu activation function (this is the input layer that takes the input and passes it to the hidden layer)\n",
        "    layers.Dense(10, activation=\"softmax\") # adding a dense layer with 10 neurons and softmax activation function (this is the output layer that takes the input from the hidden layer and passes it to the output layer)\n",
        "])\n",
        "model.compile(optimizer=\"rmsprop\", # compiling the model with optimizer as rmsprop which is a gradient descent optimization algorithm that is used to update the weights of the model\n",
        "              loss=\"sparse_categorical_crossentropy\", # setting loss function as sparse_categorical_crossentropy which is used for multi-class classification problems where the output labels are integers\n",
        "              metrics=[\"accuracy\"]) # setting the metrics as accuracy which is used to evaluate the performance of the model\n",
        "model.fit(train_images, random_train_labels, # fitting the model with train_images and random_train_labels by training the model on random labels which will help the model to generalize better\n",
        "          epochs=100, # setting the epochs as 100 (number of times the model will be trained on the dataset)\n",
        "          batch_size=128, # setting the batch size as 128 (number of samples that will be used to train the model at once)\n",
        "          validation_split=0.2) # setting the validation split as 0.2 (percentage of the dataset that will be used for validation)"
      ]
    },
    {
      "cell_type": "markdown",
      "metadata": {
        "id": "sOMfZoWq4EqY"
      },
      "source": [
        "#### The manifold hypothesis"
      ]
    },
    {
      "cell_type": "markdown",
      "metadata": {
        "id": "NThIkWq64EqY"
      },
      "source": [
        "#### Interpolation as a source of generalization"
      ]
    },
    {
      "cell_type": "markdown",
      "metadata": {
        "id": "slR-VKyq4EqZ"
      },
      "source": [
        "#### Why deep learning works"
      ]
    },
    {
      "cell_type": "markdown",
      "metadata": {
        "id": "OTX5peVc4EqZ"
      },
      "source": [
        "#### Training data is paramount"
      ]
    },
    {
      "cell_type": "markdown",
      "metadata": {
        "id": "wiciTAb84EqZ"
      },
      "source": [
        "## Evaluating machine-learning models"
      ]
    },
    {
      "cell_type": "markdown",
      "metadata": {
        "id": "_8twmDSJ4EqZ"
      },
      "source": [
        "### Training, validation, and test sets"
      ]
    },
    {
      "cell_type": "markdown",
      "metadata": {
        "id": "2sIJ1bvi4EqZ"
      },
      "source": [
        "#### Simple hold-out validation"
      ]
    },
    {
      "cell_type": "markdown",
      "metadata": {
        "id": "z3wKV9Rf4EqZ"
      },
      "source": [
        "#### K-fold validation"
      ]
    },
    {
      "cell_type": "markdown",
      "metadata": {
        "id": "G4q6MT6K4EqZ"
      },
      "source": [
        "#### Iterated K-fold validation with shuffling"
      ]
    },
    {
      "cell_type": "markdown",
      "metadata": {
        "id": "ZCLyZQ7l4EqZ"
      },
      "source": [
        "### Beating a common-sense baseline"
      ]
    },
    {
      "cell_type": "markdown",
      "metadata": {
        "id": "m2yjYo204EqZ"
      },
      "source": [
        "### Things to keep in mind about model evaluation"
      ]
    },
    {
      "cell_type": "markdown",
      "metadata": {
        "id": "sSBpaXPB4EqZ"
      },
      "source": [
        "## Improving model fit"
      ]
    },
    {
      "cell_type": "markdown",
      "metadata": {
        "id": "oYj3QcsN4EqZ"
      },
      "source": [
        "### Tuning key gradient descent parameters"
      ]
    },
    {
      "cell_type": "markdown",
      "metadata": {
        "id": "eizc9KFk4Eqa"
      },
      "source": [
        "**Training a MNIST model with an incorrectly high learning rate**"
      ]
    },
    {
      "cell_type": "code",
      "execution_count": 5,
      "metadata": {
        "id": "JR5iNh-U4Eqa"
      },
      "outputs": [
        {
          "name": "stderr",
          "output_type": "stream",
          "text": [
            "WARNING:absl:At this time, the v2.11+ optimizer `tf.keras.optimizers.RMSprop` runs slowly on M1/M2 Macs, please use the legacy Keras optimizer instead, located at `tf.keras.optimizers.legacy.RMSprop`.\n",
            "WARNING:absl:There is a known slowdown when using v2.11+ Keras optimizers on M1/M2 Macs. Falling back to the legacy Keras optimizer, i.e., `tf.keras.optimizers.legacy.RMSprop`.\n"
          ]
        },
        {
          "name": "stdout",
          "output_type": "stream",
          "text": [
            "Epoch 1/10\n",
            "375/375 [==============================] - 1s 2ms/step - loss: 1188.9053 - accuracy: 0.3777 - val_loss: 5.9273 - val_accuracy: 0.3316\n",
            "Epoch 2/10\n",
            "375/375 [==============================] - 1s 2ms/step - loss: 4.0547 - accuracy: 0.2788 - val_loss: 2.5193 - val_accuracy: 0.2208\n",
            "Epoch 3/10\n",
            "375/375 [==============================] - 1s 2ms/step - loss: 2.9274 - accuracy: 0.2376 - val_loss: 3.3657 - val_accuracy: 0.2562\n",
            "Epoch 4/10\n",
            "375/375 [==============================] - 1s 2ms/step - loss: 2.9639 - accuracy: 0.2516 - val_loss: 2.7136 - val_accuracy: 0.2236\n",
            "Epoch 5/10\n",
            "375/375 [==============================] - 1s 2ms/step - loss: 2.7515 - accuracy: 0.2619 - val_loss: 2.1507 - val_accuracy: 0.2654\n",
            "Epoch 6/10\n",
            "375/375 [==============================] - 1s 2ms/step - loss: 2.8453 - accuracy: 0.2481 - val_loss: 2.0756 - val_accuracy: 0.2397\n",
            "Epoch 7/10\n",
            "375/375 [==============================] - 1s 2ms/step - loss: 2.6804 - accuracy: 0.2527 - val_loss: 2.2322 - val_accuracy: 0.2806\n",
            "Epoch 8/10\n",
            "375/375 [==============================] - 1s 2ms/step - loss: 2.5317 - accuracy: 0.2566 - val_loss: 2.2683 - val_accuracy: 0.2579\n",
            "Epoch 9/10\n",
            "375/375 [==============================] - 1s 2ms/step - loss: 2.5679 - accuracy: 0.2811 - val_loss: 3.6941 - val_accuracy: 0.3153\n",
            "Epoch 10/10\n",
            "375/375 [==============================] - 1s 2ms/step - loss: 2.4548 - accuracy: 0.2617 - val_loss: 1.9893 - val_accuracy: 0.2872\n"
          ]
        },
        {
          "data": {
            "text/plain": [
              "<keras.callbacks.History at 0x17fa7e750>"
            ]
          },
          "execution_count": 5,
          "metadata": {},
          "output_type": "execute_result"
        }
      ],
      "source": [
        "(train_images, train_labels), _ = mnist.load_data() # loading the mnist dataset into train_images and train_labels\n",
        "train_images = train_images.reshape((60000, 28 * 28)) # reshaping the train_images to 60000, 28*28 because the images are 28*28 pixels that are flattened into 1D array\n",
        "train_images = train_images.astype(\"float32\") / 255 # normalizing the train_images by dividing by 255 to get values between 0 and 1\n",
        "\n",
        "model = keras.Sequential([ # creating a sequential model which is a linear stack of layers that can be created by passing a list of layers to the Sequential class\n",
        "    layers.Dense(512, activation=\"relu\"), # adding a dense layer with 512 neurons and relu activation function (this is the input layer that takes the input and passes it to the hidden layer)\n",
        "    layers.Dense(10, activation=\"softmax\") # adding a dense layer with 10 neurons and softmax activation function (this is the output layer that takes the input from the hidden layer and passes it to the output layer)\n",
        "])\n",
        "model.compile(optimizer=keras.optimizers.RMSprop(1.), # compiling the model with optimizer as RMSprop with learning rate as 1.0 which is a gradient descent optimization algorithm that is used to update the weights of the model\n",
        "              loss=\"sparse_categorical_crossentropy\", # setting loss function as sparse_categorical_crossentropy which is used for multi-class classification problems where the output labels are integers\n",
        "              metrics=[\"accuracy\"]) # setting the metrics as accuracy which is used to evaluate the performance of the model\n",
        "model.fit(train_images, train_labels, # fitting the model with train_images and train_labels by training the model with learning rate as 1.0 which will help the model to generalize better\n",
        "          epochs=10, # setting the epochs as 10 (number of times the model will be trained on the dataset)\n",
        "          batch_size=128, # setting the batch size as 128 (number of samples that will be used to train the model at once)\n",
        "          validation_split=0.2) # setting the validation split as 0.2 (percentage of the dataset that will be used for validation)"
      ]
    },
    {
      "cell_type": "markdown",
      "metadata": {
        "id": "xmN1X7v54Eqa"
      },
      "source": [
        "**The same model with a more appropriate learning rate**"
      ]
    },
    {
      "cell_type": "code",
      "execution_count": 6,
      "metadata": {
        "id": "OXUCUs2p4Eqa"
      },
      "outputs": [
        {
          "name": "stderr",
          "output_type": "stream",
          "text": [
            "WARNING:absl:At this time, the v2.11+ optimizer `tf.keras.optimizers.RMSprop` runs slowly on M1/M2 Macs, please use the legacy Keras optimizer instead, located at `tf.keras.optimizers.legacy.RMSprop`.\n",
            "WARNING:absl:There is a known slowdown when using v2.11+ Keras optimizers on M1/M2 Macs. Falling back to the legacy Keras optimizer, i.e., `tf.keras.optimizers.legacy.RMSprop`.\n"
          ]
        },
        {
          "name": "stdout",
          "output_type": "stream",
          "text": [
            "Epoch 1/10\n",
            "375/375 [==============================] - 1s 2ms/step - loss: 0.3617 - accuracy: 0.9125 - val_loss: 0.2008 - val_accuracy: 0.9505\n",
            "Epoch 2/10\n",
            "375/375 [==============================] - 1s 2ms/step - loss: 0.1385 - accuracy: 0.9644 - val_loss: 0.1505 - val_accuracy: 0.9653\n",
            "Epoch 3/10\n",
            "375/375 [==============================] - 1s 2ms/step - loss: 0.1167 - accuracy: 0.9735 - val_loss: 0.1669 - val_accuracy: 0.9670\n",
            "Epoch 4/10\n",
            "375/375 [==============================] - 1s 2ms/step - loss: 0.0996 - accuracy: 0.9777 - val_loss: 0.1909 - val_accuracy: 0.9672\n",
            "Epoch 5/10\n",
            "375/375 [==============================] - 1s 2ms/step - loss: 0.0861 - accuracy: 0.9811 - val_loss: 0.2191 - val_accuracy: 0.9690\n",
            "Epoch 6/10\n",
            "375/375 [==============================] - 1s 2ms/step - loss: 0.0722 - accuracy: 0.9851 - val_loss: 0.2009 - val_accuracy: 0.9724\n",
            "Epoch 7/10\n",
            "375/375 [==============================] - 1s 3ms/step - loss: 0.0740 - accuracy: 0.9859 - val_loss: 0.2190 - val_accuracy: 0.9732\n",
            "Epoch 8/10\n",
            "375/375 [==============================] - 1s 2ms/step - loss: 0.0698 - accuracy: 0.9874 - val_loss: 0.2447 - val_accuracy: 0.9712\n",
            "Epoch 9/10\n",
            "375/375 [==============================] - 1s 2ms/step - loss: 0.0568 - accuracy: 0.9894 - val_loss: 0.2488 - val_accuracy: 0.9728\n",
            "Epoch 10/10\n",
            "375/375 [==============================] - 1s 2ms/step - loss: 0.0546 - accuracy: 0.9908 - val_loss: 0.3175 - val_accuracy: 0.9737\n"
          ]
        },
        {
          "data": {
            "text/plain": [
              "<keras.callbacks.History at 0x17aa6ea10>"
            ]
          },
          "execution_count": 6,
          "metadata": {},
          "output_type": "execute_result"
        }
      ],
      "source": [
        "model = keras.Sequential([ # creating a sequential model which is a linear stack of layers that can be created by passing a list of layers to the Sequential class\n",
        "    layers.Dense(512, activation=\"relu\"), # adding a dense layer with 512 neurons and relu activation function (this is the input layer that takes the input and passes it to the hidden layer)\n",
        "    layers.Dense(10, activation=\"softmax\") # adding a dense layer with 10 neurons and softmax activation function (this is the output layer that takes the input from the hidden layer and passes it to the output layer)\n",
        "])\n",
        "model.compile(optimizer=keras.optimizers.RMSprop(1e-2), # compiling the model with optimizer as RMSprop with learning rate as 0.01 which is a gradient descent optimization algorithm that is used to update the weights of the model\n",
        "              loss=\"sparse_categorical_crossentropy\", # setting loss function as sparse_categorical_crossentropy which is used for multi-class classification problems where the output labels are integers\n",
        "              metrics=[\"accuracy\"]) # setting the metrics as accuracy which is used to evaluate the performance of the model\n",
        "model.fit(train_images, train_labels, # fitting the model with train_images and train_labels by training the model with learning rate as 0.01 which will help the model to generalize better\n",
        "          epochs=10, # setting the epochs as 10 (number of times the model will be trained on the dataset)\n",
        "          batch_size=128, # setting the batch size as 128 (number of samples that will be used to train the model at once)\n",
        "          validation_split=0.2) # setting the validation split as 0.2 (percentage of the dataset that will be used for validation)"
      ]
    },
    {
      "cell_type": "markdown",
      "metadata": {
        "id": "N_l-Ontx4Eqa"
      },
      "source": [
        "### Leveraging better architecture priors"
      ]
    },
    {
      "cell_type": "markdown",
      "metadata": {
        "id": "xESArUpi4Eqb"
      },
      "source": [
        "### Increasing model capacity"
      ]
    },
    {
      "cell_type": "markdown",
      "metadata": {
        "id": "Bi_NSTSt4Eqb"
      },
      "source": [
        "**A simple logistic regression on MNIST**"
      ]
    },
    {
      "cell_type": "code",
      "execution_count": 7,
      "metadata": {
        "id": "jTgXHGaL4Eqb"
      },
      "outputs": [
        {
          "name": "stdout",
          "output_type": "stream",
          "text": [
            "Epoch 1/20\n",
            "375/375 [==============================] - 0s 780us/step - loss: 0.6675 - accuracy: 0.8354 - val_loss: 0.3557 - val_accuracy: 0.9062\n",
            "Epoch 2/20\n",
            "375/375 [==============================] - 0s 512us/step - loss: 0.3501 - accuracy: 0.9035 - val_loss: 0.3085 - val_accuracy: 0.9160\n",
            "Epoch 3/20\n",
            "375/375 [==============================] - 0s 514us/step - loss: 0.3146 - accuracy: 0.9128 - val_loss: 0.2903 - val_accuracy: 0.9184\n",
            "Epoch 4/20\n",
            "375/375 [==============================] - 0s 530us/step - loss: 0.2987 - accuracy: 0.9165 - val_loss: 0.2828 - val_accuracy: 0.9211\n",
            "Epoch 5/20\n",
            "375/375 [==============================] - 0s 513us/step - loss: 0.2889 - accuracy: 0.9198 - val_loss: 0.2760 - val_accuracy: 0.9239\n",
            "Epoch 6/20\n",
            "375/375 [==============================] - 0s 512us/step - loss: 0.2826 - accuracy: 0.9208 - val_loss: 0.2721 - val_accuracy: 0.9257\n",
            "Epoch 7/20\n",
            "375/375 [==============================] - 0s 508us/step - loss: 0.2777 - accuracy: 0.9227 - val_loss: 0.2684 - val_accuracy: 0.9280\n",
            "Epoch 8/20\n",
            "375/375 [==============================] - 0s 568us/step - loss: 0.2739 - accuracy: 0.9234 - val_loss: 0.2670 - val_accuracy: 0.9267\n",
            "Epoch 9/20\n",
            "375/375 [==============================] - 0s 511us/step - loss: 0.2707 - accuracy: 0.9247 - val_loss: 0.2673 - val_accuracy: 0.9282\n",
            "Epoch 10/20\n",
            "375/375 [==============================] - 0s 512us/step - loss: 0.2681 - accuracy: 0.9259 - val_loss: 0.2652 - val_accuracy: 0.9283\n",
            "Epoch 11/20\n",
            "375/375 [==============================] - 0s 507us/step - loss: 0.2664 - accuracy: 0.9268 - val_loss: 0.2621 - val_accuracy: 0.9300\n",
            "Epoch 12/20\n",
            "375/375 [==============================] - 0s 521us/step - loss: 0.2643 - accuracy: 0.9272 - val_loss: 0.2645 - val_accuracy: 0.9283\n",
            "Epoch 13/20\n",
            "375/375 [==============================] - 0s 515us/step - loss: 0.2631 - accuracy: 0.9267 - val_loss: 0.2630 - val_accuracy: 0.9298\n",
            "Epoch 14/20\n",
            "375/375 [==============================] - 0s 511us/step - loss: 0.2616 - accuracy: 0.9277 - val_loss: 0.2626 - val_accuracy: 0.9296\n",
            "Epoch 15/20\n",
            "375/375 [==============================] - 0s 512us/step - loss: 0.2601 - accuracy: 0.9286 - val_loss: 0.2614 - val_accuracy: 0.9299\n",
            "Epoch 16/20\n",
            "375/375 [==============================] - 0s 520us/step - loss: 0.2590 - accuracy: 0.9291 - val_loss: 0.2605 - val_accuracy: 0.9303\n",
            "Epoch 17/20\n",
            "375/375 [==============================] - 0s 513us/step - loss: 0.2581 - accuracy: 0.9292 - val_loss: 0.2619 - val_accuracy: 0.9306\n",
            "Epoch 18/20\n",
            "375/375 [==============================] - 0s 507us/step - loss: 0.2571 - accuracy: 0.9298 - val_loss: 0.2618 - val_accuracy: 0.9307\n",
            "Epoch 19/20\n",
            "375/375 [==============================] - 0s 559us/step - loss: 0.2562 - accuracy: 0.9300 - val_loss: 0.2629 - val_accuracy: 0.9302\n",
            "Epoch 20/20\n",
            "375/375 [==============================] - 0s 511us/step - loss: 0.2552 - accuracy: 0.9302 - val_loss: 0.2607 - val_accuracy: 0.9308\n"
          ]
        }
      ],
      "source": [
        "model = keras.Sequential([layers.Dense(10, activation=\"softmax\")]) # creating a sequential model with a dense layer with 10 neurons and softmax activation function (this is the output layer that takes the input from the hidden layer and passes it to the output layer)\n",
        "model.compile(optimizer=\"rmsprop\", # compiling the model with optimizer as rmsprop which is a gradient descent optimization algorithm that is used to update the weights of the model\n",
        "              loss=\"sparse_categorical_crossentropy\", # setting loss function as sparse_categorical_crossentropy which is used for multi-class classification problems where the output labels are integers\n",
        "              metrics=[\"accuracy\"]) # setting the metrics as accuracy which is used to evaluate the performance of the model\n",
        "history_small_model = model.fit( # fitting the model with train_images and train_labels by training the model with a small model which will help the model to generalize better\n",
        "    train_images, train_labels, \n",
        "    epochs=20, # setting the epochs as 20 (number of times the model will be trained on the dataset)\n",
        "    batch_size=128, # setting the batch size as 128 (number of samples that will be used to train the model at once)\n",
        "    validation_split=0.2) # setting the validation split as 0.2 (percentage of the dataset that will be used for validation)"
      ]
    },
    {
      "cell_type": "code",
      "execution_count": 8,
      "metadata": {
        "id": "6zf6OvYx4Eqb"
      },
      "outputs": [
        {
          "data": {
            "text/plain": [
              "<matplotlib.legend.Legend at 0x2957f2990>"
            ]
          },
          "execution_count": 8,
          "metadata": {},
          "output_type": "execute_result"
        },
        {
          "data": {
            "image/png": "[encoded data removed]",
            "text/plain": [
              "<Figure size 640x480 with 1 Axes>"
            ]
          },
          "metadata": {},
          "output_type": "display_data"
        }
      ],
      "source": [
        "import matplotlib.pyplot as plt # importing matplotlib library to plot the graph\n",
        "val_loss = history_small_model.history[\"val_loss\"] # getting the validation loss from history_small_model\n",
        "epochs = range(1, 21) # setting the epochs as 1 to 21\n",
        "plt.plot(epochs, val_loss, \"b--\", # plotting the graph with epochs and val_loss\n",
        "         label=\"Validation loss\") # setting the label as Validation loss\n",
        "plt.title(\"Effect of insufficient model capacity on validation loss\") # setting the title of the graph\n",
        "plt.xlabel(\"Epochs\") # setting the x-axis label as Epochs\n",
        "plt.ylabel(\"Loss\") # setting the y-axis label as Loss\n",
        "plt.legend() # setting the legend\n",
        "# The graph shows that the model with insufficient model capacity has higher validation loss which shows that the model is not able to generalize well because of insufficient model capacity"
      ]
    },
    {
      "cell_type": "code",
      "execution_count": 9,
      "metadata": {
        "id": "ZJwhdtLf4Eqc"
      },
      "outputs": [
        {
          "name": "stdout",
          "output_type": "stream",
          "text": [
            "Epoch 1/20\n",
            "375/375 [==============================] - 1s 1ms/step - loss: 0.3621 - accuracy: 0.8966 - val_loss: 0.2032 - val_accuracy: 0.9402\n",
            "Epoch 2/20\n",
            "375/375 [==============================] - 0s 995us/step - loss: 0.1573 - accuracy: 0.9536 - val_loss: 0.1370 - val_accuracy: 0.9582\n",
            "Epoch 3/20\n",
            "375/375 [==============================] - 0s 978us/step - loss: 0.1096 - accuracy: 0.9669 - val_loss: 0.1133 - val_accuracy: 0.9660\n",
            "Epoch 4/20\n",
            "375/375 [==============================] - 0s 1ms/step - loss: 0.0841 - accuracy: 0.9743 - val_loss: 0.1010 - val_accuracy: 0.9707\n",
            "Epoch 5/20\n",
            "375/375 [==============================] - 0s 983us/step - loss: 0.0689 - accuracy: 0.9792 - val_loss: 0.1024 - val_accuracy: 0.9714\n",
            "Epoch 6/20\n",
            "375/375 [==============================] - 0s 1000us/step - loss: 0.0567 - accuracy: 0.9829 - val_loss: 0.0894 - val_accuracy: 0.9740\n",
            "Epoch 7/20\n",
            "375/375 [==============================] - 0s 976us/step - loss: 0.0467 - accuracy: 0.9861 - val_loss: 0.0885 - val_accuracy: 0.9739\n",
            "Epoch 8/20\n",
            "375/375 [==============================] - 0s 1ms/step - loss: 0.0397 - accuracy: 0.9877 - val_loss: 0.0882 - val_accuracy: 0.9766\n",
            "Epoch 9/20\n",
            "375/375 [==============================] - 0s 983us/step - loss: 0.0342 - accuracy: 0.9895 - val_loss: 0.0922 - val_accuracy: 0.9753\n",
            "Epoch 10/20\n",
            "375/375 [==============================] - 0s 999us/step - loss: 0.0281 - accuracy: 0.9920 - val_loss: 0.0934 - val_accuracy: 0.9755\n",
            "Epoch 11/20\n",
            "375/375 [==============================] - 0s 977us/step - loss: 0.0243 - accuracy: 0.9925 - val_loss: 0.1052 - val_accuracy: 0.9705\n",
            "Epoch 12/20\n",
            "375/375 [==============================] - 0s 997us/step - loss: 0.0195 - accuracy: 0.9937 - val_loss: 0.1028 - val_accuracy: 0.9750\n",
            "Epoch 13/20\n",
            "375/375 [==============================] - 0s 989us/step - loss: 0.0172 - accuracy: 0.9945 - val_loss: 0.1092 - val_accuracy: 0.9753\n",
            "Epoch 14/20\n",
            "375/375 [==============================] - 0s 991us/step - loss: 0.0145 - accuracy: 0.9957 - val_loss: 0.1074 - val_accuracy: 0.9768\n",
            "Epoch 15/20\n",
            "375/375 [==============================] - 0s 997us/step - loss: 0.0119 - accuracy: 0.9961 - val_loss: 0.1100 - val_accuracy: 0.9784\n",
            "Epoch 16/20\n",
            "375/375 [==============================] - 0s 1ms/step - loss: 0.0104 - accuracy: 0.9967 - val_loss: 0.1142 - val_accuracy: 0.9755\n",
            "Epoch 17/20\n",
            "375/375 [==============================] - 0s 981us/step - loss: 0.0097 - accuracy: 0.9970 - val_loss: 0.1195 - val_accuracy: 0.9760\n",
            "Epoch 18/20\n",
            "375/375 [==============================] - 0s 1ms/step - loss: 0.0077 - accuracy: 0.9976 - val_loss: 0.1203 - val_accuracy: 0.9765\n",
            "Epoch 19/20\n",
            "375/375 [==============================] - 0s 1ms/step - loss: 0.0066 - accuracy: 0.9979 - val_loss: 0.1245 - val_accuracy: 0.9766\n",
            "Epoch 20/20\n",
            "375/375 [==============================] - 0s 994us/step - loss: 0.0058 - accuracy: 0.9981 - val_loss: 0.1515 - val_accuracy: 0.9734\n"
          ]
        }
      ],
      "source": [
        "model = keras.Sequential([ # creating a sequential model which is a linear stack of layers that can be created by passing a list of layers to the Sequential class\n",
        "    layers.Dense(96, activation=\"relu\"), # adding a dense layer with 96 neurons and relu activation function (this is the input layer that takes the input and passes it to the hidden layer)\n",
        "    layers.Dense(96, activation=\"relu\"), # adding a dense layer with 96 neurons and relu activation function (this is the hidden layer that takes the input from the input layer and passes it to the output layer)\n",
        "    layers.Dense(10, activation=\"softmax\"), # adding a dense layer with 10 neurons and softmax activation function (this is the output layer that takes the input from the hidden layer and passes it to the output layer)\n",
        "])\n",
        "model.compile(optimizer=\"rmsprop\", # compiling the model with optimizer as rmsprop which is a gradient descent optimization algorithm that is used to update the weights of the model\n",
        "              loss=\"sparse_categorical_crossentropy\", # setting loss function as sparse_categorical_crossentropy which is used for multi-class classification problems where the output labels are integers\n",
        "              metrics=[\"accuracy\"]) # setting the metrics as accuracy which is used to evaluate the performance of the model\n",
        "history_large_model = model.fit( # fitting the model with train_images and train_labels by training the model with a large model which will help the model to generalize better\n",
        "    train_images, train_labels,\n",
        "    epochs=20, # setting the epochs as 20 (number of times the model will be trained on the dataset)\n",
        "    batch_size=128, # setting the batch size as 128 (number of samples that will be used to train the model at once)\n",
        "    validation_split=0.2) # setting the validation split as 0.2 (percentage of the dataset that will be used for validation)"
      ]
    },
    {
      "cell_type": "markdown",
      "metadata": {
        "id": "GwJP1Wpp4Eqd"
      },
      "source": [
        "## Improving generalization"
      ]
    },
    {
      "cell_type": "markdown",
      "metadata": {
        "id": "xm_RmJdN4Eqe"
      },
      "source": [
        "### Dataset curation"
      ]
    },
    {
      "cell_type": "markdown",
      "metadata": {
        "id": "DGBEUsLK4Eqe"
      },
      "source": [
        "### Feature engineering"
      ]
    },
    {
      "cell_type": "markdown",
      "metadata": {
        "id": "XlnE7Wd-4Eqe"
      },
      "source": [
        "### Using early stopping"
      ]
    },
    {
      "cell_type": "markdown",
      "metadata": {
        "id": "L68mEeno4Eqf"
      },
      "source": [
        "### Regularizing your model"
      ]
    },
    {
      "cell_type": "markdown",
      "metadata": {
        "id": "eYJE9Pvz4Eqf"
      },
      "source": [
        "#### Reducing the network's size"
      ]
    },
    {
      "cell_type": "markdown",
      "metadata": {
        "id": "jdBZLJdP4Eqg"
      },
      "source": [
        "**Original model**"
      ]
    },
    {
      "cell_type": "code",
      "execution_count": 10,
      "metadata": {
        "id": "e_whjxsl4Eqg"
      },
      "outputs": [
        {
          "name": "stdout",
          "output_type": "stream",
          "text": [
            "Epoch 1/20\n",
            "30/30 [==============================] - 1s 27ms/step - loss: 0.5109 - accuracy: 0.7838 - val_loss: 0.3810 - val_accuracy: 0.8739\n",
            "Epoch 2/20\n",
            "30/30 [==============================] - 1s 19ms/step - loss: 0.3031 - accuracy: 0.9035 - val_loss: 0.3122 - val_accuracy: 0.8775\n",
            "Epoch 3/20\n",
            "30/30 [==============================] - 1s 18ms/step - loss: 0.2219 - accuracy: 0.9263 - val_loss: 0.2821 - val_accuracy: 0.8900\n",
            "Epoch 4/20\n",
            "30/30 [==============================] - 0s 12ms/step - loss: 0.1762 - accuracy: 0.9422 - val_loss: 0.2732 - val_accuracy: 0.8913\n",
            "Epoch 5/20\n",
            "30/30 [==============================] - 0s 17ms/step - loss: 0.1461 - accuracy: 0.9529 - val_loss: 0.2806 - val_accuracy: 0.8893\n",
            "Epoch 6/20\n",
            "30/30 [==============================] - 0s 13ms/step - loss: 0.1219 - accuracy: 0.9603 - val_loss: 0.3041 - val_accuracy: 0.8837\n",
            "Epoch 7/20\n",
            "30/30 [==============================] - 0s 10ms/step - loss: 0.1026 - accuracy: 0.9699 - val_loss: 0.3079 - val_accuracy: 0.8844\n",
            "Epoch 8/20\n",
            "30/30 [==============================] - 0s 11ms/step - loss: 0.0860 - accuracy: 0.9754 - val_loss: 0.3321 - val_accuracy: 0.8812\n",
            "Epoch 9/20\n",
            "30/30 [==============================] - 0s 9ms/step - loss: 0.0724 - accuracy: 0.9805 - val_loss: 0.3494 - val_accuracy: 0.8804\n",
            "Epoch 10/20\n",
            "30/30 [==============================] - 0s 14ms/step - loss: 0.0600 - accuracy: 0.9840 - val_loss: 0.3923 - val_accuracy: 0.8736\n",
            "Epoch 11/20\n",
            "30/30 [==============================] - 0s 11ms/step - loss: 0.0506 - accuracy: 0.9878 - val_loss: 0.4017 - val_accuracy: 0.8762\n",
            "Epoch 12/20\n",
            "30/30 [==============================] - 0s 8ms/step - loss: 0.0409 - accuracy: 0.9909 - val_loss: 0.4407 - val_accuracy: 0.8730\n",
            "Epoch 13/20\n",
            "30/30 [==============================] - 0s 8ms/step - loss: 0.0344 - accuracy: 0.9934 - val_loss: 0.4725 - val_accuracy: 0.8724\n",
            "Epoch 14/20\n",
            "30/30 [==============================] - 0s 8ms/step - loss: 0.0295 - accuracy: 0.9932 - val_loss: 0.4912 - val_accuracy: 0.8702\n",
            "Epoch 15/20\n",
            "30/30 [==============================] - 0s 8ms/step - loss: 0.0232 - accuracy: 0.9957 - val_loss: 0.5915 - val_accuracy: 0.8575\n",
            "Epoch 16/20\n",
            "30/30 [==============================] - 0s 10ms/step - loss: 0.0185 - accuracy: 0.9973 - val_loss: 0.5732 - val_accuracy: 0.8682\n",
            "Epoch 17/20\n",
            "30/30 [==============================] - 0s 8ms/step - loss: 0.0155 - accuracy: 0.9980 - val_loss: 0.6033 - val_accuracy: 0.8674\n",
            "Epoch 18/20\n",
            "30/30 [==============================] - 0s 7ms/step - loss: 0.0146 - accuracy: 0.9970 - val_loss: 0.6299 - val_accuracy: 0.8669\n",
            "Epoch 19/20\n",
            "30/30 [==============================] - 0s 7ms/step - loss: 0.0077 - accuracy: 0.9994 - val_loss: 0.6818 - val_accuracy: 0.8654\n",
            "Epoch 20/20\n",
            "30/30 [==============================] - 0s 6ms/step - loss: 0.0094 - accuracy: 0.9982 - val_loss: 0.7029 - val_accuracy: 0.8641\n"
          ]
        }
      ],
      "source": [
        "from tensorflow.keras.datasets import imdb # importing the imdb dataset from keras library\n",
        "(train_data, train_labels), _ = imdb.load_data(num_words=10000) # loading the imdb dataset into train_data and train_labels with 10000 words\n",
        "\n",
        "def vectorize_sequences(sequences, dimension=10000): # defining a function to vectorize the sequences with dimension as 10000 by default because the maximum word index is 10000\n",
        "    results = np.zeros((len(sequences), dimension)) # creating a results array with zeros of shape (len(sequences), dimension) which will be used to store the vectorized sequences\n",
        "    for i, sequence in enumerate(sequences): # iterating through the sequences\n",
        "        results[i, sequence] = 1. # setting the results[i, sequence] as 1 which will be used to vectorize the sequences\n",
        "    return results # returning the results\n",
        "train_data = vectorize_sequences(train_data) # vectorizing the train_data\n",
        "\n",
        "model = keras.Sequential([ # creating a sequential model which is a linear stack of layers that can be created by passing a list of layers to the Sequential class\n",
        "    layers.Dense(16, activation=\"relu\"), # adding a dense layer with 16 neurons and relu activation function (this is the input layer that takes the input and passes it to the hidden layer)\n",
        "    layers.Dense(16, activation=\"relu\"), # adding a dense layer with 16 neurons and relu activation function (this is the hidden layer that takes the input from the input layer and passes it to the output layer)\n",
        "    layers.Dense(1, activation=\"sigmoid\") # adding a dense layer with 1 neuron and sigmoid activation function (this is the output layer that takes the input from the hidden layer and passes it to the output layer)\n",
        "])\n",
        "model.compile(optimizer=\"rmsprop\", # compiling the model with optimizer as rmsprop which is a gradient descent optimization algorithm that is used to update the weights of the model\n",
        "              loss=\"binary_crossentropy\", # setting loss function as binary_crossentropy which is used for binary classification problems where the output labels are binary\n",
        "              metrics=[\"accuracy\"]) # setting the metrics as accuracy which is used to evaluate the performance of the model\n",
        "history_original = model.fit(train_data, train_labels, # fitting the model with train_data and train_labels by training the model with the original model which will help the model to generalize better\n",
        "                             epochs=20, batch_size=512, validation_split=0.4) # setting the epochs as 20, batch size as 512 and validation split as 0.4 "
      ]
    },
    {
      "cell_type": "markdown",
      "metadata": {
        "id": "8RA1ccut4Eqg"
      },
      "source": [
        "**Version of the model with lower capacity**"
      ]
    },
    {
      "cell_type": "code",
      "execution_count": 11,
      "metadata": {
        "id": "ozgLU0jC4Eqk"
      },
      "outputs": [
        {
          "name": "stdout",
          "output_type": "stream",
          "text": [
            "Epoch 1/20\n",
            "30/30 [==============================] - 1s 25ms/step - loss: 0.5962 - accuracy: 0.7624 - val_loss: 0.5083 - val_accuracy: 0.8274\n",
            "Epoch 2/20\n",
            "30/30 [==============================] - 0s 8ms/step - loss: 0.4397 - accuracy: 0.8751 - val_loss: 0.4089 - val_accuracy: 0.8628\n",
            "Epoch 3/20\n",
            "30/30 [==============================] - 0s 10ms/step - loss: 0.3462 - accuracy: 0.8995 - val_loss: 0.3509 - val_accuracy: 0.8795\n",
            "Epoch 4/20\n",
            "30/30 [==============================] - 0s 9ms/step - loss: 0.2846 - accuracy: 0.9157 - val_loss: 0.3149 - val_accuracy: 0.8835\n",
            "Epoch 5/20\n",
            "30/30 [==============================] - 0s 10ms/step - loss: 0.2405 - accuracy: 0.9266 - val_loss: 0.2933 - val_accuracy: 0.8884\n",
            "Epoch 6/20\n",
            "30/30 [==============================] - 0s 9ms/step - loss: 0.2079 - accuracy: 0.9351 - val_loss: 0.2802 - val_accuracy: 0.8901\n",
            "Epoch 7/20\n",
            "30/30 [==============================] - 0s 9ms/step - loss: 0.1824 - accuracy: 0.9433 - val_loss: 0.2739 - val_accuracy: 0.8916\n",
            "Epoch 8/20\n",
            "30/30 [==============================] - 0s 9ms/step - loss: 0.1616 - accuracy: 0.9519 - val_loss: 0.2725 - val_accuracy: 0.8914\n",
            "Epoch 9/20\n",
            "30/30 [==============================] - 0s 7ms/step - loss: 0.1443 - accuracy: 0.9565 - val_loss: 0.2779 - val_accuracy: 0.8876\n",
            "Epoch 10/20\n",
            "30/30 [==============================] - 0s 7ms/step - loss: 0.1299 - accuracy: 0.9619 - val_loss: 0.2783 - val_accuracy: 0.8904\n",
            "Epoch 11/20\n",
            "30/30 [==============================] - 0s 7ms/step - loss: 0.1175 - accuracy: 0.9667 - val_loss: 0.2950 - val_accuracy: 0.8828\n",
            "Epoch 12/20\n",
            "30/30 [==============================] - 0s 7ms/step - loss: 0.1062 - accuracy: 0.9697 - val_loss: 0.2941 - val_accuracy: 0.8851\n",
            "Epoch 13/20\n",
            "30/30 [==============================] - 0s 6ms/step - loss: 0.0957 - accuracy: 0.9739 - val_loss: 0.3054 - val_accuracy: 0.8832\n",
            "Epoch 14/20\n",
            "30/30 [==============================] - 0s 7ms/step - loss: 0.0874 - accuracy: 0.9763 - val_loss: 0.3168 - val_accuracy: 0.8813\n",
            "Epoch 15/20\n",
            "30/30 [==============================] - 0s 9ms/step - loss: 0.0781 - accuracy: 0.9800 - val_loss: 0.3216 - val_accuracy: 0.8853\n",
            "Epoch 16/20\n",
            "30/30 [==============================] - 0s 7ms/step - loss: 0.0710 - accuracy: 0.9826 - val_loss: 0.3380 - val_accuracy: 0.8791\n",
            "Epoch 17/20\n",
            "30/30 [==============================] - 0s 6ms/step - loss: 0.0645 - accuracy: 0.9849 - val_loss: 0.3473 - val_accuracy: 0.8821\n",
            "Epoch 18/20\n",
            "30/30 [==============================] - 0s 8ms/step - loss: 0.0577 - accuracy: 0.9869 - val_loss: 0.3657 - val_accuracy: 0.8786\n",
            "Epoch 19/20\n",
            "30/30 [==============================] - 0s 7ms/step - loss: 0.0525 - accuracy: 0.9879 - val_loss: 0.3757 - val_accuracy: 0.8782\n",
            "Epoch 20/20\n",
            "30/30 [==============================] - 0s 5ms/step - loss: 0.0469 - accuracy: 0.9901 - val_loss: 0.4024 - val_accuracy: 0.8733\n"
          ]
        }
      ],
      "source": [
        "model = keras.Sequential([ # creating a sequential model which is a linear stack of layers that can be created by passing a list of layers to the Sequential class\n",
        "    layers.Dense(4, activation=\"relu\"), # adding a dense layer with 4 neurons and relu activation function (this is the input layer that takes the input and passes it to the hidden layer)\n",
        "    layers.Dense(4, activation=\"relu\"), # adding a dense layer with 4 neurons and relu activation function (this is the hidden layer that takes the input from the input layer and passes it to the output layer)\n",
        "    layers.Dense(1, activation=\"sigmoid\") # adding a dense layer with 1 neuron and sigmoid activation function (this is the output layer that takes the input from the hidden layer and passes it to the output layer)\n",
        "])\n",
        "model.compile(optimizer=\"rmsprop\", # compiling the model with optimizer as rmsprop which is a gradient descent optimization algorithm that is used to update the weights of the model\n",
        "              loss=\"binary_crossentropy\", # setting loss function as binary_crossentropy which is used for binary classification problems where the output labels are binary\n",
        "              metrics=[\"accuracy\"]) # setting the metrics as accuracy which is used to evaluate the performance of the model\n",
        "history_smaller_model = model.fit( # fitting the model with train_data and train_labels by training the model with a smaller model which will help the model to generalize better\n",
        "    train_data, train_labels,\n",
        "    epochs=20, batch_size=512, validation_split=0.4) # setting the epochs as 20, batch size as 512 and validation split as 0.4 "
      ]
    },
    {
      "cell_type": "markdown",
      "metadata": {
        "id": "KmZoInO14Eql"
      },
      "source": [
        "**Version of the model with higher capacity**"
      ]
    },
    {
      "cell_type": "code",
      "execution_count": 12,
      "metadata": {
        "id": "JN7j3LvB4Eql"
      },
      "outputs": [
        {
          "name": "stdout",
          "output_type": "stream",
          "text": [
            "Epoch 1/20\n",
            "30/30 [==============================] - 3s 75ms/step - loss: 0.5561 - accuracy: 0.7557 - val_loss: 0.3307 - val_accuracy: 0.8787\n",
            "Epoch 2/20\n",
            "30/30 [==============================] - 2s 56ms/step - loss: 0.2428 - accuracy: 0.9035 - val_loss: 0.2752 - val_accuracy: 0.8884\n",
            "Epoch 3/20\n",
            "30/30 [==============================] - 2s 55ms/step - loss: 0.1595 - accuracy: 0.9370 - val_loss: 0.3848 - val_accuracy: 0.8715\n",
            "Epoch 4/20\n",
            "30/30 [==============================] - 2s 55ms/step - loss: 0.0820 - accuracy: 0.9721 - val_loss: 0.4244 - val_accuracy: 0.8732\n",
            "Epoch 5/20\n",
            "30/30 [==============================] - 2s 58ms/step - loss: 0.0873 - accuracy: 0.9780 - val_loss: 0.3710 - val_accuracy: 0.8882\n",
            "Epoch 6/20\n",
            "30/30 [==============================] - 2s 58ms/step - loss: 0.0044 - accuracy: 0.9994 - val_loss: 0.5333 - val_accuracy: 0.8838\n",
            "Epoch 7/20\n",
            "30/30 [==============================] - 2s 54ms/step - loss: 6.6348e-04 - accuracy: 0.9999 - val_loss: 0.6716 - val_accuracy: 0.8836\n",
            "Epoch 8/20\n",
            "30/30 [==============================] - 2s 56ms/step - loss: 0.2168 - accuracy: 0.9811 - val_loss: 0.4909 - val_accuracy: 0.8812\n",
            "Epoch 9/20\n",
            "30/30 [==============================] - 2s 54ms/step - loss: 5.3465e-04 - accuracy: 1.0000 - val_loss: 0.5802 - val_accuracy: 0.8840\n",
            "Epoch 10/20\n",
            "30/30 [==============================] - 2s 55ms/step - loss: 1.4524e-04 - accuracy: 1.0000 - val_loss: 0.6454 - val_accuracy: 0.8848\n",
            "Epoch 11/20\n",
            "30/30 [==============================] - 2s 56ms/step - loss: 5.3301e-05 - accuracy: 1.0000 - val_loss: 0.7365 - val_accuracy: 0.8833\n",
            "Epoch 12/20\n",
            "30/30 [==============================] - 2s 55ms/step - loss: 1.6027e-05 - accuracy: 1.0000 - val_loss: 0.8303 - val_accuracy: 0.8830\n",
            "Epoch 13/20\n",
            "30/30 [==============================] - 2s 56ms/step - loss: 4.6711e-06 - accuracy: 1.0000 - val_loss: 0.9279 - val_accuracy: 0.8824\n",
            "Epoch 14/20\n",
            "30/30 [==============================] - 2s 57ms/step - loss: 1.4312e-06 - accuracy: 1.0000 - val_loss: 0.9965 - val_accuracy: 0.8825\n",
            "Epoch 15/20\n",
            "30/30 [==============================] - 2s 54ms/step - loss: 4.5719e-07 - accuracy: 1.0000 - val_loss: 1.0766 - val_accuracy: 0.8831\n",
            "Epoch 16/20\n",
            "30/30 [==============================] - 2s 55ms/step - loss: 1.6565e-07 - accuracy: 1.0000 - val_loss: 1.1352 - val_accuracy: 0.8849\n",
            "Epoch 17/20\n",
            "30/30 [==============================] - 2s 54ms/step - loss: 6.8439e-08 - accuracy: 1.0000 - val_loss: 1.2095 - val_accuracy: 0.8834\n",
            "Epoch 18/20\n",
            "30/30 [==============================] - 2s 56ms/step - loss: 3.4009e-08 - accuracy: 1.0000 - val_loss: 1.2470 - val_accuracy: 0.8835\n",
            "Epoch 19/20\n",
            "30/30 [==============================] - 2s 55ms/step - loss: 2.1219e-08 - accuracy: 1.0000 - val_loss: 1.2737 - val_accuracy: 0.8835\n",
            "Epoch 20/20\n",
            "30/30 [==============================] - 2s 54ms/step - loss: 1.5095e-08 - accuracy: 1.0000 - val_loss: 1.2968 - val_accuracy: 0.8831\n"
          ]
        }
      ],
      "source": [
        "model = keras.Sequential([ # creating a sequential model which is a linear stack of layers that can be created by passing a list of layers to the Sequential class\n",
        "    layers.Dense(512, activation=\"relu\"), # adding a dense layer with 512 neurons and relu activation function (this is the input layer that takes the input and passes it to the hidden layer)\n",
        "    layers.Dense(512, activation=\"relu\"), # adding a dense layer with 512 neurons and relu activation function (this is the hidden layer that takes the input from the input layer and passes it to the output layer)\n",
        "    layers.Dense(1, activation=\"sigmoid\") # adding a dense layer with 1 neuron and sigmoid activation function (this is the output layer that takes the input from the hidden layer and passes it to the output layer)\n",
        "])\n",
        "model.compile(optimizer=\"rmsprop\", # compiling the model with optimizer as rmsprop which is a gradient descent optimization algorithm that is used to update the weights of the model\n",
        "              loss=\"binary_crossentropy\", # setting loss function as binary_crossentropy which is used for binary classification problems where the output labels are binary\n",
        "              metrics=[\"accuracy\"]) # setting the metrics as accuracy which is used to evaluate the performance of the model\n",
        "history_larger_model = model.fit( # fitting the model with train_data and train_labels by training the model with a larger model which will help the model to generalize better\n",
        "    train_data, train_labels,\n",
        "    epochs=20, batch_size=512, validation_split=0.4) # setting the epochs as 20, batch size as 512 and validation split as 0.4"
      ]
    },
    {
      "cell_type": "markdown",
      "metadata": {
        "id": "5EsJXpLW4Eql"
      },
      "source": [
        "#### Adding weight regularization"
      ]
    },
    {
      "cell_type": "markdown",
      "metadata": {
        "id": "M283l5-64Eql"
      },
      "source": [
        "**Adding L2 weight regularization to the model**"
      ]
    },
    {
      "cell_type": "code",
      "execution_count": 13,
      "metadata": {
        "id": "BOCB4kaz4Eql"
      },
      "outputs": [
        {
          "name": "stdout",
          "output_type": "stream",
          "text": [
            "Epoch 1/20\n",
            "30/30 [==============================] - 1s 27ms/step - loss: 0.6497 - accuracy: 0.6911 - val_loss: 0.5789 - val_accuracy: 0.8453\n",
            "Epoch 2/20\n",
            "30/30 [==============================] - 0s 9ms/step - loss: 0.4590 - accuracy: 0.8799 - val_loss: 0.4359 - val_accuracy: 0.8616\n",
            "Epoch 3/20\n",
            "30/30 [==============================] - 0s 7ms/step - loss: 0.3578 - accuracy: 0.9130 - val_loss: 0.3781 - val_accuracy: 0.8856\n",
            "Epoch 4/20\n",
            "30/30 [==============================] - 0s 6ms/step - loss: 0.3128 - accuracy: 0.9228 - val_loss: 0.3682 - val_accuracy: 0.8829\n",
            "Epoch 5/20\n",
            "30/30 [==============================] - 0s 6ms/step - loss: 0.2871 - accuracy: 0.9304 - val_loss: 0.3628 - val_accuracy: 0.8863\n",
            "Epoch 6/20\n",
            "30/30 [==============================] - 0s 6ms/step - loss: 0.2703 - accuracy: 0.9349 - val_loss: 0.3963 - val_accuracy: 0.8687\n",
            "Epoch 7/20\n",
            "30/30 [==============================] - 0s 6ms/step - loss: 0.2588 - accuracy: 0.9394 - val_loss: 0.3609 - val_accuracy: 0.8866\n",
            "Epoch 8/20\n",
            "30/30 [==============================] - 0s 7ms/step - loss: 0.2435 - accuracy: 0.9470 - val_loss: 0.4557 - val_accuracy: 0.8520\n",
            "Epoch 9/20\n",
            "30/30 [==============================] - 0s 6ms/step - loss: 0.2338 - accuracy: 0.9505 - val_loss: 0.4202 - val_accuracy: 0.8655\n",
            "Epoch 10/20\n",
            "30/30 [==============================] - 0s 6ms/step - loss: 0.2383 - accuracy: 0.9463 - val_loss: 0.4002 - val_accuracy: 0.8741\n",
            "Epoch 11/20\n",
            "30/30 [==============================] - 0s 6ms/step - loss: 0.2249 - accuracy: 0.9539 - val_loss: 0.3788 - val_accuracy: 0.8797\n",
            "Epoch 12/20\n",
            "30/30 [==============================] - 0s 6ms/step - loss: 0.2175 - accuracy: 0.9552 - val_loss: 0.4118 - val_accuracy: 0.8690\n",
            "Epoch 13/20\n",
            "30/30 [==============================] - 0s 7ms/step - loss: 0.2186 - accuracy: 0.9527 - val_loss: 0.4282 - val_accuracy: 0.8639\n",
            "Epoch 14/20\n",
            "30/30 [==============================] - 0s 6ms/step - loss: 0.2154 - accuracy: 0.9570 - val_loss: 0.4149 - val_accuracy: 0.8730\n",
            "Epoch 15/20\n",
            "30/30 [==============================] - 0s 6ms/step - loss: 0.2118 - accuracy: 0.9549 - val_loss: 0.3935 - val_accuracy: 0.8799\n",
            "Epoch 16/20\n",
            "30/30 [==============================] - 0s 7ms/step - loss: 0.2104 - accuracy: 0.9570 - val_loss: 0.3963 - val_accuracy: 0.8789\n",
            "Epoch 17/20\n",
            "30/30 [==============================] - 0s 7ms/step - loss: 0.2019 - accuracy: 0.9610 - val_loss: 0.4007 - val_accuracy: 0.8780\n",
            "Epoch 18/20\n",
            "30/30 [==============================] - 0s 6ms/step - loss: 0.1967 - accuracy: 0.9635 - val_loss: 0.4080 - val_accuracy: 0.8785\n",
            "Epoch 19/20\n",
            "30/30 [==============================] - 0s 6ms/step - loss: 0.2044 - accuracy: 0.9587 - val_loss: 0.4115 - val_accuracy: 0.8771\n",
            "Epoch 20/20\n",
            "30/30 [==============================] - 0s 6ms/step - loss: 0.1894 - accuracy: 0.9670 - val_loss: 0.5112 - val_accuracy: 0.8561\n"
          ]
        }
      ],
      "source": [
        "from tensorflow.keras import regularizers # importing regularizers from keras library\n",
        "model = keras.Sequential([ # creating a sequential model which is a linear stack of layers that can be created by passing a list of layers to the Sequential class\n",
        "    layers.Dense(16, # adding a dense layer with 16 neurons which is the input layer\n",
        "                 kernel_regularizer=regularizers.l2(0.002), # setting the kernel_regularizer as l2 with 0.002 which is used to prevent overfitting by adding a penalty to the loss function\n",
        "                 activation=\"relu\"), # setting the activation function as relu which is used to introduce non-linearity to the model\n",
        "    layers.Dense(16, # adding a dense layer with 16 neurons which is the hidden layer\n",
        "                 kernel_regularizer=regularizers.l2(0.002), # setting the kernel_regularizer as l2 with 0.002 which is used to prevent overfitting by adding a penalty to the loss function\n",
        "                 activation=\"relu\"), # setting the activation function as relu which is used to introduce non-linearity to the model\n",
        "    layers.Dense(1, activation=\"sigmoid\") # adding a dense layer with 1 neuron and sigmoid activation function (this is the output layer that takes the input from the hidden layer and passes it to the output layer)\n",
        "])\n",
        "model.compile(optimizer=\"rmsprop\", # compiling the model with optimizer as rmsprop which is a gradient descent optimization algorithm that is used to update the weights of the model\n",
        "              loss=\"binary_crossentropy\", # setting loss function as binary_crossentropy which is used for binary classification problems where the output labels are binary\n",
        "              metrics=[\"accuracy\"]) # setting the metrics as accuracy which is used to evaluate the performance of the model\n",
        "history_l2_reg = model.fit( # fitting the model with train_data and train_labels by training the model with l2 regularization which will help the model to generalize better\n",
        "    train_data, train_labels, \n",
        "    epochs=20, batch_size=512, validation_split=0.4) # setting the epochs as 20, batch size as 512 and validation split as 0.4"
      ]
    },
    {
      "cell_type": "markdown",
      "metadata": {
        "id": "bTQr10zV4Eql"
      },
      "source": [
        "**Different weight regularizers available in Keras**"
      ]
    },
    {
      "cell_type": "code",
      "execution_count": 14,
      "metadata": {
        "id": "uHEwjaeV4Eql"
      },
      "outputs": [
        {
          "data": {
            "text/plain": [
              "<keras.regularizers.L1L2 at 0x3247d4d10>"
            ]
          },
          "execution_count": 14,
          "metadata": {},
          "output_type": "execute_result"
        }
      ],
      "source": [
        "from tensorflow.keras import regularizers # importing regularizers from keras library\n",
        "regularizers.l1(0.001) # setting the regularizer as l1 with 0.001 which is used to prevent overfitting by adding a penalty to the loss function\n",
        "regularizers.l1_l2(l1=0.001, l2=0.001) # setting the regularizer as l1_l2 with l1 as 0.001 and l2 as 0.001 which is used to prevent overfitting by adding a penalty to the loss function"
      ]
    },
    {
      "cell_type": "markdown",
      "metadata": {
        "id": "8MKSOCI94Eql"
      },
      "source": [
        "#### Adding dropout"
      ]
    },
    {
      "cell_type": "markdown",
      "metadata": {
        "id": "U4YIjwYa4Eql"
      },
      "source": [
        "**Adding dropout to the IMDB model**"
      ]
    },
    {
      "cell_type": "code",
      "execution_count": 15,
      "metadata": {
        "id": "Vz4Fk6ei4Eql"
      },
      "outputs": [
        {
          "name": "stdout",
          "output_type": "stream",
          "text": [
            "Epoch 1/20\n",
            "30/30 [==============================] - 1s 27ms/step - loss: 0.6391 - accuracy: 0.6365 - val_loss: 0.5331 - val_accuracy: 0.8495\n",
            "Epoch 2/20\n",
            "30/30 [==============================] - 0s 9ms/step - loss: 0.5227 - accuracy: 0.7647 - val_loss: 0.4421 - val_accuracy: 0.8703\n",
            "Epoch 3/20\n",
            "30/30 [==============================] - 0s 7ms/step - loss: 0.4465 - accuracy: 0.8238 - val_loss: 0.3727 - val_accuracy: 0.8787\n",
            "Epoch 4/20\n",
            "30/30 [==============================] - 0s 6ms/step - loss: 0.3863 - accuracy: 0.8641 - val_loss: 0.3310 - val_accuracy: 0.8766\n",
            "Epoch 5/20\n",
            "30/30 [==============================] - 0s 7ms/step - loss: 0.3345 - accuracy: 0.8890 - val_loss: 0.3059 - val_accuracy: 0.8858\n",
            "Epoch 6/20\n",
            "30/30 [==============================] - 0s 6ms/step - loss: 0.2912 - accuracy: 0.9103 - val_loss: 0.2833 - val_accuracy: 0.8887\n",
            "Epoch 7/20\n",
            "30/30 [==============================] - 0s 6ms/step - loss: 0.2595 - accuracy: 0.9217 - val_loss: 0.2831 - val_accuracy: 0.8905\n",
            "Epoch 8/20\n",
            "30/30 [==============================] - 0s 6ms/step - loss: 0.2304 - accuracy: 0.9316 - val_loss: 0.3111 - val_accuracy: 0.8878\n",
            "Epoch 9/20\n",
            "30/30 [==============================] - 0s 6ms/step - loss: 0.2001 - accuracy: 0.9427 - val_loss: 0.2951 - val_accuracy: 0.8858\n",
            "Epoch 10/20\n",
            "30/30 [==============================] - 0s 6ms/step - loss: 0.1846 - accuracy: 0.9442 - val_loss: 0.3131 - val_accuracy: 0.8884\n",
            "Epoch 11/20\n",
            "30/30 [==============================] - 0s 6ms/step - loss: 0.1620 - accuracy: 0.9559 - val_loss: 0.3267 - val_accuracy: 0.8874\n",
            "Epoch 12/20\n",
            "30/30 [==============================] - 0s 6ms/step - loss: 0.1483 - accuracy: 0.9566 - val_loss: 0.3392 - val_accuracy: 0.8862\n",
            "Epoch 13/20\n",
            "30/30 [==============================] - 0s 6ms/step - loss: 0.1370 - accuracy: 0.9607 - val_loss: 0.3682 - val_accuracy: 0.8853\n",
            "Epoch 14/20\n",
            "30/30 [==============================] - 0s 6ms/step - loss: 0.1241 - accuracy: 0.9646 - val_loss: 0.4267 - val_accuracy: 0.8847\n",
            "Epoch 15/20\n",
            "30/30 [==============================] - 0s 6ms/step - loss: 0.1094 - accuracy: 0.9687 - val_loss: 0.4187 - val_accuracy: 0.8855\n",
            "Epoch 16/20\n",
            "30/30 [==============================] - 0s 7ms/step - loss: 0.1032 - accuracy: 0.9700 - val_loss: 0.4371 - val_accuracy: 0.8824\n",
            "Epoch 17/20\n",
            "30/30 [==============================] - 0s 6ms/step - loss: 0.0941 - accuracy: 0.9739 - val_loss: 0.4983 - val_accuracy: 0.8843\n",
            "Epoch 18/20\n",
            "30/30 [==============================] - 0s 6ms/step - loss: 0.0921 - accuracy: 0.9730 - val_loss: 0.5065 - val_accuracy: 0.8837\n",
            "Epoch 19/20\n",
            "30/30 [==============================] - 0s 6ms/step - loss: 0.0831 - accuracy: 0.9767 - val_loss: 0.5084 - val_accuracy: 0.8810\n",
            "Epoch 20/20\n",
            "30/30 [==============================] - 0s 6ms/step - loss: 0.0815 - accuracy: 0.9778 - val_loss: 0.5822 - val_accuracy: 0.8838\n"
          ]
        }
      ],
      "source": [
        "model = keras.Sequential([ # creating a sequential model which is a linear stack of layers that can be created by passing a list of layers to the Sequential class\n",
        "    layers.Dense(16, activation=\"relu\"), # adding a dense layer with 16 neurons and relu activation function (this is the input layer that takes the input and passes it to the hidden layer)\n",
        "    layers.Dropout(0.5), # adding a dropout layer with 0.5 which is used to prevent overfitting by randomly setting the input units to 0 with a frequency of 0.5\n",
        "    layers.Dense(16, activation=\"relu\"), # adding a dense layer with 16 neurons and relu activation function (this is the hidden layer that takes the input from the input layer and passes it to the output layer)\n",
        "    layers.Dropout(0.5), # adding a dropout layer with 0.5 which is used to prevent overfitting by randomly setting the input units to 0 with a frequency of 0.5\n",
        "    layers.Dense(1, activation=\"sigmoid\") # adding a dense layer with 1 neuron and sigmoid activation function (this is the output layer that takes the input from the hidden layer and passes it to the output layer)\n",
        "])\n",
        "model.compile(optimizer=\"rmsprop\", # compiling the model with optimizer as rmsprop which is a gradient descent optimization algorithm that is used to update the weights of the model\n",
        "              loss=\"binary_crossentropy\", # setting loss function as binary_crossentropy which is used for binary classification problems where the output labels are binary\n",
        "              metrics=[\"accuracy\"]) # setting the metrics as accuracy which is used to evaluate the performance of the model\n",
        "history_dropout = model.fit( # fitting the model with train_data and train_labels by training the model with dropout regularization which will help the model to generalize better\n",
        "    train_data, train_labels, \n",
        "    epochs=20, batch_size=512, validation_split=0.4) # setting the epochs as 20, batch size as 512 and validation split as 0.4"
      ]
    },
    {
      "cell_type": "markdown",
      "metadata": {
        "id": "QGLCtv_L4Eql"
      },
      "source": [
        "## Summary"
      ]
    }
  ],
  "metadata": {
    "colab": {
      "name": "chapter05_fundamentals-of-ml.i",
      "provenance": [],
      "toc_visible": true
    },
    "kernelspec": {
      "display_name": "Python 3",
      "language": "python",
      "name": "python3"
    },
    "language_info": {
      "codemirror_mode": {
        "name": "ipython",
        "version": 3
      },
      "file_extension": ".py",
      "mimetype": "text/x-python",
      "name": "python",
      "nbconvert_exporter": "python",
      "pygments_lexer": "ipython3",
      "version": "3.11.1"
    }
  },
  "nbformat": 4,
  "nbformat_minor": 0
}
