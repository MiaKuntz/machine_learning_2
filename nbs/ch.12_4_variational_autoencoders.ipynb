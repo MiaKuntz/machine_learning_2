{
  "cells": [
    {
      "cell_type": "markdown",
      "metadata": {
        "id": "TXMJFXjmcBW8"
      },
      "source": [
        "This is a companion notebook for the book [Deep Learning with Python, Second Edition](https://www.manning.com/books/deep-learning-with-python-second-edition?a_aid=keras&a_bid=76564dff). For readability, it only contains runnable code blocks and section titles, and omits everything else in the book: text paragraphs, figures, and pseudocode.\n",
        "\n",
        "**If you want to be able to follow what's going on, I recommend reading the notebook side by side with your copy of the book.**\n",
        "\n",
        "This notebook was generated for TensorFlow 2.6."
      ]
    },
    {
      "cell_type": "markdown",
      "metadata": {
        "id": "V8L2laJacBW9"
      },
      "source": [
        "## Generating images with variational autoencoders"
      ]
    },
    {
      "cell_type": "markdown",
      "metadata": {
        "id": "xDUKtfM-cBW9"
      },
      "source": [
        "### Sampling from latent spaces of images"
      ]
    },
    {
      "cell_type": "markdown",
      "metadata": {
        "id": "AWXWoP40cBW9"
      },
      "source": [
        "### Concept vectors for image editing"
      ]
    },
    {
      "cell_type": "markdown",
      "metadata": {
        "id": "gi3qaqOzcBW-"
      },
      "source": [
        "### Variational autoencoders"
      ]
    },
    {
      "cell_type": "markdown",
      "metadata": {
        "id": "I2pgimRCcBW-"
      },
      "source": [
        "### Implementing a VAE with Keras"
      ]
    },
    {
      "cell_type": "markdown",
      "metadata": {
        "id": "zXQ0HlLucBW-"
      },
      "source": [
        "**VAE encoder network**"
      ]
    },
    {
      "cell_type": "code",
      "execution_count": null,
      "metadata": {
        "id": "cZsO1nUbcBW-"
      },
      "outputs": [],
      "source": [
        "from tensorflow import keras # importing keras from tensorflow\n",
        "from tensorflow.keras import layers # importing layers from tensorflow.keras\n",
        "\n",
        "latent_dim = 2 # setting the latent dimension to 2 for the encoder model to be used in the VAE model below \n",
        "\n",
        "encoder_inputs = keras.Input(shape=(28, 28, 1)) # setting the input shape\n",
        "x = layers.Conv2D(32, 3, activation=\"relu\", strides=2, padding=\"same\")(encoder_inputs) # setting the convolutional layer \n",
        "x = layers.Conv2D(64, 3, activation=\"relu\", strides=2, padding=\"same\")(x) # setting the convolutional layer\n",
        "x = layers.Flatten()(x) # flattening the input\n",
        "x = layers.Dense(16, activation=\"relu\")(x) # setting the dense layer and activation function \n",
        "z_mean = layers.Dense(latent_dim, name=\"z_mean\")(x) # setting the mean layer \n",
        "z_log_var = layers.Dense(latent_dim, name=\"z_log_var\")(x) # setting the log variance layer\n",
        "encoder = keras.Model(encoder_inputs, [z_mean, z_log_var], name=\"encoder\") # setting the encoder model"
      ]
    },
    {
      "cell_type": "code",
      "execution_count": null,
      "metadata": {
        "id": "mU1Br21ecBW_"
      },
      "outputs": [],
      "source": [
        "encoder.summary() # printing the summary of the encoder model"
      ]
    },
    {
      "cell_type": "markdown",
      "metadata": {
        "id": "A3qmIPLacBW_"
      },
      "source": [
        "**Latent-space-sampling layer**"
      ]
    },
    {
      "cell_type": "code",
      "execution_count": null,
      "metadata": {
        "id": "tUp16GFycBW_"
      },
      "outputs": [],
      "source": [
        "import tensorflow as tf # importing tensorflow\n",
        "\n",
        "class Sampler(layers.Layer): # creating a class called Sampler\n",
        "    def call(self, z_mean, z_log_var): # defining the call function with z_mean and z_log_var as arguments\n",
        "        batch_size = tf.shape(z_mean)[0] # setting the batch size\n",
        "        z_size = tf.shape(z_mean)[1] # setting the z size\n",
        "        epsilon = tf.random.normal(shape=(batch_size, z_size)) # setting the epsilon value, which is a random normal distribution\n",
        "        return z_mean + tf.exp(0.5 * z_log_var) * epsilon # returning the mean and log variance"
      ]
    },
    {
      "cell_type": "markdown",
      "metadata": {
        "id": "UXYLkoDlcBW_"
      },
      "source": [
        "**VAE decoder network, mapping latent space points to images**"
      ]
    },
    {
      "cell_type": "code",
      "execution_count": null,
      "metadata": {
        "id": "1Mzf9QgPcBW_"
      },
      "outputs": [],
      "source": [
        "latent_inputs = keras.Input(shape=(latent_dim,)) # setting the input shape\n",
        "x = layers.Dense(7 * 7 * 64, activation=\"relu\")(latent_inputs) # setting the dense layer and activation function\n",
        "x = layers.Reshape((7, 7, 64))(x) # reshaping the input \n",
        "x = layers.Conv2DTranspose(64, 3, activation=\"relu\", strides=2, padding=\"same\")(x) # setting the convolutional layer\n",
        "x = layers.Conv2DTranspose(32, 3, activation=\"relu\", strides=2, padding=\"same\")(x) # setting the convolutional layer\n",
        "decoder_outputs = layers.Conv2D(1, 3, activation=\"sigmoid\", padding=\"same\")(x) # setting the convolutional layer\n",
        "decoder = keras.Model(latent_inputs, decoder_outputs, name=\"decoder\") # setting the decoder model"
      ]
    },
    {
      "cell_type": "code",
      "execution_count": null,
      "metadata": {
        "id": "kvKFb-QocBW_"
      },
      "outputs": [],
      "source": [
        "decoder.summary() # printing the summary of the decoder model"
      ]
    },
    {
      "cell_type": "markdown",
      "metadata": {
        "id": "ETm5dsmmcBW_"
      },
      "source": [
        "**VAE model with custom `train_step()`**"
      ]
    },
    {
      "cell_type": "code",
      "execution_count": null,
      "metadata": {
        "id": "WvylSDLZcBXA"
      },
      "outputs": [],
      "source": [
        "class VAE(keras.Model): # creating a class called VAE\n",
        "    def __init__(self, encoder, decoder, **kwargs): # defining the __init__ function with encoder and decoder as arguments\n",
        "        super().__init__(**kwargs) # calling the super function\n",
        "        self.encoder = encoder # setting the encoder\n",
        "        self.decoder = decoder # setting the decoder\n",
        "        self.sampler = Sampler() # setting the sampler\n",
        "        self.total_loss_tracker = keras.metrics.Mean(name=\"total_loss\") # setting the total loss tracker\n",
        "        self.reconstruction_loss_tracker = keras.metrics.Mean( # setting the reconstruction loss tracker\n",
        "            name=\"reconstruction_loss\") # setting the name of the reconstruction loss tracker \n",
        "        self.kl_loss_tracker = keras.metrics.Mean(name=\"kl_loss\") # setting the kl loss tracker\n",
        "\n",
        "    @property # defining the property\n",
        "    def metrics(self): # defining the metrics function\n",
        "        return [self.total_loss_tracker, # returning the total loss tracker\n",
        "                self.reconstruction_loss_tracker, # returning the reconstruction loss tracker\n",
        "                self.kl_loss_tracker] # returning the kl loss tracker\n",
        "\n",
        "    def train_step(self, data): # defining the train step function with data as an argument\n",
        "        with tf.GradientTape() as tape: # setting the gradient tape\n",
        "            z_mean, z_log_var = self.encoder(data) # setting the mean and log variance\n",
        "            z = self.sampler(z_mean, z_log_var) # setting the sampler\n",
        "            reconstruction = decoder(z) # setting the reconstruction\n",
        "            reconstruction_loss = tf.reduce_mean( # setting the reconstruction loss\n",
        "                tf.reduce_sum( # reducing the sum\n",
        "                    keras.losses.binary_crossentropy(data, reconstruction), # calculating the binary cross entropy\n",
        "                    axis=(1, 2) # setting the axis\n",
        "                )\n",
        "            )\n",
        "            kl_loss = -0.5 * (1 + z_log_var - tf.square(z_mean) - tf.exp(z_log_var)) # setting the kl loss as the negative of the kl divergence (this measures the difference between two probability distributions)\n",
        "            total_loss = reconstruction_loss + tf.reduce_mean(kl_loss) # setting the total loss\n",
        "        grads = tape.gradient(total_loss, self.trainable_weights) # calculating the gradients\n",
        "        self.optimizer.apply_gradients(zip(grads, self.trainable_weights)) # applying the gradients\n",
        "        self.total_loss_tracker.update_state(total_loss) # updating the total loss tracker\n",
        "        self.reconstruction_loss_tracker.update_state(reconstruction_loss) # updating the reconstruction loss tracker\n",
        "        self.kl_loss_tracker.update_state(kl_loss) # updating the kl loss tracker\n",
        "        return { # returning the total loss, reconstruction loss, and kl loss\n",
        "            \"total_loss\": self.total_loss_tracker.result(), # returning the total loss\n",
        "            \"reconstruction_loss\": self.reconstruction_loss_tracker.result(), # returning the reconstruction loss\n",
        "            \"kl_loss\": self.kl_loss_tracker.result(), # returning the kl loss\n",
        "        }"
      ]
    },
    {
      "cell_type": "markdown",
      "metadata": {
        "id": "ECmusNPTcBXA"
      },
      "source": [
        "**Training the VAE**"
      ]
    },
    {
      "cell_type": "code",
      "execution_count": null,
      "metadata": {
        "id": "LSMiMgqJcBXA"
      },
      "outputs": [],
      "source": [
        "import numpy as np # importing numpy\n",
        "\n",
        "(x_train, _), (x_test, _) = keras.datasets.mnist.load_data() # loading the mnist dataset into training and test data\n",
        "mnist_digits = np.concatenate([x_train, x_test], axis=0) # concatenating the training and test data \n",
        "mnist_digits = np.expand_dims(mnist_digits, -1).astype(\"float32\") / 255 # expanding the dimensions and normalizing the data\n",
        "\n",
        "vae = VAE(encoder, decoder) # setting the VAE model with the encoder and decoder\n",
        "vae.compile(optimizer=keras.optimizers.Adam(), run_eagerly=True) # compiling the VAE model with the Adam optimizer and running eagerly\n",
        "vae.fit(mnist_digits, epochs=30, batch_size=128) # fitting the VAE model to the mnist digits for 30 epochs with a batch size of 128"
      ]
    },
    {
      "cell_type": "markdown",
      "metadata": {
        "id": "WeJrXiSqcBXA"
      },
      "source": [
        "**Sampling a grid of images from the 2D latent space**"
      ]
    },
    {
      "cell_type": "code",
      "execution_count": null,
      "metadata": {
        "id": "RhQS6os7cBXA"
      },
      "outputs": [],
      "source": [
        "import matplotlib.pyplot as plt # importing matplotlib\n",
        "\n",
        "n = 30 # setting n to 30\n",
        "digit_size = 28 # setting the digit size to 28\n",
        "figure = np.zeros((digit_size * n, digit_size * n)) # setting the figure to an array of zeros\n",
        "\n",
        "grid_x = np.linspace(-1, 1, n) # setting the grid x values to a linear space from -1 to 1 with n values \n",
        "grid_y = np.linspace(-1, 1, n)[::-1] # setting the grid y values to a linear space from -1 to 1 with n values in reverse order\n",
        "\n",
        "for i, yi in enumerate(grid_y): # iterating over the grid y values\n",
        "    for j, xi in enumerate(grid_x): # iterating over the grid x values\n",
        "        z_sample = np.array([[xi, yi]]) # setting the z sample\n",
        "        x_decoded = vae.decoder.predict(z_sample) # decoding the z sample\n",
        "        digit = x_decoded[0].reshape(digit_size, digit_size) # reshaping the digit\n",
        "        figure[ # setting the figure\n",
        "            i * digit_size : (i + 1) * digit_size, # setting the i digit size\n",
        "            j * digit_size : (j + 1) * digit_size, # setting the j digit size\n",
        "        ] = digit # setting the digit\n",
        "\n",
        "plt.figure(figsize=(15, 15)) # setting the figure size to 15 by 15\n",
        "start_range = digit_size // 2 # setting the start range to the digit size divided by 2\n",
        "end_range = n * digit_size + start_range # setting the end range to n times the digit size plus the start range\n",
        "pixel_range = np.arange(start_range, end_range, digit_size) # setting the pixel range\n",
        "sample_range_x = np.round(grid_x, 1) # setting the sample range x\n",
        "sample_range_y = np.round(grid_y, 1) # setting the sample range y\n",
        "plt.xticks(pixel_range, sample_range_x) # setting the x ticks\n",
        "plt.yticks(pixel_range, sample_range_y) # setting the y ticks\n",
        "plt.xlabel(\"z[0]\") # setting the x label\n",
        "plt.ylabel(\"z[1]\") # setting the y label\n",
        "plt.axis(\"off\") # turning off the axis\n",
        "plt.imshow(figure, cmap=\"Greys_r\") # showing the figure with the colormap Greys_r"
      ]
    },
    {
      "cell_type": "markdown",
      "metadata": {
        "id": "OPHAeunKcBXA"
      },
      "source": [
        "### Wrapping up"
      ]
    }
  ],
  "metadata": {
    "colab": {
      "name": "chapter12_part04_variational-autoencoders.i",
      "provenance": [],
      "toc_visible": true
    },
    "kernelspec": {
      "display_name": "Python 3",
      "language": "python",
      "name": "python3"
    },
    "language_info": {
      "codemirror_mode": {
        "name": "ipython",
        "version": 3
      },
      "file_extension": ".py",
      "mimetype": "text/x-python",
      "name": "python",
      "nbconvert_exporter": "python",
      "pygments_lexer": "ipython3",
      "version": "3.7.0"
    }
  },
  "nbformat": 4,
  "nbformat_minor": 0
}
